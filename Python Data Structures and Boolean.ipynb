{
 "cells": [
  {
   "cell_type": "markdown",
   "id": "823d8f36",
   "metadata": {},
   "source": [
    "# PYTHON DATA STRUCTURES & BOOLEAN"
   ]
  },
  {
   "cell_type": "markdown",
   "id": "8bb9b7cf",
   "metadata": {},
   "source": [
    "## BOOLEAN VARIABLES\n",
    " - Boolean values are 2 constant objects true & false\n",
    " - They are used to represent truth values\n",
    " - Inorder to create a boolean variable we use an in-built function bool()"
   ]
  },
  {
   "cell_type": "code",
   "execution_count": 1,
   "id": "2f9fbfc0",
   "metadata": {},
   "outputs": [
    {
     "data": {
      "text/plain": [
       "bool"
      ]
     },
     "execution_count": 1,
     "metadata": {},
     "output_type": "execute_result"
    }
   ],
   "source": [
    "type(True)"
   ]
  },
  {
   "cell_type": "code",
   "execution_count": 8,
   "id": "64b7531f",
   "metadata": {},
   "outputs": [
    {
     "data": {
      "text/plain": [
       "bool"
      ]
     },
     "execution_count": 8,
     "metadata": {},
     "output_type": "execute_result"
    }
   ],
   "source": [
    "type(False)"
   ]
  },
  {
   "cell_type": "code",
   "execution_count": 60,
   "id": "7e7bbb96",
   "metadata": {},
   "outputs": [
    {
     "name": "stdout",
     "output_type": "stream",
     "text": [
      "False\n",
      "False\n",
      "False\n",
      "True\n",
      "False\n",
      "False\n",
      "False\n",
      "False\n",
      "True\n"
     ]
    }
   ],
   "source": [
    "string='Nimra Ayaz'\n",
    "print(string.isalnum()) #check if all the characters are alphanumeric\n",
    "                        #will return True on NimraAyaz or Nimra1234\n",
    "                        #if space included will always return False\n",
    "print(string.isalpha()) #check if ALL the characters are alphabets\n",
    "                        #if space included will return False\n",
    "print(string.isdigit()) #test if all the string is digit\n",
    "                        #if space included between digits will return false\n",
    "print(string.istitle()) #test if the string contains title words(capital)\n",
    "                        #return false if any of N OR A is lowercase(titlewords)\n",
    "print(string.isupper()) #test if all the string is upper case\n",
    "print(string.islower()) #test if all the string is lower case\n",
    "print(string.isspace()) #test if there is only space\n",
    "                        #return false if there is something else with space\n",
    "print(string.endswith('Z')) #test if the string ends with z\n",
    "print(string.startswith('N')) #test if the string starts with k"
   ]
  },
  {
   "cell_type": "markdown",
   "id": "c441f06c",
   "metadata": {},
   "source": [
    "## BOOLEAN AND LOGICAL OPERATORS:"
   ]
  },
  {
   "cell_type": "code",
   "execution_count": 65,
   "id": "c15cd79c",
   "metadata": {},
   "outputs": [
    {
     "name": "stdout",
     "output_type": "stream",
     "text": [
      "True\n",
      "False\n",
      "True\n",
      "True\n"
     ]
    }
   ],
   "source": [
    "print(True and True)\n",
    "print(True and False)\n",
    "print(True or True)\n",
    "print(True or False)"
   ]
  },
  {
   "cell_type": "code",
   "execution_count": 69,
   "id": "c00ebc32",
   "metadata": {},
   "outputs": [
    {
     "name": "stdout",
     "output_type": "stream",
     "text": [
      "False\n",
      "True\n"
     ]
    }
   ],
   "source": [
    "x=\"NIMRA\"\n",
    "y=\"1234\"\n",
    "print(x.isalpha() and y.islower()) #x contains alphabets\n",
    "print(x.isalpha() or y.islower())  #y contains number in which there is no upper or lower case"
   ]
  },
  {
   "cell_type": "markdown",
   "id": "587a8fae",
   "metadata": {},
   "source": [
    "## LISTS\n",
    " - DATA STRUCTURE\n",
    " - Mutable, Changeable, ordered sequence of elements\n",
    " - Each value/element inside a list is called and item.\n",
    " - Lists are defined inside a [ ] just as strings are defined inside double or single qoutes.\n",
    " - one way of creating a list is by using in-built function i-e list()"
   ]
  },
  {
   "cell_type": "code",
   "execution_count": 73,
   "id": "cb32f708",
   "metadata": {},
   "outputs": [
    {
     "data": {
      "text/plain": [
       "list"
      ]
     },
     "execution_count": 73,
     "metadata": {},
     "output_type": "execute_result"
    }
   ],
   "source": [
    "type([])"
   ]
  },
  {
   "cell_type": "code",
   "execution_count": 75,
   "id": "7a54e4a5",
   "metadata": {},
   "outputs": [
    {
     "data": {
      "text/plain": [
       "list"
      ]
     },
     "execution_count": 75,
     "metadata": {},
     "output_type": "execute_result"
    }
   ],
   "source": [
    "list_example=[]\n",
    "type(list_example)"
   ]
  },
  {
   "cell_type": "code",
   "execution_count": 77,
   "id": "c9d6c31e",
   "metadata": {},
   "outputs": [
    {
     "data": {
      "text/plain": [
       "list"
      ]
     },
     "execution_count": 77,
     "metadata": {},
     "output_type": "execute_result"
    }
   ],
   "source": [
    "list1=list()\n",
    "type(list1)"
   ]
  },
  {
   "cell_type": "code",
   "execution_count": 100,
   "id": "570a629f",
   "metadata": {},
   "outputs": [
    {
     "data": {
      "text/plain": [
       "list"
      ]
     },
     "execution_count": 100,
     "metadata": {},
     "output_type": "execute_result"
    }
   ],
   "source": [
    "list2=['DSD','GOAT',100,13]\n",
    "type(list2)"
   ]
  },
  {
   "cell_type": "code",
   "execution_count": 101,
   "id": "0f75a64a",
   "metadata": {},
   "outputs": [
    {
     "name": "stdout",
     "output_type": "stream",
     "text": [
      "['DSD', 'GOAT', 100, 13]\n"
     ]
    },
    {
     "data": {
      "text/plain": [
       "4"
      ]
     },
     "execution_count": 101,
     "metadata": {},
     "output_type": "execute_result"
    }
   ],
   "source": [
    "print(list2)\n",
    "len(list2) #for printing number of items inside the brackets/list"
   ]
  },
  {
   "cell_type": "markdown",
   "id": "42e15991",
   "metadata": {},
   "source": [
    "## IN-BUILT FUNCTION APPEND\n",
    "- to add more items inside a list"
   ]
  },
  {
   "cell_type": "code",
   "execution_count": 102,
   "id": "2f2525b4",
   "metadata": {},
   "outputs": [
    {
     "name": "stdout",
     "output_type": "stream",
     "text": [
      "['DSD', 'GOAT', 100, 13, 'NIMRA']\n"
     ]
    }
   ],
   "source": [
    "list2.append('NIMRA')\n",
    "print(list2)\n",
    " #the number of times you run it, it will print that item that much times"
   ]
  },
  {
   "cell_type": "code",
   "execution_count": 105,
   "id": "41b0c544",
   "metadata": {},
   "outputs": [
    {
     "name": "stdout",
     "output_type": "stream",
     "text": [
      "13\n",
      "NIMRA\n"
     ]
    }
   ],
   "source": [
    "##for getting a value at the index 3\n",
    "print(list2[3])\n",
    "print(list2[4])"
   ]
  },
  {
   "cell_type": "code",
   "execution_count": 109,
   "id": "52458871",
   "metadata": {},
   "outputs": [
    {
     "name": "stdout",
     "output_type": "stream",
     "text": [
      "['DSD', 'GOAT', 100, 13, 'NIMRA']\n",
      "[100, 13, 'NIMRA']\n",
      "[100, 13]\n"
     ]
    }
   ],
   "source": [
    "#getting all the list\n",
    "print(list2[:])\n",
    "#want to get the list from 100 till NIMRA\n",
    "print(list2[2:])\n",
    "#now want to print from 100 to 13, so whatever index you give after at the right side of colon one index before that will be printed\n",
    "print(list2[2:4])"
   ]
  },
  {
   "cell_type": "code",
   "execution_count": 111,
   "id": "0568ec5b",
   "metadata": {},
   "outputs": [
    {
     "data": {
      "text/plain": [
       "['DSD', 'GOAT', 100, 13, 'NIMRA', ['X', 'Y']]"
      ]
     },
     "execution_count": 111,
     "metadata": {},
     "output_type": "execute_result"
    }
   ],
   "source": [
    "list2.append([\"X\",'Y'])\n",
    "list2"
   ]
  },
  {
   "cell_type": "markdown",
   "id": "aa0d1958",
   "metadata": {},
   "source": [
    "## IN-BUILT FUNCTION INSERT \n",
    "- for inserting at a specific index"
   ]
  },
  {
   "cell_type": "code",
   "execution_count": 112,
   "id": "ef20969e",
   "metadata": {},
   "outputs": [
    {
     "data": {
      "text/plain": [
       "['DSD', 'NIMRA', 'GOAT', 100, 13, 'NIMRA', ['X', 'Y']]"
      ]
     },
     "execution_count": 112,
     "metadata": {},
     "output_type": "execute_result"
    }
   ],
   "source": [
    "list2.insert(1,\"NIMRA\") ##first parameter is the index and the 2nd is value\n",
    "list2"
   ]
  },
  {
   "cell_type": "code",
   "execution_count": 113,
   "id": "3a91447e",
   "metadata": {},
   "outputs": [
    {
     "data": {
      "text/plain": [
       "['NIMRA', 'DSD', 'NIMRA', 'GOAT', 100, 13, 'NIMRA', ['X', 'Y']]"
      ]
     },
     "execution_count": 113,
     "metadata": {},
     "output_type": "execute_result"
    }
   ],
   "source": [
    "list2.insert(0,\"NIMRA\")\n",
    "list2"
   ]
  },
  {
   "cell_type": "markdown",
   "id": "e43f50bd",
   "metadata": {},
   "source": [
    "## EXTEND IN-BUILT FUNCTION"
   ]
  },
  {
   "cell_type": "code",
   "execution_count": 114,
   "id": "a5879020",
   "metadata": {},
   "outputs": [],
   "source": [
    "##as X & Y are appearing in brackets as another list in the list\n",
    "##so by using extend function we can append the list which wont appear as above\n",
    "list2.extend(['X','Y'])"
   ]
  },
  {
   "cell_type": "code",
   "execution_count": 115,
   "id": "0670b7bc",
   "metadata": {},
   "outputs": [
    {
     "data": {
      "text/plain": [
       "['NIMRA', 'DSD', 'NIMRA', 'GOAT', 100, 13, 'NIMRA', ['X', 'Y'], 'X', 'Y']"
      ]
     },
     "execution_count": 115,
     "metadata": {},
     "output_type": "execute_result"
    }
   ],
   "source": [
    "list2"
   ]
  },
  {
   "cell_type": "markdown",
   "id": "add17da9",
   "metadata": {},
   "source": [
    "## OPERATIONS TO BE PERFORMED ON LISTS:"
   ]
  },
  {
   "cell_type": "code",
   "execution_count": 116,
   "id": "e58c0695",
   "metadata": {},
   "outputs": [
    {
     "data": {
      "text/plain": [
       "6"
      ]
     },
     "execution_count": 116,
     "metadata": {},
     "output_type": "execute_result"
    }
   ],
   "source": [
    "list3=[1,2,3]\n",
    "sum(list3)"
   ]
  },
  {
   "cell_type": "markdown",
   "id": "f403b4d9",
   "metadata": {},
   "source": [
    "## POP IN-BUILT FUNCTION\n",
    "- to pick a value/ remove a value from list"
   ]
  },
  {
   "cell_type": "code",
   "execution_count": 117,
   "id": "5abea949",
   "metadata": {},
   "outputs": [
    {
     "data": {
      "text/plain": [
       "3"
      ]
     },
     "execution_count": 117,
     "metadata": {},
     "output_type": "execute_result"
    }
   ],
   "source": [
    "##if no value is given in pop so it will be the last value picked up\n",
    "list3.pop()"
   ]
  },
  {
   "cell_type": "code",
   "execution_count": 119,
   "id": "eb6f077d",
   "metadata": {},
   "outputs": [
    {
     "data": {
      "text/plain": [
       "[1, 2]"
      ]
     },
     "execution_count": 119,
     "metadata": {},
     "output_type": "execute_result"
    }
   ],
   "source": [
    "list3"
   ]
  },
  {
   "cell_type": "code",
   "execution_count": 120,
   "id": "57af53e6",
   "metadata": {},
   "outputs": [
    {
     "data": {
      "text/plain": [
       "1"
      ]
     },
     "execution_count": 120,
     "metadata": {},
     "output_type": "execute_result"
    }
   ],
   "source": [
    "list3.pop(0)"
   ]
  },
  {
   "cell_type": "code",
   "execution_count": 121,
   "id": "9ede4632",
   "metadata": {},
   "outputs": [
    {
     "data": {
      "text/plain": [
       "[2]"
      ]
     },
     "execution_count": 121,
     "metadata": {},
     "output_type": "execute_result"
    }
   ],
   "source": [
    "list3"
   ]
  },
  {
   "cell_type": "markdown",
   "id": "fe96665c",
   "metadata": {},
   "source": [
    "## Count() - Number of occurences of a number"
   ]
  },
  {
   "cell_type": "code",
   "execution_count": 122,
   "id": "5973fe24",
   "metadata": {},
   "outputs": [
    {
     "data": {
      "text/plain": [
       "1"
      ]
     },
     "execution_count": 122,
     "metadata": {},
     "output_type": "execute_result"
    }
   ],
   "source": [
    "list3.count(2)"
   ]
  },
  {
   "cell_type": "markdown",
   "id": "d1af0e45",
   "metadata": {},
   "source": [
    "## In-built function idex() "
   ]
  },
  {
   "cell_type": "code",
   "execution_count": 145,
   "id": "df3131fa",
   "metadata": {},
   "outputs": [
    {
     "data": {
      "text/plain": [
       "2"
      ]
     },
     "execution_count": 145,
     "metadata": {},
     "output_type": "execute_result"
    }
   ],
   "source": [
    "#returns the index of the first occurance\n",
    "#syntax index(value,[start,[stop]])\n",
    "list4=[1,1,2,3,4,5]\n",
    "list4.index(2,0,5)"
   ]
  },
  {
   "cell_type": "code",
   "execution_count": 147,
   "id": "2f30545a",
   "metadata": {},
   "outputs": [
    {
     "name": "stdout",
     "output_type": "stream",
     "text": [
      "1\n",
      "5\n"
     ]
    }
   ],
   "source": [
    "#min & max\n",
    "print(min(list4))\n",
    "print(max(list4))"
   ]
  },
  {
   "cell_type": "code",
   "execution_count": 148,
   "id": "70fcb1e6",
   "metadata": {},
   "outputs": [
    {
     "data": {
      "text/plain": [
       "[1, 1, 2, 3, 4, 5, 1, 1, 2, 3, 4, 5]"
      ]
     },
     "execution_count": 148,
     "metadata": {},
     "output_type": "execute_result"
    }
   ],
   "source": [
    "list4*2 ##list will occur twice"
   ]
  },
  {
   "cell_type": "code",
   "execution_count": null,
   "id": "fd238004",
   "metadata": {},
   "outputs": [],
   "source": []
  }
 ],
 "metadata": {
  "kernelspec": {
   "display_name": "Python 3",
   "language": "python",
   "name": "python3"
  },
  "language_info": {
   "codemirror_mode": {
    "name": "ipython",
    "version": 3
   },
   "file_extension": ".py",
   "mimetype": "text/x-python",
   "name": "python",
   "nbconvert_exporter": "python",
   "pygments_lexer": "ipython3",
   "version": "3.8.8"
  }
 },
 "nbformat": 4,
 "nbformat_minor": 5
}
