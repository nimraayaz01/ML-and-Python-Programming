{
 "cells": [
  {
   "cell_type": "code",
   "execution_count": 1,
   "id": "ea341f95",
   "metadata": {},
   "outputs": [
    {
     "data": {
      "text/plain": [
       "2"
      ]
     },
     "execution_count": 1,
     "metadata": {},
     "output_type": "execute_result"
    }
   ],
   "source": [
    "1+1"
   ]
  },
  {
   "cell_type": "code",
   "execution_count": 2,
   "id": "25dc7e85",
   "metadata": {},
   "outputs": [
    {
     "data": {
      "text/plain": [
       "20"
      ]
     },
     "execution_count": 2,
     "metadata": {},
     "output_type": "execute_result"
    }
   ],
   "source": [
    "4*5"
   ]
  },
  {
   "cell_type": "code",
   "execution_count": 3,
   "id": "91bccc3d",
   "metadata": {},
   "outputs": [
    {
     "data": {
      "text/plain": [
       "2.0"
      ]
     },
     "execution_count": 3,
     "metadata": {},
     "output_type": "execute_result"
    }
   ],
   "source": [
    "10/5 #divison"
   ]
  },
  {
   "cell_type": "code",
   "execution_count": 4,
   "id": "00f5993b",
   "metadata": {},
   "outputs": [
    {
     "data": {
      "text/plain": [
       "0"
      ]
     },
     "execution_count": 4,
     "metadata": {},
     "output_type": "execute_result"
    }
   ],
   "source": [
    "10%5 #reminder"
   ]
  },
  {
   "cell_type": "code",
   "execution_count": 5,
   "id": "728e9b59",
   "metadata": {},
   "outputs": [
    {
     "data": {
      "text/plain": [
       "16"
      ]
     },
     "execution_count": 5,
     "metadata": {},
     "output_type": "execute_result"
    }
   ],
   "source": [
    "2**4 #2 raised to the power 4"
   ]
  },
  {
   "cell_type": "code",
   "execution_count": 6,
   "id": "9ffda364",
   "metadata": {},
   "outputs": [
    {
     "data": {
      "text/plain": [
       "'strstrstrstrstrstrstrstrstrstr'"
      ]
     },
     "execution_count": 6,
     "metadata": {},
     "output_type": "execute_result"
    }
   ],
   "source": [
    "10 * 'str'"
   ]
  },
  {
   "cell_type": "code",
   "execution_count": 7,
   "id": "9dd3f154",
   "metadata": {},
   "outputs": [
    {
     "data": {
      "text/plain": [
       "'strstrstrstrstrstrstrstrstrstr'"
      ]
     },
     "execution_count": 7,
     "metadata": {},
     "output_type": "execute_result"
    }
   ],
   "source": [
    "'str' * 10"
   ]
  },
  {
   "cell_type": "markdown",
   "id": "2d129bc6",
   "metadata": {},
   "source": [
    "## For knowing datatypes"
   ]
  },
  {
   "cell_type": "code",
   "execution_count": 9,
   "id": "804671eb",
   "metadata": {},
   "outputs": [
    {
     "data": {
      "text/plain": [
       "str"
      ]
     },
     "execution_count": 9,
     "metadata": {},
     "output_type": "execute_result"
    }
   ],
   "source": [
    "type('1') #although the digit is int but anything defined in qoutes is a string"
   ]
  },
  {
   "cell_type": "code",
   "execution_count": 10,
   "id": "2ff4c54c",
   "metadata": {},
   "outputs": [
    {
     "data": {
      "text/plain": [
       "int"
      ]
     },
     "execution_count": 10,
     "metadata": {},
     "output_type": "execute_result"
    }
   ],
   "source": [
    "type(1)"
   ]
  },
  {
   "cell_type": "code",
   "execution_count": 11,
   "id": "bd7bdc05",
   "metadata": {},
   "outputs": [
    {
     "data": {
      "text/plain": [
       "str"
      ]
     },
     "execution_count": 11,
     "metadata": {},
     "output_type": "execute_result"
    }
   ],
   "source": [
    "type(\"Hello\")"
   ]
  },
  {
   "cell_type": "code",
   "execution_count": 13,
   "id": "f8c8f810",
   "metadata": {},
   "outputs": [
    {
     "data": {
      "text/plain": [
       "bool"
      ]
     },
     "execution_count": 13,
     "metadata": {},
     "output_type": "execute_result"
    }
   ],
   "source": [
    "type(True)"
   ]
  },
  {
   "cell_type": "markdown",
   "id": "16b2d804",
   "metadata": {},
   "source": [
    "## STRINGS:\n",
    " - defined in single qoutes as well as double qoutes"
   ]
  },
  {
   "cell_type": "code",
   "execution_count": 14,
   "id": "f0f9e293",
   "metadata": {},
   "outputs": [
    {
     "data": {
      "text/plain": [
       "'NIMRA'"
      ]
     },
     "execution_count": 14,
     "metadata": {},
     "output_type": "execute_result"
    }
   ],
   "source": [
    "\"NIMRA\""
   ]
  },
  {
   "cell_type": "code",
   "execution_count": 15,
   "id": "2ae11cbe",
   "metadata": {},
   "outputs": [
    {
     "data": {
      "text/plain": [
       "'NIMRA'"
      ]
     },
     "execution_count": 15,
     "metadata": {},
     "output_type": "execute_result"
    }
   ],
   "source": [
    "'NIMRA'"
   ]
  },
  {
   "cell_type": "code",
   "execution_count": 16,
   "id": "b8669871",
   "metadata": {},
   "outputs": [
    {
     "name": "stdout",
     "output_type": "stream",
     "text": [
      "NIMRA\n"
     ]
    }
   ],
   "source": [
    "print(\"NIMRA\")"
   ]
  },
  {
   "cell_type": "code",
   "execution_count": 17,
   "id": "7e7b2bba",
   "metadata": {},
   "outputs": [],
   "source": [
    "a=\"NIMRA AYAZ\""
   ]
  },
  {
   "cell_type": "code",
   "execution_count": 18,
   "id": "ca3e6457",
   "metadata": {},
   "outputs": [
    {
     "name": "stdout",
     "output_type": "stream",
     "text": [
      "a\n"
     ]
    }
   ],
   "source": [
    "print('a')"
   ]
  },
  {
   "cell_type": "code",
   "execution_count": 19,
   "id": "0977fe03",
   "metadata": {},
   "outputs": [
    {
     "name": "stdout",
     "output_type": "stream",
     "text": [
      "NIMRA AYAZ\n"
     ]
    }
   ],
   "source": [
    "print(a)"
   ]
  },
  {
   "cell_type": "markdown",
   "id": "5fc8cc00",
   "metadata": {},
   "source": [
    "## VARIABLE ASSIGNMENT\n",
    " - no need to define a variable as int, float or char in python"
   ]
  },
  {
   "cell_type": "code",
   "execution_count": 20,
   "id": "44d88659",
   "metadata": {},
   "outputs": [],
   "source": [
    "a = 10"
   ]
  },
  {
   "cell_type": "code",
   "execution_count": 21,
   "id": "4b72e352",
   "metadata": {},
   "outputs": [
    {
     "data": {
      "text/plain": [
       "int"
      ]
     },
     "execution_count": 21,
     "metadata": {},
     "output_type": "execute_result"
    }
   ],
   "source": [
    "type(a)"
   ]
  },
  {
   "cell_type": "code",
   "execution_count": 22,
   "id": "bb41246c",
   "metadata": {},
   "outputs": [],
   "source": [
    "a='NIMRA'"
   ]
  },
  {
   "cell_type": "code",
   "execution_count": 23,
   "id": "863ac2a3",
   "metadata": {},
   "outputs": [
    {
     "data": {
      "text/plain": [
       "str"
      ]
     },
     "execution_count": 23,
     "metadata": {},
     "output_type": "execute_result"
    }
   ],
   "source": [
    "type(a)"
   ]
  },
  {
   "cell_type": "code",
   "execution_count": 24,
   "id": "e90a1ffd",
   "metadata": {},
   "outputs": [],
   "source": [
    "a=20\n",
    "b=10"
   ]
  },
  {
   "cell_type": "code",
   "execution_count": 25,
   "id": "014f16ec",
   "metadata": {},
   "outputs": [
    {
     "name": "stdout",
     "output_type": "stream",
     "text": [
      "200\n",
      "2.0\n",
      "0\n",
      "30\n",
      "202.0\n"
     ]
    }
   ],
   "source": [
    "print(a*b)\n",
    "print(a/b)\n",
    "print(a%b)\n",
    "print(a+b)\n",
    "print((a*b)+(a/b))"
   ]
  },
  {
   "cell_type": "markdown",
   "id": "e21db38f",
   "metadata": {},
   "source": [
    "## Ways of printing a variable"
   ]
  },
  {
   "cell_type": "code",
   "execution_count": 26,
   "id": "17b45525",
   "metadata": {},
   "outputs": [],
   "source": [
    "first_name='NIMRA'\n",
    "last_name='AYAZ'"
   ]
  },
  {
   "cell_type": "code",
   "execution_count": 27,
   "id": "a5075bd9",
   "metadata": {},
   "outputs": [
    {
     "name": "stdout",
     "output_type": "stream",
     "text": [
      "My name is NIMRA AYAZ\n"
     ]
    }
   ],
   "source": [
    "print(\"My name is {} {}\".format(first_name,last_name))"
   ]
  },
  {
   "cell_type": "code",
   "execution_count": 28,
   "id": "7d7d5e49",
   "metadata": {},
   "outputs": [
    {
     "name": "stdout",
     "output_type": "stream",
     "text": [
      "My name is AYAZ NIMRA\n"
     ]
    }
   ],
   "source": [
    "print(\"My name is {} {}\".format(last_name,first_name))"
   ]
  },
  {
   "cell_type": "code",
   "execution_count": 29,
   "id": "8c2f20b8",
   "metadata": {},
   "outputs": [
    {
     "name": "stdout",
     "output_type": "stream",
     "text": [
      "My name is NIMRA AYAZ\n"
     ]
    }
   ],
   "source": [
    "print(\"My name is {x} {y}\".format(x=first_name,y=last_name))"
   ]
  },
  {
   "cell_type": "code",
   "execution_count": 30,
   "id": "2d257d61",
   "metadata": {},
   "outputs": [
    {
     "name": "stdout",
     "output_type": "stream",
     "text": [
      "My name is NIMRA AYAZ\n"
     ]
    }
   ],
   "source": [
    "print(\"My name is {x} {y}\".format(y=last_name,x=first_name))"
   ]
  },
  {
   "cell_type": "markdown",
   "id": "351806f6",
   "metadata": {},
   "source": [
    "## LENGTH"
   ]
  },
  {
   "cell_type": "code",
   "execution_count": 31,
   "id": "822071b2",
   "metadata": {},
   "outputs": [
    {
     "data": {
      "text/plain": [
       "5"
      ]
     },
     "execution_count": 31,
     "metadata": {},
     "output_type": "execute_result"
    }
   ],
   "source": [
    "len(\"NIMRA\")"
   ]
  },
  {
   "cell_type": "code",
   "execution_count": 35,
   "id": "756c42b0",
   "metadata": {},
   "outputs": [],
   "source": [
    "a='NIMRA'"
   ]
  },
  {
   "cell_type": "code",
   "execution_count": 36,
   "id": "8577163c",
   "metadata": {},
   "outputs": [
    {
     "data": {
      "text/plain": [
       "5"
      ]
     },
     "execution_count": 36,
     "metadata": {},
     "output_type": "execute_result"
    }
   ],
   "source": [
    "len(a)"
   ]
  },
  {
   "cell_type": "code",
   "execution_count": 37,
   "id": "359e122b",
   "metadata": {},
   "outputs": [],
   "source": [
    "a=12345 #int has no length it is always a whole number"
   ]
  },
  {
   "cell_type": "code",
   "execution_count": 38,
   "id": "8291a709",
   "metadata": {},
   "outputs": [
    {
     "ename": "TypeError",
     "evalue": "object of type 'int' has no len()",
     "output_type": "error",
     "traceback": [
      "\u001b[1;31m---------------------------------------------------------------------------\u001b[0m",
      "\u001b[1;31mTypeError\u001b[0m                                 Traceback (most recent call last)",
      "\u001b[1;32m<ipython-input-38-1a2e6ec5f1e3>\u001b[0m in \u001b[0;36m<module>\u001b[1;34m\u001b[0m\n\u001b[1;32m----> 1\u001b[1;33m \u001b[0mlen\u001b[0m\u001b[1;33m(\u001b[0m\u001b[0ma\u001b[0m\u001b[1;33m)\u001b[0m\u001b[1;33m\u001b[0m\u001b[1;33m\u001b[0m\u001b[0m\n\u001b[0m",
      "\u001b[1;31mTypeError\u001b[0m: object of type 'int' has no len()"
     ]
    }
   ],
   "source": [
    "len(a)"
   ]
  },
  {
   "cell_type": "markdown",
   "id": "67cf3dd3",
   "metadata": {},
   "source": [
    "## LIST \n",
    " - Collection of objects"
   ]
  },
  {
   "cell_type": "code",
   "execution_count": 46,
   "id": "aaac2d46",
   "metadata": {},
   "outputs": [
    {
     "data": {
      "text/plain": [
       "list"
      ]
     },
     "execution_count": 46,
     "metadata": {},
     "output_type": "execute_result"
    }
   ],
   "source": [
    "type(['NIMRA','x','y','1',2,3])"
   ]
  },
  {
   "cell_type": "code",
   "execution_count": 47,
   "id": "7f46296a",
   "metadata": {},
   "outputs": [
    {
     "data": {
      "text/plain": [
       "list"
      ]
     },
     "execution_count": 47,
     "metadata": {},
     "output_type": "execute_result"
    }
   ],
   "source": [
    "x=1\n",
    "y=2\n",
    "type(['NIMRA',x,y,'1',2,3])"
   ]
  },
  {
   "cell_type": "code",
   "execution_count": null,
   "id": "b6dd8bc2",
   "metadata": {},
   "outputs": [],
   "source": []
  }
 ],
 "metadata": {
  "kernelspec": {
   "display_name": "Python 3",
   "language": "python",
   "name": "python3"
  },
  "language_info": {
   "codemirror_mode": {
    "name": "ipython",
    "version": 3
   },
   "file_extension": ".py",
   "mimetype": "text/x-python",
   "name": "python",
   "nbconvert_exporter": "python",
   "pygments_lexer": "ipython3",
   "version": "3.8.8"
  }
 },
 "nbformat": 4,
 "nbformat_minor": 5
}
