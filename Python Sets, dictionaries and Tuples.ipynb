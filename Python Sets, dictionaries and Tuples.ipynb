{
 "cells": [
  {
   "cell_type": "markdown",
   "id": "fff5292d",
   "metadata": {},
   "source": [
    "# SETS\n",
    "A set is unordered collection datatype that is iterable, mutable and has no duplicate elements,\n",
    "Python set's class represents the mathematical notion of a set, this is based on a data structure known as a hash table."
   ]
  },
  {
   "cell_type": "code",
   "execution_count": 1,
   "id": "e20d5cc8",
   "metadata": {},
   "outputs": [
    {
     "name": "stdout",
     "output_type": "stream",
     "text": [
      "set()\n"
     ]
    }
   ],
   "source": [
    "#DEFINING AN EMPTY SET, INBUILT FUNCTION \"SET\" \n",
    "set_var=set()\n",
    "print(set_var)"
   ]
  },
  {
   "cell_type": "code",
   "execution_count": 2,
   "id": "6f8b07a0",
   "metadata": {},
   "outputs": [
    {
     "name": "stdout",
     "output_type": "stream",
     "text": [
      "<class 'set'>\n"
     ]
    }
   ],
   "source": [
    "print(type(set_var))"
   ]
  },
  {
   "cell_type": "code",
   "execution_count": 4,
   "id": "1b375cb0",
   "metadata": {},
   "outputs": [
    {
     "name": "stdout",
     "output_type": "stream",
     "text": [
      "{1, 2, 3, 4}\n"
     ]
    }
   ],
   "source": [
    "#we declare sets in flower braces\n",
    "#No duplicate elemets\n",
    "set_var={1,2,3,4,4,1,2}\n",
    "print(set_var)"
   ]
  },
  {
   "cell_type": "code",
   "execution_count": 5,
   "id": "eb9eaee8",
   "metadata": {},
   "outputs": [
    {
     "name": "stdout",
     "output_type": "stream",
     "text": [
      "{'XYZ', 'NIMRA', 'ABC'}\n",
      "<class 'set'>\n"
     ]
    }
   ],
   "source": [
    "#Declaring characters in set\n",
    "set_var={\"NIMRA\",\"XYZ\",\"ABC\"}\n",
    "print(set_var)\n",
    "print(type(set_var))"
   ]
  },
  {
   "cell_type": "code",
   "execution_count": 6,
   "id": "11216188",
   "metadata": {},
   "outputs": [
    {
     "name": "stdout",
     "output_type": "stream",
     "text": [
      "{'XYZ', 'NIMRA', 'ABC'}\n",
      "<class 'set'>\n"
     ]
    }
   ],
   "source": [
    "set_var={\"NIMRA\",\"XYZ\",\"ABC\",\"NIMRA\",\"XYZ\"} #no duplicate values will be printed\n",
    "print(set_var)\n",
    "print(type(set_var))"
   ]
  },
  {
   "cell_type": "code",
   "execution_count": 7,
   "id": "43b31d10",
   "metadata": {},
   "outputs": [
    {
     "name": "stdout",
     "output_type": "stream",
     "text": [
      "{'XYZ', 'NIMRA', 'ABC', 'NIMRZ'}\n",
      "<class 'set'>\n"
     ]
    }
   ],
   "source": [
    "set_var={\"NIMRA\",\"XYZ\",\"ABC\",\"NIMRZ\",\"XYZ\"} #no duplicate values will be printed\n",
    "print(set_var)\n",
    "print(type(set_var))"
   ]
  },
  {
   "cell_type": "code",
   "execution_count": 8,
   "id": "d50140c7",
   "metadata": {},
   "outputs": [
    {
     "ename": "TypeError",
     "evalue": "'set' object is not subscriptable",
     "output_type": "error",
     "traceback": [
      "\u001b[1;31m---------------------------------------------------------------------------\u001b[0m",
      "\u001b[1;31mTypeError\u001b[0m                                 Traceback (most recent call last)",
      "\u001b[1;32m<ipython-input-8-de8198e9636a>\u001b[0m in \u001b[0;36m<module>\u001b[1;34m\u001b[0m\n\u001b[0;32m      1\u001b[0m \u001b[1;31m#Indexing cannot be found in sets\u001b[0m\u001b[1;33m\u001b[0m\u001b[1;33m\u001b[0m\u001b[1;33m\u001b[0m\u001b[0m\n\u001b[1;32m----> 2\u001b[1;33m \u001b[0mset_var\u001b[0m\u001b[1;33m[\u001b[0m\u001b[1;34m'NIMRA'\u001b[0m\u001b[1;33m]\u001b[0m\u001b[1;33m\u001b[0m\u001b[1;33m\u001b[0m\u001b[0m\n\u001b[0m",
      "\u001b[1;31mTypeError\u001b[0m: 'set' object is not subscriptable"
     ]
    }
   ],
   "source": [
    "#Indexing cannot be found in sets\n",
    "set_var['NIMRA']"
   ]
  },
  {
   "cell_type": "code",
   "execution_count": 10,
   "id": "bc9c55b7",
   "metadata": {},
   "outputs": [
    {
     "name": "stdout",
     "output_type": "stream",
     "text": [
      "{'BUNNY', 'ABC', 'NIMRA', 'NIMRZ', 'XYZ'}\n"
     ]
    }
   ],
   "source": [
    "#for adding elements to already created set\n",
    "#add function is used\n",
    "set_var.add(\"BUNNY\")\n",
    "print(set_var)"
   ]
  },
  {
   "cell_type": "code",
   "execution_count": 11,
   "id": "37c883e1",
   "metadata": {},
   "outputs": [],
   "source": [
    "set1={'BUNNY', 'ABC', 'NIMRA'}\n",
    "set2={'BUNNY', 'ABC', 'NIMRA', 'NIMRZ', 'XYZ'}"
   ]
  },
  {
   "cell_type": "code",
   "execution_count": 12,
   "id": "1e1c4b4e",
   "metadata": {},
   "outputs": [
    {
     "data": {
      "text/plain": [
       "{'NIMRZ', 'XYZ'}"
      ]
     },
     "execution_count": 12,
     "metadata": {},
     "output_type": "execute_result"
    }
   ],
   "source": [
    "#for finding the difference all common elements will be eliminated\n",
    "set2.difference(set1)"
   ]
  },
  {
   "cell_type": "code",
   "execution_count": 13,
   "id": "ee7e7b1c",
   "metadata": {},
   "outputs": [
    {
     "data": {
      "text/plain": [
       "{'ABC', 'BUNNY', 'NIMRA', 'NIMRZ', 'XYZ'}"
      ]
     },
     "execution_count": 13,
     "metadata": {},
     "output_type": "execute_result"
    }
   ],
   "source": [
    "set2"
   ]
  },
  {
   "cell_type": "code",
   "execution_count": 15,
   "id": "268d27b8",
   "metadata": {},
   "outputs": [
    {
     "name": "stdout",
     "output_type": "stream",
     "text": [
      "{'NIMRZ', 'XYZ'}\n"
     ]
    }
   ],
   "source": [
    "set2.difference_update(set1)\n",
    "print(set2)"
   ]
  },
  {
   "cell_type": "code",
   "execution_count": 16,
   "id": "3e8b733b",
   "metadata": {},
   "outputs": [
    {
     "data": {
      "text/plain": [
       "{'ABC', 'BUNNY', 'NIMRA'}"
      ]
     },
     "execution_count": 16,
     "metadata": {},
     "output_type": "execute_result"
    }
   ],
   "source": [
    "set1={'BUNNY', 'ABC', 'NIMRA'}\n",
    "set2={'BUNNY', 'ABC', 'NIMRA', 'NIMRZ', 'XYZ'}\n",
    "set2.intersection(set1) #printing common elements"
   ]
  },
  {
   "cell_type": "code",
   "execution_count": 17,
   "id": "e89af48c",
   "metadata": {},
   "outputs": [
    {
     "name": "stdout",
     "output_type": "stream",
     "text": [
      "{'BUNNY', 'ABC', 'NIMRA', 'NIMRZ', 'XYZ'}\n"
     ]
    }
   ],
   "source": [
    "print(set2)"
   ]
  },
  {
   "cell_type": "code",
   "execution_count": 19,
   "id": "6a46073d",
   "metadata": {},
   "outputs": [
    {
     "name": "stdout",
     "output_type": "stream",
     "text": [
      "{'BUNNY', 'NIMRA', 'ABC'}\n"
     ]
    }
   ],
   "source": [
    "set2.intersection_update(set1)\n",
    "print(set2)"
   ]
  },
  {
   "cell_type": "markdown",
   "id": "6978c7cd",
   "metadata": {},
   "source": [
    "# DICTIONARIES\n",
    "- Unordered\n",
    "- Changeable\n",
    "- Indexed\n",
    "\n",
    "#### In python, dictionaries are written with curly brackets and they have keys and values."
   ]
  },
  {
   "cell_type": "code",
   "execution_count": 20,
   "id": "8e6553ce",
   "metadata": {},
   "outputs": [
    {
     "data": {
      "text/plain": [
       "dict"
      ]
     },
     "execution_count": 20,
     "metadata": {},
     "output_type": "execute_result"
    }
   ],
   "source": [
    "#In dictionary curly brackets are left empty\n",
    "dic={}\n",
    "type(dic)"
   ]
  },
  {
   "cell_type": "code",
   "execution_count": 21,
   "id": "d5c458d4",
   "metadata": {},
   "outputs": [
    {
     "data": {
      "text/plain": [
       "set"
      ]
     },
     "execution_count": 21,
     "metadata": {},
     "output_type": "execute_result"
    }
   ],
   "source": [
    "dic={1,2,3}\n",
    "type(dic)"
   ]
  },
  {
   "cell_type": "code",
   "execution_count": 22,
   "id": "d225f218",
   "metadata": {},
   "outputs": [
    {
     "name": "stdout",
     "output_type": "stream",
     "text": [
      "{'person1': 'NIMRA', 'person2': 'BUNNY'}\n",
      "<class 'dict'>\n"
     ]
    }
   ],
   "source": [
    "# Lets create a dictionary\n",
    "dic={\"person1\":\"NIMRA\",\"person2\":\"BUNNY\"} #dictionary has key and value\n",
    "print(dic)\n",
    "print(type(dic))"
   ]
  },
  {
   "cell_type": "code",
   "execution_count": 25,
   "id": "21abf2ae",
   "metadata": {},
   "outputs": [
    {
     "data": {
      "text/plain": [
       "dict"
      ]
     },
     "execution_count": 25,
     "metadata": {},
     "output_type": "execute_result"
    }
   ],
   "source": [
    "#also an in-built function dict\n",
    "type(dict())"
   ]
  },
  {
   "cell_type": "code",
   "execution_count": 26,
   "id": "e8409e3d",
   "metadata": {},
   "outputs": [
    {
     "data": {
      "text/plain": [
       "'NIMRA'"
      ]
     },
     "execution_count": 26,
     "metadata": {},
     "output_type": "execute_result"
    }
   ],
   "source": [
    "# in dict the indexing number will be the key i-e\n",
    "dic['person1']"
   ]
  },
  {
   "cell_type": "code",
   "execution_count": 27,
   "id": "c3225516",
   "metadata": {},
   "outputs": [
    {
     "name": "stdout",
     "output_type": "stream",
     "text": [
      "NIMRA\n",
      "BUNNY\n"
     ]
    }
   ],
   "source": [
    "#loop through dict values\n",
    "for x in dic.values():\n",
    "    print(x)"
   ]
  },
  {
   "cell_type": "code",
   "execution_count": 29,
   "id": "eaa052df",
   "metadata": {},
   "outputs": [
    {
     "name": "stdout",
     "output_type": "stream",
     "text": [
      "person1\n",
      "person2\n"
     ]
    }
   ],
   "source": [
    "#loop through dict keys\n",
    "for x in dic:\n",
    "    print(x)"
   ]
  },
  {
   "cell_type": "code",
   "execution_count": 30,
   "id": "c14df883",
   "metadata": {},
   "outputs": [
    {
     "name": "stdout",
     "output_type": "stream",
     "text": [
      "('person1', 'NIMRA')\n",
      "('person2', 'BUNNY')\n"
     ]
    }
   ],
   "source": [
    "#for checking both keys and values\n",
    "for x in dic.items():\n",
    "    print(x)"
   ]
  },
  {
   "cell_type": "code",
   "execution_count": 31,
   "id": "80f3f089",
   "metadata": {},
   "outputs": [
    {
     "name": "stdout",
     "output_type": "stream",
     "text": [
      "{'person1': 'NIMRA', 'person2': 'BUNNY', 'person3': 'BUNNY'}\n"
     ]
    }
   ],
   "source": [
    "#Adding items in dictionary already created\n",
    "dic[\"person3\"]=\"BUNNY\"\n",
    "print(dic)"
   ]
  },
  {
   "cell_type": "code",
   "execution_count": 32,
   "id": "e9d1f6e1",
   "metadata": {},
   "outputs": [
    {
     "name": "stdout",
     "output_type": "stream",
     "text": [
      "{'person1': 'NIMRA', 'person2': 'BUNNY', 'person3': 'catty'}\n"
     ]
    }
   ],
   "source": [
    "#repeating key\n",
    "dic[\"person3\"]=\"catty\" #value will be replaced\n",
    "print(dic)"
   ]
  },
  {
   "cell_type": "markdown",
   "id": "2fe0e24f",
   "metadata": {},
   "source": [
    "# NESTED DICTIONARY"
   ]
  },
  {
   "cell_type": "code",
   "execution_count": 3,
   "id": "73f475bd",
   "metadata": {},
   "outputs": [
    {
     "name": "stdout",
     "output_type": "stream",
     "text": [
      "{'laptop1': {'DELL': 2000}, 'laptop2': {'LENOVO': 1000}, 'laptop3': {'HP': 777}}\n",
      "<class 'dict'>\n"
     ]
    }
   ],
   "source": [
    "model1={\"DELL\":2000}\n",
    "model2={\"LENOVO\":1000}\n",
    "model3={\"HP\":777}\n",
    "model_type={\"laptop1\":model1,\"laptop2\":model2,\"laptop3\":model3}\n",
    "#model_type is becoming a nested dictionary \n",
    "print(model_type)\n",
    "print(type(model_type))"
   ]
  },
  {
   "cell_type": "code",
   "execution_count": 4,
   "id": "4e4a1f0c",
   "metadata": {},
   "outputs": [
    {
     "name": "stdout",
     "output_type": "stream",
     "text": [
      "{'LENOVO': 1000}\n"
     ]
    }
   ],
   "source": [
    "print(model_type[\"laptop2\"])"
   ]
  },
  {
   "cell_type": "code",
   "execution_count": 7,
   "id": "4ae78613",
   "metadata": {},
   "outputs": [
    {
     "name": "stdout",
     "output_type": "stream",
     "text": [
      "777\n"
     ]
    }
   ],
   "source": [
    "print(model_type[\"laptop3\"]['HP'])"
   ]
  },
  {
   "cell_type": "markdown",
   "id": "2f8e831b",
   "metadata": {},
   "source": [
    "# TUPLES "
   ]
  },
  {
   "cell_type": "code",
   "execution_count": 8,
   "id": "6d595eaa",
   "metadata": {},
   "outputs": [
    {
     "data": {
      "text/plain": [
       "tuple"
      ]
     },
     "execution_count": 8,
     "metadata": {},
     "output_type": "execute_result"
    }
   ],
   "source": [
    "##CREATE AN EMPTY TUPLE\n",
    "tuple1=tuple()\n",
    "type(tuple1)"
   ]
  },
  {
   "cell_type": "code",
   "execution_count": 11,
   "id": "33fffe49",
   "metadata": {},
   "outputs": [
    {
     "data": {
      "text/plain": [
       "'NIMRA'"
      ]
     },
     "execution_count": 11,
     "metadata": {},
     "output_type": "execute_result"
    }
   ],
   "source": [
    "tuple1=(\"NIMRA\",\"BUNNY\")\n",
    "tuple1[0]"
   ]
  },
  {
   "cell_type": "code",
   "execution_count": 13,
   "id": "1db457b4",
   "metadata": {},
   "outputs": [
    {
     "name": "stdout",
     "output_type": "stream",
     "text": [
      "<class 'tuple'>\n",
      "('NIMRA', 'BUNNY')\n"
     ]
    }
   ],
   "source": [
    "print(type(tuple1))\n",
    "print(tuple1)"
   ]
  },
  {
   "cell_type": "code",
   "execution_count": 15,
   "id": "49c4532a",
   "metadata": {},
   "outputs": [
    {
     "name": "stdout",
     "output_type": "stream",
     "text": [
      "('NIMM', 'BUNNI')\n"
     ]
    }
   ],
   "source": [
    "##tuple doesnot support item assignent e.g tuple1[0]=\"Kite\"\n",
    "##but support completely changing of whole list\n",
    "tuple1=(\"NIMM\",\"BUNNI\")\n",
    "print(tuple1)"
   ]
  },
  {
   "cell_type": "markdown",
   "id": "b1784590",
   "metadata": {},
   "source": [
    "# INBUILT FUNCTION\n",
    "- count\n",
    "- index"
   ]
  },
  {
   "cell_type": "code",
   "execution_count": 16,
   "id": "45f5a813",
   "metadata": {},
   "outputs": [
    {
     "data": {
      "text/plain": [
       "1"
      ]
     },
     "execution_count": 16,
     "metadata": {},
     "output_type": "execute_result"
    }
   ],
   "source": [
    "tuple1.count(\"NIMM\")"
   ]
  },
  {
   "cell_type": "code",
   "execution_count": 18,
   "id": "3e609f7b",
   "metadata": {},
   "outputs": [
    {
     "data": {
      "text/plain": [
       "0"
      ]
     },
     "execution_count": 18,
     "metadata": {},
     "output_type": "execute_result"
    }
   ],
   "source": [
    "tuple1.index(\"NIMM\")"
   ]
  },
  {
   "cell_type": "code",
   "execution_count": null,
   "id": "ca1dd370",
   "metadata": {},
   "outputs": [],
   "source": []
  }
 ],
 "metadata": {
  "kernelspec": {
   "display_name": "Python 3",
   "language": "python",
   "name": "python3"
  },
  "language_info": {
   "codemirror_mode": {
    "name": "ipython",
    "version": 3
   },
   "file_extension": ".py",
   "mimetype": "text/x-python",
   "name": "python",
   "nbconvert_exporter": "python",
   "pygments_lexer": "ipython3",
   "version": "3.8.8"
  }
 },
 "nbformat": 4,
 "nbformat_minor": 5
}
