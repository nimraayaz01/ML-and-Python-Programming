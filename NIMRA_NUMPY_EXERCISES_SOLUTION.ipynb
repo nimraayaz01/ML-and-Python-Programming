{
 "cells": [
  {
   "cell_type": "markdown",
   "id": "c080fc7b",
   "metadata": {},
   "source": [
    "# NumPy\n",
    "- NumPy (or Numpy) is a Linear Algebra Library for Python.\n",
    "- Numpy has many built-in functions and capabilities.\n",
    "- Numpy is also incredibly fast, as it has bindings to C libraries."
   ]
  },
  {
   "cell_type": "code",
   "execution_count": 103,
   "id": "d5b9bd96",
   "metadata": {},
   "outputs": [],
   "source": [
    "#Importing numpy as a library\n",
    "import numpy as np "
   ]
  },
  {
   "cell_type": "markdown",
   "id": "14fa4c73",
   "metadata": {},
   "source": [
    "# Iteration"
   ]
  },
  {
   "cell_type": "markdown",
   "id": "d31738e7",
   "metadata": {},
   "source": [
    "##### 1D Array"
   ]
  },
  {
   "cell_type": "code",
   "execution_count": 106,
   "id": "3f350977",
   "metadata": {},
   "outputs": [
    {
     "name": "stdout",
     "output_type": "stream",
     "text": [
      "4\n",
      "2\n",
      "3\n"
     ]
    }
   ],
   "source": [
    "#Iterate through each element of array and print it\n",
    "arr1 = np.array([4, 2, 3])\n",
    "for x in arr1:\n",
    "  print(x)"
   ]
  },
  {
   "cell_type": "markdown",
   "id": "31c2aaf5",
   "metadata": {},
   "source": [
    "##### 2D Array"
   ]
  },
  {
   "cell_type": "code",
   "execution_count": 114,
   "id": "ffa2e9ef",
   "metadata": {},
   "outputs": [
    {
     "name": "stdout",
     "output_type": "stream",
     "text": [
      "[1 2 3]\n",
      "[4 5 6]\n"
     ]
    }
   ],
   "source": [
    "#Iterate through each element of 2-D array and print array\n",
    "arr2 = np.array([[1,2,3],[4,5,6]])\n",
    "for x in arr2:\n",
    "  print(x)"
   ]
  },
  {
   "cell_type": "code",
   "execution_count": 151,
   "id": "22a9954a",
   "metadata": {},
   "outputs": [
    {
     "name": "stdout",
     "output_type": "stream",
     "text": [
      "1\n",
      "2\n",
      "3\n",
      "4\n",
      "5\n",
      "6\n"
     ]
    }
   ],
   "source": [
    "#Iterate through each element of 2-D array and print values\n",
    "for x in arr2:\n",
    "  for y in x:\n",
    "    print(y)"
   ]
  },
  {
   "cell_type": "markdown",
   "id": "f586f06d",
   "metadata": {},
   "source": [
    "##### 3D Array"
   ]
  },
  {
   "cell_type": "code",
   "execution_count": 152,
   "id": "4043fdc2",
   "metadata": {},
   "outputs": [
    {
     "name": "stdout",
     "output_type": "stream",
     "text": [
      "1\n",
      "2\n",
      "3\n",
      "4\n",
      "5\n",
      "6\n",
      "7\n",
      "8\n",
      "9\n",
      "10\n",
      "11\n",
      "12\n"
     ]
    }
   ],
   "source": [
    "#Iterate through each element of 3-D array and print values\n",
    "arr3 = np.array([[[1, 2, 3], [4, 5, 6]], [[7, 8, 9], [10, 11, 12]]])\n",
    "for x in arr3:\n",
    "  for y in x:\n",
    "    for z in y:\n",
    "      print(z)"
   ]
  },
  {
   "cell_type": "markdown",
   "id": "271e7d55",
   "metadata": {},
   "source": [
    "# nditer() Function\n",
    "- It can be used from very basic to very advanced iterations. "
   ]
  },
  {
   "cell_type": "code",
   "execution_count": 118,
   "id": "3e5efa6a",
   "metadata": {},
   "outputs": [
    {
     "name": "stdout",
     "output_type": "stream",
     "text": [
      "1\n",
      "2\n",
      "3\n",
      "4\n",
      "5\n",
      "6\n",
      "7\n",
      "8\n"
     ]
    }
   ],
   "source": [
    "arr5 = np.array([[[1, 2], [3, 4]], [[5, 6], [7, 8]]])\n",
    "for x in np.nditer(arr5):\n",
    "  print(x)"
   ]
  },
  {
   "cell_type": "code",
   "execution_count": 119,
   "id": "f7d537c5",
   "metadata": {},
   "outputs": [
    {
     "name": "stdout",
     "output_type": "stream",
     "text": [
      "b'1'\n",
      "b'2'\n",
      "b'3'\n"
     ]
    }
   ],
   "source": [
    "#Access the elements of array as String\n",
    "arr6 = np.array([1, 2, 3])\n",
    "for x in np.nditer(arr6, flags=['buffered'], op_dtypes=['S']):\n",
    "  print(x)"
   ]
  },
  {
   "cell_type": "code",
   "execution_count": 120,
   "id": "f92de6bb",
   "metadata": {},
   "outputs": [
    {
     "name": "stdout",
     "output_type": "stream",
     "text": [
      "1\n",
      "3\n",
      "5\n",
      "7\n"
     ]
    }
   ],
   "source": [
    "arr7 = np.array([[1, 2, 3, 4], [5, 6, 7, 8]])\n",
    "for x in np.nditer(arr7[:, ::2]):\n",
    "  print(x)"
   ]
  },
  {
   "attachments": {},
   "cell_type": "markdown",
   "id": "dde9b286",
   "metadata": {},
   "source": [
    "# ndenumerate() Function\n",
    "- For Enumerated Iteration\n",
    "- for usecases"
   ]
  },
  {
   "cell_type": "markdown",
   "id": "fcaad291",
   "metadata": {},
   "source": [
    "##### 1D Array"
   ]
  },
  {
   "cell_type": "code",
   "execution_count": 121,
   "id": "951f4b10",
   "metadata": {},
   "outputs": [
    {
     "name": "stdout",
     "output_type": "stream",
     "text": [
      "(0,) 1\n",
      "(1,) 2\n",
      "(2,) 3\n"
     ]
    }
   ],
   "source": [
    "arr8 = np.array([1, 2, 3])\n",
    "for idx, x in np.ndenumerate(arr8):\n",
    "  print(idx, x)"
   ]
  },
  {
   "cell_type": "markdown",
   "id": "f73ae3bc",
   "metadata": {},
   "source": [
    "##### 2D Array "
   ]
  },
  {
   "cell_type": "code",
   "execution_count": 123,
   "id": "debd20db",
   "metadata": {},
   "outputs": [
    {
     "name": "stdout",
     "output_type": "stream",
     "text": [
      "(0, 0) 1\n",
      "(0, 1) 2\n",
      "(0, 2) 3\n",
      "(0, 3) 4\n",
      "(1, 0) 5\n",
      "(1, 1) 6\n",
      "(1, 2) 7\n",
      "(1, 3) 8\n"
     ]
    }
   ],
   "source": [
    "arr9 = np.array([[1, 2, 3, 4], [5, 6, 7, 8]])\n",
    "for idx, x in np.ndenumerate(arr9):\n",
    "  print(idx, x)"
   ]
  },
  {
   "attachments": {},
   "cell_type": "markdown",
   "id": "60ca96ff",
   "metadata": {},
   "source": [
    "# numpy.sum() Function\n",
    "- Function on a 2-D array with the axis parameter, it collapses 2D-array to 1-D array! "
   ]
  },
  {
   "cell_type": "markdown",
   "id": "75064c5c",
   "metadata": {},
   "source": [
    "##### Numpy sum with axis 0"
   ]
  },
  {
   "cell_type": "code",
   "execution_count": 29,
   "id": "fade9af2",
   "metadata": {},
   "outputs": [
    {
     "name": "stdout",
     "output_type": "stream",
     "text": [
      "2d Array= \n",
      " [[0 1 2 3]\n",
      " [4 5 6 7]]\n",
      "Sum =  [ 4  6  8 10]\n"
     ]
    }
   ],
   "source": [
    "#Creating Numpy Array\n",
    "array_2d = np.arange(0, 8).reshape([2,4])\n",
    "print(\"2d Array= \\n\",array_2d) \n",
    "#Numpy sum with axis 0\n",
    "a = np.sum(array_2d, axis = 0)\n",
    "print(\"Sum = \",a)"
   ]
  },
  {
   "cell_type": "markdown",
   "id": "3dc0544e",
   "metadata": {},
   "source": [
    "##### Numpy sum with axis 1"
   ]
  },
  {
   "cell_type": "code",
   "execution_count": 30,
   "id": "1ca4ff6f",
   "metadata": {},
   "outputs": [
    {
     "name": "stdout",
     "output_type": "stream",
     "text": [
      "2d Array= \n",
      " [[0 1 2 3]\n",
      " [4 5 6 7]]\n",
      "Sum =  [ 6 22]\n"
     ]
    }
   ],
   "source": [
    "print(\"2d Array= \\n\",array_2d)\n",
    "#Numpy Sum With Axis 1\n",
    "b = np.sum(array_2d, axis = 1)\n",
    "print(\"Sum = \",b)"
   ]
  },
  {
   "cell_type": "markdown",
   "id": "83529900",
   "metadata": {},
   "source": [
    "# concatenate () function \n",
    "- The axis parameter we use for the numpy concatenate () function defines the axis along which we stack the arrays "
   ]
  },
  {
   "cell_type": "markdown",
   "id": "9dfcc547",
   "metadata": {},
   "source": [
    "##### Concatenate Np arrays with axis 0"
   ]
  },
  {
   "cell_type": "code",
   "execution_count": 32,
   "id": "1bc72b8f",
   "metadata": {},
   "outputs": [
    {
     "name": "stdout",
     "output_type": "stream",
     "text": [
      "array_1= \n",
      " [[1 2 3]\n",
      " [1 2 3]]\n",
      "array_2= \n",
      " [[4 5 6]\n",
      " [4 5 6]]\n",
      "Result= \n",
      " [[1 2 3]\n",
      " [1 2 3]\n",
      " [4 5 6]\n",
      " [4 5 6]]\n"
     ]
    }
   ],
   "source": [
    "#arrays defined\n",
    "array_1 = np.array([[1,2,3],[1,2,3]])\n",
    "array_2 = np.array([[4,5,6],[4,5,6]]) \n",
    "print(\"array_1= \\n\",array_1)\n",
    "print(\"array_2= \\n\",array_2) \n",
    "c = np.concatenate([array_1, array_2], axis = 0)\n",
    "print(\"Result= \\n\",c)"
   ]
  },
  {
   "cell_type": "markdown",
   "id": "d7e65904",
   "metadata": {},
   "source": [
    "##### Concatenate Np arrays with axis 1"
   ]
  },
  {
   "cell_type": "code",
   "execution_count": 124,
   "id": "3ed12984",
   "metadata": {},
   "outputs": [
    {
     "name": "stdout",
     "output_type": "stream",
     "text": [
      "array_1= \n",
      " [[1 2 3]\n",
      " [1 2 3]]\n",
      "array_2= \n",
      " [[4 5 6]\n",
      " [4 5 6]]\n",
      "Result= \n",
      " [[1 2 3 4 5 6]\n",
      " [1 2 3 4 5 6]]\n"
     ]
    }
   ],
   "source": [
    "print(\"array_1= \\n\",array_1)\n",
    "print(\"array_2= \\n\",array_2) \n",
    "d = np.concatenate([array_1, array_2], axis = 1)\n",
    "print(\"Result= \\n\",d)"
   ]
  },
  {
   "cell_type": "markdown",
   "id": "8c4cd783",
   "metadata": {},
   "source": [
    "# vstack() function\n",
    "- To vertically stack two or more numpy arrays"
   ]
  },
  {
   "cell_type": "code",
   "execution_count": 38,
   "id": "8614e9aa",
   "metadata": {},
   "outputs": [
    {
     "name": "stdout",
     "output_type": "stream",
     "text": [
      "A= \n",
      " [[1 2]\n",
      " [3 4]]\n",
      "B= \n",
      " [[5 6]\n",
      " [7 8]]\n",
      "output = \n",
      " [[1 2]\n",
      " [3 4]\n",
      " [5 6]\n",
      " [7 8]]\n"
     ]
    }
   ],
   "source": [
    "#initialize arrays\n",
    "A = np.array([[1, 2], [3, 4]])\n",
    "B = np.array([[5, 6], [7, 8]])\n",
    "print(\"A= \\n\",A)\n",
    "print(\"B= \\n\",B)\n",
    "#vertically stack arrays\n",
    "voutput = np.vstack((A, B))\n",
    "print(\"output = \\n\",voutput)"
   ]
  },
  {
   "cell_type": "markdown",
   "id": "e132b832",
   "metadata": {},
   "source": [
    "# hstack() function\n",
    "- To horizontally stack two or more numpy arrays"
   ]
  },
  {
   "cell_type": "code",
   "execution_count": 39,
   "id": "6f93f2b8",
   "metadata": {},
   "outputs": [
    {
     "name": "stdout",
     "output_type": "stream",
     "text": [
      "A= \n",
      " [[1 2]\n",
      " [3 4]]\n",
      "B= \n",
      " [[5 6]\n",
      " [7 8]]\n",
      "output = \n",
      " [[1 2 5 6]\n",
      " [3 4 7 8]]\n"
     ]
    }
   ],
   "source": [
    "print(\"A= \\n\",A)\n",
    "print(\"B= \\n\",B)\n",
    "#horizintally stack arrays\n",
    "houtput = np.hstack((A, B))\n",
    "print(\"output = \\n\",houtput)"
   ]
  },
  {
   "attachments": {},
   "cell_type": "markdown",
   "id": "41cd86be",
   "metadata": {},
   "source": [
    "# dstack() Function\n",
    "- Used to stack along height, which is the same as depth!"
   ]
  },
  {
   "cell_type": "code",
   "execution_count": 149,
   "id": "4f346903",
   "metadata": {},
   "outputs": [
    {
     "name": "stdout",
     "output_type": "stream",
     "text": [
      "[[[1 4]\n",
      "  [2 5]\n",
      "  [3 6]]]\n"
     ]
    }
   ],
   "source": [
    "arr_1 = np.array([1, 2, 3])\n",
    "arr_2 = np.array([4, 5, 6])\n",
    "arr_3 = np.dstack((arr_1, arr_2))\n",
    "print(arr_3)"
   ]
  },
  {
   "cell_type": "markdown",
   "id": "9dba04bb",
   "metadata": {},
   "source": [
    "# Stack() Functions\n",
    "- Joining 1D-Arrays"
   ]
  },
  {
   "cell_type": "markdown",
   "id": "9d282714",
   "metadata": {},
   "source": [
    "##### Stack(), axis 0"
   ]
  },
  {
   "cell_type": "code",
   "execution_count": 125,
   "id": "5f8d9e22",
   "metadata": {},
   "outputs": [
    {
     "name": "stdout",
     "output_type": "stream",
     "text": [
      "[[1 2 3]\n",
      " [4 5 6]]\n"
     ]
    }
   ],
   "source": [
    "C = np.array([1, 2, 3])\n",
    "D = np.array([4, 5, 6])\n",
    "arr10 = np.stack((C, D), axis=0)\n",
    "print(arr10)"
   ]
  },
  {
   "cell_type": "markdown",
   "id": "642b0e47",
   "metadata": {},
   "source": [
    "##### Stack(), axis 1"
   ]
  },
  {
   "cell_type": "code",
   "execution_count": 126,
   "id": "e39d05cb",
   "metadata": {},
   "outputs": [
    {
     "name": "stdout",
     "output_type": "stream",
     "text": [
      "[[1 4]\n",
      " [2 5]\n",
      " [3 6]]\n"
     ]
    }
   ],
   "source": [
    "arr11 = np.stack((C, D), axis=1)\n",
    "print(arr11)"
   ]
  },
  {
   "cell_type": "markdown",
   "id": "c06db2ae",
   "metadata": {},
   "source": [
    "# hsplit() Function \n",
    "- For the horizontal splitting"
   ]
  },
  {
   "cell_type": "code",
   "execution_count": 127,
   "id": "5bb09202",
   "metadata": {},
   "outputs": [
    {
     "name": "stdout",
     "output_type": "stream",
     "text": [
      "[array([[ 1,  2,  3],\n",
      "       [ 4,  5,  6],\n",
      "       [ 7,  8,  9],\n",
      "       [10, 11, 12],\n",
      "       [13, 14, 15],\n",
      "       [16, 17, 18]])]\n"
     ]
    }
   ],
   "source": [
    "arr12 = np.array([[1, 2, 3], [4, 5, 6], [7, 8, 9], [10, 11, 12], [13, 14, 15], [16, 17, 18]])\n",
    "newarr = np.hsplit(arr12, 1)\n",
    "print(newarr)"
   ]
  },
  {
   "cell_type": "code",
   "execution_count": 128,
   "id": "4e6afd75",
   "metadata": {},
   "outputs": [
    {
     "name": "stdout",
     "output_type": "stream",
     "text": [
      "[array([[ 1],\n",
      "       [ 4],\n",
      "       [ 7],\n",
      "       [10],\n",
      "       [13],\n",
      "       [16]]), array([[ 2],\n",
      "       [ 5],\n",
      "       [ 8],\n",
      "       [11],\n",
      "       [14],\n",
      "       [17]]), array([[ 3],\n",
      "       [ 6],\n",
      "       [ 9],\n",
      "       [12],\n",
      "       [15],\n",
      "       [18]])]\n"
     ]
    }
   ],
   "source": [
    "arr13 = np.array([[1, 2, 3], [4, 5, 6], [7, 8, 9], [10, 11, 12], [13, 14, 15], [16, 17, 18]])\n",
    "newarr = np.hsplit(arr13, 3)\n",
    "print(newarr)"
   ]
  },
  {
   "cell_type": "markdown",
   "id": "62b9f4ac",
   "metadata": {},
   "source": [
    "# vsplit() Function\n",
    "- For the vertical splitting"
   ]
  },
  {
   "cell_type": "code",
   "execution_count": 129,
   "id": "a44245e5",
   "metadata": {},
   "outputs": [
    {
     "name": "stdout",
     "output_type": "stream",
     "text": [
      "[array([[1, 2, 3]]), array([[4, 5, 6]]), array([[7, 8, 9]]), array([[10, 11, 12]]), array([[13, 14, 15]]), array([[16, 17, 18]])]\n"
     ]
    }
   ],
   "source": [
    "vnewarr = np.vsplit(arr13, 6)\n",
    "print(vnewarr)"
   ]
  },
  {
   "cell_type": "code",
   "execution_count": 130,
   "id": "4c1a81c6",
   "metadata": {},
   "outputs": [
    {
     "name": "stdout",
     "output_type": "stream",
     "text": [
      "[array([[1, 2, 3],\n",
      "       [4, 5, 6]]), array([[ 7,  8,  9],\n",
      "       [10, 11, 12]]), array([[13, 14, 15],\n",
      "       [16, 17, 18]])]\n"
     ]
    }
   ],
   "source": [
    "vnewarr = np.vsplit(arr13, 3)\n",
    "print(vnewarr)"
   ]
  },
  {
   "cell_type": "code",
   "execution_count": 131,
   "id": "f29fb767",
   "metadata": {},
   "outputs": [
    {
     "name": "stdout",
     "output_type": "stream",
     "text": [
      "[array([[ 1,  2,  3],\n",
      "       [ 4,  5,  6],\n",
      "       [ 7,  8,  9],\n",
      "       [10, 11, 12],\n",
      "       [13, 14, 15],\n",
      "       [16, 17, 18]])]\n"
     ]
    }
   ],
   "source": [
    "vnewarr = np.vsplit(arr13, 1)\n",
    "print(vnewarr)"
   ]
  },
  {
   "attachments": {},
   "cell_type": "markdown",
   "id": "36cfb0ea",
   "metadata": {},
   "source": [
    "# array_split() \n",
    "- for splitting arrays, we pass it the array we want to split and the number of splits!"
   ]
  },
  {
   "cell_type": "code",
   "execution_count": 150,
   "id": "c375a0ae",
   "metadata": {},
   "outputs": [
    {
     "name": "stdout",
     "output_type": "stream",
     "text": [
      "[array([1, 2]), array([3, 4]), array([5, 6])]\n"
     ]
    }
   ],
   "source": [
    "arr_4 = np.array([1, 2, 3, 4, 5, 6])\n",
    "ar_snewarr = np.array_split(arr_4, 3)\n",
    "print(ar_snewarr)"
   ]
  },
  {
   "cell_type": "markdown",
   "id": "36044cc6",
   "metadata": {},
   "source": [
    "# searchsorted() Function\n",
    "- It performs a binary search in the array, and returns the index where the specified value would be inserted to maintain the search order.\n",
    "- The searchsorted() method is assumed to be used on the sorted arrays."
   ]
  },
  {
   "cell_type": "code",
   "execution_count": 132,
   "id": "381ff8bc",
   "metadata": {},
   "outputs": [
    {
     "name": "stdout",
     "output_type": "stream",
     "text": [
      "1\n"
     ]
    }
   ],
   "source": [
    "# Find the indexes where the value 7 should be inserted\n",
    "arr14 = np.array([6, 8, 9])\n",
    "E = np.searchsorted(arr14, 7)\n",
    "print(E)"
   ]
  },
  {
   "cell_type": "code",
   "execution_count": 133,
   "id": "0579054f",
   "metadata": {},
   "outputs": [
    {
     "name": "stdout",
     "output_type": "stream",
     "text": [
      "2\n"
     ]
    }
   ],
   "source": [
    "#Find the indexes where the value 7 should be inserted, starting from the right\n",
    "arr15 = np.array([6, 7, 8, 9])\n",
    "F = np.searchsorted(arr15, 7, side='right')\n",
    "print(F)"
   ]
  },
  {
   "cell_type": "code",
   "execution_count": 134,
   "id": "f1d67722",
   "metadata": {},
   "outputs": [
    {
     "name": "stdout",
     "output_type": "stream",
     "text": [
      "[1 2 3]\n"
     ]
    }
   ],
   "source": [
    "#To search for more than one value, use an array with the specified values.\n",
    "arr16 = np.array([1, 3, 5, 7])\n",
    "G = np.searchsorted(arr16, [2, 4, 6])\n",
    "print(G)"
   ]
  },
  {
   "cell_type": "markdown",
   "id": "351523a7",
   "metadata": {},
   "source": [
    "# sort() Function\n",
    "- The NumPy ndarray object has a function called sort(), that will sort a specified array\n",
    "Example\n",
    "import numpy as np\n",
    "arr = np.array([3, 2, 0, 1])\n",
    "print(np.sort(arr))\n"
   ]
  },
  {
   "cell_type": "code",
   "execution_count": 135,
   "id": "1b72ddba",
   "metadata": {},
   "outputs": [
    {
     "name": "stdout",
     "output_type": "stream",
     "text": [
      "[0 1 2 3]\n"
     ]
    }
   ],
   "source": [
    "arr17 = np.array([3, 2, 0, 1])\n",
    "print(np.sort(arr17))"
   ]
  },
  {
   "cell_type": "code",
   "execution_count": 136,
   "id": "30689cd2",
   "metadata": {},
   "outputs": [
    {
     "name": "stdout",
     "output_type": "stream",
     "text": [
      "['apple' 'banana' 'cherry']\n"
     ]
    }
   ],
   "source": [
    "#sorting arrays of strings, or any other data type\n",
    "arr18 = np.array(['banana', 'cherry', 'apple'])\n",
    "print(np.sort(arr18))"
   ]
  },
  {
   "cell_type": "code",
   "execution_count": 137,
   "id": "f8bbba65",
   "metadata": {},
   "outputs": [
    {
     "name": "stdout",
     "output_type": "stream",
     "text": [
      "[False  True  True]\n"
     ]
    }
   ],
   "source": [
    "#Sorting boolean\n",
    "arr19 = np.array([True, False, True])\n",
    "print(np.sort(arr19))"
   ]
  },
  {
   "attachments": {},
   "cell_type": "markdown",
   "id": "ab302893",
   "metadata": {},
   "source": [
    "##### Sorting 2-D arrays\n",
    "- Both Arrays are sorted by using sort() function for 2D arrays"
   ]
  },
  {
   "cell_type": "code",
   "execution_count": 138,
   "id": "531c32f4",
   "metadata": {},
   "outputs": [
    {
     "name": "stdout",
     "output_type": "stream",
     "text": [
      "[[2 3 4]\n",
      " [0 1 5]]\n"
     ]
    }
   ],
   "source": [
    "arr20 = np.array([[3, 2, 4], [5, 0, 1]])\n",
    "print(np.sort(arr20))"
   ]
  },
  {
   "cell_type": "markdown",
   "id": "3754d26e",
   "metadata": {},
   "source": [
    "#### NumPy Filtering Arrays"
   ]
  },
  {
   "cell_type": "code",
   "execution_count": 141,
   "id": "ded9deeb",
   "metadata": {},
   "outputs": [
    {
     "name": "stdout",
     "output_type": "stream",
     "text": [
      "[41 43]\n"
     ]
    }
   ],
   "source": [
    "# Create an array from the elements on index 0 and 2\n",
    "arr21 = np.array([41, 42, 43, 44])\n",
    "x = arr21[[True, False, True, False]]\n",
    "print(x)"
   ]
  },
  {
   "cell_type": "code",
   "execution_count": 140,
   "id": "2be89753",
   "metadata": {},
   "outputs": [
    {
     "name": "stdout",
     "output_type": "stream",
     "text": [
      "[False, False, True, True]\n",
      "[43 44]\n"
     ]
    }
   ],
   "source": [
    "# Create a filter array that will return only values higher than 42\n",
    "arr22 = np.array([41, 42, 43, 44])\n",
    "# Create an empty list\n",
    "filter_arr = []\n",
    "# go through each element in arr\n",
    "for element in arr22:\n",
    "  # if the element is higher than 42, set the value to True, otherwise False:\n",
    "  if element > 42:\n",
    "    filter_arr.append(True)\n",
    "  else:\n",
    "    filter_arr.append(False)\n",
    "newarr3 = arr22[filter_arr]\n",
    "print(filter_arr)\n",
    "print(newarr3)"
   ]
  },
  {
   "cell_type": "code",
   "execution_count": 142,
   "id": "87cde176",
   "metadata": {},
   "outputs": [
    {
     "name": "stdout",
     "output_type": "stream",
     "text": [
      "[False, True, False, True, False, True, False]\n",
      "[2 4 6]\n"
     ]
    }
   ],
   "source": [
    "#Create a filter array that will return only even elements from the original array\n",
    "arr23 = np.array([1, 2, 3, 4, 5, 6, 7])\n",
    "# Create an empty list\n",
    "filter_arr1 = []\n",
    "# go through each element in arr\n",
    "for element in arr23:\n",
    "  # if the element is completely divisble by 2, set the value to True, otherwise False\n",
    "  if element % 2 == 0:\n",
    "    filter_arr1.append(True)\n",
    "  else:\n",
    "    filter_arr1.append(False)\n",
    "newarr4 = arr23[filter_arr1]\n",
    "print(filter_arr1)\n",
    "print(newarr4)"
   ]
  },
  {
   "cell_type": "code",
   "execution_count": 143,
   "id": "84a0eed0",
   "metadata": {},
   "outputs": [
    {
     "name": "stdout",
     "output_type": "stream",
     "text": [
      "[False False  True  True]\n",
      "[43 44]\n"
     ]
    }
   ],
   "source": [
    "#Creating Filter Directly From Array\n",
    "arr24 = np.array([41, 42, 43, 44])\n",
    "filter_arr2 = arr24 > 42\n",
    "newarr5 = arr24[filter_arr2]\n",
    "print(filter_arr2)\n",
    "print(newarr5)"
   ]
  },
  {
   "cell_type": "code",
   "execution_count": 144,
   "id": "21db8919",
   "metadata": {},
   "outputs": [
    {
     "name": "stdout",
     "output_type": "stream",
     "text": [
      "[False  True False  True False  True False]\n",
      "[2 4 6]\n"
     ]
    }
   ],
   "source": [
    "#Create a filter array that will return only even elements from the original array\n",
    "arr25 = np.array([1, 2, 3, 4, 5, 6, 7])\n",
    "filter_arr3 = arr25 % 2 == 0\n",
    "newarr6 = arr25[filter_arr3]\n",
    "print(filter_arr3)\n",
    "print(newarr6)"
   ]
  },
  {
   "cell_type": "markdown",
   "id": "a466b5c6",
   "metadata": {},
   "source": [
    "# reshape() Function"
   ]
  },
  {
   "cell_type": "code",
   "execution_count": 75,
   "id": "532f209e",
   "metadata": {},
   "outputs": [
    {
     "name": "stdout",
     "output_type": "stream",
     "text": [
      "1-D reshaped into 2-D\n",
      " [[1 2 8]\n",
      " [9 6 5]]\n",
      "\n",
      "Reshaped Array with 4 rows and 2 columns\n",
      " [[ 4  5]\n",
      " [ 6 10]\n",
      " [ 7  8]\n",
      " [ 9 12]]\n"
     ]
    }
   ],
   "source": [
    "numpy_ar1 = np.array([1,2,8,9,6,5]) \n",
    "# reshaping 1-D array into 2-D\n",
    "print(\"1-D reshaped into 2-D\\n\", numpy_ar1.reshape(2,3)) \n",
    "I = np.array([[4,5,6,10],[7,8,9,12]]) \n",
    "print(\"\\nReshaped Array with 4 rows and 2 columns\\n\", I.reshape(4,2)) "
   ]
  },
  {
   "attachments": {},
   "cell_type": "markdown",
   "id": "4856313e",
   "metadata": {},
   "source": [
    "# np.argmax()\n",
    "- This function returns the index of the maximum value in the array list"
   ]
  },
  {
   "cell_type": "code",
   "execution_count": 146,
   "id": "0f36cfa7",
   "metadata": {},
   "outputs": [
    {
     "name": "stdout",
     "output_type": "stream",
     "text": [
      "[0 1]\n"
     ]
    }
   ],
   "source": [
    "# axis 0\n",
    "arr26=np.array([[74,23],[56,98]])\n",
    "print(np.argmax(arr26, axis=0))"
   ]
  },
  {
   "cell_type": "code",
   "execution_count": 147,
   "id": "eda6b3c9",
   "metadata": {},
   "outputs": [
    {
     "name": "stdout",
     "output_type": "stream",
     "text": [
      "[0 1]\n"
     ]
    }
   ],
   "source": [
    "# axis 1\n",
    "print(np.argmax(arr26, axis=1))"
   ]
  },
  {
   "cell_type": "markdown",
   "id": "5e489b57",
   "metadata": {},
   "source": [
    "# Numpy count() Functions"
   ]
  },
  {
   "cell_type": "code",
   "execution_count": 148,
   "id": "c9fe1426",
   "metadata": {},
   "outputs": [
    {
     "name": "stdout",
     "output_type": "stream",
     "text": [
      "6\n",
      "[3 2 1]\n"
     ]
    }
   ],
   "source": [
    "arr27=np.array([[16,0,56],[2,34,0],[90,87,0]])\n",
    "print(np.count_nonzero(arr27))\n",
    "print(np.count_nonzero(arr27,axis=0))"
   ]
  },
  {
   "cell_type": "markdown",
   "id": "c51408e3",
   "metadata": {},
   "source": [
    "# EXECRCISE \n",
    "## Search the builtin numpy Function to find dot product"
   ]
  },
  {
   "cell_type": "markdown",
   "id": "f614a4d3",
   "metadata": {},
   "source": [
    "### Numpy Dot() function"
   ]
  },
  {
   "cell_type": "markdown",
   "id": "4b8a83c3",
   "metadata": {},
   "source": [
    "##### SCALAR NUMPY DOT PRODUCT "
   ]
  },
  {
   "cell_type": "code",
   "execution_count": 97,
   "id": "2eb01b57",
   "metadata": {},
   "outputs": [
    {
     "name": "stdout",
     "output_type": "stream",
     "text": [
      "x=  10\n",
      "y=  50\n",
      "ans=  500\n"
     ]
    }
   ],
   "source": [
    "import numpy as np\n",
    "J = 10\n",
    "K = 50\n",
    "print(\"x= \",J)\n",
    "print(\"y= \",K)\n",
    "ans = np.dot(J,K)\n",
    "print(\"ans= \",ans)"
   ]
  },
  {
   "cell_type": "markdown",
   "id": "f2471774",
   "metadata": {},
   "source": [
    "##### Numpy dot product of 1D Arrays"
   ]
  },
  {
   "cell_type": "code",
   "execution_count": 98,
   "id": "3ace1a86",
   "metadata": {},
   "outputs": [
    {
     "name": "stdout",
     "output_type": "stream",
     "text": [
      "x=  [3 1 7 4]\n",
      "y=  [2 4 5 8]\n",
      "Output=  77\n"
     ]
    }
   ],
   "source": [
    "#initialize arrays\n",
    "L = np.array([3, 1, 7, 4])\n",
    "M = np.array([2, 4, 5, 8])\n",
    "print(\"x= \",L)\n",
    "print(\"y= \",M)\n",
    "#dot product\n",
    "Ans = np.dot(L, M)\n",
    "print(\"Output= \",Ans)"
   ]
  },
  {
   "cell_type": "markdown",
   "id": "fa7c0ea7",
   "metadata": {},
   "source": [
    "##### Dot product over 2D arrays"
   ]
  },
  {
   "cell_type": "code",
   "execution_count": 102,
   "id": "528e153f",
   "metadata": {},
   "outputs": [
    {
     "name": "stdout",
     "output_type": "stream",
     "text": [
      "Output: \n",
      " [[ 7  7]\n",
      " [14 14]]\n"
     ]
    }
   ],
   "source": [
    "#initialize arrays\n",
    "N = np.array([[1, 1], [2, 2]])\n",
    "O = np.array([[3, 3], [4, 4]])\n",
    "#dot product\n",
    "ans_ = np.dot(N, O)\n",
    "print(\"Output: \\n\",ans_)"
   ]
  },
  {
   "cell_type": "markdown",
   "id": "5c593c7d",
   "metadata": {},
   "source": [
    "###### Numpy dot product of complex vectors"
   ]
  },
  {
   "cell_type": "code",
   "execution_count": 100,
   "id": "d295ce36",
   "metadata": {},
   "outputs": [
    {
     "name": "stdout",
     "output_type": "stream",
     "text": [
      "x=  (1+2j)\n",
      "y=  (1+2j)\n",
      "Dot Product  :  (-3+4j)\n"
     ]
    }
   ],
   "source": [
    "vec_a = 1 + 2j\n",
    "vec_b = 1 + 2j\n",
    "print(\"x= \",vec_a)\n",
    "print(\"y= \",vec_b)\n",
    "product = np.dot(vec_a, vec_b) \n",
    "print(\"Dot Product  : \", product) "
   ]
  }
 ],
 "metadata": {
  "kernelspec": {
   "display_name": "Python 3",
   "language": "python",
   "name": "python3"
  },
  "language_info": {
   "codemirror_mode": {
    "name": "ipython",
    "version": 3
   },
   "file_extension": ".py",
   "mimetype": "text/x-python",
   "name": "python",
   "nbconvert_exporter": "python",
   "pygments_lexer": "ipython3",
   "version": "3.8.8"
  }
 },
 "nbformat": 4,
 "nbformat_minor": 5
}
