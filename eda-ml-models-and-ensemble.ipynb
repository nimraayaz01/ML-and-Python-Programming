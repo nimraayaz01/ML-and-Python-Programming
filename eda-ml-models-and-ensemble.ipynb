{
 "cells": [
  {
   "cell_type": "code",
   "execution_count": 1,
   "id": "60977dca",
   "metadata": {
    "_cell_guid": "b1076dfc-b9ad-4769-8c92-a6c4dae69d19",
    "_uuid": "8f2839f25d086af736a60e9eeb907d3b93b6e0e5",
    "execution": {
     "iopub.execute_input": "2022-10-20T17:55:53.526196Z",
     "iopub.status.busy": "2022-10-20T17:55:53.524770Z",
     "iopub.status.idle": "2022-10-20T17:55:53.541596Z",
     "shell.execute_reply": "2022-10-20T17:55:53.540376Z"
    },
    "papermill": {
     "duration": 0.070128,
     "end_time": "2022-10-20T17:55:53.544293",
     "exception": false,
     "start_time": "2022-10-20T17:55:53.474165",
     "status": "completed"
    },
    "tags": []
   },
   "outputs": [
    {
     "name": "stdout",
     "output_type": "stream",
     "text": [
      "/kaggle/input/titanic/train.csv\n",
      "/kaggle/input/titanic/test.csv\n",
      "/kaggle/input/titanic/gender_submission.csv\n"
     ]
    }
   ],
   "source": [
    "# This Python 3 environment comes with many helpful analytics libraries installed\n",
    "# It is defined by the kaggle/python Docker image: https://github.com/kaggle/docker-python\n",
    "# For example, here's several helpful packages to load\n",
    "\n",
    "import numpy as np # linear algebra\n",
    "import pandas as pd # data processing, CSV file I/O (e.g. pd.read_csv)\n",
    "\n",
    "# Input data files are available in the read-only \"../input/\" directory\n",
    "# For example, running this (by clicking run or pressing Shift+Enter) will list all files under the input directory\n",
    "\n",
    "import os\n",
    "for dirname, _, filenames in os.walk('/kaggle/input'):\n",
    "    for filename in filenames:\n",
    "        print(os.path.join(dirname, filename))\n",
    "\n",
    "# You can write up to 20GB to the current directory (/kaggle/working/) that gets preserved as output when you create a version using \"Save & Run All\" \n",
    "# You can also write temporary files to /kaggle/temp/, but they won't be saved outside of the current session"
   ]
  },
  {
   "cell_type": "markdown",
   "id": "ad5a1018",
   "metadata": {
    "execution": {
     "iopub.execute_input": "2022-10-20T17:15:05.879096Z",
     "iopub.status.busy": "2022-10-20T17:15:05.878746Z",
     "iopub.status.idle": "2022-10-20T17:15:05.892463Z",
     "shell.execute_reply": "2022-10-20T17:15:05.890917Z",
     "shell.execute_reply.started": "2022-10-20T17:15:05.879071Z"
    },
    "papermill": {
     "duration": 0.043784,
     "end_time": "2022-10-20T17:55:53.633042",
     "exception": false,
     "start_time": "2022-10-20T17:55:53.589258",
     "status": "completed"
    },
    "tags": []
   },
   "source": [
    "## Table of Contents\n",
    "* 1. [Data Loading](#dataloading)\n",
    "    * 1.1 [Libraries](#libs)\n",
    "    * 1.2 [Load CSV](#loadcsv)\n",
    "* 2. [Basic Data Preprocessing and EDA](#preprocessing)\n",
    "    * 2.1 [Train Dataset](#traindata)\n",
    "        * 2.1.1 [Numerical Features](#trnum)\n",
    "            * 2.1.1.1 [Missing Values](#nummisvals)\n",
    "            * 2.1.1.2 [Quasi Constant Check](#quasiconst)\n",
    "            * 2.1.1.3 [Category Change](#trnewcat)\n",
    "        * 2.1.2 [Categorical Features](#trcat)\n",
    "        * 2.1.3 [Simplification of Features](#freqcat)\n",
    "        * 2.1.4 [Label Encoding/Factorizing](#encvals)\n",
    "        * 2.1.5 [Outlier Removal](#outl)\n",
    "    * 2.2 [Test Dataset](#testdata)\n",
    "        * 2.2.1 [Numerical Features](#trnum)\n",
    "            * 2.2.1.1 [Missing Values](#testnummisvals)\n",
    "            * 2.2.1.2 [Quasi Constants Check](#testquasiconst) \n",
    "            * 2.2.1.3 [Category Change](#testnewcat) \n",
    "        * 2.2.2 [Categorical Features](#testcat)\n",
    "            * 2.2.2.1 [Missing values](#testcatmisvals)\n",
    "        * 2.2.3 [Simplification of Features](#testfreqcat)\n",
    "        * 2.2.4  [Label encoding/factorizing](#testencvals)\n",
    "        * 2.2.5  [Feature Importance](#ftimp)\n",
    "* 3. [Modeling](#modeling)\n",
    "    * 3.1 [Parameter Finetuning](#paramft)\n",
    "        * 3.1.1 [Random Forest](#rf)\n",
    "        * 3.1.2 [Perceptron](#pr)\n",
    "        * 3.1.3 [Support Vector Machines](#svc)\n",
    "        * 3.1.4 [Linear Support Vector Machines](#linsvc)\n",
    "        * 3.1.5 [KNN](#knn)\n",
    "        * 3.1.6 [Stochastic Gradient Descent](#sgd)\n",
    "        * 3.1.7 [Decision Tree](#dt)\n",
    "        * 3.1.8 [Gaussian Naïve Bayes](#nb)\n",
    "        * 3.1.9 [Logistic Regression](#lr)\n",
    "        * 3.1.10 [Ensemble](#ens)"
   ]
  },
  {
   "cell_type": "code",
   "execution_count": 2,
   "id": "efedb99c",
   "metadata": {
    "execution": {
     "iopub.execute_input": "2022-10-20T17:55:53.722722Z",
     "iopub.status.busy": "2022-10-20T17:55:53.721896Z",
     "iopub.status.idle": "2022-10-20T17:55:53.727193Z",
     "shell.execute_reply": "2022-10-20T17:55:53.725937Z"
    },
    "papermill": {
     "duration": 0.052272,
     "end_time": "2022-10-20T17:55:53.729734",
     "exception": false,
     "start_time": "2022-10-20T17:55:53.677462",
     "status": "completed"
    },
    "tags": []
   },
   "outputs": [],
   "source": [
    "import warnings\n",
    "warnings.filterwarnings('ignore')"
   ]
  },
  {
   "cell_type": "markdown",
   "id": "170ce6f9",
   "metadata": {
    "papermill": {
     "duration": 0.043739,
     "end_time": "2022-10-20T17:55:53.818561",
     "exception": false,
     "start_time": "2022-10-20T17:55:53.774822",
     "status": "completed"
    },
    "tags": []
   },
   "source": [
    "## 1. Data Loading <a class=\"anchor\" id=\"dataloading\"></a>"
   ]
  },
  {
   "cell_type": "markdown",
   "id": "8ef61105",
   "metadata": {
    "papermill": {
     "duration": 0.045951,
     "end_time": "2022-10-20T17:55:53.908140",
     "exception": false,
     "start_time": "2022-10-20T17:55:53.862189",
     "status": "completed"
    },
    "tags": []
   },
   "source": [
    "### 1.1 Libraries<a class=\"anchor\" id=\"libs\"></a>"
   ]
  },
  {
   "cell_type": "code",
   "execution_count": 3,
   "id": "907e9890",
   "metadata": {
    "execution": {
     "iopub.execute_input": "2022-10-20T17:55:53.997029Z",
     "iopub.status.busy": "2022-10-20T17:55:53.996585Z",
     "iopub.status.idle": "2022-10-20T17:55:55.591902Z",
     "shell.execute_reply": "2022-10-20T17:55:55.590748Z"
    },
    "papermill": {
     "duration": 1.643799,
     "end_time": "2022-10-20T17:55:55.594965",
     "exception": false,
     "start_time": "2022-10-20T17:55:53.951166",
     "status": "completed"
    },
    "tags": []
   },
   "outputs": [],
   "source": [
    "# data analysis and wrangling\n",
    "import pandas as pd\n",
    "import numpy as np\n",
    "import random as rnd\n",
    "\n",
    "# visualization\n",
    "import seaborn as sns\n",
    "import matplotlib.pyplot as plt\n",
    "%matplotlib inline\n",
    "\n",
    "# machine learning\n",
    "from sklearn.linear_model import LogisticRegression, LinearRegression\n",
    "from sklearn.svm import SVC, LinearSVC\n",
    "from sklearn.ensemble import RandomForestClassifier\n",
    "from sklearn.neighbors import KNeighborsClassifier\n",
    "from sklearn.naive_bayes import GaussianNB\n",
    "from sklearn.linear_model import Perceptron\n",
    "from sklearn.linear_model import SGDClassifier\n",
    "from sklearn.tree import DecisionTreeClassifier\n",
    "\n",
    "\n",
    "from sklearn.impute import KNNImputer\n",
    "from sklearn.experimental import enable_iterative_imputer\n",
    "from sklearn.impute import IterativeImputer\n",
    "from sklearn.feature_selection import VarianceThreshold\n",
    "from sklearn.preprocessing import LabelEncoder, RobustScaler, StandardScaler\n",
    "from scipy.stats import shapiro, boxcox\n",
    "from sklearn.model_selection import GridSearchCV, KFold, cross_val_score\n",
    "from sklearn.pipeline import Pipeline\n",
    "from sklearn.model_selection import train_test_split"
   ]
  },
  {
   "cell_type": "markdown",
   "id": "805e4020",
   "metadata": {
    "papermill": {
     "duration": 0.041605,
     "end_time": "2022-10-20T17:55:55.678108",
     "exception": false,
     "start_time": "2022-10-20T17:55:55.636503",
     "status": "completed"
    },
    "tags": []
   },
   "source": [
    "### 1.2 Load data from files <a class=\"anchor\" id=\"loadcsv\"></a>"
   ]
  },
  {
   "cell_type": "code",
   "execution_count": 4,
   "id": "4e3ca570",
   "metadata": {
    "execution": {
     "iopub.execute_input": "2022-10-20T17:55:55.763298Z",
     "iopub.status.busy": "2022-10-20T17:55:55.762878Z",
     "iopub.status.idle": "2022-10-20T17:55:55.797769Z",
     "shell.execute_reply": "2022-10-20T17:55:55.796058Z"
    },
    "papermill": {
     "duration": 0.081218,
     "end_time": "2022-10-20T17:55:55.800865",
     "exception": false,
     "start_time": "2022-10-20T17:55:55.719647",
     "status": "completed"
    },
    "tags": []
   },
   "outputs": [
    {
     "name": "stdout",
     "output_type": "stream",
     "text": [
      "There are 891 training samples.\n",
      "There are 418 testing samples.\n"
     ]
    }
   ],
   "source": [
    "train_df = pd.read_csv('/kaggle/input/titanic/train.csv')\n",
    "test_df = pd.read_csv('/kaggle/input/titanic/test.csv')\n",
    "print('There are', len(train_df), 'training samples.')\n",
    "print('There are', len(test_df), 'testing samples.')"
   ]
  },
  {
   "cell_type": "code",
   "execution_count": 5,
   "id": "9050e1d6",
   "metadata": {
    "execution": {
     "iopub.execute_input": "2022-10-20T17:55:55.886324Z",
     "iopub.status.busy": "2022-10-20T17:55:55.885220Z",
     "iopub.status.idle": "2022-10-20T17:55:55.912670Z",
     "shell.execute_reply": "2022-10-20T17:55:55.911453Z"
    },
    "papermill": {
     "duration": 0.072787,
     "end_time": "2022-10-20T17:55:55.915192",
     "exception": false,
     "start_time": "2022-10-20T17:55:55.842405",
     "status": "completed"
    },
    "tags": []
   },
   "outputs": [
    {
     "data": {
      "text/html": [
       "<div>\n",
       "<style scoped>\n",
       "    .dataframe tbody tr th:only-of-type {\n",
       "        vertical-align: middle;\n",
       "    }\n",
       "\n",
       "    .dataframe tbody tr th {\n",
       "        vertical-align: top;\n",
       "    }\n",
       "\n",
       "    .dataframe thead th {\n",
       "        text-align: right;\n",
       "    }\n",
       "</style>\n",
       "<table border=\"1\" class=\"dataframe\">\n",
       "  <thead>\n",
       "    <tr style=\"text-align: right;\">\n",
       "      <th></th>\n",
       "      <th>PassengerId</th>\n",
       "      <th>Survived</th>\n",
       "      <th>Pclass</th>\n",
       "      <th>Name</th>\n",
       "      <th>Sex</th>\n",
       "      <th>Age</th>\n",
       "      <th>SibSp</th>\n",
       "      <th>Parch</th>\n",
       "      <th>Ticket</th>\n",
       "      <th>Fare</th>\n",
       "      <th>Cabin</th>\n",
       "      <th>Embarked</th>\n",
       "    </tr>\n",
       "  </thead>\n",
       "  <tbody>\n",
       "    <tr>\n",
       "      <th>0</th>\n",
       "      <td>1</td>\n",
       "      <td>0</td>\n",
       "      <td>3</td>\n",
       "      <td>Braund, Mr. Owen Harris</td>\n",
       "      <td>male</td>\n",
       "      <td>22.0</td>\n",
       "      <td>1</td>\n",
       "      <td>0</td>\n",
       "      <td>A/5 21171</td>\n",
       "      <td>7.2500</td>\n",
       "      <td>NaN</td>\n",
       "      <td>S</td>\n",
       "    </tr>\n",
       "    <tr>\n",
       "      <th>1</th>\n",
       "      <td>2</td>\n",
       "      <td>1</td>\n",
       "      <td>1</td>\n",
       "      <td>Cumings, Mrs. John Bradley (Florence Briggs Th...</td>\n",
       "      <td>female</td>\n",
       "      <td>38.0</td>\n",
       "      <td>1</td>\n",
       "      <td>0</td>\n",
       "      <td>PC 17599</td>\n",
       "      <td>71.2833</td>\n",
       "      <td>C85</td>\n",
       "      <td>C</td>\n",
       "    </tr>\n",
       "    <tr>\n",
       "      <th>2</th>\n",
       "      <td>3</td>\n",
       "      <td>1</td>\n",
       "      <td>3</td>\n",
       "      <td>Heikkinen, Miss. Laina</td>\n",
       "      <td>female</td>\n",
       "      <td>26.0</td>\n",
       "      <td>0</td>\n",
       "      <td>0</td>\n",
       "      <td>STON/O2. 3101282</td>\n",
       "      <td>7.9250</td>\n",
       "      <td>NaN</td>\n",
       "      <td>S</td>\n",
       "    </tr>\n",
       "    <tr>\n",
       "      <th>3</th>\n",
       "      <td>4</td>\n",
       "      <td>1</td>\n",
       "      <td>1</td>\n",
       "      <td>Futrelle, Mrs. Jacques Heath (Lily May Peel)</td>\n",
       "      <td>female</td>\n",
       "      <td>35.0</td>\n",
       "      <td>1</td>\n",
       "      <td>0</td>\n",
       "      <td>113803</td>\n",
       "      <td>53.1000</td>\n",
       "      <td>C123</td>\n",
       "      <td>S</td>\n",
       "    </tr>\n",
       "    <tr>\n",
       "      <th>4</th>\n",
       "      <td>5</td>\n",
       "      <td>0</td>\n",
       "      <td>3</td>\n",
       "      <td>Allen, Mr. William Henry</td>\n",
       "      <td>male</td>\n",
       "      <td>35.0</td>\n",
       "      <td>0</td>\n",
       "      <td>0</td>\n",
       "      <td>373450</td>\n",
       "      <td>8.0500</td>\n",
       "      <td>NaN</td>\n",
       "      <td>S</td>\n",
       "    </tr>\n",
       "  </tbody>\n",
       "</table>\n",
       "</div>"
      ],
      "text/plain": [
       "   PassengerId  Survived  Pclass  \\\n",
       "0            1         0       3   \n",
       "1            2         1       1   \n",
       "2            3         1       3   \n",
       "3            4         1       1   \n",
       "4            5         0       3   \n",
       "\n",
       "                                                Name     Sex   Age  SibSp  \\\n",
       "0                            Braund, Mr. Owen Harris    male  22.0      1   \n",
       "1  Cumings, Mrs. John Bradley (Florence Briggs Th...  female  38.0      1   \n",
       "2                             Heikkinen, Miss. Laina  female  26.0      0   \n",
       "3       Futrelle, Mrs. Jacques Heath (Lily May Peel)  female  35.0      1   \n",
       "4                           Allen, Mr. William Henry    male  35.0      0   \n",
       "\n",
       "   Parch            Ticket     Fare Cabin Embarked  \n",
       "0      0         A/5 21171   7.2500   NaN        S  \n",
       "1      0          PC 17599  71.2833   C85        C  \n",
       "2      0  STON/O2. 3101282   7.9250   NaN        S  \n",
       "3      0            113803  53.1000  C123        S  \n",
       "4      0            373450   8.0500   NaN        S  "
      ]
     },
     "execution_count": 5,
     "metadata": {},
     "output_type": "execute_result"
    }
   ],
   "source": [
    "train_df.head()"
   ]
  },
  {
   "cell_type": "code",
   "execution_count": 6,
   "id": "77ef8557",
   "metadata": {
    "execution": {
     "iopub.execute_input": "2022-10-20T17:55:56.002391Z",
     "iopub.status.busy": "2022-10-20T17:55:56.001935Z",
     "iopub.status.idle": "2022-10-20T17:55:56.018925Z",
     "shell.execute_reply": "2022-10-20T17:55:56.018031Z"
    },
    "papermill": {
     "duration": 0.063707,
     "end_time": "2022-10-20T17:55:56.021326",
     "exception": false,
     "start_time": "2022-10-20T17:55:55.957619",
     "status": "completed"
    },
    "tags": []
   },
   "outputs": [
    {
     "data": {
      "text/html": [
       "<div>\n",
       "<style scoped>\n",
       "    .dataframe tbody tr th:only-of-type {\n",
       "        vertical-align: middle;\n",
       "    }\n",
       "\n",
       "    .dataframe tbody tr th {\n",
       "        vertical-align: top;\n",
       "    }\n",
       "\n",
       "    .dataframe thead th {\n",
       "        text-align: right;\n",
       "    }\n",
       "</style>\n",
       "<table border=\"1\" class=\"dataframe\">\n",
       "  <thead>\n",
       "    <tr style=\"text-align: right;\">\n",
       "      <th></th>\n",
       "      <th>PassengerId</th>\n",
       "      <th>Pclass</th>\n",
       "      <th>Name</th>\n",
       "      <th>Sex</th>\n",
       "      <th>Age</th>\n",
       "      <th>SibSp</th>\n",
       "      <th>Parch</th>\n",
       "      <th>Ticket</th>\n",
       "      <th>Fare</th>\n",
       "      <th>Cabin</th>\n",
       "      <th>Embarked</th>\n",
       "    </tr>\n",
       "  </thead>\n",
       "  <tbody>\n",
       "    <tr>\n",
       "      <th>0</th>\n",
       "      <td>892</td>\n",
       "      <td>3</td>\n",
       "      <td>Kelly, Mr. James</td>\n",
       "      <td>male</td>\n",
       "      <td>34.5</td>\n",
       "      <td>0</td>\n",
       "      <td>0</td>\n",
       "      <td>330911</td>\n",
       "      <td>7.8292</td>\n",
       "      <td>NaN</td>\n",
       "      <td>Q</td>\n",
       "    </tr>\n",
       "    <tr>\n",
       "      <th>1</th>\n",
       "      <td>893</td>\n",
       "      <td>3</td>\n",
       "      <td>Wilkes, Mrs. James (Ellen Needs)</td>\n",
       "      <td>female</td>\n",
       "      <td>47.0</td>\n",
       "      <td>1</td>\n",
       "      <td>0</td>\n",
       "      <td>363272</td>\n",
       "      <td>7.0000</td>\n",
       "      <td>NaN</td>\n",
       "      <td>S</td>\n",
       "    </tr>\n",
       "    <tr>\n",
       "      <th>2</th>\n",
       "      <td>894</td>\n",
       "      <td>2</td>\n",
       "      <td>Myles, Mr. Thomas Francis</td>\n",
       "      <td>male</td>\n",
       "      <td>62.0</td>\n",
       "      <td>0</td>\n",
       "      <td>0</td>\n",
       "      <td>240276</td>\n",
       "      <td>9.6875</td>\n",
       "      <td>NaN</td>\n",
       "      <td>Q</td>\n",
       "    </tr>\n",
       "    <tr>\n",
       "      <th>3</th>\n",
       "      <td>895</td>\n",
       "      <td>3</td>\n",
       "      <td>Wirz, Mr. Albert</td>\n",
       "      <td>male</td>\n",
       "      <td>27.0</td>\n",
       "      <td>0</td>\n",
       "      <td>0</td>\n",
       "      <td>315154</td>\n",
       "      <td>8.6625</td>\n",
       "      <td>NaN</td>\n",
       "      <td>S</td>\n",
       "    </tr>\n",
       "    <tr>\n",
       "      <th>4</th>\n",
       "      <td>896</td>\n",
       "      <td>3</td>\n",
       "      <td>Hirvonen, Mrs. Alexander (Helga E Lindqvist)</td>\n",
       "      <td>female</td>\n",
       "      <td>22.0</td>\n",
       "      <td>1</td>\n",
       "      <td>1</td>\n",
       "      <td>3101298</td>\n",
       "      <td>12.2875</td>\n",
       "      <td>NaN</td>\n",
       "      <td>S</td>\n",
       "    </tr>\n",
       "  </tbody>\n",
       "</table>\n",
       "</div>"
      ],
      "text/plain": [
       "   PassengerId  Pclass                                          Name     Sex  \\\n",
       "0          892       3                              Kelly, Mr. James    male   \n",
       "1          893       3              Wilkes, Mrs. James (Ellen Needs)  female   \n",
       "2          894       2                     Myles, Mr. Thomas Francis    male   \n",
       "3          895       3                              Wirz, Mr. Albert    male   \n",
       "4          896       3  Hirvonen, Mrs. Alexander (Helga E Lindqvist)  female   \n",
       "\n",
       "    Age  SibSp  Parch   Ticket     Fare Cabin Embarked  \n",
       "0  34.5      0      0   330911   7.8292   NaN        Q  \n",
       "1  47.0      1      0   363272   7.0000   NaN        S  \n",
       "2  62.0      0      0   240276   9.6875   NaN        Q  \n",
       "3  27.0      0      0   315154   8.6625   NaN        S  \n",
       "4  22.0      1      1  3101298  12.2875   NaN        S  "
      ]
     },
     "execution_count": 6,
     "metadata": {},
     "output_type": "execute_result"
    }
   ],
   "source": [
    "test_df.head()"
   ]
  },
  {
   "cell_type": "code",
   "execution_count": 7,
   "id": "3a51bdbf",
   "metadata": {
    "execution": {
     "iopub.execute_input": "2022-10-20T17:55:56.107827Z",
     "iopub.status.busy": "2022-10-20T17:55:56.107100Z",
     "iopub.status.idle": "2022-10-20T17:55:56.122707Z",
     "shell.execute_reply": "2022-10-20T17:55:56.121366Z"
    },
    "papermill": {
     "duration": 0.062313,
     "end_time": "2022-10-20T17:55:56.125468",
     "exception": false,
     "start_time": "2022-10-20T17:55:56.063155",
     "status": "completed"
    },
    "tags": []
   },
   "outputs": [],
   "source": [
    "train_df = train_df.drop(columns=['PassengerId'])\n",
    "test_id_col = test_df['PassengerId'].tolist()\n",
    "test_df = test_df.drop(columns=['PassengerId'])"
   ]
  },
  {
   "cell_type": "markdown",
   "id": "b8c9b65a",
   "metadata": {
    "papermill": {
     "duration": 0.041478,
     "end_time": "2022-10-20T17:55:56.208672",
     "exception": false,
     "start_time": "2022-10-20T17:55:56.167194",
     "status": "completed"
    },
    "tags": []
   },
   "source": [
    "## 2. Basic Data Preprocessing and EDA <a class=\"anchor\" id=\"preprocessing\"></a>"
   ]
  },
  {
   "cell_type": "markdown",
   "id": "cf1bdcfb",
   "metadata": {
    "papermill": {
     "duration": 0.041706,
     "end_time": "2022-10-20T17:55:56.292214",
     "exception": false,
     "start_time": "2022-10-20T17:55:56.250508",
     "status": "completed"
    },
    "tags": []
   },
   "source": [
    "### 2.1 Preprocessing of the Training Dataset <a class=\"anchor\" id=\"traindata\"></a>"
   ]
  },
  {
   "cell_type": "markdown",
   "id": "dbabb26c",
   "metadata": {
    "papermill": {
     "duration": 0.041861,
     "end_time": "2022-10-20T17:55:56.376229",
     "exception": false,
     "start_time": "2022-10-20T17:55:56.334368",
     "status": "completed"
    },
    "tags": []
   },
   "source": [
    "### 2.1.1 Numerical Features <a class=\"anchor\" id=\"trnum\"></a>  \n",
    "We separate numerical features from categorical in order to preprocess them separately."
   ]
  },
  {
   "cell_type": "code",
   "execution_count": 8,
   "id": "db52a495",
   "metadata": {
    "execution": {
     "iopub.execute_input": "2022-10-20T17:55:56.464395Z",
     "iopub.status.busy": "2022-10-20T17:55:56.463937Z",
     "iopub.status.idle": "2022-10-20T17:55:56.484636Z",
     "shell.execute_reply": "2022-10-20T17:55:56.483512Z"
    },
    "papermill": {
     "duration": 0.067909,
     "end_time": "2022-10-20T17:55:56.487108",
     "exception": false,
     "start_time": "2022-10-20T17:55:56.419199",
     "status": "completed"
    },
    "tags": []
   },
   "outputs": [
    {
     "data": {
      "text/html": [
       "<div>\n",
       "<style scoped>\n",
       "    .dataframe tbody tr th:only-of-type {\n",
       "        vertical-align: middle;\n",
       "    }\n",
       "\n",
       "    .dataframe tbody tr th {\n",
       "        vertical-align: top;\n",
       "    }\n",
       "\n",
       "    .dataframe thead th {\n",
       "        text-align: right;\n",
       "    }\n",
       "</style>\n",
       "<table border=\"1\" class=\"dataframe\">\n",
       "  <thead>\n",
       "    <tr style=\"text-align: right;\">\n",
       "      <th></th>\n",
       "      <th>Survived</th>\n",
       "      <th>Pclass</th>\n",
       "      <th>Age</th>\n",
       "      <th>SibSp</th>\n",
       "      <th>Parch</th>\n",
       "      <th>Fare</th>\n",
       "    </tr>\n",
       "  </thead>\n",
       "  <tbody>\n",
       "    <tr>\n",
       "      <th>0</th>\n",
       "      <td>0</td>\n",
       "      <td>3</td>\n",
       "      <td>22.0</td>\n",
       "      <td>1</td>\n",
       "      <td>0</td>\n",
       "      <td>7.2500</td>\n",
       "    </tr>\n",
       "    <tr>\n",
       "      <th>1</th>\n",
       "      <td>1</td>\n",
       "      <td>1</td>\n",
       "      <td>38.0</td>\n",
       "      <td>1</td>\n",
       "      <td>0</td>\n",
       "      <td>71.2833</td>\n",
       "    </tr>\n",
       "    <tr>\n",
       "      <th>2</th>\n",
       "      <td>1</td>\n",
       "      <td>3</td>\n",
       "      <td>26.0</td>\n",
       "      <td>0</td>\n",
       "      <td>0</td>\n",
       "      <td>7.9250</td>\n",
       "    </tr>\n",
       "    <tr>\n",
       "      <th>3</th>\n",
       "      <td>1</td>\n",
       "      <td>1</td>\n",
       "      <td>35.0</td>\n",
       "      <td>1</td>\n",
       "      <td>0</td>\n",
       "      <td>53.1000</td>\n",
       "    </tr>\n",
       "    <tr>\n",
       "      <th>4</th>\n",
       "      <td>0</td>\n",
       "      <td>3</td>\n",
       "      <td>35.0</td>\n",
       "      <td>0</td>\n",
       "      <td>0</td>\n",
       "      <td>8.0500</td>\n",
       "    </tr>\n",
       "  </tbody>\n",
       "</table>\n",
       "</div>"
      ],
      "text/plain": [
       "   Survived  Pclass   Age  SibSp  Parch     Fare\n",
       "0         0       3  22.0      1      0   7.2500\n",
       "1         1       1  38.0      1      0  71.2833\n",
       "2         1       3  26.0      0      0   7.9250\n",
       "3         1       1  35.0      1      0  53.1000\n",
       "4         0       3  35.0      0      0   8.0500"
      ]
     },
     "execution_count": 8,
     "metadata": {},
     "output_type": "execute_result"
    }
   ],
   "source": [
    "train_df_num = train_df.select_dtypes(include=[np.number])\n",
    "train_df = train_df.drop([col for col in train_df_num], axis = 1)\n",
    "train_df_num.head()"
   ]
  },
  {
   "cell_type": "markdown",
   "id": "30ada0c8",
   "metadata": {
    "papermill": {
     "duration": 0.043019,
     "end_time": "2022-10-20T17:55:56.572616",
     "exception": false,
     "start_time": "2022-10-20T17:55:56.529597",
     "status": "completed"
    },
    "tags": []
   },
   "source": [
    "#### Check for negative values"
   ]
  },
  {
   "cell_type": "code",
   "execution_count": 9,
   "id": "8f1cd87c",
   "metadata": {
    "execution": {
     "iopub.execute_input": "2022-10-20T17:55:56.660650Z",
     "iopub.status.busy": "2022-10-20T17:55:56.660188Z",
     "iopub.status.idle": "2022-10-20T17:55:56.668482Z",
     "shell.execute_reply": "2022-10-20T17:55:56.667486Z"
    },
    "papermill": {
     "duration": 0.055798,
     "end_time": "2022-10-20T17:55:56.671984",
     "exception": false,
     "start_time": "2022-10-20T17:55:56.616186",
     "status": "completed"
    },
    "tags": []
   },
   "outputs": [
    {
     "name": "stdout",
     "output_type": "stream",
     "text": [
      "Survived    False\n",
      "Pclass      False\n",
      "Age         False\n",
      "SibSp       False\n",
      "Parch       False\n",
      "Fare        False\n",
      "dtype: bool\n"
     ]
    }
   ],
   "source": [
    "print((train_df_num < 0).any())"
   ]
  },
  {
   "cell_type": "markdown",
   "id": "4f706a61",
   "metadata": {
    "papermill": {
     "duration": 0.043079,
     "end_time": "2022-10-20T17:55:56.758843",
     "exception": false,
     "start_time": "2022-10-20T17:55:56.715764",
     "status": "completed"
    },
    "tags": []
   },
   "source": [
    "#### 2.1.1.1 Missing values (NaNs) <a class=\"anchor\" id=\"nummisvals\"></a> \n",
    "Let's find all missing values (NaNs) in all columns and think about the proper way to deal with those values."
   ]
  },
  {
   "cell_type": "code",
   "execution_count": 10,
   "id": "408c57a3",
   "metadata": {
    "execution": {
     "iopub.execute_input": "2022-10-20T17:55:56.845870Z",
     "iopub.status.busy": "2022-10-20T17:55:56.845443Z",
     "iopub.status.idle": "2022-10-20T17:55:57.147461Z",
     "shell.execute_reply": "2022-10-20T17:55:57.146267Z"
    },
    "papermill": {
     "duration": 0.348854,
     "end_time": "2022-10-20T17:55:57.150097",
     "exception": false,
     "start_time": "2022-10-20T17:55:56.801243",
     "status": "completed"
    },
    "tags": []
   },
   "outputs": [
    {
     "data": {
      "image/png": "[encoded data removed]",
      "text/plain": [
       "<Figure size 864x504 with 1 Axes>"
      ]
     },
     "metadata": {},
     "output_type": "display_data"
    }
   ],
   "source": [
    "percent_missing_nans = train_df_num.isnull().sum() * 100 / len(train_df_num)\n",
    "nans = pd.DataFrame({'col_name': train_df_num.columns, 'percent_missing': percent_missing_nans})\n",
    "\n",
    "sns.set(rc={'figure.figsize':(12,7)})\n",
    "cols = list(nans['col_name'])\n",
    "percent = list(nans['percent_missing'])\n",
    "plt.gca().set_ylabel('% of NaN Values', fontsize = 12)\n",
    "plt.gca().set_xlabel('Column Name')\n",
    "plt.title('% of NaN values in numerical features', fontsize = 18)\n",
    "sns.barplot(x = cols, y = percent)\n",
    "plt.gca().set_xticklabels(plt.gca().get_xticklabels(), rotation = 65)\n",
    "plt.show()"
   ]
  },
  {
   "cell_type": "code",
   "execution_count": 11,
   "id": "08fdeed5",
   "metadata": {
    "execution": {
     "iopub.execute_input": "2022-10-20T17:55:57.238386Z",
     "iopub.status.busy": "2022-10-20T17:55:57.237212Z",
     "iopub.status.idle": "2022-10-20T17:55:57.250466Z",
     "shell.execute_reply": "2022-10-20T17:55:57.249219Z"
    },
    "papermill": {
     "duration": 0.060041,
     "end_time": "2022-10-20T17:55:57.252951",
     "exception": false,
     "start_time": "2022-10-20T17:55:57.192910",
     "status": "completed"
    },
    "tags": []
   },
   "outputs": [
    {
     "data": {
      "text/html": [
       "<div>\n",
       "<style scoped>\n",
       "    .dataframe tbody tr th:only-of-type {\n",
       "        vertical-align: middle;\n",
       "    }\n",
       "\n",
       "    .dataframe tbody tr th {\n",
       "        vertical-align: top;\n",
       "    }\n",
       "\n",
       "    .dataframe thead th {\n",
       "        text-align: right;\n",
       "    }\n",
       "</style>\n",
       "<table border=\"1\" class=\"dataframe\">\n",
       "  <thead>\n",
       "    <tr style=\"text-align: right;\">\n",
       "      <th></th>\n",
       "      <th>col_name</th>\n",
       "      <th>percent_missing</th>\n",
       "    </tr>\n",
       "  </thead>\n",
       "  <tbody>\n",
       "    <tr>\n",
       "      <th>2</th>\n",
       "      <td>Age</td>\n",
       "      <td>19.86532</td>\n",
       "    </tr>\n",
       "  </tbody>\n",
       "</table>\n",
       "</div>"
      ],
      "text/plain": [
       "  col_name  percent_missing\n",
       "2      Age         19.86532"
      ]
     },
     "execution_count": 11,
     "metadata": {},
     "output_type": "execute_result"
    }
   ],
   "source": [
    "nans = nans.reset_index(drop = True)\n",
    "missing_vals_cols = nans[nans['percent_missing'] != 0]\n",
    "missing_vals_cols"
   ]
  },
  {
   "cell_type": "code",
   "execution_count": 12,
   "id": "b774d9e9",
   "metadata": {
    "execution": {
     "iopub.execute_input": "2022-10-20T17:55:57.342311Z",
     "iopub.status.busy": "2022-10-20T17:55:57.341470Z",
     "iopub.status.idle": "2022-10-20T17:55:57.347904Z",
     "shell.execute_reply": "2022-10-20T17:55:57.346792Z"
    },
    "papermill": {
     "duration": 0.053962,
     "end_time": "2022-10-20T17:55:57.350677",
     "exception": false,
     "start_time": "2022-10-20T17:55:57.296715",
     "status": "completed"
    },
    "tags": []
   },
   "outputs": [],
   "source": [
    "# Full dataframe of both categorical and numerical features\n",
    "full_data_temp = pd.concat([train_df, train_df_num], axis = 1)"
   ]
  },
  {
   "cell_type": "markdown",
   "id": "49c64c45",
   "metadata": {
    "papermill": {
     "duration": 0.043211,
     "end_time": "2022-10-20T17:55:57.436985",
     "exception": false,
     "start_time": "2022-10-20T17:55:57.393774",
     "status": "completed"
    },
    "tags": []
   },
   "source": [
    "#### Age feature\n",
    "Age feature has about 20% of missing values. Let's see if those values are missing at random, or there is a pattern that we can recognize and use this information to impute those values."
   ]
  },
  {
   "cell_type": "code",
   "execution_count": 13,
   "id": "00b37fe9",
   "metadata": {
    "execution": {
     "iopub.execute_input": "2022-10-20T17:55:57.524945Z",
     "iopub.status.busy": "2022-10-20T17:55:57.524476Z",
     "iopub.status.idle": "2022-10-20T17:55:57.531034Z",
     "shell.execute_reply": "2022-10-20T17:55:57.530077Z"
    },
    "papermill": {
     "duration": 0.053422,
     "end_time": "2022-10-20T17:55:57.533316",
     "exception": false,
     "start_time": "2022-10-20T17:55:57.479894",
     "status": "completed"
    },
    "tags": []
   },
   "outputs": [],
   "source": [
    "age_missed = full_data_temp[full_data_temp['Age'].isnull()]"
   ]
  },
  {
   "cell_type": "code",
   "execution_count": 14,
   "id": "84f7e3cb",
   "metadata": {
    "execution": {
     "iopub.execute_input": "2022-10-20T17:55:57.623324Z",
     "iopub.status.busy": "2022-10-20T17:55:57.622190Z",
     "iopub.status.idle": "2022-10-20T17:55:57.646105Z",
     "shell.execute_reply": "2022-10-20T17:55:57.644939Z"
    },
    "papermill": {
     "duration": 0.071945,
     "end_time": "2022-10-20T17:55:57.648947",
     "exception": false,
     "start_time": "2022-10-20T17:55:57.577002",
     "status": "completed"
    },
    "tags": []
   },
   "outputs": [
    {
     "data": {
      "text/html": [
       "<div>\n",
       "<style scoped>\n",
       "    .dataframe tbody tr th:only-of-type {\n",
       "        vertical-align: middle;\n",
       "    }\n",
       "\n",
       "    .dataframe tbody tr th {\n",
       "        vertical-align: top;\n",
       "    }\n",
       "\n",
       "    .dataframe thead th {\n",
       "        text-align: right;\n",
       "    }\n",
       "</style>\n",
       "<table border=\"1\" class=\"dataframe\">\n",
       "  <thead>\n",
       "    <tr style=\"text-align: right;\">\n",
       "      <th></th>\n",
       "      <th>Name</th>\n",
       "      <th>Sex</th>\n",
       "      <th>Ticket</th>\n",
       "      <th>Cabin</th>\n",
       "      <th>Embarked</th>\n",
       "      <th>Survived</th>\n",
       "      <th>Pclass</th>\n",
       "      <th>Age</th>\n",
       "      <th>SibSp</th>\n",
       "      <th>Parch</th>\n",
       "      <th>Fare</th>\n",
       "    </tr>\n",
       "  </thead>\n",
       "  <tbody>\n",
       "    <tr>\n",
       "      <th>5</th>\n",
       "      <td>Moran, Mr. James</td>\n",
       "      <td>male</td>\n",
       "      <td>330877</td>\n",
       "      <td>NaN</td>\n",
       "      <td>Q</td>\n",
       "      <td>0</td>\n",
       "      <td>3</td>\n",
       "      <td>NaN</td>\n",
       "      <td>0</td>\n",
       "      <td>0</td>\n",
       "      <td>8.4583</td>\n",
       "    </tr>\n",
       "    <tr>\n",
       "      <th>17</th>\n",
       "      <td>Williams, Mr. Charles Eugene</td>\n",
       "      <td>male</td>\n",
       "      <td>244373</td>\n",
       "      <td>NaN</td>\n",
       "      <td>S</td>\n",
       "      <td>1</td>\n",
       "      <td>2</td>\n",
       "      <td>NaN</td>\n",
       "      <td>0</td>\n",
       "      <td>0</td>\n",
       "      <td>13.0000</td>\n",
       "    </tr>\n",
       "    <tr>\n",
       "      <th>19</th>\n",
       "      <td>Masselmani, Mrs. Fatima</td>\n",
       "      <td>female</td>\n",
       "      <td>2649</td>\n",
       "      <td>NaN</td>\n",
       "      <td>C</td>\n",
       "      <td>1</td>\n",
       "      <td>3</td>\n",
       "      <td>NaN</td>\n",
       "      <td>0</td>\n",
       "      <td>0</td>\n",
       "      <td>7.2250</td>\n",
       "    </tr>\n",
       "    <tr>\n",
       "      <th>26</th>\n",
       "      <td>Emir, Mr. Farred Chehab</td>\n",
       "      <td>male</td>\n",
       "      <td>2631</td>\n",
       "      <td>NaN</td>\n",
       "      <td>C</td>\n",
       "      <td>0</td>\n",
       "      <td>3</td>\n",
       "      <td>NaN</td>\n",
       "      <td>0</td>\n",
       "      <td>0</td>\n",
       "      <td>7.2250</td>\n",
       "    </tr>\n",
       "    <tr>\n",
       "      <th>28</th>\n",
       "      <td>O'Dwyer, Miss. Ellen \"Nellie\"</td>\n",
       "      <td>female</td>\n",
       "      <td>330959</td>\n",
       "      <td>NaN</td>\n",
       "      <td>Q</td>\n",
       "      <td>1</td>\n",
       "      <td>3</td>\n",
       "      <td>NaN</td>\n",
       "      <td>0</td>\n",
       "      <td>0</td>\n",
       "      <td>7.8792</td>\n",
       "    </tr>\n",
       "    <tr>\n",
       "      <th>...</th>\n",
       "      <td>...</td>\n",
       "      <td>...</td>\n",
       "      <td>...</td>\n",
       "      <td>...</td>\n",
       "      <td>...</td>\n",
       "      <td>...</td>\n",
       "      <td>...</td>\n",
       "      <td>...</td>\n",
       "      <td>...</td>\n",
       "      <td>...</td>\n",
       "      <td>...</td>\n",
       "    </tr>\n",
       "    <tr>\n",
       "      <th>859</th>\n",
       "      <td>Razi, Mr. Raihed</td>\n",
       "      <td>male</td>\n",
       "      <td>2629</td>\n",
       "      <td>NaN</td>\n",
       "      <td>C</td>\n",
       "      <td>0</td>\n",
       "      <td>3</td>\n",
       "      <td>NaN</td>\n",
       "      <td>0</td>\n",
       "      <td>0</td>\n",
       "      <td>7.2292</td>\n",
       "    </tr>\n",
       "    <tr>\n",
       "      <th>863</th>\n",
       "      <td>Sage, Miss. Dorothy Edith \"Dolly\"</td>\n",
       "      <td>female</td>\n",
       "      <td>CA. 2343</td>\n",
       "      <td>NaN</td>\n",
       "      <td>S</td>\n",
       "      <td>0</td>\n",
       "      <td>3</td>\n",
       "      <td>NaN</td>\n",
       "      <td>8</td>\n",
       "      <td>2</td>\n",
       "      <td>69.5500</td>\n",
       "    </tr>\n",
       "    <tr>\n",
       "      <th>868</th>\n",
       "      <td>van Melkebeke, Mr. Philemon</td>\n",
       "      <td>male</td>\n",
       "      <td>345777</td>\n",
       "      <td>NaN</td>\n",
       "      <td>S</td>\n",
       "      <td>0</td>\n",
       "      <td>3</td>\n",
       "      <td>NaN</td>\n",
       "      <td>0</td>\n",
       "      <td>0</td>\n",
       "      <td>9.5000</td>\n",
       "    </tr>\n",
       "    <tr>\n",
       "      <th>878</th>\n",
       "      <td>Laleff, Mr. Kristo</td>\n",
       "      <td>male</td>\n",
       "      <td>349217</td>\n",
       "      <td>NaN</td>\n",
       "      <td>S</td>\n",
       "      <td>0</td>\n",
       "      <td>3</td>\n",
       "      <td>NaN</td>\n",
       "      <td>0</td>\n",
       "      <td>0</td>\n",
       "      <td>7.8958</td>\n",
       "    </tr>\n",
       "    <tr>\n",
       "      <th>888</th>\n",
       "      <td>Johnston, Miss. Catherine Helen \"Carrie\"</td>\n",
       "      <td>female</td>\n",
       "      <td>W./C. 6607</td>\n",
       "      <td>NaN</td>\n",
       "      <td>S</td>\n",
       "      <td>0</td>\n",
       "      <td>3</td>\n",
       "      <td>NaN</td>\n",
       "      <td>1</td>\n",
       "      <td>2</td>\n",
       "      <td>23.4500</td>\n",
       "    </tr>\n",
       "  </tbody>\n",
       "</table>\n",
       "<p>177 rows × 11 columns</p>\n",
       "</div>"
      ],
      "text/plain": [
       "                                         Name     Sex      Ticket Cabin  \\\n",
       "5                            Moran, Mr. James    male      330877   NaN   \n",
       "17               Williams, Mr. Charles Eugene    male      244373   NaN   \n",
       "19                    Masselmani, Mrs. Fatima  female        2649   NaN   \n",
       "26                    Emir, Mr. Farred Chehab    male        2631   NaN   \n",
       "28              O'Dwyer, Miss. Ellen \"Nellie\"  female      330959   NaN   \n",
       "..                                        ...     ...         ...   ...   \n",
       "859                          Razi, Mr. Raihed    male        2629   NaN   \n",
       "863         Sage, Miss. Dorothy Edith \"Dolly\"  female    CA. 2343   NaN   \n",
       "868               van Melkebeke, Mr. Philemon    male      345777   NaN   \n",
       "878                        Laleff, Mr. Kristo    male      349217   NaN   \n",
       "888  Johnston, Miss. Catherine Helen \"Carrie\"  female  W./C. 6607   NaN   \n",
       "\n",
       "    Embarked  Survived  Pclass  Age  SibSp  Parch     Fare  \n",
       "5          Q         0       3  NaN      0      0   8.4583  \n",
       "17         S         1       2  NaN      0      0  13.0000  \n",
       "19         C         1       3  NaN      0      0   7.2250  \n",
       "26         C         0       3  NaN      0      0   7.2250  \n",
       "28         Q         1       3  NaN      0      0   7.8792  \n",
       "..       ...       ...     ...  ...    ...    ...      ...  \n",
       "859        C         0       3  NaN      0      0   7.2292  \n",
       "863        S         0       3  NaN      8      2  69.5500  \n",
       "868        S         0       3  NaN      0      0   9.5000  \n",
       "878        S         0       3  NaN      0      0   7.8958  \n",
       "888        S         0       3  NaN      1      2  23.4500  \n",
       "\n",
       "[177 rows x 11 columns]"
      ]
     },
     "execution_count": 14,
     "metadata": {},
     "output_type": "execute_result"
    }
   ],
   "source": [
    "age_missed"
   ]
  },
  {
   "cell_type": "markdown",
   "id": "1ee643bd",
   "metadata": {
    "papermill": {
     "duration": 0.044765,
     "end_time": "2022-10-20T17:55:57.737816",
     "exception": false,
     "start_time": "2022-10-20T17:55:57.693051",
     "status": "completed"
    },
    "tags": []
   },
   "source": [
    "Looks like values in Age are missing at random, so we can't really use logic here impute those values. We can try to fill them using KNN and MICE and see if this will change the original distribution of the Age data. If it won't then we will stick with one of these imputation methods and continue preprocessing. Otherwise, we will need to drop the feature."
   ]
  },
  {
   "cell_type": "markdown",
   "id": "0ef93da8",
   "metadata": {
    "papermill": {
     "duration": 0.043516,
     "end_time": "2022-10-20T17:55:57.826196",
     "exception": false,
     "start_time": "2022-10-20T17:55:57.782680",
     "status": "completed"
    },
    "tags": []
   },
   "source": [
    "#### KNN imputation\n",
    "KNN imputation is a technique based on the K-Nearest Neighbours algorithm to find similarities across columns.  \n",
    "We apply KNN imputation to the whole dataset as this is the only possible way to use KNN. Therefore, we expect the imputation method to fill all NaNs in all columns, but we are interested in Age only. "
   ]
  },
  {
   "cell_type": "code",
   "execution_count": 15,
   "id": "f7b2e72d",
   "metadata": {
    "execution": {
     "iopub.execute_input": "2022-10-20T17:55:57.916064Z",
     "iopub.status.busy": "2022-10-20T17:55:57.915647Z",
     "iopub.status.idle": "2022-10-20T17:55:57.943928Z",
     "shell.execute_reply": "2022-10-20T17:55:57.942623Z"
    },
    "papermill": {
     "duration": 0.077801,
     "end_time": "2022-10-20T17:55:57.947481",
     "exception": false,
     "start_time": "2022-10-20T17:55:57.869680",
     "status": "completed"
    },
    "tags": []
   },
   "outputs": [],
   "source": [
    "imputer = KNNImputer(n_neighbors = 5, weights='distance', metric='nan_euclidean')\n",
    "train_features_imputed = pd.DataFrame(imputer.fit_transform(train_df_num.loc[:, train_df_num.columns != 'Survived']))\n",
    "train_features_imputed.columns = train_df_num.loc[:, train_df_num.columns != 'Survived'].columns"
   ]
  },
  {
   "cell_type": "code",
   "execution_count": 16,
   "id": "4d9c2bfc",
   "metadata": {
    "execution": {
     "iopub.execute_input": "2022-10-20T17:55:58.076646Z",
     "iopub.status.busy": "2022-10-20T17:55:58.076184Z",
     "iopub.status.idle": "2022-10-20T17:55:58.520898Z",
     "shell.execute_reply": "2022-10-20T17:55:58.519341Z"
    },
    "papermill": {
     "duration": 0.50566,
     "end_time": "2022-10-20T17:55:58.523871",
     "exception": false,
     "start_time": "2022-10-20T17:55:58.018211",
     "status": "completed"
    },
    "tags": []
   },
   "outputs": [
    {
     "data": {
      "image/png": "[encoded data removed]",
      "text/plain": [
       "<Figure size 1008x504 with 1 Axes>"
      ]
     },
     "metadata": {},
     "output_type": "display_data"
    }
   ],
   "source": [
    "sns.set(rc={\"figure.figsize\": (14, 7)})\n",
    "sns.histplot(x = train_df_num['Age'], kde = True, bins = 30, color = 'deeppink', alpha = 1)\n",
    "sns.histplot(x = train_features_imputed['Age'], kde = True, bins = 30, color = 'dodgerblue', alpha = 0.8)\n",
    "plt.show()"
   ]
  },
  {
   "cell_type": "markdown",
   "id": "7ebcbe64",
   "metadata": {
    "papermill": {
     "duration": 0.04601,
     "end_time": "2022-10-20T17:55:58.615333",
     "exception": false,
     "start_time": "2022-10-20T17:55:58.569323",
     "status": "completed"
    },
    "tags": []
   },
   "source": [
    "MICE imputation is a Multivariate Imputation by the Chained Equations iterative data imputation method. In this algorithm, a chain of regression equations is used to obtain imputations, which means that variables with missing data are imputed one by one."
   ]
  },
  {
   "cell_type": "code",
   "execution_count": 17,
   "id": "90857436",
   "metadata": {
    "execution": {
     "iopub.execute_input": "2022-10-20T17:55:58.705894Z",
     "iopub.status.busy": "2022-10-20T17:55:58.705147Z",
     "iopub.status.idle": "2022-10-20T17:55:58.739982Z",
     "shell.execute_reply": "2022-10-20T17:55:58.738608Z"
    },
    "papermill": {
     "duration": 0.084095,
     "end_time": "2022-10-20T17:55:58.743056",
     "exception": false,
     "start_time": "2022-10-20T17:55:58.658961",
     "status": "completed"
    },
    "tags": []
   },
   "outputs": [
    {
     "name": "stdout",
     "output_type": "stream",
     "text": [
      "[IterativeImputer] Completing matrix with shape (891, 5)\n",
      "[IterativeImputer] Ending imputation round 1/10, elapsed time 0.02\n",
      "[IterativeImputer] Change: 36.39923585239786, scaled tolerance: 0.5123292 \n",
      "[IterativeImputer] Ending imputation round 2/10, elapsed time 0.02\n",
      "[IterativeImputer] Change: 0.0, scaled tolerance: 0.5123292 \n",
      "[IterativeImputer] Early stopping criterion reached.\n"
     ]
    }
   ],
   "source": [
    "lr = LinearRegression()\n",
    "imputer = IterativeImputer(estimator = lr, missing_values = np.nan, max_iter = 10, verbose = 2, imputation_order = 'roman', random_state = 0)\n",
    "train_features_imputed = pd.DataFrame(imputer.fit_transform(train_df_num.loc[:, train_df_num.columns != 'Survived']), columns = train_features_imputed.columns)\n",
    "train_features_imputed.columns = train_df_num.loc[:, train_df_num.columns != 'Survived'].columns"
   ]
  },
  {
   "cell_type": "code",
   "execution_count": 18,
   "id": "23abeb3d",
   "metadata": {
    "execution": {
     "iopub.execute_input": "2022-10-20T17:55:58.834130Z",
     "iopub.status.busy": "2022-10-20T17:55:58.833684Z",
     "iopub.status.idle": "2022-10-20T17:55:59.244464Z",
     "shell.execute_reply": "2022-10-20T17:55:59.243168Z"
    },
    "papermill": {
     "duration": 0.459526,
     "end_time": "2022-10-20T17:55:59.247129",
     "exception": false,
     "start_time": "2022-10-20T17:55:58.787603",
     "status": "completed"
    },
    "tags": []
   },
   "outputs": [
    {
     "data": {
      "image/png": "[encoded data removed]",
      "text/plain": [
       "<Figure size 1008x504 with 1 Axes>"
      ]
     },
     "metadata": {},
     "output_type": "display_data"
    }
   ],
   "source": [
    "sns.set(rc={\"figure.figsize\": (14, 7)})\n",
    "sns.histplot(x = train_df_num['Age'], kde = True, bins = 30, color = 'deeppink', alpha = 1)\n",
    "sns.histplot(x = train_features_imputed['Age'], kde = True, bins = 30, color = 'dodgerblue', alpha = 0.8)\n",
    "plt.show()"
   ]
  },
  {
   "cell_type": "markdown",
   "id": "b8a4c5af",
   "metadata": {
    "papermill": {
     "duration": 0.045284,
     "end_time": "2022-10-20T17:55:59.337763",
     "exception": false,
     "start_time": "2022-10-20T17:55:59.292479",
     "status": "completed"
    },
    "tags": []
   },
   "source": [
    "We can see that after applying KNN first and then MICE imputation, the distribution of Age has changed a lot. Therefore, we won't consider Age as a predictor since we could not fix the missing values."
   ]
  },
  {
   "cell_type": "code",
   "execution_count": 19,
   "id": "edf09402",
   "metadata": {
    "execution": {
     "iopub.execute_input": "2022-10-20T17:55:59.429810Z",
     "iopub.status.busy": "2022-10-20T17:55:59.428771Z",
     "iopub.status.idle": "2022-10-20T17:55:59.435504Z",
     "shell.execute_reply": "2022-10-20T17:55:59.434548Z"
    },
    "papermill": {
     "duration": 0.054806,
     "end_time": "2022-10-20T17:55:59.437801",
     "exception": false,
     "start_time": "2022-10-20T17:55:59.382995",
     "status": "completed"
    },
    "tags": []
   },
   "outputs": [],
   "source": [
    "train_df_num = train_df_num.drop(columns=['Age'])"
   ]
  },
  {
   "cell_type": "code",
   "execution_count": 20,
   "id": "6dcae19d",
   "metadata": {
    "execution": {
     "iopub.execute_input": "2022-10-20T17:55:59.529693Z",
     "iopub.status.busy": "2022-10-20T17:55:59.528976Z",
     "iopub.status.idle": "2022-10-20T17:55:59.540184Z",
     "shell.execute_reply": "2022-10-20T17:55:59.539043Z"
    },
    "papermill": {
     "duration": 0.060103,
     "end_time": "2022-10-20T17:55:59.542593",
     "exception": false,
     "start_time": "2022-10-20T17:55:59.482490",
     "status": "completed"
    },
    "tags": []
   },
   "outputs": [
    {
     "data": {
      "text/html": [
       "<div>\n",
       "<style scoped>\n",
       "    .dataframe tbody tr th:only-of-type {\n",
       "        vertical-align: middle;\n",
       "    }\n",
       "\n",
       "    .dataframe tbody tr th {\n",
       "        vertical-align: top;\n",
       "    }\n",
       "\n",
       "    .dataframe thead th {\n",
       "        text-align: right;\n",
       "    }\n",
       "</style>\n",
       "<table border=\"1\" class=\"dataframe\">\n",
       "  <thead>\n",
       "    <tr style=\"text-align: right;\">\n",
       "      <th></th>\n",
       "      <th>Survived</th>\n",
       "      <th>Pclass</th>\n",
       "      <th>SibSp</th>\n",
       "      <th>Parch</th>\n",
       "      <th>Fare</th>\n",
       "    </tr>\n",
       "  </thead>\n",
       "  <tbody>\n",
       "    <tr>\n",
       "      <th>0</th>\n",
       "      <td>0</td>\n",
       "      <td>3</td>\n",
       "      <td>1</td>\n",
       "      <td>0</td>\n",
       "      <td>7.2500</td>\n",
       "    </tr>\n",
       "    <tr>\n",
       "      <th>1</th>\n",
       "      <td>1</td>\n",
       "      <td>1</td>\n",
       "      <td>1</td>\n",
       "      <td>0</td>\n",
       "      <td>71.2833</td>\n",
       "    </tr>\n",
       "    <tr>\n",
       "      <th>2</th>\n",
       "      <td>1</td>\n",
       "      <td>3</td>\n",
       "      <td>0</td>\n",
       "      <td>0</td>\n",
       "      <td>7.9250</td>\n",
       "    </tr>\n",
       "    <tr>\n",
       "      <th>3</th>\n",
       "      <td>1</td>\n",
       "      <td>1</td>\n",
       "      <td>1</td>\n",
       "      <td>0</td>\n",
       "      <td>53.1000</td>\n",
       "    </tr>\n",
       "    <tr>\n",
       "      <th>4</th>\n",
       "      <td>0</td>\n",
       "      <td>3</td>\n",
       "      <td>0</td>\n",
       "      <td>0</td>\n",
       "      <td>8.0500</td>\n",
       "    </tr>\n",
       "  </tbody>\n",
       "</table>\n",
       "</div>"
      ],
      "text/plain": [
       "   Survived  Pclass  SibSp  Parch     Fare\n",
       "0         0       3      1      0   7.2500\n",
       "1         1       1      1      0  71.2833\n",
       "2         1       3      0      0   7.9250\n",
       "3         1       1      1      0  53.1000\n",
       "4         0       3      0      0   8.0500"
      ]
     },
     "execution_count": 20,
     "metadata": {},
     "output_type": "execute_result"
    }
   ],
   "source": [
    "train_df_num.head()"
   ]
  },
  {
   "cell_type": "code",
   "execution_count": 21,
   "id": "6745cd10",
   "metadata": {
    "execution": {
     "iopub.execute_input": "2022-10-20T17:55:59.637171Z",
     "iopub.status.busy": "2022-10-20T17:55:59.636725Z",
     "iopub.status.idle": "2022-10-20T17:55:59.660151Z",
     "shell.execute_reply": "2022-10-20T17:55:59.658838Z"
    },
    "papermill": {
     "duration": 0.075382,
     "end_time": "2022-10-20T17:55:59.662741",
     "exception": false,
     "start_time": "2022-10-20T17:55:59.587359",
     "status": "completed"
    },
    "tags": []
   },
   "outputs": [
    {
     "data": {
      "text/html": [
       "<div>\n",
       "<style scoped>\n",
       "    .dataframe tbody tr th:only-of-type {\n",
       "        vertical-align: middle;\n",
       "    }\n",
       "\n",
       "    .dataframe tbody tr th {\n",
       "        vertical-align: top;\n",
       "    }\n",
       "\n",
       "    .dataframe thead th {\n",
       "        text-align: right;\n",
       "    }\n",
       "</style>\n",
       "<table border=\"1\" class=\"dataframe\">\n",
       "  <thead>\n",
       "    <tr style=\"text-align: right;\">\n",
       "      <th></th>\n",
       "      <th>Name</th>\n",
       "      <th>Sex</th>\n",
       "      <th>Ticket</th>\n",
       "      <th>Cabin</th>\n",
       "      <th>Embarked</th>\n",
       "      <th>Survived</th>\n",
       "      <th>Pclass</th>\n",
       "      <th>Age</th>\n",
       "      <th>SibSp</th>\n",
       "      <th>Parch</th>\n",
       "      <th>Fare</th>\n",
       "    </tr>\n",
       "  </thead>\n",
       "  <tbody>\n",
       "    <tr>\n",
       "      <th>0</th>\n",
       "      <td>Braund, Mr. Owen Harris</td>\n",
       "      <td>male</td>\n",
       "      <td>A/5 21171</td>\n",
       "      <td>NaN</td>\n",
       "      <td>S</td>\n",
       "      <td>0</td>\n",
       "      <td>3</td>\n",
       "      <td>22.0</td>\n",
       "      <td>1</td>\n",
       "      <td>0</td>\n",
       "      <td>7.2500</td>\n",
       "    </tr>\n",
       "    <tr>\n",
       "      <th>1</th>\n",
       "      <td>Cumings, Mrs. John Bradley (Florence Briggs Th...</td>\n",
       "      <td>female</td>\n",
       "      <td>PC 17599</td>\n",
       "      <td>C85</td>\n",
       "      <td>C</td>\n",
       "      <td>1</td>\n",
       "      <td>1</td>\n",
       "      <td>38.0</td>\n",
       "      <td>1</td>\n",
       "      <td>0</td>\n",
       "      <td>71.2833</td>\n",
       "    </tr>\n",
       "    <tr>\n",
       "      <th>2</th>\n",
       "      <td>Heikkinen, Miss. Laina</td>\n",
       "      <td>female</td>\n",
       "      <td>STON/O2. 3101282</td>\n",
       "      <td>NaN</td>\n",
       "      <td>S</td>\n",
       "      <td>1</td>\n",
       "      <td>3</td>\n",
       "      <td>26.0</td>\n",
       "      <td>0</td>\n",
       "      <td>0</td>\n",
       "      <td>7.9250</td>\n",
       "    </tr>\n",
       "    <tr>\n",
       "      <th>3</th>\n",
       "      <td>Futrelle, Mrs. Jacques Heath (Lily May Peel)</td>\n",
       "      <td>female</td>\n",
       "      <td>113803</td>\n",
       "      <td>C123</td>\n",
       "      <td>S</td>\n",
       "      <td>1</td>\n",
       "      <td>1</td>\n",
       "      <td>35.0</td>\n",
       "      <td>1</td>\n",
       "      <td>0</td>\n",
       "      <td>53.1000</td>\n",
       "    </tr>\n",
       "    <tr>\n",
       "      <th>4</th>\n",
       "      <td>Allen, Mr. William Henry</td>\n",
       "      <td>male</td>\n",
       "      <td>373450</td>\n",
       "      <td>NaN</td>\n",
       "      <td>S</td>\n",
       "      <td>0</td>\n",
       "      <td>3</td>\n",
       "      <td>35.0</td>\n",
       "      <td>0</td>\n",
       "      <td>0</td>\n",
       "      <td>8.0500</td>\n",
       "    </tr>\n",
       "    <tr>\n",
       "      <th>...</th>\n",
       "      <td>...</td>\n",
       "      <td>...</td>\n",
       "      <td>...</td>\n",
       "      <td>...</td>\n",
       "      <td>...</td>\n",
       "      <td>...</td>\n",
       "      <td>...</td>\n",
       "      <td>...</td>\n",
       "      <td>...</td>\n",
       "      <td>...</td>\n",
       "      <td>...</td>\n",
       "    </tr>\n",
       "    <tr>\n",
       "      <th>885</th>\n",
       "      <td>Rice, Mrs. William (Margaret Norton)</td>\n",
       "      <td>female</td>\n",
       "      <td>382652</td>\n",
       "      <td>NaN</td>\n",
       "      <td>Q</td>\n",
       "      <td>0</td>\n",
       "      <td>3</td>\n",
       "      <td>39.0</td>\n",
       "      <td>0</td>\n",
       "      <td>5</td>\n",
       "      <td>29.1250</td>\n",
       "    </tr>\n",
       "    <tr>\n",
       "      <th>886</th>\n",
       "      <td>Montvila, Rev. Juozas</td>\n",
       "      <td>male</td>\n",
       "      <td>211536</td>\n",
       "      <td>NaN</td>\n",
       "      <td>S</td>\n",
       "      <td>0</td>\n",
       "      <td>2</td>\n",
       "      <td>27.0</td>\n",
       "      <td>0</td>\n",
       "      <td>0</td>\n",
       "      <td>13.0000</td>\n",
       "    </tr>\n",
       "    <tr>\n",
       "      <th>887</th>\n",
       "      <td>Graham, Miss. Margaret Edith</td>\n",
       "      <td>female</td>\n",
       "      <td>112053</td>\n",
       "      <td>B42</td>\n",
       "      <td>S</td>\n",
       "      <td>1</td>\n",
       "      <td>1</td>\n",
       "      <td>19.0</td>\n",
       "      <td>0</td>\n",
       "      <td>0</td>\n",
       "      <td>30.0000</td>\n",
       "    </tr>\n",
       "    <tr>\n",
       "      <th>889</th>\n",
       "      <td>Behr, Mr. Karl Howell</td>\n",
       "      <td>male</td>\n",
       "      <td>111369</td>\n",
       "      <td>C148</td>\n",
       "      <td>C</td>\n",
       "      <td>1</td>\n",
       "      <td>1</td>\n",
       "      <td>26.0</td>\n",
       "      <td>0</td>\n",
       "      <td>0</td>\n",
       "      <td>30.0000</td>\n",
       "    </tr>\n",
       "    <tr>\n",
       "      <th>890</th>\n",
       "      <td>Dooley, Mr. Patrick</td>\n",
       "      <td>male</td>\n",
       "      <td>370376</td>\n",
       "      <td>NaN</td>\n",
       "      <td>Q</td>\n",
       "      <td>0</td>\n",
       "      <td>3</td>\n",
       "      <td>32.0</td>\n",
       "      <td>0</td>\n",
       "      <td>0</td>\n",
       "      <td>7.7500</td>\n",
       "    </tr>\n",
       "  </tbody>\n",
       "</table>\n",
       "<p>714 rows × 11 columns</p>\n",
       "</div>"
      ],
      "text/plain": [
       "                                                  Name     Sex  \\\n",
       "0                              Braund, Mr. Owen Harris    male   \n",
       "1    Cumings, Mrs. John Bradley (Florence Briggs Th...  female   \n",
       "2                               Heikkinen, Miss. Laina  female   \n",
       "3         Futrelle, Mrs. Jacques Heath (Lily May Peel)  female   \n",
       "4                             Allen, Mr. William Henry    male   \n",
       "..                                                 ...     ...   \n",
       "885               Rice, Mrs. William (Margaret Norton)  female   \n",
       "886                              Montvila, Rev. Juozas    male   \n",
       "887                       Graham, Miss. Margaret Edith  female   \n",
       "889                              Behr, Mr. Karl Howell    male   \n",
       "890                                Dooley, Mr. Patrick    male   \n",
       "\n",
       "               Ticket Cabin Embarked  Survived  Pclass   Age  SibSp  Parch  \\\n",
       "0           A/5 21171   NaN        S         0       3  22.0      1      0   \n",
       "1            PC 17599   C85        C         1       1  38.0      1      0   \n",
       "2    STON/O2. 3101282   NaN        S         1       3  26.0      0      0   \n",
       "3              113803  C123        S         1       1  35.0      1      0   \n",
       "4              373450   NaN        S         0       3  35.0      0      0   \n",
       "..                ...   ...      ...       ...     ...   ...    ...    ...   \n",
       "885            382652   NaN        Q         0       3  39.0      0      5   \n",
       "886            211536   NaN        S         0       2  27.0      0      0   \n",
       "887            112053   B42        S         1       1  19.0      0      0   \n",
       "889            111369  C148        C         1       1  26.0      0      0   \n",
       "890            370376   NaN        Q         0       3  32.0      0      0   \n",
       "\n",
       "        Fare  \n",
       "0     7.2500  \n",
       "1    71.2833  \n",
       "2     7.9250  \n",
       "3    53.1000  \n",
       "4     8.0500  \n",
       "..       ...  \n",
       "885  29.1250  \n",
       "886  13.0000  \n",
       "887  30.0000  \n",
       "889  30.0000  \n",
       "890   7.7500  \n",
       "\n",
       "[714 rows x 11 columns]"
      ]
     },
     "execution_count": 21,
     "metadata": {},
     "output_type": "execute_result"
    }
   ],
   "source": [
    "train_df_reduced = full_data_temp[full_data_temp['Age'].notna()]\n",
    "train_df_reduced"
   ]
  },
  {
   "cell_type": "markdown",
   "id": "b75f87b8",
   "metadata": {
    "papermill": {
     "duration": 0.045567,
     "end_time": "2022-10-20T17:55:59.753852",
     "exception": false,
     "start_time": "2022-10-20T17:55:59.708285",
     "status": "completed"
    },
    "tags": []
   },
   "source": [
    "Let's check again if we eliminated all NaNs in numerical columns in our reduced training dataset."
   ]
  },
  {
   "cell_type": "code",
   "execution_count": 22,
   "id": "5cd56dfb",
   "metadata": {
    "execution": {
     "iopub.execute_input": "2022-10-20T17:55:59.846246Z",
     "iopub.status.busy": "2022-10-20T17:55:59.845813Z",
     "iopub.status.idle": "2022-10-20T17:55:59.863929Z",
     "shell.execute_reply": "2022-10-20T17:55:59.862623Z"
    },
    "papermill": {
     "duration": 0.067508,
     "end_time": "2022-10-20T17:55:59.866560",
     "exception": false,
     "start_time": "2022-10-20T17:55:59.799052",
     "status": "completed"
    },
    "tags": []
   },
   "outputs": [
    {
     "data": {
      "text/html": [
       "<div>\n",
       "<style scoped>\n",
       "    .dataframe tbody tr th:only-of-type {\n",
       "        vertical-align: middle;\n",
       "    }\n",
       "\n",
       "    .dataframe tbody tr th {\n",
       "        vertical-align: top;\n",
       "    }\n",
       "\n",
       "    .dataframe thead th {\n",
       "        text-align: right;\n",
       "    }\n",
       "</style>\n",
       "<table border=\"1\" class=\"dataframe\">\n",
       "  <thead>\n",
       "    <tr style=\"text-align: right;\">\n",
       "      <th></th>\n",
       "      <th>col_name</th>\n",
       "      <th>percent_missing</th>\n",
       "    </tr>\n",
       "  </thead>\n",
       "  <tbody>\n",
       "    <tr>\n",
       "      <th>3</th>\n",
       "      <td>Cabin</td>\n",
       "      <td>74.089636</td>\n",
       "    </tr>\n",
       "    <tr>\n",
       "      <th>4</th>\n",
       "      <td>Embarked</td>\n",
       "      <td>0.280112</td>\n",
       "    </tr>\n",
       "  </tbody>\n",
       "</table>\n",
       "</div>"
      ],
      "text/plain": [
       "   col_name  percent_missing\n",
       "3     Cabin        74.089636\n",
       "4  Embarked         0.280112"
      ]
     },
     "execution_count": 22,
     "metadata": {},
     "output_type": "execute_result"
    }
   ],
   "source": [
    "percent_missing_nans = train_df_reduced.isnull().sum() * 100 / len(train_df_reduced)\n",
    "nans = pd.DataFrame({'col_name': train_df_reduced.columns, 'percent_missing': percent_missing_nans})\n",
    "nans = nans.reset_index(drop = True)\n",
    "missing_vals_cols = nans[nans['percent_missing'] != 0]\n",
    "missing_vals_cols"
   ]
  },
  {
   "cell_type": "markdown",
   "id": "5be6351c",
   "metadata": {
    "papermill": {
     "duration": 0.04507,
     "end_time": "2022-10-20T17:55:59.957949",
     "exception": false,
     "start_time": "2022-10-20T17:55:59.912879",
     "status": "completed"
    },
    "tags": []
   },
   "source": [
    "Yes, there are no numerical columns with missing values here."
   ]
  },
  {
   "cell_type": "markdown",
   "id": "8f65922c",
   "metadata": {
    "papermill": {
     "duration": 0.045951,
     "end_time": "2022-10-20T17:56:00.049733",
     "exception": false,
     "start_time": "2022-10-20T17:56:00.003782",
     "status": "completed"
    },
    "tags": []
   },
   "source": [
    "#### 2.1.1.2 Quasi Constants Check <a class=\"anchor\" id=\"quasiconst\"></a> "
   ]
  },
  {
   "cell_type": "code",
   "execution_count": 23,
   "id": "8d8b5239",
   "metadata": {
    "execution": {
     "iopub.execute_input": "2022-10-20T17:56:00.142903Z",
     "iopub.status.busy": "2022-10-20T17:56:00.142450Z",
     "iopub.status.idle": "2022-10-20T17:56:00.155232Z",
     "shell.execute_reply": "2022-10-20T17:56:00.153585Z"
    },
    "papermill": {
     "duration": 0.062606,
     "end_time": "2022-10-20T17:56:00.157977",
     "exception": false,
     "start_time": "2022-10-20T17:56:00.095371",
     "status": "completed"
    },
    "tags": []
   },
   "outputs": [
    {
     "name": "stdout",
     "output_type": "stream",
     "text": [
      "Number of features left: 5\n",
      "Number of quasi constant features to be dropped: []\n"
     ]
    }
   ],
   "source": [
    "\"\"\" threshold = 0.05 means 95% of the values are constant\n",
    "with thresholds < 0.05 i.e. 96% and above, no such columns where detected \"\"\"\n",
    "\n",
    "vt = VarianceThreshold(threshold = 0.05)\n",
    "vt.fit(train_df_num.iloc[:,])\n",
    "\n",
    "print(f\"Number of features left: {sum(vt.get_support())}\")\n",
    "t_quasi_constant_features = [x for x in train_df_num.iloc[:, :-1].columns if x not in train_df_num.iloc[:,].columns[vt.get_support()]]\n",
    "print(f\"Number of quasi constant features to be dropped: {t_quasi_constant_features}\")\n",
    "#test_df_num = test_df_num.drop(t_quasi_constant_features, axis = 1)"
   ]
  },
  {
   "cell_type": "markdown",
   "id": "37e0b173",
   "metadata": {
    "papermill": {
     "duration": 0.113161,
     "end_time": "2022-10-20T17:56:00.316600",
     "exception": false,
     "start_time": "2022-10-20T17:56:00.203439",
     "status": "completed"
    },
    "tags": []
   },
   "source": [
    "No quasi-constant features were found among numerical variables."
   ]
  },
  {
   "cell_type": "markdown",
   "id": "7b0dacf0",
   "metadata": {
    "papermill": {
     "duration": 0.047831,
     "end_time": "2022-10-20T17:56:00.411286",
     "exception": false,
     "start_time": "2022-10-20T17:56:00.363455",
     "status": "completed"
    },
    "tags": []
   },
   "source": [
    "#### 2.1.1.3 Category Change <a class=\"anchor\" id=\"trnewcat\"></a> \n",
    "Features such as the PassengerId, Survived, and Pclass are categorical, therefore, we will assign a corresponding type to those.\n",
    "Other features such as SibSp, Parch, and Fare are numerical, therefore, we will assign a corresponding type to those."
   ]
  },
  {
   "cell_type": "code",
   "execution_count": 24,
   "id": "09ac17ba",
   "metadata": {
    "execution": {
     "iopub.execute_input": "2022-10-20T17:56:00.509066Z",
     "iopub.status.busy": "2022-10-20T17:56:00.508604Z",
     "iopub.status.idle": "2022-10-20T17:56:00.518663Z",
     "shell.execute_reply": "2022-10-20T17:56:00.517625Z"
    },
    "papermill": {
     "duration": 0.062712,
     "end_time": "2022-10-20T17:56:00.521188",
     "exception": false,
     "start_time": "2022-10-20T17:56:00.458476",
     "status": "completed"
    },
    "tags": []
   },
   "outputs": [],
   "source": [
    "for col in [['Survived','Pclass']]:\n",
    "    train_df_num[col] = train_df_num[col].astype('object')\n",
    "    train_df_reduced[col] = train_df_reduced[col].astype('object')"
   ]
  },
  {
   "cell_type": "code",
   "execution_count": 25,
   "id": "f5eb5052",
   "metadata": {
    "execution": {
     "iopub.execute_input": "2022-10-20T17:56:00.615182Z",
     "iopub.status.busy": "2022-10-20T17:56:00.614751Z",
     "iopub.status.idle": "2022-10-20T17:56:00.624562Z",
     "shell.execute_reply": "2022-10-20T17:56:00.623276Z"
    },
    "papermill": {
     "duration": 0.059302,
     "end_time": "2022-10-20T17:56:00.626990",
     "exception": false,
     "start_time": "2022-10-20T17:56:00.567688",
     "status": "completed"
    },
    "tags": []
   },
   "outputs": [
    {
     "data": {
      "text/plain": [
       "Survived     object\n",
       "Pclass       object\n",
       "SibSp         int64\n",
       "Parch         int64\n",
       "Fare        float64\n",
       "dtype: object"
      ]
     },
     "execution_count": 25,
     "metadata": {},
     "output_type": "execute_result"
    }
   ],
   "source": [
    "train_df_num.dtypes"
   ]
  },
  {
   "cell_type": "code",
   "execution_count": 26,
   "id": "07a1bbc3",
   "metadata": {
    "execution": {
     "iopub.execute_input": "2022-10-20T17:56:00.722447Z",
     "iopub.status.busy": "2022-10-20T17:56:00.722023Z",
     "iopub.status.idle": "2022-10-20T17:56:00.730279Z",
     "shell.execute_reply": "2022-10-20T17:56:00.729137Z"
    },
    "papermill": {
     "duration": 0.058763,
     "end_time": "2022-10-20T17:56:00.732500",
     "exception": false,
     "start_time": "2022-10-20T17:56:00.673737",
     "status": "completed"
    },
    "tags": []
   },
   "outputs": [
    {
     "data": {
      "text/plain": [
       "Name         object\n",
       "Sex          object\n",
       "Ticket       object\n",
       "Cabin        object\n",
       "Embarked     object\n",
       "Survived     object\n",
       "Pclass       object\n",
       "Age         float64\n",
       "SibSp         int64\n",
       "Parch         int64\n",
       "Fare        float64\n",
       "dtype: object"
      ]
     },
     "execution_count": 26,
     "metadata": {},
     "output_type": "execute_result"
    }
   ],
   "source": [
    "train_df_reduced.dtypes"
   ]
  },
  {
   "cell_type": "markdown",
   "id": "1d464e95",
   "metadata": {
    "papermill": {
     "duration": 0.045743,
     "end_time": "2022-10-20T17:56:00.823990",
     "exception": false,
     "start_time": "2022-10-20T17:56:00.778247",
     "status": "completed"
    },
    "tags": []
   },
   "source": [
    "A very interesting thing we notice in the full dataset is that Age is actually of float64 type, which means that some value or values are float in this column. Let's check that."
   ]
  },
  {
   "cell_type": "code",
   "execution_count": 27,
   "id": "4270b983",
   "metadata": {
    "execution": {
     "iopub.execute_input": "2022-10-20T17:56:00.918479Z",
     "iopub.status.busy": "2022-10-20T17:56:00.918023Z",
     "iopub.status.idle": "2022-10-20T17:56:00.933186Z",
     "shell.execute_reply": "2022-10-20T17:56:00.931853Z"
    },
    "papermill": {
     "duration": 0.066002,
     "end_time": "2022-10-20T17:56:00.935847",
     "exception": false,
     "start_time": "2022-10-20T17:56:00.869845",
     "status": "completed"
    },
    "tags": []
   },
   "outputs": [
    {
     "data": {
      "text/plain": [
       "0.42     1\n",
       "0.67     1\n",
       "0.75     2\n",
       "0.83     2\n",
       "0.92     1\n",
       "        ..\n",
       "70.00    2\n",
       "70.50    1\n",
       "71.00    2\n",
       "74.00    1\n",
       "80.00    1\n",
       "Name: Age, Length: 88, dtype: int64"
      ]
     },
     "execution_count": 27,
     "metadata": {},
     "output_type": "execute_result"
    }
   ],
   "source": [
    "train_df_reduced['Age'].value_counts().sort_index()"
   ]
  },
  {
   "cell_type": "code",
   "execution_count": 28,
   "id": "cc5ab6d9",
   "metadata": {
    "execution": {
     "iopub.execute_input": "2022-10-20T17:56:01.030611Z",
     "iopub.status.busy": "2022-10-20T17:56:01.030109Z",
     "iopub.status.idle": "2022-10-20T17:56:01.370019Z",
     "shell.execute_reply": "2022-10-20T17:56:01.368771Z"
    },
    "papermill": {
     "duration": 0.390376,
     "end_time": "2022-10-20T17:56:01.372835",
     "exception": false,
     "start_time": "2022-10-20T17:56:00.982459",
     "status": "completed"
    },
    "tags": []
   },
   "outputs": [
    {
     "data": {
      "text/plain": [
       "array([[<AxesSubplot:title={'center':'Age'}>]], dtype=object)"
      ]
     },
     "execution_count": 28,
     "metadata": {},
     "output_type": "execute_result"
    },
    {
     "data": {
      "image/png": "[encoded data removed]",
      "text/plain": [
       "<Figure size 1008x504 with 1 Axes>"
      ]
     },
     "metadata": {},
     "output_type": "display_data"
    }
   ],
   "source": [
    "train_df_reduced.hist(column='Age')"
   ]
  },
  {
   "cell_type": "markdown",
   "id": "97bd0b7f",
   "metadata": {
    "papermill": {
     "duration": 0.045961,
     "end_time": "2022-10-20T17:56:01.465078",
     "exception": false,
     "start_time": "2022-10-20T17:56:01.419117",
     "status": "completed"
    },
    "tags": []
   },
   "source": [
    "We see that Age is supposed to be in years, but we observe some values like 0.42, which does not look like a year or even a month. We will do some feature engineering on that predictor later which would possibly give us more meaningful insights and results. "
   ]
  },
  {
   "cell_type": "code",
   "execution_count": 29,
   "id": "5813e97c",
   "metadata": {
    "execution": {
     "iopub.execute_input": "2022-10-20T17:56:01.561469Z",
     "iopub.status.busy": "2022-10-20T17:56:01.561045Z",
     "iopub.status.idle": "2022-10-20T17:56:01.578421Z",
     "shell.execute_reply": "2022-10-20T17:56:01.577221Z"
    },
    "papermill": {
     "duration": 0.067965,
     "end_time": "2022-10-20T17:56:01.580734",
     "exception": false,
     "start_time": "2022-10-20T17:56:01.512769",
     "status": "completed"
    },
    "tags": []
   },
   "outputs": [
    {
     "data": {
      "text/html": [
       "<div>\n",
       "<style scoped>\n",
       "    .dataframe tbody tr th:only-of-type {\n",
       "        vertical-align: middle;\n",
       "    }\n",
       "\n",
       "    .dataframe tbody tr th {\n",
       "        vertical-align: top;\n",
       "    }\n",
       "\n",
       "    .dataframe thead th {\n",
       "        text-align: right;\n",
       "    }\n",
       "</style>\n",
       "<table border=\"1\" class=\"dataframe\">\n",
       "  <thead>\n",
       "    <tr style=\"text-align: right;\">\n",
       "      <th></th>\n",
       "      <th>Name</th>\n",
       "      <th>Sex</th>\n",
       "      <th>Ticket</th>\n",
       "      <th>Cabin</th>\n",
       "      <th>Embarked</th>\n",
       "      <th>Survived</th>\n",
       "      <th>Pclass</th>\n",
       "      <th>SibSp</th>\n",
       "      <th>Parch</th>\n",
       "      <th>Fare</th>\n",
       "    </tr>\n",
       "  </thead>\n",
       "  <tbody>\n",
       "    <tr>\n",
       "      <th>0</th>\n",
       "      <td>Braund, Mr. Owen Harris</td>\n",
       "      <td>male</td>\n",
       "      <td>A/5 21171</td>\n",
       "      <td>NaN</td>\n",
       "      <td>S</td>\n",
       "      <td>0</td>\n",
       "      <td>3</td>\n",
       "      <td>1</td>\n",
       "      <td>0</td>\n",
       "      <td>7.2500</td>\n",
       "    </tr>\n",
       "    <tr>\n",
       "      <th>1</th>\n",
       "      <td>Cumings, Mrs. John Bradley (Florence Briggs Th...</td>\n",
       "      <td>female</td>\n",
       "      <td>PC 17599</td>\n",
       "      <td>C85</td>\n",
       "      <td>C</td>\n",
       "      <td>1</td>\n",
       "      <td>1</td>\n",
       "      <td>1</td>\n",
       "      <td>0</td>\n",
       "      <td>71.2833</td>\n",
       "    </tr>\n",
       "    <tr>\n",
       "      <th>2</th>\n",
       "      <td>Heikkinen, Miss. Laina</td>\n",
       "      <td>female</td>\n",
       "      <td>STON/O2. 3101282</td>\n",
       "      <td>NaN</td>\n",
       "      <td>S</td>\n",
       "      <td>1</td>\n",
       "      <td>3</td>\n",
       "      <td>0</td>\n",
       "      <td>0</td>\n",
       "      <td>7.9250</td>\n",
       "    </tr>\n",
       "    <tr>\n",
       "      <th>3</th>\n",
       "      <td>Futrelle, Mrs. Jacques Heath (Lily May Peel)</td>\n",
       "      <td>female</td>\n",
       "      <td>113803</td>\n",
       "      <td>C123</td>\n",
       "      <td>S</td>\n",
       "      <td>1</td>\n",
       "      <td>1</td>\n",
       "      <td>1</td>\n",
       "      <td>0</td>\n",
       "      <td>53.1000</td>\n",
       "    </tr>\n",
       "    <tr>\n",
       "      <th>4</th>\n",
       "      <td>Allen, Mr. William Henry</td>\n",
       "      <td>male</td>\n",
       "      <td>373450</td>\n",
       "      <td>NaN</td>\n",
       "      <td>S</td>\n",
       "      <td>0</td>\n",
       "      <td>3</td>\n",
       "      <td>0</td>\n",
       "      <td>0</td>\n",
       "      <td>8.0500</td>\n",
       "    </tr>\n",
       "  </tbody>\n",
       "</table>\n",
       "</div>"
      ],
      "text/plain": [
       "                                                Name     Sex  \\\n",
       "0                            Braund, Mr. Owen Harris    male   \n",
       "1  Cumings, Mrs. John Bradley (Florence Briggs Th...  female   \n",
       "2                             Heikkinen, Miss. Laina  female   \n",
       "3       Futrelle, Mrs. Jacques Heath (Lily May Peel)  female   \n",
       "4                           Allen, Mr. William Henry    male   \n",
       "\n",
       "             Ticket Cabin Embarked Survived Pclass  SibSp  Parch     Fare  \n",
       "0         A/5 21171   NaN        S        0      3      1      0   7.2500  \n",
       "1          PC 17599   C85        C        1      1      1      0  71.2833  \n",
       "2  STON/O2. 3101282   NaN        S        1      3      0      0   7.9250  \n",
       "3            113803  C123        S        1      1      1      0  53.1000  \n",
       "4            373450   NaN        S        0      3      0      0   8.0500  "
      ]
     },
     "execution_count": 29,
     "metadata": {},
     "output_type": "execute_result"
    }
   ],
   "source": [
    "train_df = pd.concat([train_df, train_df_num], axis = 1)\n",
    "train_df.head()"
   ]
  },
  {
   "cell_type": "code",
   "execution_count": 30,
   "id": "96080794",
   "metadata": {
    "execution": {
     "iopub.execute_input": "2022-10-20T17:56:01.676340Z",
     "iopub.status.busy": "2022-10-20T17:56:01.675931Z",
     "iopub.status.idle": "2022-10-20T17:56:01.695450Z",
     "shell.execute_reply": "2022-10-20T17:56:01.694051Z"
    },
    "papermill": {
     "duration": 0.070534,
     "end_time": "2022-10-20T17:56:01.697978",
     "exception": false,
     "start_time": "2022-10-20T17:56:01.627444",
     "status": "completed"
    },
    "tags": []
   },
   "outputs": [
    {
     "data": {
      "text/html": [
       "<div>\n",
       "<style scoped>\n",
       "    .dataframe tbody tr th:only-of-type {\n",
       "        vertical-align: middle;\n",
       "    }\n",
       "\n",
       "    .dataframe tbody tr th {\n",
       "        vertical-align: top;\n",
       "    }\n",
       "\n",
       "    .dataframe thead th {\n",
       "        text-align: right;\n",
       "    }\n",
       "</style>\n",
       "<table border=\"1\" class=\"dataframe\">\n",
       "  <thead>\n",
       "    <tr style=\"text-align: right;\">\n",
       "      <th></th>\n",
       "      <th>Name</th>\n",
       "      <th>Sex</th>\n",
       "      <th>Ticket</th>\n",
       "      <th>Cabin</th>\n",
       "      <th>Embarked</th>\n",
       "      <th>Survived</th>\n",
       "      <th>Pclass</th>\n",
       "      <th>Age</th>\n",
       "      <th>SibSp</th>\n",
       "      <th>Parch</th>\n",
       "      <th>Fare</th>\n",
       "    </tr>\n",
       "  </thead>\n",
       "  <tbody>\n",
       "    <tr>\n",
       "      <th>0</th>\n",
       "      <td>Braund, Mr. Owen Harris</td>\n",
       "      <td>male</td>\n",
       "      <td>A/5 21171</td>\n",
       "      <td>NaN</td>\n",
       "      <td>S</td>\n",
       "      <td>0</td>\n",
       "      <td>3</td>\n",
       "      <td>22.0</td>\n",
       "      <td>1</td>\n",
       "      <td>0</td>\n",
       "      <td>7.2500</td>\n",
       "    </tr>\n",
       "    <tr>\n",
       "      <th>1</th>\n",
       "      <td>Cumings, Mrs. John Bradley (Florence Briggs Th...</td>\n",
       "      <td>female</td>\n",
       "      <td>PC 17599</td>\n",
       "      <td>C85</td>\n",
       "      <td>C</td>\n",
       "      <td>1</td>\n",
       "      <td>1</td>\n",
       "      <td>38.0</td>\n",
       "      <td>1</td>\n",
       "      <td>0</td>\n",
       "      <td>71.2833</td>\n",
       "    </tr>\n",
       "    <tr>\n",
       "      <th>2</th>\n",
       "      <td>Heikkinen, Miss. Laina</td>\n",
       "      <td>female</td>\n",
       "      <td>STON/O2. 3101282</td>\n",
       "      <td>NaN</td>\n",
       "      <td>S</td>\n",
       "      <td>1</td>\n",
       "      <td>3</td>\n",
       "      <td>26.0</td>\n",
       "      <td>0</td>\n",
       "      <td>0</td>\n",
       "      <td>7.9250</td>\n",
       "    </tr>\n",
       "    <tr>\n",
       "      <th>3</th>\n",
       "      <td>Futrelle, Mrs. Jacques Heath (Lily May Peel)</td>\n",
       "      <td>female</td>\n",
       "      <td>113803</td>\n",
       "      <td>C123</td>\n",
       "      <td>S</td>\n",
       "      <td>1</td>\n",
       "      <td>1</td>\n",
       "      <td>35.0</td>\n",
       "      <td>1</td>\n",
       "      <td>0</td>\n",
       "      <td>53.1000</td>\n",
       "    </tr>\n",
       "    <tr>\n",
       "      <th>4</th>\n",
       "      <td>Allen, Mr. William Henry</td>\n",
       "      <td>male</td>\n",
       "      <td>373450</td>\n",
       "      <td>NaN</td>\n",
       "      <td>S</td>\n",
       "      <td>0</td>\n",
       "      <td>3</td>\n",
       "      <td>35.0</td>\n",
       "      <td>0</td>\n",
       "      <td>0</td>\n",
       "      <td>8.0500</td>\n",
       "    </tr>\n",
       "  </tbody>\n",
       "</table>\n",
       "</div>"
      ],
      "text/plain": [
       "                                                Name     Sex  \\\n",
       "0                            Braund, Mr. Owen Harris    male   \n",
       "1  Cumings, Mrs. John Bradley (Florence Briggs Th...  female   \n",
       "2                             Heikkinen, Miss. Laina  female   \n",
       "3       Futrelle, Mrs. Jacques Heath (Lily May Peel)  female   \n",
       "4                           Allen, Mr. William Henry    male   \n",
       "\n",
       "             Ticket Cabin Embarked Survived Pclass   Age  SibSp  Parch  \\\n",
       "0         A/5 21171   NaN        S        0      3  22.0      1      0   \n",
       "1          PC 17599   C85        C        1      1  38.0      1      0   \n",
       "2  STON/O2. 3101282   NaN        S        1      3  26.0      0      0   \n",
       "3            113803  C123        S        1      1  35.0      1      0   \n",
       "4            373450   NaN        S        0      3  35.0      0      0   \n",
       "\n",
       "      Fare  \n",
       "0   7.2500  \n",
       "1  71.2833  \n",
       "2   7.9250  \n",
       "3  53.1000  \n",
       "4   8.0500  "
      ]
     },
     "execution_count": 30,
     "metadata": {},
     "output_type": "execute_result"
    }
   ],
   "source": [
    "train_df_reduced.head()"
   ]
  },
  {
   "cell_type": "markdown",
   "id": "6ab6809b",
   "metadata": {
    "papermill": {
     "duration": 0.046249,
     "end_time": "2022-10-20T17:56:01.790729",
     "exception": false,
     "start_time": "2022-10-20T17:56:01.744480",
     "status": "completed"
    },
    "tags": []
   },
   "source": [
    "### 2.1.2 Categorical Features <a class=\"anchor\" id=\"trcat\"></a>  \n",
    "We separate categorical features from numerical in order to preprocess them separately."
   ]
  },
  {
   "cell_type": "code",
   "execution_count": 31,
   "id": "7861d091",
   "metadata": {
    "execution": {
     "iopub.execute_input": "2022-10-20T17:56:01.886948Z",
     "iopub.status.busy": "2022-10-20T17:56:01.886460Z",
     "iopub.status.idle": "2022-10-20T17:56:01.909433Z",
     "shell.execute_reply": "2022-10-20T17:56:01.908088Z"
    },
    "papermill": {
     "duration": 0.074258,
     "end_time": "2022-10-20T17:56:01.911973",
     "exception": false,
     "start_time": "2022-10-20T17:56:01.837715",
     "status": "completed"
    },
    "tags": []
   },
   "outputs": [
    {
     "data": {
      "text/html": [
       "<div>\n",
       "<style scoped>\n",
       "    .dataframe tbody tr th:only-of-type {\n",
       "        vertical-align: middle;\n",
       "    }\n",
       "\n",
       "    .dataframe tbody tr th {\n",
       "        vertical-align: top;\n",
       "    }\n",
       "\n",
       "    .dataframe thead th {\n",
       "        text-align: right;\n",
       "    }\n",
       "</style>\n",
       "<table border=\"1\" class=\"dataframe\">\n",
       "  <thead>\n",
       "    <tr style=\"text-align: right;\">\n",
       "      <th></th>\n",
       "      <th>Name</th>\n",
       "      <th>Sex</th>\n",
       "      <th>Ticket</th>\n",
       "      <th>Cabin</th>\n",
       "      <th>Embarked</th>\n",
       "      <th>Survived</th>\n",
       "      <th>Pclass</th>\n",
       "    </tr>\n",
       "  </thead>\n",
       "  <tbody>\n",
       "    <tr>\n",
       "      <th>0</th>\n",
       "      <td>Braund, Mr. Owen Harris</td>\n",
       "      <td>male</td>\n",
       "      <td>A/5 21171</td>\n",
       "      <td>NaN</td>\n",
       "      <td>S</td>\n",
       "      <td>0</td>\n",
       "      <td>3</td>\n",
       "    </tr>\n",
       "    <tr>\n",
       "      <th>1</th>\n",
       "      <td>Cumings, Mrs. John Bradley (Florence Briggs Th...</td>\n",
       "      <td>female</td>\n",
       "      <td>PC 17599</td>\n",
       "      <td>C85</td>\n",
       "      <td>C</td>\n",
       "      <td>1</td>\n",
       "      <td>1</td>\n",
       "    </tr>\n",
       "    <tr>\n",
       "      <th>2</th>\n",
       "      <td>Heikkinen, Miss. Laina</td>\n",
       "      <td>female</td>\n",
       "      <td>STON/O2. 3101282</td>\n",
       "      <td>NaN</td>\n",
       "      <td>S</td>\n",
       "      <td>1</td>\n",
       "      <td>3</td>\n",
       "    </tr>\n",
       "    <tr>\n",
       "      <th>3</th>\n",
       "      <td>Futrelle, Mrs. Jacques Heath (Lily May Peel)</td>\n",
       "      <td>female</td>\n",
       "      <td>113803</td>\n",
       "      <td>C123</td>\n",
       "      <td>S</td>\n",
       "      <td>1</td>\n",
       "      <td>1</td>\n",
       "    </tr>\n",
       "    <tr>\n",
       "      <th>4</th>\n",
       "      <td>Allen, Mr. William Henry</td>\n",
       "      <td>male</td>\n",
       "      <td>373450</td>\n",
       "      <td>NaN</td>\n",
       "      <td>S</td>\n",
       "      <td>0</td>\n",
       "      <td>3</td>\n",
       "    </tr>\n",
       "    <tr>\n",
       "      <th>...</th>\n",
       "      <td>...</td>\n",
       "      <td>...</td>\n",
       "      <td>...</td>\n",
       "      <td>...</td>\n",
       "      <td>...</td>\n",
       "      <td>...</td>\n",
       "      <td>...</td>\n",
       "    </tr>\n",
       "    <tr>\n",
       "      <th>886</th>\n",
       "      <td>Montvila, Rev. Juozas</td>\n",
       "      <td>male</td>\n",
       "      <td>211536</td>\n",
       "      <td>NaN</td>\n",
       "      <td>S</td>\n",
       "      <td>0</td>\n",
       "      <td>2</td>\n",
       "    </tr>\n",
       "    <tr>\n",
       "      <th>887</th>\n",
       "      <td>Graham, Miss. Margaret Edith</td>\n",
       "      <td>female</td>\n",
       "      <td>112053</td>\n",
       "      <td>B42</td>\n",
       "      <td>S</td>\n",
       "      <td>1</td>\n",
       "      <td>1</td>\n",
       "    </tr>\n",
       "    <tr>\n",
       "      <th>888</th>\n",
       "      <td>Johnston, Miss. Catherine Helen \"Carrie\"</td>\n",
       "      <td>female</td>\n",
       "      <td>W./C. 6607</td>\n",
       "      <td>NaN</td>\n",
       "      <td>S</td>\n",
       "      <td>0</td>\n",
       "      <td>3</td>\n",
       "    </tr>\n",
       "    <tr>\n",
       "      <th>889</th>\n",
       "      <td>Behr, Mr. Karl Howell</td>\n",
       "      <td>male</td>\n",
       "      <td>111369</td>\n",
       "      <td>C148</td>\n",
       "      <td>C</td>\n",
       "      <td>1</td>\n",
       "      <td>1</td>\n",
       "    </tr>\n",
       "    <tr>\n",
       "      <th>890</th>\n",
       "      <td>Dooley, Mr. Patrick</td>\n",
       "      <td>male</td>\n",
       "      <td>370376</td>\n",
       "      <td>NaN</td>\n",
       "      <td>Q</td>\n",
       "      <td>0</td>\n",
       "      <td>3</td>\n",
       "    </tr>\n",
       "  </tbody>\n",
       "</table>\n",
       "<p>891 rows × 7 columns</p>\n",
       "</div>"
      ],
      "text/plain": [
       "                                                  Name     Sex  \\\n",
       "0                              Braund, Mr. Owen Harris    male   \n",
       "1    Cumings, Mrs. John Bradley (Florence Briggs Th...  female   \n",
       "2                               Heikkinen, Miss. Laina  female   \n",
       "3         Futrelle, Mrs. Jacques Heath (Lily May Peel)  female   \n",
       "4                             Allen, Mr. William Henry    male   \n",
       "..                                                 ...     ...   \n",
       "886                              Montvila, Rev. Juozas    male   \n",
       "887                       Graham, Miss. Margaret Edith  female   \n",
       "888           Johnston, Miss. Catherine Helen \"Carrie\"  female   \n",
       "889                              Behr, Mr. Karl Howell    male   \n",
       "890                                Dooley, Mr. Patrick    male   \n",
       "\n",
       "               Ticket Cabin Embarked Survived Pclass  \n",
       "0           A/5 21171   NaN        S        0      3  \n",
       "1            PC 17599   C85        C        1      1  \n",
       "2    STON/O2. 3101282   NaN        S        1      3  \n",
       "3              113803  C123        S        1      1  \n",
       "4              373450   NaN        S        0      3  \n",
       "..                ...   ...      ...      ...    ...  \n",
       "886            211536   NaN        S        0      2  \n",
       "887            112053   B42        S        1      1  \n",
       "888        W./C. 6607   NaN        S        0      3  \n",
       "889            111369  C148        C        1      1  \n",
       "890            370376   NaN        Q        0      3  \n",
       "\n",
       "[891 rows x 7 columns]"
      ]
     },
     "execution_count": 31,
     "metadata": {},
     "output_type": "execute_result"
    }
   ],
   "source": [
    "train_df_cat = train_df.select_dtypes(include=[object])\n",
    "train_df = train_df.drop([col for col in train_df_cat], axis = 1)\n",
    "train_df_cat"
   ]
  },
  {
   "cell_type": "markdown",
   "id": "15f27c82",
   "metadata": {
    "papermill": {
     "duration": 0.047008,
     "end_time": "2022-10-20T17:56:02.006666",
     "exception": false,
     "start_time": "2022-10-20T17:56:01.959658",
     "status": "completed"
    },
    "tags": []
   },
   "source": [
    "#### 2.1.2.1 Missing values (NaNs) <a class=\"anchor\" id=\"catmisvals\"></a> \n",
    "Let's find all missing values (NaNs) in all columns and think about the proper way to deal with those values."
   ]
  },
  {
   "cell_type": "code",
   "execution_count": 32,
   "id": "1cac8cc1",
   "metadata": {
    "execution": {
     "iopub.execute_input": "2022-10-20T17:56:02.102850Z",
     "iopub.status.busy": "2022-10-20T17:56:02.101545Z",
     "iopub.status.idle": "2022-10-20T17:56:02.360965Z",
     "shell.execute_reply": "2022-10-20T17:56:02.360043Z"
    },
    "papermill": {
     "duration": 0.310165,
     "end_time": "2022-10-20T17:56:02.363514",
     "exception": false,
     "start_time": "2022-10-20T17:56:02.053349",
     "status": "completed"
    },
    "tags": []
   },
   "outputs": [
    {
     "data": {
      "image/png": "[encoded data removed]",
      "text/plain": [
       "<Figure size 864x432 with 1 Axes>"
      ]
     },
     "metadata": {},
     "output_type": "display_data"
    }
   ],
   "source": [
    "percent_missing_nans = train_df_cat.isnull().sum() * 100 / len(train_df_cat)\n",
    "nans = pd.DataFrame({'col_name': train_df_cat.columns, 'percent_missing': percent_missing_nans})\n",
    "\n",
    "sns.set(rc={'figure.figsize':(12,6)})\n",
    "cols = list(nans['col_name'])\n",
    "percent = list(nans['percent_missing'])\n",
    "plt.gca().set_ylabel('% of NaN Values', fontsize = 12)\n",
    "plt.gca().set_xlabel('Column Name')\n",
    "plt.title('% of NaN values in correlated features', fontsize = 16)\n",
    "sns.barplot(x = cols, y = percent)\n",
    "plt.gca().set_xticklabels(plt.gca().get_xticklabels(), rotation = 65)\n",
    "plt.show()"
   ]
  },
  {
   "cell_type": "code",
   "execution_count": 33,
   "id": "cd50e699",
   "metadata": {
    "execution": {
     "iopub.execute_input": "2022-10-20T17:56:02.460407Z",
     "iopub.status.busy": "2022-10-20T17:56:02.459718Z",
     "iopub.status.idle": "2022-10-20T17:56:02.470907Z",
     "shell.execute_reply": "2022-10-20T17:56:02.469970Z"
    },
    "papermill": {
     "duration": 0.062633,
     "end_time": "2022-10-20T17:56:02.473294",
     "exception": false,
     "start_time": "2022-10-20T17:56:02.410661",
     "status": "completed"
    },
    "tags": []
   },
   "outputs": [
    {
     "data": {
      "text/html": [
       "<div>\n",
       "<style scoped>\n",
       "    .dataframe tbody tr th:only-of-type {\n",
       "        vertical-align: middle;\n",
       "    }\n",
       "\n",
       "    .dataframe tbody tr th {\n",
       "        vertical-align: top;\n",
       "    }\n",
       "\n",
       "    .dataframe thead th {\n",
       "        text-align: right;\n",
       "    }\n",
       "</style>\n",
       "<table border=\"1\" class=\"dataframe\">\n",
       "  <thead>\n",
       "    <tr style=\"text-align: right;\">\n",
       "      <th></th>\n",
       "      <th>col_name</th>\n",
       "      <th>percent_missing</th>\n",
       "    </tr>\n",
       "  </thead>\n",
       "  <tbody>\n",
       "    <tr>\n",
       "      <th>3</th>\n",
       "      <td>Cabin</td>\n",
       "      <td>77.104377</td>\n",
       "    </tr>\n",
       "    <tr>\n",
       "      <th>4</th>\n",
       "      <td>Embarked</td>\n",
       "      <td>0.224467</td>\n",
       "    </tr>\n",
       "  </tbody>\n",
       "</table>\n",
       "</div>"
      ],
      "text/plain": [
       "   col_name  percent_missing\n",
       "3     Cabin        77.104377\n",
       "4  Embarked         0.224467"
      ]
     },
     "execution_count": 33,
     "metadata": {},
     "output_type": "execute_result"
    }
   ],
   "source": [
    "nans = nans.reset_index(drop = True)\n",
    "missing_vals_cols = nans[nans['percent_missing'] != 0]\n",
    "missing_vals_cols"
   ]
  },
  {
   "cell_type": "markdown",
   "id": "15be4d19",
   "metadata": {
    "papermill": {
     "duration": 0.047168,
     "end_time": "2022-10-20T17:56:02.568434",
     "exception": false,
     "start_time": "2022-10-20T17:56:02.521266",
     "status": "completed"
    },
    "tags": []
   },
   "source": [
    "We observe that Cabin has about 77% of missing values, and Embarked has about 0.2% of missing values. In case of the Cabin feature, it's a large percent of missing values and no imputation method would be able to fill all the missing values without changing the distribution. Therefore, we will drop the Cabin feature. In case of Embarked, we will take a look at those whole rows where Embarked is NaN and see how we can fix it."
   ]
  },
  {
   "cell_type": "markdown",
   "id": "d5aa8d74",
   "metadata": {
    "papermill": {
     "duration": 0.059488,
     "end_time": "2022-10-20T17:56:02.676918",
     "exception": false,
     "start_time": "2022-10-20T17:56:02.617430",
     "status": "completed"
    },
    "tags": []
   },
   "source": [
    "#### Cabin"
   ]
  },
  {
   "cell_type": "code",
   "execution_count": 34,
   "id": "b3f55b20",
   "metadata": {
    "execution": {
     "iopub.execute_input": "2022-10-20T17:56:02.785745Z",
     "iopub.status.busy": "2022-10-20T17:56:02.784919Z",
     "iopub.status.idle": "2022-10-20T17:56:02.792566Z",
     "shell.execute_reply": "2022-10-20T17:56:02.791240Z"
    },
    "papermill": {
     "duration": 0.061607,
     "end_time": "2022-10-20T17:56:02.795591",
     "exception": false,
     "start_time": "2022-10-20T17:56:02.733984",
     "status": "completed"
    },
    "tags": []
   },
   "outputs": [],
   "source": [
    "train_df_cat.drop('Cabin', axis = 1, inplace=True)\n",
    "train_df_reduced.drop('Cabin', axis = 1, inplace=True)"
   ]
  },
  {
   "cell_type": "markdown",
   "id": "8f1edb3a",
   "metadata": {
    "papermill": {
     "duration": 0.047255,
     "end_time": "2022-10-20T17:56:02.891692",
     "exception": false,
     "start_time": "2022-10-20T17:56:02.844437",
     "status": "completed"
    },
    "tags": []
   },
   "source": [
    "#### Embarked"
   ]
  },
  {
   "cell_type": "code",
   "execution_count": 35,
   "id": "9958cc0c",
   "metadata": {
    "execution": {
     "iopub.execute_input": "2022-10-20T17:56:02.991700Z",
     "iopub.status.busy": "2022-10-20T17:56:02.991220Z",
     "iopub.status.idle": "2022-10-20T17:56:03.012414Z",
     "shell.execute_reply": "2022-10-20T17:56:03.011040Z"
    },
    "papermill": {
     "duration": 0.075005,
     "end_time": "2022-10-20T17:56:03.014972",
     "exception": false,
     "start_time": "2022-10-20T17:56:02.939967",
     "status": "completed"
    },
    "tags": []
   },
   "outputs": [
    {
     "name": "stdout",
     "output_type": "stream",
     "text": [
      "Number of NaN values: 2 \n",
      "Percent of NaN values: 0.22 %\n"
     ]
    },
    {
     "data": {
      "text/html": [
       "<div>\n",
       "<style scoped>\n",
       "    .dataframe tbody tr th:only-of-type {\n",
       "        vertical-align: middle;\n",
       "    }\n",
       "\n",
       "    .dataframe tbody tr th {\n",
       "        vertical-align: top;\n",
       "    }\n",
       "\n",
       "    .dataframe thead th {\n",
       "        text-align: right;\n",
       "    }\n",
       "</style>\n",
       "<table border=\"1\" class=\"dataframe\">\n",
       "  <thead>\n",
       "    <tr style=\"text-align: right;\">\n",
       "      <th></th>\n",
       "      <th>Name</th>\n",
       "      <th>Sex</th>\n",
       "      <th>Ticket</th>\n",
       "      <th>Cabin</th>\n",
       "      <th>Embarked</th>\n",
       "      <th>Survived</th>\n",
       "      <th>Pclass</th>\n",
       "      <th>Age</th>\n",
       "      <th>SibSp</th>\n",
       "      <th>Parch</th>\n",
       "      <th>Fare</th>\n",
       "    </tr>\n",
       "  </thead>\n",
       "  <tbody>\n",
       "    <tr>\n",
       "      <th>61</th>\n",
       "      <td>Icard, Miss. Amelie</td>\n",
       "      <td>female</td>\n",
       "      <td>113572</td>\n",
       "      <td>B28</td>\n",
       "      <td>NaN</td>\n",
       "      <td>1</td>\n",
       "      <td>1</td>\n",
       "      <td>38.0</td>\n",
       "      <td>0</td>\n",
       "      <td>0</td>\n",
       "      <td>80.0</td>\n",
       "    </tr>\n",
       "    <tr>\n",
       "      <th>829</th>\n",
       "      <td>Stone, Mrs. George Nelson (Martha Evelyn)</td>\n",
       "      <td>female</td>\n",
       "      <td>113572</td>\n",
       "      <td>B28</td>\n",
       "      <td>NaN</td>\n",
       "      <td>1</td>\n",
       "      <td>1</td>\n",
       "      <td>62.0</td>\n",
       "      <td>0</td>\n",
       "      <td>0</td>\n",
       "      <td>80.0</td>\n",
       "    </tr>\n",
       "  </tbody>\n",
       "</table>\n",
       "</div>"
      ],
      "text/plain": [
       "                                          Name     Sex  Ticket Cabin Embarked  \\\n",
       "61                         Icard, Miss. Amelie  female  113572   B28      NaN   \n",
       "829  Stone, Mrs. George Nelson (Martha Evelyn)  female  113572   B28      NaN   \n",
       "\n",
       "     Survived  Pclass   Age  SibSp  Parch  Fare  \n",
       "61          1       1  38.0      0      0  80.0  \n",
       "829         1       1  62.0      0      0  80.0  "
      ]
     },
     "execution_count": 35,
     "metadata": {},
     "output_type": "execute_result"
    }
   ],
   "source": [
    "temp = full_data_temp[full_data_temp['Embarked'].isnull()]\n",
    "temp = temp[['Name', 'Sex', 'Ticket', 'Cabin', 'Embarked', 'Survived',\n",
    "       'Pclass', 'Age', 'SibSp', 'Parch', 'Fare']]\n",
    "print('Number of NaN values:', len(temp), '\\nPercent of NaN values: {:0.2f}'.format((len(temp)/len(full_data_temp))*100), '%')\n",
    "temp"
   ]
  },
  {
   "cell_type": "code",
   "execution_count": 36,
   "id": "d5f0c5dd",
   "metadata": {
    "execution": {
     "iopub.execute_input": "2022-10-20T17:56:03.115798Z",
     "iopub.status.busy": "2022-10-20T17:56:03.114901Z",
     "iopub.status.idle": "2022-10-20T17:56:03.124789Z",
     "shell.execute_reply": "2022-10-20T17:56:03.123606Z"
    },
    "papermill": {
     "duration": 0.062303,
     "end_time": "2022-10-20T17:56:03.127645",
     "exception": false,
     "start_time": "2022-10-20T17:56:03.065342",
     "status": "completed"
    },
    "tags": []
   },
   "outputs": [
    {
     "data": {
      "text/plain": [
       "S    644\n",
       "C    168\n",
       "Q     77\n",
       "Name: Embarked, dtype: int64"
      ]
     },
     "execution_count": 36,
     "metadata": {},
     "output_type": "execute_result"
    }
   ],
   "source": [
    "train_df_cat['Embarked'].value_counts()"
   ]
  },
  {
   "cell_type": "markdown",
   "id": "609ba3ac",
   "metadata": {
    "papermill": {
     "duration": 0.048825,
     "end_time": "2022-10-20T17:56:03.225033",
     "exception": false,
     "start_time": "2022-10-20T17:56:03.176208",
     "status": "completed"
    },
    "tags": []
   },
   "source": [
    "We observe only two rows of where values for Embarked are missing. Also, we see that values of Embarked are S, C and Q, and none of them corresponmds to \"Not applicable\" so we can't really fill the missing values like that as we may create bias. Also, there are only two rows with missing values of Embarked, and dropping those rows should not cause significant change in the distribution of Embarked."
   ]
  },
  {
   "cell_type": "code",
   "execution_count": 37,
   "id": "e20295b6",
   "metadata": {
    "execution": {
     "iopub.execute_input": "2022-10-20T17:56:03.323243Z",
     "iopub.status.busy": "2022-10-20T17:56:03.322249Z",
     "iopub.status.idle": "2022-10-20T17:56:03.332903Z",
     "shell.execute_reply": "2022-10-20T17:56:03.331713Z"
    },
    "papermill": {
     "duration": 0.062601,
     "end_time": "2022-10-20T17:56:03.335674",
     "exception": false,
     "start_time": "2022-10-20T17:56:03.273073",
     "status": "completed"
    },
    "tags": []
   },
   "outputs": [],
   "source": [
    "train_df = pd.concat([train_df, train_df_cat], axis = 1)\n",
    "train_df = train_df.dropna(subset=['Embarked'])\n",
    "train_df_reduced = train_df_reduced.dropna(subset=['Embarked'])"
   ]
  },
  {
   "cell_type": "code",
   "execution_count": 38,
   "id": "6a9f7487",
   "metadata": {
    "execution": {
     "iopub.execute_input": "2022-10-20T17:56:03.433709Z",
     "iopub.status.busy": "2022-10-20T17:56:03.433256Z",
     "iopub.status.idle": "2022-10-20T17:56:03.453132Z",
     "shell.execute_reply": "2022-10-20T17:56:03.451972Z"
    },
    "papermill": {
     "duration": 0.071837,
     "end_time": "2022-10-20T17:56:03.455569",
     "exception": false,
     "start_time": "2022-10-20T17:56:03.383732",
     "status": "completed"
    },
    "tags": []
   },
   "outputs": [
    {
     "data": {
      "text/html": [
       "<div>\n",
       "<style scoped>\n",
       "    .dataframe tbody tr th:only-of-type {\n",
       "        vertical-align: middle;\n",
       "    }\n",
       "\n",
       "    .dataframe tbody tr th {\n",
       "        vertical-align: top;\n",
       "    }\n",
       "\n",
       "    .dataframe thead th {\n",
       "        text-align: right;\n",
       "    }\n",
       "</style>\n",
       "<table border=\"1\" class=\"dataframe\">\n",
       "  <thead>\n",
       "    <tr style=\"text-align: right;\">\n",
       "      <th></th>\n",
       "      <th>SibSp</th>\n",
       "      <th>Parch</th>\n",
       "      <th>Fare</th>\n",
       "      <th>Name</th>\n",
       "      <th>Sex</th>\n",
       "      <th>Ticket</th>\n",
       "      <th>Embarked</th>\n",
       "      <th>Survived</th>\n",
       "      <th>Pclass</th>\n",
       "    </tr>\n",
       "  </thead>\n",
       "  <tbody>\n",
       "    <tr>\n",
       "      <th>0</th>\n",
       "      <td>1</td>\n",
       "      <td>0</td>\n",
       "      <td>7.2500</td>\n",
       "      <td>Braund, Mr. Owen Harris</td>\n",
       "      <td>male</td>\n",
       "      <td>A/5 21171</td>\n",
       "      <td>S</td>\n",
       "      <td>0</td>\n",
       "      <td>3</td>\n",
       "    </tr>\n",
       "    <tr>\n",
       "      <th>1</th>\n",
       "      <td>1</td>\n",
       "      <td>0</td>\n",
       "      <td>71.2833</td>\n",
       "      <td>Cumings, Mrs. John Bradley (Florence Briggs Th...</td>\n",
       "      <td>female</td>\n",
       "      <td>PC 17599</td>\n",
       "      <td>C</td>\n",
       "      <td>1</td>\n",
       "      <td>1</td>\n",
       "    </tr>\n",
       "    <tr>\n",
       "      <th>2</th>\n",
       "      <td>0</td>\n",
       "      <td>0</td>\n",
       "      <td>7.9250</td>\n",
       "      <td>Heikkinen, Miss. Laina</td>\n",
       "      <td>female</td>\n",
       "      <td>STON/O2. 3101282</td>\n",
       "      <td>S</td>\n",
       "      <td>1</td>\n",
       "      <td>3</td>\n",
       "    </tr>\n",
       "    <tr>\n",
       "      <th>3</th>\n",
       "      <td>1</td>\n",
       "      <td>0</td>\n",
       "      <td>53.1000</td>\n",
       "      <td>Futrelle, Mrs. Jacques Heath (Lily May Peel)</td>\n",
       "      <td>female</td>\n",
       "      <td>113803</td>\n",
       "      <td>S</td>\n",
       "      <td>1</td>\n",
       "      <td>1</td>\n",
       "    </tr>\n",
       "    <tr>\n",
       "      <th>4</th>\n",
       "      <td>0</td>\n",
       "      <td>0</td>\n",
       "      <td>8.0500</td>\n",
       "      <td>Allen, Mr. William Henry</td>\n",
       "      <td>male</td>\n",
       "      <td>373450</td>\n",
       "      <td>S</td>\n",
       "      <td>0</td>\n",
       "      <td>3</td>\n",
       "    </tr>\n",
       "    <tr>\n",
       "      <th>...</th>\n",
       "      <td>...</td>\n",
       "      <td>...</td>\n",
       "      <td>...</td>\n",
       "      <td>...</td>\n",
       "      <td>...</td>\n",
       "      <td>...</td>\n",
       "      <td>...</td>\n",
       "      <td>...</td>\n",
       "      <td>...</td>\n",
       "    </tr>\n",
       "    <tr>\n",
       "      <th>886</th>\n",
       "      <td>0</td>\n",
       "      <td>0</td>\n",
       "      <td>13.0000</td>\n",
       "      <td>Montvila, Rev. Juozas</td>\n",
       "      <td>male</td>\n",
       "      <td>211536</td>\n",
       "      <td>S</td>\n",
       "      <td>0</td>\n",
       "      <td>2</td>\n",
       "    </tr>\n",
       "    <tr>\n",
       "      <th>887</th>\n",
       "      <td>0</td>\n",
       "      <td>0</td>\n",
       "      <td>30.0000</td>\n",
       "      <td>Graham, Miss. Margaret Edith</td>\n",
       "      <td>female</td>\n",
       "      <td>112053</td>\n",
       "      <td>S</td>\n",
       "      <td>1</td>\n",
       "      <td>1</td>\n",
       "    </tr>\n",
       "    <tr>\n",
       "      <th>888</th>\n",
       "      <td>1</td>\n",
       "      <td>2</td>\n",
       "      <td>23.4500</td>\n",
       "      <td>Johnston, Miss. Catherine Helen \"Carrie\"</td>\n",
       "      <td>female</td>\n",
       "      <td>W./C. 6607</td>\n",
       "      <td>S</td>\n",
       "      <td>0</td>\n",
       "      <td>3</td>\n",
       "    </tr>\n",
       "    <tr>\n",
       "      <th>889</th>\n",
       "      <td>0</td>\n",
       "      <td>0</td>\n",
       "      <td>30.0000</td>\n",
       "      <td>Behr, Mr. Karl Howell</td>\n",
       "      <td>male</td>\n",
       "      <td>111369</td>\n",
       "      <td>C</td>\n",
       "      <td>1</td>\n",
       "      <td>1</td>\n",
       "    </tr>\n",
       "    <tr>\n",
       "      <th>890</th>\n",
       "      <td>0</td>\n",
       "      <td>0</td>\n",
       "      <td>7.7500</td>\n",
       "      <td>Dooley, Mr. Patrick</td>\n",
       "      <td>male</td>\n",
       "      <td>370376</td>\n",
       "      <td>Q</td>\n",
       "      <td>0</td>\n",
       "      <td>3</td>\n",
       "    </tr>\n",
       "  </tbody>\n",
       "</table>\n",
       "<p>889 rows × 9 columns</p>\n",
       "</div>"
      ],
      "text/plain": [
       "     SibSp  Parch     Fare                                               Name  \\\n",
       "0        1      0   7.2500                            Braund, Mr. Owen Harris   \n",
       "1        1      0  71.2833  Cumings, Mrs. John Bradley (Florence Briggs Th...   \n",
       "2        0      0   7.9250                             Heikkinen, Miss. Laina   \n",
       "3        1      0  53.1000       Futrelle, Mrs. Jacques Heath (Lily May Peel)   \n",
       "4        0      0   8.0500                           Allen, Mr. William Henry   \n",
       "..     ...    ...      ...                                                ...   \n",
       "886      0      0  13.0000                              Montvila, Rev. Juozas   \n",
       "887      0      0  30.0000                       Graham, Miss. Margaret Edith   \n",
       "888      1      2  23.4500           Johnston, Miss. Catherine Helen \"Carrie\"   \n",
       "889      0      0  30.0000                              Behr, Mr. Karl Howell   \n",
       "890      0      0   7.7500                                Dooley, Mr. Patrick   \n",
       "\n",
       "        Sex            Ticket Embarked Survived Pclass  \n",
       "0      male         A/5 21171        S        0      3  \n",
       "1    female          PC 17599        C        1      1  \n",
       "2    female  STON/O2. 3101282        S        1      3  \n",
       "3    female            113803        S        1      1  \n",
       "4      male            373450        S        0      3  \n",
       "..      ...               ...      ...      ...    ...  \n",
       "886    male            211536        S        0      2  \n",
       "887  female            112053        S        1      1  \n",
       "888  female        W./C. 6607        S        0      3  \n",
       "889    male            111369        C        1      1  \n",
       "890    male            370376        Q        0      3  \n",
       "\n",
       "[889 rows x 9 columns]"
      ]
     },
     "execution_count": 38,
     "metadata": {},
     "output_type": "execute_result"
    }
   ],
   "source": [
    "train_df"
   ]
  },
  {
   "cell_type": "code",
   "execution_count": 39,
   "id": "81287a0b",
   "metadata": {
    "execution": {
     "iopub.execute_input": "2022-10-20T17:56:03.555899Z",
     "iopub.status.busy": "2022-10-20T17:56:03.555115Z",
     "iopub.status.idle": "2022-10-20T17:56:03.575590Z",
     "shell.execute_reply": "2022-10-20T17:56:03.574566Z"
    },
    "papermill": {
     "duration": 0.073189,
     "end_time": "2022-10-20T17:56:03.577981",
     "exception": false,
     "start_time": "2022-10-20T17:56:03.504792",
     "status": "completed"
    },
    "tags": []
   },
   "outputs": [
    {
     "data": {
      "text/html": [
       "<div>\n",
       "<style scoped>\n",
       "    .dataframe tbody tr th:only-of-type {\n",
       "        vertical-align: middle;\n",
       "    }\n",
       "\n",
       "    .dataframe tbody tr th {\n",
       "        vertical-align: top;\n",
       "    }\n",
       "\n",
       "    .dataframe thead th {\n",
       "        text-align: right;\n",
       "    }\n",
       "</style>\n",
       "<table border=\"1\" class=\"dataframe\">\n",
       "  <thead>\n",
       "    <tr style=\"text-align: right;\">\n",
       "      <th></th>\n",
       "      <th>Name</th>\n",
       "      <th>Sex</th>\n",
       "      <th>Ticket</th>\n",
       "      <th>Embarked</th>\n",
       "      <th>Survived</th>\n",
       "      <th>Pclass</th>\n",
       "      <th>Age</th>\n",
       "      <th>SibSp</th>\n",
       "      <th>Parch</th>\n",
       "      <th>Fare</th>\n",
       "    </tr>\n",
       "  </thead>\n",
       "  <tbody>\n",
       "    <tr>\n",
       "      <th>0</th>\n",
       "      <td>Braund, Mr. Owen Harris</td>\n",
       "      <td>male</td>\n",
       "      <td>A/5 21171</td>\n",
       "      <td>S</td>\n",
       "      <td>0</td>\n",
       "      <td>3</td>\n",
       "      <td>22.0</td>\n",
       "      <td>1</td>\n",
       "      <td>0</td>\n",
       "      <td>7.2500</td>\n",
       "    </tr>\n",
       "    <tr>\n",
       "      <th>1</th>\n",
       "      <td>Cumings, Mrs. John Bradley (Florence Briggs Th...</td>\n",
       "      <td>female</td>\n",
       "      <td>PC 17599</td>\n",
       "      <td>C</td>\n",
       "      <td>1</td>\n",
       "      <td>1</td>\n",
       "      <td>38.0</td>\n",
       "      <td>1</td>\n",
       "      <td>0</td>\n",
       "      <td>71.2833</td>\n",
       "    </tr>\n",
       "    <tr>\n",
       "      <th>2</th>\n",
       "      <td>Heikkinen, Miss. Laina</td>\n",
       "      <td>female</td>\n",
       "      <td>STON/O2. 3101282</td>\n",
       "      <td>S</td>\n",
       "      <td>1</td>\n",
       "      <td>3</td>\n",
       "      <td>26.0</td>\n",
       "      <td>0</td>\n",
       "      <td>0</td>\n",
       "      <td>7.9250</td>\n",
       "    </tr>\n",
       "    <tr>\n",
       "      <th>3</th>\n",
       "      <td>Futrelle, Mrs. Jacques Heath (Lily May Peel)</td>\n",
       "      <td>female</td>\n",
       "      <td>113803</td>\n",
       "      <td>S</td>\n",
       "      <td>1</td>\n",
       "      <td>1</td>\n",
       "      <td>35.0</td>\n",
       "      <td>1</td>\n",
       "      <td>0</td>\n",
       "      <td>53.1000</td>\n",
       "    </tr>\n",
       "    <tr>\n",
       "      <th>4</th>\n",
       "      <td>Allen, Mr. William Henry</td>\n",
       "      <td>male</td>\n",
       "      <td>373450</td>\n",
       "      <td>S</td>\n",
       "      <td>0</td>\n",
       "      <td>3</td>\n",
       "      <td>35.0</td>\n",
       "      <td>0</td>\n",
       "      <td>0</td>\n",
       "      <td>8.0500</td>\n",
       "    </tr>\n",
       "    <tr>\n",
       "      <th>...</th>\n",
       "      <td>...</td>\n",
       "      <td>...</td>\n",
       "      <td>...</td>\n",
       "      <td>...</td>\n",
       "      <td>...</td>\n",
       "      <td>...</td>\n",
       "      <td>...</td>\n",
       "      <td>...</td>\n",
       "      <td>...</td>\n",
       "      <td>...</td>\n",
       "    </tr>\n",
       "    <tr>\n",
       "      <th>885</th>\n",
       "      <td>Rice, Mrs. William (Margaret Norton)</td>\n",
       "      <td>female</td>\n",
       "      <td>382652</td>\n",
       "      <td>Q</td>\n",
       "      <td>0</td>\n",
       "      <td>3</td>\n",
       "      <td>39.0</td>\n",
       "      <td>0</td>\n",
       "      <td>5</td>\n",
       "      <td>29.1250</td>\n",
       "    </tr>\n",
       "    <tr>\n",
       "      <th>886</th>\n",
       "      <td>Montvila, Rev. Juozas</td>\n",
       "      <td>male</td>\n",
       "      <td>211536</td>\n",
       "      <td>S</td>\n",
       "      <td>0</td>\n",
       "      <td>2</td>\n",
       "      <td>27.0</td>\n",
       "      <td>0</td>\n",
       "      <td>0</td>\n",
       "      <td>13.0000</td>\n",
       "    </tr>\n",
       "    <tr>\n",
       "      <th>887</th>\n",
       "      <td>Graham, Miss. Margaret Edith</td>\n",
       "      <td>female</td>\n",
       "      <td>112053</td>\n",
       "      <td>S</td>\n",
       "      <td>1</td>\n",
       "      <td>1</td>\n",
       "      <td>19.0</td>\n",
       "      <td>0</td>\n",
       "      <td>0</td>\n",
       "      <td>30.0000</td>\n",
       "    </tr>\n",
       "    <tr>\n",
       "      <th>889</th>\n",
       "      <td>Behr, Mr. Karl Howell</td>\n",
       "      <td>male</td>\n",
       "      <td>111369</td>\n",
       "      <td>C</td>\n",
       "      <td>1</td>\n",
       "      <td>1</td>\n",
       "      <td>26.0</td>\n",
       "      <td>0</td>\n",
       "      <td>0</td>\n",
       "      <td>30.0000</td>\n",
       "    </tr>\n",
       "    <tr>\n",
       "      <th>890</th>\n",
       "      <td>Dooley, Mr. Patrick</td>\n",
       "      <td>male</td>\n",
       "      <td>370376</td>\n",
       "      <td>Q</td>\n",
       "      <td>0</td>\n",
       "      <td>3</td>\n",
       "      <td>32.0</td>\n",
       "      <td>0</td>\n",
       "      <td>0</td>\n",
       "      <td>7.7500</td>\n",
       "    </tr>\n",
       "  </tbody>\n",
       "</table>\n",
       "<p>712 rows × 10 columns</p>\n",
       "</div>"
      ],
      "text/plain": [
       "                                                  Name     Sex  \\\n",
       "0                              Braund, Mr. Owen Harris    male   \n",
       "1    Cumings, Mrs. John Bradley (Florence Briggs Th...  female   \n",
       "2                               Heikkinen, Miss. Laina  female   \n",
       "3         Futrelle, Mrs. Jacques Heath (Lily May Peel)  female   \n",
       "4                             Allen, Mr. William Henry    male   \n",
       "..                                                 ...     ...   \n",
       "885               Rice, Mrs. William (Margaret Norton)  female   \n",
       "886                              Montvila, Rev. Juozas    male   \n",
       "887                       Graham, Miss. Margaret Edith  female   \n",
       "889                              Behr, Mr. Karl Howell    male   \n",
       "890                                Dooley, Mr. Patrick    male   \n",
       "\n",
       "               Ticket Embarked Survived Pclass   Age  SibSp  Parch     Fare  \n",
       "0           A/5 21171        S        0      3  22.0      1      0   7.2500  \n",
       "1            PC 17599        C        1      1  38.0      1      0  71.2833  \n",
       "2    STON/O2. 3101282        S        1      3  26.0      0      0   7.9250  \n",
       "3              113803        S        1      1  35.0      1      0  53.1000  \n",
       "4              373450        S        0      3  35.0      0      0   8.0500  \n",
       "..                ...      ...      ...    ...   ...    ...    ...      ...  \n",
       "885            382652        Q        0      3  39.0      0      5  29.1250  \n",
       "886            211536        S        0      2  27.0      0      0  13.0000  \n",
       "887            112053        S        1      1  19.0      0      0  30.0000  \n",
       "889            111369        C        1      1  26.0      0      0  30.0000  \n",
       "890            370376        Q        0      3  32.0      0      0   7.7500  \n",
       "\n",
       "[712 rows x 10 columns]"
      ]
     },
     "execution_count": 39,
     "metadata": {},
     "output_type": "execute_result"
    }
   ],
   "source": [
    "train_df_reduced"
   ]
  },
  {
   "cell_type": "code",
   "execution_count": 40,
   "id": "26745947",
   "metadata": {
    "execution": {
     "iopub.execute_input": "2022-10-20T17:56:03.679593Z",
     "iopub.status.busy": "2022-10-20T17:56:03.678821Z",
     "iopub.status.idle": "2022-10-20T17:56:03.690221Z",
     "shell.execute_reply": "2022-10-20T17:56:03.688917Z"
    },
    "papermill": {
     "duration": 0.066135,
     "end_time": "2022-10-20T17:56:03.693025",
     "exception": false,
     "start_time": "2022-10-20T17:56:03.626890",
     "status": "completed"
    },
    "tags": []
   },
   "outputs": [],
   "source": [
    "percent_missing_nans = train_df.isnull().sum() * 100 / len(train_df)\n",
    "percent_missing_nans1 = train_df_reduced.isnull().sum() * 100 / len(train_df_reduced)\n",
    "nans = pd.DataFrame({'col_name': train_df.columns, 'percent_missing': percent_missing_nans})\n",
    "nans1 = pd.DataFrame({'col_name': train_df_reduced.columns, 'percent_missing': percent_missing_nans1})"
   ]
  },
  {
   "cell_type": "code",
   "execution_count": 41,
   "id": "b4e56892",
   "metadata": {
    "execution": {
     "iopub.execute_input": "2022-10-20T17:56:03.792852Z",
     "iopub.status.busy": "2022-10-20T17:56:03.792411Z",
     "iopub.status.idle": "2022-10-20T17:56:03.804718Z",
     "shell.execute_reply": "2022-10-20T17:56:03.803435Z"
    },
    "papermill": {
     "duration": 0.064739,
     "end_time": "2022-10-20T17:56:03.806946",
     "exception": false,
     "start_time": "2022-10-20T17:56:03.742207",
     "status": "completed"
    },
    "tags": []
   },
   "outputs": [
    {
     "data": {
      "text/html": [
       "<div>\n",
       "<style scoped>\n",
       "    .dataframe tbody tr th:only-of-type {\n",
       "        vertical-align: middle;\n",
       "    }\n",
       "\n",
       "    .dataframe tbody tr th {\n",
       "        vertical-align: top;\n",
       "    }\n",
       "\n",
       "    .dataframe thead th {\n",
       "        text-align: right;\n",
       "    }\n",
       "</style>\n",
       "<table border=\"1\" class=\"dataframe\">\n",
       "  <thead>\n",
       "    <tr style=\"text-align: right;\">\n",
       "      <th></th>\n",
       "      <th>col_name</th>\n",
       "      <th>percent_missing</th>\n",
       "    </tr>\n",
       "  </thead>\n",
       "  <tbody>\n",
       "    <tr>\n",
       "      <th>SibSp</th>\n",
       "      <td>SibSp</td>\n",
       "      <td>0.0</td>\n",
       "    </tr>\n",
       "    <tr>\n",
       "      <th>Parch</th>\n",
       "      <td>Parch</td>\n",
       "      <td>0.0</td>\n",
       "    </tr>\n",
       "    <tr>\n",
       "      <th>Fare</th>\n",
       "      <td>Fare</td>\n",
       "      <td>0.0</td>\n",
       "    </tr>\n",
       "    <tr>\n",
       "      <th>Name</th>\n",
       "      <td>Name</td>\n",
       "      <td>0.0</td>\n",
       "    </tr>\n",
       "    <tr>\n",
       "      <th>Sex</th>\n",
       "      <td>Sex</td>\n",
       "      <td>0.0</td>\n",
       "    </tr>\n",
       "    <tr>\n",
       "      <th>Ticket</th>\n",
       "      <td>Ticket</td>\n",
       "      <td>0.0</td>\n",
       "    </tr>\n",
       "    <tr>\n",
       "      <th>Embarked</th>\n",
       "      <td>Embarked</td>\n",
       "      <td>0.0</td>\n",
       "    </tr>\n",
       "    <tr>\n",
       "      <th>Survived</th>\n",
       "      <td>Survived</td>\n",
       "      <td>0.0</td>\n",
       "    </tr>\n",
       "    <tr>\n",
       "      <th>Pclass</th>\n",
       "      <td>Pclass</td>\n",
       "      <td>0.0</td>\n",
       "    </tr>\n",
       "  </tbody>\n",
       "</table>\n",
       "</div>"
      ],
      "text/plain": [
       "          col_name  percent_missing\n",
       "SibSp        SibSp              0.0\n",
       "Parch        Parch              0.0\n",
       "Fare          Fare              0.0\n",
       "Name          Name              0.0\n",
       "Sex            Sex              0.0\n",
       "Ticket      Ticket              0.0\n",
       "Embarked  Embarked              0.0\n",
       "Survived  Survived              0.0\n",
       "Pclass      Pclass              0.0"
      ]
     },
     "execution_count": 41,
     "metadata": {},
     "output_type": "execute_result"
    }
   ],
   "source": [
    "nans"
   ]
  },
  {
   "cell_type": "code",
   "execution_count": 42,
   "id": "0f4b7494",
   "metadata": {
    "execution": {
     "iopub.execute_input": "2022-10-20T17:56:03.907165Z",
     "iopub.status.busy": "2022-10-20T17:56:03.906486Z",
     "iopub.status.idle": "2022-10-20T17:56:03.918259Z",
     "shell.execute_reply": "2022-10-20T17:56:03.917048Z"
    },
    "papermill": {
     "duration": 0.064967,
     "end_time": "2022-10-20T17:56:03.920885",
     "exception": false,
     "start_time": "2022-10-20T17:56:03.855918",
     "status": "completed"
    },
    "tags": []
   },
   "outputs": [
    {
     "data": {
      "text/html": [
       "<div>\n",
       "<style scoped>\n",
       "    .dataframe tbody tr th:only-of-type {\n",
       "        vertical-align: middle;\n",
       "    }\n",
       "\n",
       "    .dataframe tbody tr th {\n",
       "        vertical-align: top;\n",
       "    }\n",
       "\n",
       "    .dataframe thead th {\n",
       "        text-align: right;\n",
       "    }\n",
       "</style>\n",
       "<table border=\"1\" class=\"dataframe\">\n",
       "  <thead>\n",
       "    <tr style=\"text-align: right;\">\n",
       "      <th></th>\n",
       "      <th>col_name</th>\n",
       "      <th>percent_missing</th>\n",
       "    </tr>\n",
       "  </thead>\n",
       "  <tbody>\n",
       "    <tr>\n",
       "      <th>Name</th>\n",
       "      <td>Name</td>\n",
       "      <td>0.0</td>\n",
       "    </tr>\n",
       "    <tr>\n",
       "      <th>Sex</th>\n",
       "      <td>Sex</td>\n",
       "      <td>0.0</td>\n",
       "    </tr>\n",
       "    <tr>\n",
       "      <th>Ticket</th>\n",
       "      <td>Ticket</td>\n",
       "      <td>0.0</td>\n",
       "    </tr>\n",
       "    <tr>\n",
       "      <th>Embarked</th>\n",
       "      <td>Embarked</td>\n",
       "      <td>0.0</td>\n",
       "    </tr>\n",
       "    <tr>\n",
       "      <th>Survived</th>\n",
       "      <td>Survived</td>\n",
       "      <td>0.0</td>\n",
       "    </tr>\n",
       "    <tr>\n",
       "      <th>Pclass</th>\n",
       "      <td>Pclass</td>\n",
       "      <td>0.0</td>\n",
       "    </tr>\n",
       "    <tr>\n",
       "      <th>Age</th>\n",
       "      <td>Age</td>\n",
       "      <td>0.0</td>\n",
       "    </tr>\n",
       "    <tr>\n",
       "      <th>SibSp</th>\n",
       "      <td>SibSp</td>\n",
       "      <td>0.0</td>\n",
       "    </tr>\n",
       "    <tr>\n",
       "      <th>Parch</th>\n",
       "      <td>Parch</td>\n",
       "      <td>0.0</td>\n",
       "    </tr>\n",
       "    <tr>\n",
       "      <th>Fare</th>\n",
       "      <td>Fare</td>\n",
       "      <td>0.0</td>\n",
       "    </tr>\n",
       "  </tbody>\n",
       "</table>\n",
       "</div>"
      ],
      "text/plain": [
       "          col_name  percent_missing\n",
       "Name          Name              0.0\n",
       "Sex            Sex              0.0\n",
       "Ticket      Ticket              0.0\n",
       "Embarked  Embarked              0.0\n",
       "Survived  Survived              0.0\n",
       "Pclass      Pclass              0.0\n",
       "Age            Age              0.0\n",
       "SibSp        SibSp              0.0\n",
       "Parch        Parch              0.0\n",
       "Fare          Fare              0.0"
      ]
     },
     "execution_count": 42,
     "metadata": {},
     "output_type": "execute_result"
    }
   ],
   "source": [
    "nans1"
   ]
  },
  {
   "cell_type": "markdown",
   "id": "9e437a7b",
   "metadata": {
    "papermill": {
     "duration": 0.050511,
     "end_time": "2022-10-20T17:56:04.021953",
     "exception": false,
     "start_time": "2022-10-20T17:56:03.971442",
     "status": "completed"
    },
    "tags": []
   },
   "source": [
    "We eliminated all missing values in both training datasets."
   ]
  },
  {
   "cell_type": "markdown",
   "id": "750fb157",
   "metadata": {
    "papermill": {
     "duration": 0.049129,
     "end_time": "2022-10-20T17:56:04.120429",
     "exception": false,
     "start_time": "2022-10-20T17:56:04.071300",
     "status": "completed"
    },
    "tags": []
   },
   "source": [
    "### 2.1.3 Simplification of Features and Feature Engineering <a class=\"anchor\" id=\"freqcat\"></a>  \n",
    "We pursue two tasks here: 1) eliminate all categories with less than 5 observations, 2) eliminate unecessary large number of categories, for examle 5 or 7, if applicable 3) encode features after modifications done according to 1) and 2)"
   ]
  },
  {
   "cell_type": "markdown",
   "id": "23c216c0",
   "metadata": {
    "papermill": {
     "duration": 0.048758,
     "end_time": "2022-10-20T17:56:04.218139",
     "exception": false,
     "start_time": "2022-10-20T17:56:04.169381",
     "status": "completed"
    },
    "tags": []
   },
   "source": [
    "#### Show the frequencies of all categories in each feature"
   ]
  },
  {
   "cell_type": "code",
   "execution_count": 43,
   "id": "6dfca390",
   "metadata": {
    "execution": {
     "iopub.execute_input": "2022-10-20T17:56:04.318031Z",
     "iopub.status.busy": "2022-10-20T17:56:04.317619Z",
     "iopub.status.idle": "2022-10-20T17:56:04.333763Z",
     "shell.execute_reply": "2022-10-20T17:56:04.332597Z"
    },
    "papermill": {
     "duration": 0.069455,
     "end_time": "2022-10-20T17:56:04.336815",
     "exception": false,
     "start_time": "2022-10-20T17:56:04.267360",
     "status": "completed"
    },
    "tags": []
   },
   "outputs": [
    {
     "name": "stdout",
     "output_type": "stream",
     "text": [
      "-------- Name --------\n",
      "Braund, Mr. Owen Harris                     1\n",
      "Boulos, Mr. Hanna                           1\n",
      "Frolicher-Stehli, Mr. Maxmillian            1\n",
      "Gilinski, Mr. Eliezer                       1\n",
      "Murdlin, Mr. Joseph                         1\n",
      "                                           ..\n",
      "Kelly, Miss. Anna Katherine \"Annie Kate\"    1\n",
      "McCoy, Mr. Bernard                          1\n",
      "Johnson, Mr. William Cahoone Jr             1\n",
      "Keane, Miss. Nora A                         1\n",
      "Dooley, Mr. Patrick                         1\n",
      "Name: Name, Length: 891, dtype: int64\n",
      "-------- Sex --------\n",
      "male      577\n",
      "female    314\n",
      "Name: Sex, dtype: int64\n",
      "-------- Ticket --------\n",
      "347082      7\n",
      "CA. 2343    7\n",
      "1601        7\n",
      "3101295     6\n",
      "CA 2144     6\n",
      "           ..\n",
      "9234        1\n",
      "19988       1\n",
      "2693        1\n",
      "PC 17612    1\n",
      "370376      1\n",
      "Name: Ticket, Length: 681, dtype: int64\n",
      "-------- Embarked --------\n",
      "S    644\n",
      "C    168\n",
      "Q     77\n",
      "Name: Embarked, dtype: int64\n",
      "-------- Survived --------\n",
      "0    549\n",
      "1    342\n",
      "Name: Survived, dtype: int64\n",
      "-------- Pclass --------\n",
      "3    491\n",
      "1    216\n",
      "2    184\n",
      "Name: Pclass, dtype: int64\n"
     ]
    }
   ],
   "source": [
    "for c in train_df_cat.columns:\n",
    "    print('--------', c, '--------')\n",
    "    print(train_df_cat[c].value_counts())"
   ]
  },
  {
   "cell_type": "markdown",
   "id": "f1b4e956",
   "metadata": {
    "papermill": {
     "duration": 0.049825,
     "end_time": "2022-10-20T17:56:04.437160",
     "exception": false,
     "start_time": "2022-10-20T17:56:04.387335",
     "status": "completed"
    },
    "tags": []
   },
   "source": [
    "#### Name"
   ]
  },
  {
   "cell_type": "code",
   "execution_count": 44,
   "id": "54bc540d",
   "metadata": {
    "execution": {
     "iopub.execute_input": "2022-10-20T17:56:04.538860Z",
     "iopub.status.busy": "2022-10-20T17:56:04.538155Z",
     "iopub.status.idle": "2022-10-20T17:56:04.555963Z",
     "shell.execute_reply": "2022-10-20T17:56:04.554753Z"
    },
    "papermill": {
     "duration": 0.071695,
     "end_time": "2022-10-20T17:56:04.558662",
     "exception": false,
     "start_time": "2022-10-20T17:56:04.486967",
     "status": "completed"
    },
    "tags": []
   },
   "outputs": [
    {
     "data": {
      "text/plain": [
       " Mr              517\n",
       " Miss            181\n",
       " Mrs             124\n",
       " Master           40\n",
       " Dr                7\n",
       " Rev               6\n",
       " Mlle              2\n",
       " Major             2\n",
       " Col               2\n",
       " the Countess      1\n",
       " Capt              1\n",
       " Ms                1\n",
       " Sir               1\n",
       " Lady              1\n",
       " Mme               1\n",
       " Don               1\n",
       " Jonkheer          1\n",
       "Name: Name, dtype: int64"
      ]
     },
     "execution_count": 44,
     "metadata": {},
     "output_type": "execute_result"
    }
   ],
   "source": [
    "firstName = train_df.Name.str.split(\".\").str.get(0).str.split(\",\").str.get(-1)\n",
    "firstName1 = train_df_reduced.Name.str.split(\".\").str.get(0).str.split(\",\").str.get(-1)\n",
    "firstName.value_counts()"
   ]
  },
  {
   "cell_type": "code",
   "execution_count": 45,
   "id": "e17f353d",
   "metadata": {
    "execution": {
     "iopub.execute_input": "2022-10-20T17:56:04.660278Z",
     "iopub.status.busy": "2022-10-20T17:56:04.659822Z",
     "iopub.status.idle": "2022-10-20T17:56:04.697103Z",
     "shell.execute_reply": "2022-10-20T17:56:04.695989Z"
    },
    "papermill": {
     "duration": 0.091237,
     "end_time": "2022-10-20T17:56:04.699758",
     "exception": false,
     "start_time": "2022-10-20T17:56:04.608521",
     "status": "completed"
    },
    "tags": []
   },
   "outputs": [],
   "source": [
    "firstName.replace(to_replace = [\"Dr\", \"Rev\", \"Col\", \"Major\", \"Capt\"], value = \"Officer\", inplace = True, regex = True)\n",
    "firstName.replace(to_replace = [\"Dona\", \"Jonkheer\", \"Countess\", \"Sir\", \"Lady\", \"Don\"], value = \"Aristocrat\", inplace = True, regex = True)\n",
    "firstName.replace({\"Mlle\":\"Miss\", \"Ms\":\"Miss\", \"Mme\":\"Mrs\"}, inplace = True, regex = True)\n",
    "firstName.replace({\"the Aristocrat\":\"Aristocrat\"}, inplace = True, regex = True)\n",
    "train_df[\"NameNew\"] = firstName"
   ]
  },
  {
   "cell_type": "code",
   "execution_count": 46,
   "id": "ebe95938",
   "metadata": {
    "execution": {
     "iopub.execute_input": "2022-10-20T17:56:04.800490Z",
     "iopub.status.busy": "2022-10-20T17:56:04.799822Z",
     "iopub.status.idle": "2022-10-20T17:56:04.827280Z",
     "shell.execute_reply": "2022-10-20T17:56:04.826004Z"
    },
    "papermill": {
     "duration": 0.081252,
     "end_time": "2022-10-20T17:56:04.830211",
     "exception": false,
     "start_time": "2022-10-20T17:56:04.748959",
     "status": "completed"
    },
    "tags": []
   },
   "outputs": [],
   "source": [
    "firstName1.replace(to_replace = [\"Dr\", \"Rev\", \"Col\", \"Major\", \"Capt\"], value = \"Officer\", inplace = True, regex = True)\n",
    "firstName1.replace(to_replace = [\"Dona\", \"Jonkheer\", \"Countess\", \"Sir\", \"Lady\", \"Don\"], value = \"Aristocrat\", inplace = True, regex = True)\n",
    "firstName1.replace({\"Mlle\":\"Miss\", \"Ms\":\"Miss\", \"Mme\":\"Mrs\"}, inplace = True, regex = True)\n",
    "firstName1.replace({\"the Aristocrat\":\"Aristocrat\"}, inplace = True, regex = True)\n",
    "train_df_reduced[\"NameNew\"] = firstName1"
   ]
  },
  {
   "cell_type": "code",
   "execution_count": 47,
   "id": "e9bdefc4",
   "metadata": {
    "execution": {
     "iopub.execute_input": "2022-10-20T17:56:04.931788Z",
     "iopub.status.busy": "2022-10-20T17:56:04.931344Z",
     "iopub.status.idle": "2022-10-20T17:56:04.940739Z",
     "shell.execute_reply": "2022-10-20T17:56:04.939611Z"
    },
    "papermill": {
     "duration": 0.062986,
     "end_time": "2022-10-20T17:56:04.943253",
     "exception": false,
     "start_time": "2022-10-20T17:56:04.880267",
     "status": "completed"
    },
    "tags": []
   },
   "outputs": [
    {
     "data": {
      "text/plain": [
       " Mr            517\n",
       " Miss          184\n",
       " Mrs           125\n",
       " Master         40\n",
       " Officer        18\n",
       " Aristocrat      5\n",
       "Name: NameNew, dtype: int64"
      ]
     },
     "execution_count": 47,
     "metadata": {},
     "output_type": "execute_result"
    }
   ],
   "source": [
    "train_df[\"NameNew\"].value_counts()"
   ]
  },
  {
   "cell_type": "code",
   "execution_count": 48,
   "id": "2fcf916b",
   "metadata": {
    "execution": {
     "iopub.execute_input": "2022-10-20T17:56:05.048094Z",
     "iopub.status.busy": "2022-10-20T17:56:05.047640Z",
     "iopub.status.idle": "2022-10-20T17:56:05.057006Z",
     "shell.execute_reply": "2022-10-20T17:56:05.055869Z"
    },
    "papermill": {
     "duration": 0.06407,
     "end_time": "2022-10-20T17:56:05.059412",
     "exception": false,
     "start_time": "2022-10-20T17:56:04.995342",
     "status": "completed"
    },
    "tags": []
   },
   "outputs": [
    {
     "data": {
      "text/plain": [
       " Mr            398\n",
       " Miss          148\n",
       " Mrs           108\n",
       " Master         36\n",
       " Officer        17\n",
       " Aristocrat      5\n",
       "Name: NameNew, dtype: int64"
      ]
     },
     "execution_count": 48,
     "metadata": {},
     "output_type": "execute_result"
    }
   ],
   "source": [
    "train_df_reduced[\"NameNew\"].value_counts()"
   ]
  },
  {
   "cell_type": "markdown",
   "id": "35d0dbcf",
   "metadata": {
    "papermill": {
     "duration": 0.049159,
     "end_time": "2022-10-20T17:56:05.159822",
     "exception": false,
     "start_time": "2022-10-20T17:56:05.110663",
     "status": "completed"
    },
    "tags": []
   },
   "source": [
    "#### Tickets"
   ]
  },
  {
   "cell_type": "code",
   "execution_count": 49,
   "id": "d0b2b309",
   "metadata": {
    "execution": {
     "iopub.execute_input": "2022-10-20T17:56:05.261766Z",
     "iopub.status.busy": "2022-10-20T17:56:05.261294Z",
     "iopub.status.idle": "2022-10-20T17:56:05.272906Z",
     "shell.execute_reply": "2022-10-20T17:56:05.271315Z"
    },
    "papermill": {
     "duration": 0.065001,
     "end_time": "2022-10-20T17:56:05.275553",
     "exception": false,
     "start_time": "2022-10-20T17:56:05.210552",
     "status": "completed"
    },
    "tags": []
   },
   "outputs": [
    {
     "data": {
      "text/plain": [
       "347082      7\n",
       "CA. 2343    7\n",
       "1601        7\n",
       "3101295     6\n",
       "CA 2144     6\n",
       "           ..\n",
       "9234        1\n",
       "19988       1\n",
       "2693        1\n",
       "PC 17612    1\n",
       "370376      1\n",
       "Name: Ticket, Length: 680, dtype: int64"
      ]
     },
     "execution_count": 49,
     "metadata": {},
     "output_type": "execute_result"
    }
   ],
   "source": [
    "train_df['Ticket'].value_counts()"
   ]
  },
  {
   "cell_type": "code",
   "execution_count": 50,
   "id": "721c7c3b",
   "metadata": {
    "execution": {
     "iopub.execute_input": "2022-10-20T17:56:05.377739Z",
     "iopub.status.busy": "2022-10-20T17:56:05.377236Z",
     "iopub.status.idle": "2022-10-20T17:56:05.393400Z",
     "shell.execute_reply": "2022-10-20T17:56:05.392047Z"
    },
    "papermill": {
     "duration": 0.070029,
     "end_time": "2022-10-20T17:56:05.395939",
     "exception": false,
     "start_time": "2022-10-20T17:56:05.325910",
     "status": "completed"
    },
    "tags": []
   },
   "outputs": [],
   "source": [
    "temp = train_df.Ticket.str.split(\" \").str.get(0).str.get(0)\n",
    "temp1 = train_df_reduced.Ticket.str.split(\" \").str.get(0).str.get(0)\n",
    "train_df[\"TicketNew\"] = np.where(train_df.Ticket.str.isdigit(), \"N\", temp)\n",
    "train_df_reduced[\"TicketNew\"] = np.where(train_df_reduced.Ticket.str.isdigit(), \"N\", temp1)"
   ]
  },
  {
   "cell_type": "code",
   "execution_count": 51,
   "id": "c2ad23da",
   "metadata": {
    "execution": {
     "iopub.execute_input": "2022-10-20T17:56:05.498154Z",
     "iopub.status.busy": "2022-10-20T17:56:05.497693Z",
     "iopub.status.idle": "2022-10-20T17:56:05.507557Z",
     "shell.execute_reply": "2022-10-20T17:56:05.506396Z"
    },
    "papermill": {
     "duration": 0.063601,
     "end_time": "2022-10-20T17:56:05.509919",
     "exception": false,
     "start_time": "2022-10-20T17:56:05.446318",
     "status": "completed"
    },
    "tags": []
   },
   "outputs": [
    {
     "data": {
      "text/plain": [
       "N    659\n",
       "P     65\n",
       "S     65\n",
       "C     47\n",
       "A     29\n",
       "W     13\n",
       "F      7\n",
       "L      4\n",
       "Name: TicketNew, dtype: int64"
      ]
     },
     "execution_count": 51,
     "metadata": {},
     "output_type": "execute_result"
    }
   ],
   "source": [
    "train_df[\"TicketNew\"].value_counts()"
   ]
  },
  {
   "cell_type": "code",
   "execution_count": 52,
   "id": "7d7d1924",
   "metadata": {
    "execution": {
     "iopub.execute_input": "2022-10-20T17:56:05.612646Z",
     "iopub.status.busy": "2022-10-20T17:56:05.612182Z",
     "iopub.status.idle": "2022-10-20T17:56:05.621605Z",
     "shell.execute_reply": "2022-10-20T17:56:05.620489Z"
    },
    "papermill": {
     "duration": 0.063383,
     "end_time": "2022-10-20T17:56:05.624035",
     "exception": false,
     "start_time": "2022-10-20T17:56:05.560652",
     "status": "completed"
    },
    "tags": []
   },
   "outputs": [
    {
     "data": {
      "text/plain": [
       "N    519\n",
       "S     56\n",
       "P     55\n",
       "C     39\n",
       "A     23\n",
       "W     10\n",
       "F      6\n",
       "L      4\n",
       "Name: TicketNew, dtype: int64"
      ]
     },
     "execution_count": 52,
     "metadata": {},
     "output_type": "execute_result"
    }
   ],
   "source": [
    "train_df_reduced[\"TicketNew\"].value_counts()"
   ]
  },
  {
   "cell_type": "markdown",
   "id": "5907b4e2",
   "metadata": {
    "papermill": {
     "duration": 0.050949,
     "end_time": "2022-10-20T17:56:05.724875",
     "exception": false,
     "start_time": "2022-10-20T17:56:05.673926",
     "status": "completed"
    },
    "tags": []
   },
   "source": [
    "#### SibSp and Parch"
   ]
  },
  {
   "cell_type": "code",
   "execution_count": 53,
   "id": "4f10ec70",
   "metadata": {
    "execution": {
     "iopub.execute_input": "2022-10-20T17:56:05.826561Z",
     "iopub.status.busy": "2022-10-20T17:56:05.826085Z",
     "iopub.status.idle": "2022-10-20T17:56:05.836093Z",
     "shell.execute_reply": "2022-10-20T17:56:05.834903Z"
    },
    "papermill": {
     "duration": 0.064061,
     "end_time": "2022-10-20T17:56:05.838754",
     "exception": false,
     "start_time": "2022-10-20T17:56:05.774693",
     "status": "completed"
    },
    "tags": []
   },
   "outputs": [],
   "source": [
    "train_df[\"Family\"] = train_df.SibSp + train_df.Parch + 1\n",
    "train_df_reduced[\"Family\"] = train_df_reduced.SibSp + train_df_reduced.Parch + 1"
   ]
  },
  {
   "cell_type": "code",
   "execution_count": 54,
   "id": "a2d962d8",
   "metadata": {
    "execution": {
     "iopub.execute_input": "2022-10-20T17:56:05.942347Z",
     "iopub.status.busy": "2022-10-20T17:56:05.941337Z",
     "iopub.status.idle": "2022-10-20T17:56:05.950339Z",
     "shell.execute_reply": "2022-10-20T17:56:05.949174Z"
    },
    "papermill": {
     "duration": 0.064278,
     "end_time": "2022-10-20T17:56:05.952940",
     "exception": false,
     "start_time": "2022-10-20T17:56:05.888662",
     "status": "completed"
    },
    "tags": []
   },
   "outputs": [
    {
     "data": {
      "text/plain": [
       "1     535\n",
       "2     161\n",
       "3     102\n",
       "4      29\n",
       "6      22\n",
       "5      15\n",
       "7      12\n",
       "11      7\n",
       "8       6\n",
       "Name: Family, dtype: int64"
      ]
     },
     "execution_count": 54,
     "metadata": {},
     "output_type": "execute_result"
    }
   ],
   "source": [
    "train_df.Family.value_counts()"
   ]
  },
  {
   "cell_type": "code",
   "execution_count": 55,
   "id": "1ddebd79",
   "metadata": {
    "execution": {
     "iopub.execute_input": "2022-10-20T17:56:06.055325Z",
     "iopub.status.busy": "2022-10-20T17:56:06.054887Z",
     "iopub.status.idle": "2022-10-20T17:56:06.064261Z",
     "shell.execute_reply": "2022-10-20T17:56:06.063047Z"
    },
    "papermill": {
     "duration": 0.063192,
     "end_time": "2022-10-20T17:56:06.066616",
     "exception": false,
     "start_time": "2022-10-20T17:56:06.003424",
     "status": "completed"
    },
    "tags": []
   },
   "outputs": [
    {
     "data": {
      "text/plain": [
       "1    402\n",
       "2    139\n",
       "3     93\n",
       "4     27\n",
       "6     22\n",
       "7     12\n",
       "5     11\n",
       "8      6\n",
       "Name: Family, dtype: int64"
      ]
     },
     "execution_count": 55,
     "metadata": {},
     "output_type": "execute_result"
    }
   ],
   "source": [
    "train_df_reduced.Family.value_counts()"
   ]
  },
  {
   "cell_type": "code",
   "execution_count": 56,
   "id": "81f06e77",
   "metadata": {
    "execution": {
     "iopub.execute_input": "2022-10-20T17:56:06.169469Z",
     "iopub.status.busy": "2022-10-20T17:56:06.169054Z",
     "iopub.status.idle": "2022-10-20T17:56:06.181172Z",
     "shell.execute_reply": "2022-10-20T17:56:06.180000Z"
    },
    "papermill": {
     "duration": 0.066743,
     "end_time": "2022-10-20T17:56:06.183824",
     "exception": false,
     "start_time": "2022-10-20T17:56:06.117081",
     "status": "completed"
    },
    "tags": []
   },
   "outputs": [],
   "source": [
    "train_df.Family.replace(to_replace = [1], value = \"single\", inplace = True)\n",
    "train_df.Family.replace(to_replace = [2, 3], value = \"small\", inplace = True)\n",
    "train_df.Family.replace(to_replace = [4,5], value = \"medium\", inplace = True)\n",
    "train_df.Family.replace(to_replace = [6, 7, 8, 11], value = \"large\", inplace = True)"
   ]
  },
  {
   "cell_type": "code",
   "execution_count": 57,
   "id": "a2a9dd53",
   "metadata": {
    "execution": {
     "iopub.execute_input": "2022-10-20T17:56:06.287133Z",
     "iopub.status.busy": "2022-10-20T17:56:06.285760Z",
     "iopub.status.idle": "2022-10-20T17:56:06.296207Z",
     "shell.execute_reply": "2022-10-20T17:56:06.295260Z"
    },
    "papermill": {
     "duration": 0.064506,
     "end_time": "2022-10-20T17:56:06.298520",
     "exception": false,
     "start_time": "2022-10-20T17:56:06.234014",
     "status": "completed"
    },
    "tags": []
   },
   "outputs": [],
   "source": [
    "train_df_reduced.Family.replace(to_replace = [1], value = \"single\", inplace = True)\n",
    "train_df_reduced.Family.replace(to_replace = [2, 3], value = \"small\", inplace = True)\n",
    "train_df_reduced.Family.replace(to_replace = [4,5], value = \"medium\", inplace = True)\n",
    "train_df_reduced.Family.replace(to_replace = [6, 7, 8, 11], value = \"large\", inplace = True)"
   ]
  },
  {
   "cell_type": "code",
   "execution_count": 58,
   "id": "fb9c52b8",
   "metadata": {
    "execution": {
     "iopub.execute_input": "2022-10-20T17:56:06.401244Z",
     "iopub.status.busy": "2022-10-20T17:56:06.400472Z",
     "iopub.status.idle": "2022-10-20T17:56:06.409222Z",
     "shell.execute_reply": "2022-10-20T17:56:06.407920Z"
    },
    "papermill": {
     "duration": 0.063529,
     "end_time": "2022-10-20T17:56:06.412096",
     "exception": false,
     "start_time": "2022-10-20T17:56:06.348567",
     "status": "completed"
    },
    "tags": []
   },
   "outputs": [
    {
     "data": {
      "text/plain": [
       "single    535\n",
       "small     263\n",
       "large      47\n",
       "medium     44\n",
       "Name: Family, dtype: int64"
      ]
     },
     "execution_count": 58,
     "metadata": {},
     "output_type": "execute_result"
    }
   ],
   "source": [
    "train_df.Family.value_counts()"
   ]
  },
  {
   "cell_type": "code",
   "execution_count": 59,
   "id": "4b640900",
   "metadata": {
    "execution": {
     "iopub.execute_input": "2022-10-20T17:56:06.518663Z",
     "iopub.status.busy": "2022-10-20T17:56:06.517440Z",
     "iopub.status.idle": "2022-10-20T17:56:06.526500Z",
     "shell.execute_reply": "2022-10-20T17:56:06.525512Z"
    },
    "papermill": {
     "duration": 0.064321,
     "end_time": "2022-10-20T17:56:06.528936",
     "exception": false,
     "start_time": "2022-10-20T17:56:06.464615",
     "status": "completed"
    },
    "tags": []
   },
   "outputs": [
    {
     "data": {
      "text/plain": [
       "single    402\n",
       "small     232\n",
       "large      40\n",
       "medium     38\n",
       "Name: Family, dtype: int64"
      ]
     },
     "execution_count": 59,
     "metadata": {},
     "output_type": "execute_result"
    }
   ],
   "source": [
    "train_df_reduced.Family.value_counts()"
   ]
  },
  {
   "cell_type": "code",
   "execution_count": 60,
   "id": "0006c3b4",
   "metadata": {
    "execution": {
     "iopub.execute_input": "2022-10-20T17:56:06.633502Z",
     "iopub.status.busy": "2022-10-20T17:56:06.632795Z",
     "iopub.status.idle": "2022-10-20T17:56:06.656145Z",
     "shell.execute_reply": "2022-10-20T17:56:06.654824Z"
    },
    "papermill": {
     "duration": 0.078143,
     "end_time": "2022-10-20T17:56:06.658660",
     "exception": false,
     "start_time": "2022-10-20T17:56:06.580517",
     "status": "completed"
    },
    "tags": []
   },
   "outputs": [
    {
     "data": {
      "text/html": [
       "<div>\n",
       "<style scoped>\n",
       "    .dataframe tbody tr th:only-of-type {\n",
       "        vertical-align: middle;\n",
       "    }\n",
       "\n",
       "    .dataframe tbody tr th {\n",
       "        vertical-align: top;\n",
       "    }\n",
       "\n",
       "    .dataframe thead th {\n",
       "        text-align: right;\n",
       "    }\n",
       "</style>\n",
       "<table border=\"1\" class=\"dataframe\">\n",
       "  <thead>\n",
       "    <tr style=\"text-align: right;\">\n",
       "      <th></th>\n",
       "      <th>SibSp</th>\n",
       "      <th>Parch</th>\n",
       "      <th>Fare</th>\n",
       "      <th>Name</th>\n",
       "      <th>Sex</th>\n",
       "      <th>Ticket</th>\n",
       "      <th>Embarked</th>\n",
       "      <th>Survived</th>\n",
       "      <th>Pclass</th>\n",
       "      <th>NameNew</th>\n",
       "      <th>TicketNew</th>\n",
       "      <th>Family</th>\n",
       "    </tr>\n",
       "  </thead>\n",
       "  <tbody>\n",
       "    <tr>\n",
       "      <th>0</th>\n",
       "      <td>1</td>\n",
       "      <td>0</td>\n",
       "      <td>7.2500</td>\n",
       "      <td>Braund, Mr. Owen Harris</td>\n",
       "      <td>male</td>\n",
       "      <td>A/5 21171</td>\n",
       "      <td>S</td>\n",
       "      <td>0</td>\n",
       "      <td>3</td>\n",
       "      <td>Mr</td>\n",
       "      <td>A</td>\n",
       "      <td>small</td>\n",
       "    </tr>\n",
       "    <tr>\n",
       "      <th>1</th>\n",
       "      <td>1</td>\n",
       "      <td>0</td>\n",
       "      <td>71.2833</td>\n",
       "      <td>Cumings, Mrs. John Bradley (Florence Briggs Th...</td>\n",
       "      <td>female</td>\n",
       "      <td>PC 17599</td>\n",
       "      <td>C</td>\n",
       "      <td>1</td>\n",
       "      <td>1</td>\n",
       "      <td>Mrs</td>\n",
       "      <td>P</td>\n",
       "      <td>small</td>\n",
       "    </tr>\n",
       "    <tr>\n",
       "      <th>2</th>\n",
       "      <td>0</td>\n",
       "      <td>0</td>\n",
       "      <td>7.9250</td>\n",
       "      <td>Heikkinen, Miss. Laina</td>\n",
       "      <td>female</td>\n",
       "      <td>STON/O2. 3101282</td>\n",
       "      <td>S</td>\n",
       "      <td>1</td>\n",
       "      <td>3</td>\n",
       "      <td>Miss</td>\n",
       "      <td>S</td>\n",
       "      <td>single</td>\n",
       "    </tr>\n",
       "    <tr>\n",
       "      <th>3</th>\n",
       "      <td>1</td>\n",
       "      <td>0</td>\n",
       "      <td>53.1000</td>\n",
       "      <td>Futrelle, Mrs. Jacques Heath (Lily May Peel)</td>\n",
       "      <td>female</td>\n",
       "      <td>113803</td>\n",
       "      <td>S</td>\n",
       "      <td>1</td>\n",
       "      <td>1</td>\n",
       "      <td>Mrs</td>\n",
       "      <td>N</td>\n",
       "      <td>small</td>\n",
       "    </tr>\n",
       "    <tr>\n",
       "      <th>4</th>\n",
       "      <td>0</td>\n",
       "      <td>0</td>\n",
       "      <td>8.0500</td>\n",
       "      <td>Allen, Mr. William Henry</td>\n",
       "      <td>male</td>\n",
       "      <td>373450</td>\n",
       "      <td>S</td>\n",
       "      <td>0</td>\n",
       "      <td>3</td>\n",
       "      <td>Mr</td>\n",
       "      <td>N</td>\n",
       "      <td>single</td>\n",
       "    </tr>\n",
       "    <tr>\n",
       "      <th>...</th>\n",
       "      <td>...</td>\n",
       "      <td>...</td>\n",
       "      <td>...</td>\n",
       "      <td>...</td>\n",
       "      <td>...</td>\n",
       "      <td>...</td>\n",
       "      <td>...</td>\n",
       "      <td>...</td>\n",
       "      <td>...</td>\n",
       "      <td>...</td>\n",
       "      <td>...</td>\n",
       "      <td>...</td>\n",
       "    </tr>\n",
       "    <tr>\n",
       "      <th>886</th>\n",
       "      <td>0</td>\n",
       "      <td>0</td>\n",
       "      <td>13.0000</td>\n",
       "      <td>Montvila, Rev. Juozas</td>\n",
       "      <td>male</td>\n",
       "      <td>211536</td>\n",
       "      <td>S</td>\n",
       "      <td>0</td>\n",
       "      <td>2</td>\n",
       "      <td>Officer</td>\n",
       "      <td>N</td>\n",
       "      <td>single</td>\n",
       "    </tr>\n",
       "    <tr>\n",
       "      <th>887</th>\n",
       "      <td>0</td>\n",
       "      <td>0</td>\n",
       "      <td>30.0000</td>\n",
       "      <td>Graham, Miss. Margaret Edith</td>\n",
       "      <td>female</td>\n",
       "      <td>112053</td>\n",
       "      <td>S</td>\n",
       "      <td>1</td>\n",
       "      <td>1</td>\n",
       "      <td>Miss</td>\n",
       "      <td>N</td>\n",
       "      <td>single</td>\n",
       "    </tr>\n",
       "    <tr>\n",
       "      <th>888</th>\n",
       "      <td>1</td>\n",
       "      <td>2</td>\n",
       "      <td>23.4500</td>\n",
       "      <td>Johnston, Miss. Catherine Helen \"Carrie\"</td>\n",
       "      <td>female</td>\n",
       "      <td>W./C. 6607</td>\n",
       "      <td>S</td>\n",
       "      <td>0</td>\n",
       "      <td>3</td>\n",
       "      <td>Miss</td>\n",
       "      <td>W</td>\n",
       "      <td>medium</td>\n",
       "    </tr>\n",
       "    <tr>\n",
       "      <th>889</th>\n",
       "      <td>0</td>\n",
       "      <td>0</td>\n",
       "      <td>30.0000</td>\n",
       "      <td>Behr, Mr. Karl Howell</td>\n",
       "      <td>male</td>\n",
       "      <td>111369</td>\n",
       "      <td>C</td>\n",
       "      <td>1</td>\n",
       "      <td>1</td>\n",
       "      <td>Mr</td>\n",
       "      <td>N</td>\n",
       "      <td>single</td>\n",
       "    </tr>\n",
       "    <tr>\n",
       "      <th>890</th>\n",
       "      <td>0</td>\n",
       "      <td>0</td>\n",
       "      <td>7.7500</td>\n",
       "      <td>Dooley, Mr. Patrick</td>\n",
       "      <td>male</td>\n",
       "      <td>370376</td>\n",
       "      <td>Q</td>\n",
       "      <td>0</td>\n",
       "      <td>3</td>\n",
       "      <td>Mr</td>\n",
       "      <td>N</td>\n",
       "      <td>single</td>\n",
       "    </tr>\n",
       "  </tbody>\n",
       "</table>\n",
       "<p>889 rows × 12 columns</p>\n",
       "</div>"
      ],
      "text/plain": [
       "     SibSp  Parch     Fare                                               Name  \\\n",
       "0        1      0   7.2500                            Braund, Mr. Owen Harris   \n",
       "1        1      0  71.2833  Cumings, Mrs. John Bradley (Florence Briggs Th...   \n",
       "2        0      0   7.9250                             Heikkinen, Miss. Laina   \n",
       "3        1      0  53.1000       Futrelle, Mrs. Jacques Heath (Lily May Peel)   \n",
       "4        0      0   8.0500                           Allen, Mr. William Henry   \n",
       "..     ...    ...      ...                                                ...   \n",
       "886      0      0  13.0000                              Montvila, Rev. Juozas   \n",
       "887      0      0  30.0000                       Graham, Miss. Margaret Edith   \n",
       "888      1      2  23.4500           Johnston, Miss. Catherine Helen \"Carrie\"   \n",
       "889      0      0  30.0000                              Behr, Mr. Karl Howell   \n",
       "890      0      0   7.7500                                Dooley, Mr. Patrick   \n",
       "\n",
       "        Sex            Ticket Embarked Survived Pclass   NameNew TicketNew  \\\n",
       "0      male         A/5 21171        S        0      3        Mr         A   \n",
       "1    female          PC 17599        C        1      1       Mrs         P   \n",
       "2    female  STON/O2. 3101282        S        1      3      Miss         S   \n",
       "3    female            113803        S        1      1       Mrs         N   \n",
       "4      male            373450        S        0      3        Mr         N   \n",
       "..      ...               ...      ...      ...    ...       ...       ...   \n",
       "886    male            211536        S        0      2   Officer         N   \n",
       "887  female            112053        S        1      1      Miss         N   \n",
       "888  female        W./C. 6607        S        0      3      Miss         W   \n",
       "889    male            111369        C        1      1        Mr         N   \n",
       "890    male            370376        Q        0      3        Mr         N   \n",
       "\n",
       "     Family  \n",
       "0     small  \n",
       "1     small  \n",
       "2    single  \n",
       "3     small  \n",
       "4    single  \n",
       "..      ...  \n",
       "886  single  \n",
       "887  single  \n",
       "888  medium  \n",
       "889  single  \n",
       "890  single  \n",
       "\n",
       "[889 rows x 12 columns]"
      ]
     },
     "execution_count": 60,
     "metadata": {},
     "output_type": "execute_result"
    }
   ],
   "source": [
    "train_df"
   ]
  },
  {
   "cell_type": "code",
   "execution_count": 61,
   "id": "1fedfb43",
   "metadata": {
    "execution": {
     "iopub.execute_input": "2022-10-20T17:56:06.765906Z",
     "iopub.status.busy": "2022-10-20T17:56:06.765442Z",
     "iopub.status.idle": "2022-10-20T17:56:06.793127Z",
     "shell.execute_reply": "2022-10-20T17:56:06.791893Z"
    },
    "papermill": {
     "duration": 0.084688,
     "end_time": "2022-10-20T17:56:06.795769",
     "exception": false,
     "start_time": "2022-10-20T17:56:06.711081",
     "status": "completed"
    },
    "tags": []
   },
   "outputs": [
    {
     "data": {
      "text/html": [
       "<div>\n",
       "<style scoped>\n",
       "    .dataframe tbody tr th:only-of-type {\n",
       "        vertical-align: middle;\n",
       "    }\n",
       "\n",
       "    .dataframe tbody tr th {\n",
       "        vertical-align: top;\n",
       "    }\n",
       "\n",
       "    .dataframe thead th {\n",
       "        text-align: right;\n",
       "    }\n",
       "</style>\n",
       "<table border=\"1\" class=\"dataframe\">\n",
       "  <thead>\n",
       "    <tr style=\"text-align: right;\">\n",
       "      <th></th>\n",
       "      <th>Name</th>\n",
       "      <th>Sex</th>\n",
       "      <th>Ticket</th>\n",
       "      <th>Embarked</th>\n",
       "      <th>Survived</th>\n",
       "      <th>Pclass</th>\n",
       "      <th>Age</th>\n",
       "      <th>SibSp</th>\n",
       "      <th>Parch</th>\n",
       "      <th>Fare</th>\n",
       "      <th>NameNew</th>\n",
       "      <th>TicketNew</th>\n",
       "      <th>Family</th>\n",
       "    </tr>\n",
       "  </thead>\n",
       "  <tbody>\n",
       "    <tr>\n",
       "      <th>0</th>\n",
       "      <td>Braund, Mr. Owen Harris</td>\n",
       "      <td>male</td>\n",
       "      <td>A/5 21171</td>\n",
       "      <td>S</td>\n",
       "      <td>0</td>\n",
       "      <td>3</td>\n",
       "      <td>22.0</td>\n",
       "      <td>1</td>\n",
       "      <td>0</td>\n",
       "      <td>7.2500</td>\n",
       "      <td>Mr</td>\n",
       "      <td>A</td>\n",
       "      <td>small</td>\n",
       "    </tr>\n",
       "    <tr>\n",
       "      <th>1</th>\n",
       "      <td>Cumings, Mrs. John Bradley (Florence Briggs Th...</td>\n",
       "      <td>female</td>\n",
       "      <td>PC 17599</td>\n",
       "      <td>C</td>\n",
       "      <td>1</td>\n",
       "      <td>1</td>\n",
       "      <td>38.0</td>\n",
       "      <td>1</td>\n",
       "      <td>0</td>\n",
       "      <td>71.2833</td>\n",
       "      <td>Mrs</td>\n",
       "      <td>P</td>\n",
       "      <td>small</td>\n",
       "    </tr>\n",
       "    <tr>\n",
       "      <th>2</th>\n",
       "      <td>Heikkinen, Miss. Laina</td>\n",
       "      <td>female</td>\n",
       "      <td>STON/O2. 3101282</td>\n",
       "      <td>S</td>\n",
       "      <td>1</td>\n",
       "      <td>3</td>\n",
       "      <td>26.0</td>\n",
       "      <td>0</td>\n",
       "      <td>0</td>\n",
       "      <td>7.9250</td>\n",
       "      <td>Miss</td>\n",
       "      <td>S</td>\n",
       "      <td>single</td>\n",
       "    </tr>\n",
       "    <tr>\n",
       "      <th>3</th>\n",
       "      <td>Futrelle, Mrs. Jacques Heath (Lily May Peel)</td>\n",
       "      <td>female</td>\n",
       "      <td>113803</td>\n",
       "      <td>S</td>\n",
       "      <td>1</td>\n",
       "      <td>1</td>\n",
       "      <td>35.0</td>\n",
       "      <td>1</td>\n",
       "      <td>0</td>\n",
       "      <td>53.1000</td>\n",
       "      <td>Mrs</td>\n",
       "      <td>N</td>\n",
       "      <td>small</td>\n",
       "    </tr>\n",
       "    <tr>\n",
       "      <th>4</th>\n",
       "      <td>Allen, Mr. William Henry</td>\n",
       "      <td>male</td>\n",
       "      <td>373450</td>\n",
       "      <td>S</td>\n",
       "      <td>0</td>\n",
       "      <td>3</td>\n",
       "      <td>35.0</td>\n",
       "      <td>0</td>\n",
       "      <td>0</td>\n",
       "      <td>8.0500</td>\n",
       "      <td>Mr</td>\n",
       "      <td>N</td>\n",
       "      <td>single</td>\n",
       "    </tr>\n",
       "    <tr>\n",
       "      <th>...</th>\n",
       "      <td>...</td>\n",
       "      <td>...</td>\n",
       "      <td>...</td>\n",
       "      <td>...</td>\n",
       "      <td>...</td>\n",
       "      <td>...</td>\n",
       "      <td>...</td>\n",
       "      <td>...</td>\n",
       "      <td>...</td>\n",
       "      <td>...</td>\n",
       "      <td>...</td>\n",
       "      <td>...</td>\n",
       "      <td>...</td>\n",
       "    </tr>\n",
       "    <tr>\n",
       "      <th>885</th>\n",
       "      <td>Rice, Mrs. William (Margaret Norton)</td>\n",
       "      <td>female</td>\n",
       "      <td>382652</td>\n",
       "      <td>Q</td>\n",
       "      <td>0</td>\n",
       "      <td>3</td>\n",
       "      <td>39.0</td>\n",
       "      <td>0</td>\n",
       "      <td>5</td>\n",
       "      <td>29.1250</td>\n",
       "      <td>Mrs</td>\n",
       "      <td>N</td>\n",
       "      <td>large</td>\n",
       "    </tr>\n",
       "    <tr>\n",
       "      <th>886</th>\n",
       "      <td>Montvila, Rev. Juozas</td>\n",
       "      <td>male</td>\n",
       "      <td>211536</td>\n",
       "      <td>S</td>\n",
       "      <td>0</td>\n",
       "      <td>2</td>\n",
       "      <td>27.0</td>\n",
       "      <td>0</td>\n",
       "      <td>0</td>\n",
       "      <td>13.0000</td>\n",
       "      <td>Officer</td>\n",
       "      <td>N</td>\n",
       "      <td>single</td>\n",
       "    </tr>\n",
       "    <tr>\n",
       "      <th>887</th>\n",
       "      <td>Graham, Miss. Margaret Edith</td>\n",
       "      <td>female</td>\n",
       "      <td>112053</td>\n",
       "      <td>S</td>\n",
       "      <td>1</td>\n",
       "      <td>1</td>\n",
       "      <td>19.0</td>\n",
       "      <td>0</td>\n",
       "      <td>0</td>\n",
       "      <td>30.0000</td>\n",
       "      <td>Miss</td>\n",
       "      <td>N</td>\n",
       "      <td>single</td>\n",
       "    </tr>\n",
       "    <tr>\n",
       "      <th>889</th>\n",
       "      <td>Behr, Mr. Karl Howell</td>\n",
       "      <td>male</td>\n",
       "      <td>111369</td>\n",
       "      <td>C</td>\n",
       "      <td>1</td>\n",
       "      <td>1</td>\n",
       "      <td>26.0</td>\n",
       "      <td>0</td>\n",
       "      <td>0</td>\n",
       "      <td>30.0000</td>\n",
       "      <td>Mr</td>\n",
       "      <td>N</td>\n",
       "      <td>single</td>\n",
       "    </tr>\n",
       "    <tr>\n",
       "      <th>890</th>\n",
       "      <td>Dooley, Mr. Patrick</td>\n",
       "      <td>male</td>\n",
       "      <td>370376</td>\n",
       "      <td>Q</td>\n",
       "      <td>0</td>\n",
       "      <td>3</td>\n",
       "      <td>32.0</td>\n",
       "      <td>0</td>\n",
       "      <td>0</td>\n",
       "      <td>7.7500</td>\n",
       "      <td>Mr</td>\n",
       "      <td>N</td>\n",
       "      <td>single</td>\n",
       "    </tr>\n",
       "  </tbody>\n",
       "</table>\n",
       "<p>712 rows × 13 columns</p>\n",
       "</div>"
      ],
      "text/plain": [
       "                                                  Name     Sex  \\\n",
       "0                              Braund, Mr. Owen Harris    male   \n",
       "1    Cumings, Mrs. John Bradley (Florence Briggs Th...  female   \n",
       "2                               Heikkinen, Miss. Laina  female   \n",
       "3         Futrelle, Mrs. Jacques Heath (Lily May Peel)  female   \n",
       "4                             Allen, Mr. William Henry    male   \n",
       "..                                                 ...     ...   \n",
       "885               Rice, Mrs. William (Margaret Norton)  female   \n",
       "886                              Montvila, Rev. Juozas    male   \n",
       "887                       Graham, Miss. Margaret Edith  female   \n",
       "889                              Behr, Mr. Karl Howell    male   \n",
       "890                                Dooley, Mr. Patrick    male   \n",
       "\n",
       "               Ticket Embarked Survived Pclass   Age  SibSp  Parch     Fare  \\\n",
       "0           A/5 21171        S        0      3  22.0      1      0   7.2500   \n",
       "1            PC 17599        C        1      1  38.0      1      0  71.2833   \n",
       "2    STON/O2. 3101282        S        1      3  26.0      0      0   7.9250   \n",
       "3              113803        S        1      1  35.0      1      0  53.1000   \n",
       "4              373450        S        0      3  35.0      0      0   8.0500   \n",
       "..                ...      ...      ...    ...   ...    ...    ...      ...   \n",
       "885            382652        Q        0      3  39.0      0      5  29.1250   \n",
       "886            211536        S        0      2  27.0      0      0  13.0000   \n",
       "887            112053        S        1      1  19.0      0      0  30.0000   \n",
       "889            111369        C        1      1  26.0      0      0  30.0000   \n",
       "890            370376        Q        0      3  32.0      0      0   7.7500   \n",
       "\n",
       "      NameNew TicketNew  Family  \n",
       "0          Mr         A   small  \n",
       "1         Mrs         P   small  \n",
       "2        Miss         S  single  \n",
       "3         Mrs         N   small  \n",
       "4          Mr         N  single  \n",
       "..        ...       ...     ...  \n",
       "885       Mrs         N   large  \n",
       "886   Officer         N  single  \n",
       "887      Miss         N  single  \n",
       "889        Mr         N  single  \n",
       "890        Mr         N  single  \n",
       "\n",
       "[712 rows x 13 columns]"
      ]
     },
     "execution_count": 61,
     "metadata": {},
     "output_type": "execute_result"
    }
   ],
   "source": [
    "train_df_reduced"
   ]
  },
  {
   "cell_type": "markdown",
   "id": "856a8cf5",
   "metadata": {
    "papermill": {
     "duration": 0.052581,
     "end_time": "2022-10-20T17:56:06.899997",
     "exception": false,
     "start_time": "2022-10-20T17:56:06.847416",
     "status": "completed"
    },
    "tags": []
   },
   "source": [
    "#### Age in the second training dataset with dropped missing rows\n",
    "We will make groups of Ages"
   ]
  },
  {
   "cell_type": "code",
   "execution_count": 62,
   "id": "09563c7c",
   "metadata": {
    "execution": {
     "iopub.execute_input": "2022-10-20T17:56:07.005732Z",
     "iopub.status.busy": "2022-10-20T17:56:07.005258Z",
     "iopub.status.idle": "2022-10-20T17:56:07.038304Z",
     "shell.execute_reply": "2022-10-20T17:56:07.037191Z"
    },
    "papermill": {
     "duration": 0.089597,
     "end_time": "2022-10-20T17:56:07.041176",
     "exception": false,
     "start_time": "2022-10-20T17:56:06.951579",
     "status": "completed"
    },
    "tags": []
   },
   "outputs": [],
   "source": [
    "def age_func(x):\n",
    "    if x['Age'] <= 2 : return 'baby'\n",
    "    elif x['Age'] >2 and (x['Age'] <= 16): return 'teenager'\n",
    "    elif x['Age'] >16 and (x['Age'] <= 30): return 'young adult'\n",
    "    elif x['Age'] >30 and (x['Age'] <= 45): return 'middle-aged adult'\n",
    "    elif x['Age'] >45 : return 'old adult'\n",
    "    else: return 0\n",
    "\n",
    "train_df_reduced['NewAge'] = train_df_reduced.apply(age_func, axis = 1)"
   ]
  },
  {
   "cell_type": "code",
   "execution_count": 63,
   "id": "8604a2d4",
   "metadata": {
    "execution": {
     "iopub.execute_input": "2022-10-20T17:56:07.147070Z",
     "iopub.status.busy": "2022-10-20T17:56:07.146612Z",
     "iopub.status.idle": "2022-10-20T17:56:07.159463Z",
     "shell.execute_reply": "2022-10-20T17:56:07.158129Z"
    },
    "papermill": {
     "duration": 0.070238,
     "end_time": "2022-10-20T17:56:07.162500",
     "exception": false,
     "start_time": "2022-10-20T17:56:07.092262",
     "status": "completed"
    },
    "tags": []
   },
   "outputs": [],
   "source": [
    "train_df1 = train_df.copy()\n",
    "train_df_reduced1 = train_df_reduced.copy()\n",
    "train_df.drop('Name', axis = 1, inplace = True)\n",
    "train_df.drop('Ticket', axis = 1, inplace = True)\n",
    "train_df_reduced.drop('Name', axis = 1, inplace = True)\n",
    "train_df_reduced.drop('Ticket', axis = 1, inplace = True)"
   ]
  },
  {
   "cell_type": "markdown",
   "id": "1421883d",
   "metadata": {
    "papermill": {
     "duration": 0.051418,
     "end_time": "2022-10-20T17:56:07.266417",
     "exception": false,
     "start_time": "2022-10-20T17:56:07.214999",
     "status": "completed"
    },
    "tags": []
   },
   "source": [
    "### 2.1.4  Label Encoding/Factorizing <a class=\"anchor\" id=\"encvals\"></a> "
   ]
  },
  {
   "cell_type": "code",
   "execution_count": 64,
   "id": "da88337f",
   "metadata": {
    "execution": {
     "iopub.execute_input": "2022-10-20T17:56:07.371230Z",
     "iopub.status.busy": "2022-10-20T17:56:07.370344Z",
     "iopub.status.idle": "2022-10-20T17:56:07.379099Z",
     "shell.execute_reply": "2022-10-20T17:56:07.378088Z"
    },
    "papermill": {
     "duration": 0.063576,
     "end_time": "2022-10-20T17:56:07.381324",
     "exception": false,
     "start_time": "2022-10-20T17:56:07.317748",
     "status": "completed"
    },
    "tags": []
   },
   "outputs": [],
   "source": [
    "class DfLabelEncoder:\n",
    "    def __init__(self,columns = None):\n",
    "        self.columns = columns\n",
    "\n",
    "    def fit(self,X,y=None):\n",
    "        return self\n",
    "\n",
    "    def transform(self,X):\n",
    "        output = X.copy()\n",
    "        if self.columns is not None:\n",
    "            for col in self.columns:\n",
    "                output[col] = LabelEncoder().fit_transform(output[col])\n",
    "        else:\n",
    "            for colname,col in output.iteritems():\n",
    "                output[colname] = LabelEncoder().fit_transform(col)\n",
    "        return output\n",
    "\n",
    "    def fit_transform(self,X,y = None):\n",
    "        return self.fit(X,y).transform(X)"
   ]
  },
  {
   "cell_type": "code",
   "execution_count": 65,
   "id": "01cadcac",
   "metadata": {
    "execution": {
     "iopub.execute_input": "2022-10-20T17:56:07.487177Z",
     "iopub.status.busy": "2022-10-20T17:56:07.486036Z",
     "iopub.status.idle": "2022-10-20T17:56:07.504233Z",
     "shell.execute_reply": "2022-10-20T17:56:07.503042Z"
    },
    "papermill": {
     "duration": 0.074056,
     "end_time": "2022-10-20T17:56:07.506948",
     "exception": false,
     "start_time": "2022-10-20T17:56:07.432892",
     "status": "completed"
    },
    "tags": []
   },
   "outputs": [],
   "source": [
    "train_df_cat = train_df.select_dtypes(include=['object'])\n",
    "train_df_cat1 = train_df_reduced.select_dtypes(include=['object'])\n",
    "train_df = DfLabelEncoder(columns = train_df_cat.columns).fit_transform(train_df)\n",
    "train_df_reduced = DfLabelEncoder(columns = train_df_cat1.columns).fit_transform(train_df_reduced)"
   ]
  },
  {
   "cell_type": "code",
   "execution_count": 66,
   "id": "fe91f9c5",
   "metadata": {
    "execution": {
     "iopub.execute_input": "2022-10-20T17:56:07.612187Z",
     "iopub.status.busy": "2022-10-20T17:56:07.611742Z",
     "iopub.status.idle": "2022-10-20T17:56:07.626592Z",
     "shell.execute_reply": "2022-10-20T17:56:07.624973Z"
    },
    "papermill": {
     "duration": 0.070377,
     "end_time": "2022-10-20T17:56:07.629247",
     "exception": false,
     "start_time": "2022-10-20T17:56:07.558870",
     "status": "completed"
    },
    "tags": []
   },
   "outputs": [],
   "source": [
    "for col in [['Sex', 'Embarked', 'Pclass', 'NameNew', 'TicketNew', 'Family', 'SibSp', 'Parch']]:\n",
    "    train_df[col] = train_df[col].astype('object')\n",
    "\n",
    "for col in [['Sex', 'Embarked', 'Pclass', 'NameNew', 'TicketNew', 'Family', 'NewAge', 'SibSp', 'Parch']]:\n",
    "    train_df_reduced[col] = train_df_reduced[col].astype('object')"
   ]
  },
  {
   "cell_type": "code",
   "execution_count": 67,
   "id": "1c35ba4b",
   "metadata": {
    "execution": {
     "iopub.execute_input": "2022-10-20T17:56:07.734723Z",
     "iopub.status.busy": "2022-10-20T17:56:07.734267Z",
     "iopub.status.idle": "2022-10-20T17:56:07.743224Z",
     "shell.execute_reply": "2022-10-20T17:56:07.742064Z"
    },
    "papermill": {
     "duration": 0.064941,
     "end_time": "2022-10-20T17:56:07.745677",
     "exception": false,
     "start_time": "2022-10-20T17:56:07.680736",
     "status": "completed"
    },
    "tags": []
   },
   "outputs": [
    {
     "data": {
      "text/plain": [
       "SibSp         object\n",
       "Parch         object\n",
       "Fare         float64\n",
       "Sex           object\n",
       "Embarked      object\n",
       "Survived       int64\n",
       "Pclass        object\n",
       "NameNew       object\n",
       "TicketNew     object\n",
       "Family        object\n",
       "dtype: object"
      ]
     },
     "execution_count": 67,
     "metadata": {},
     "output_type": "execute_result"
    }
   ],
   "source": [
    "train_df.dtypes"
   ]
  },
  {
   "cell_type": "code",
   "execution_count": 68,
   "id": "674735b8",
   "metadata": {
    "execution": {
     "iopub.execute_input": "2022-10-20T17:56:07.852913Z",
     "iopub.status.busy": "2022-10-20T17:56:07.850221Z",
     "iopub.status.idle": "2022-10-20T17:56:07.861017Z",
     "shell.execute_reply": "2022-10-20T17:56:07.859871Z"
    },
    "papermill": {
     "duration": 0.066071,
     "end_time": "2022-10-20T17:56:07.863554",
     "exception": false,
     "start_time": "2022-10-20T17:56:07.797483",
     "status": "completed"
    },
    "tags": []
   },
   "outputs": [
    {
     "data": {
      "text/plain": [
       "Sex           object\n",
       "Embarked      object\n",
       "Survived       int64\n",
       "Pclass        object\n",
       "Age          float64\n",
       "SibSp         object\n",
       "Parch         object\n",
       "Fare         float64\n",
       "NameNew       object\n",
       "TicketNew     object\n",
       "Family        object\n",
       "NewAge        object\n",
       "dtype: object"
      ]
     },
     "execution_count": 68,
     "metadata": {},
     "output_type": "execute_result"
    }
   ],
   "source": [
    "train_df_reduced.dtypes"
   ]
  },
  {
   "cell_type": "markdown",
   "id": "e5b64d14",
   "metadata": {
    "papermill": {
     "duration": 0.052009,
     "end_time": "2022-10-20T17:56:07.968885",
     "exception": false,
     "start_time": "2022-10-20T17:56:07.916876",
     "status": "completed"
    },
    "tags": []
   },
   "source": [
    "### 2.1.5 Outliers Removal <a class=\"anchor\" id=\"outl\"></a>\n",
    "Outliers are abnormal values in a dataset that don't align with the distribution. These are observations for which the residual is large in magnitude compared to other observations, therefore, outliers tend to skew distributions. Outliers must be carefully investigated and removed only if safe because outliers are not always bad\n",
    "and sometimes can be helpful and even valuable."
   ]
  },
  {
   "cell_type": "code",
   "execution_count": 69,
   "id": "c07a012e",
   "metadata": {
    "execution": {
     "iopub.execute_input": "2022-10-20T17:56:08.074738Z",
     "iopub.status.busy": "2022-10-20T17:56:08.074267Z",
     "iopub.status.idle": "2022-10-20T17:56:08.079867Z",
     "shell.execute_reply": "2022-10-20T17:56:08.078871Z"
    },
    "papermill": {
     "duration": 0.060409,
     "end_time": "2022-10-20T17:56:08.082056",
     "exception": false,
     "start_time": "2022-10-20T17:56:08.021647",
     "status": "completed"
    },
    "tags": []
   },
   "outputs": [],
   "source": [
    "train_df_cols = train_df.columns.tolist()\n",
    "train_df_reduced_cols = train_df_reduced.columns.tolist()"
   ]
  },
  {
   "cell_type": "code",
   "execution_count": 70,
   "id": "bc0fe5e4",
   "metadata": {
    "execution": {
     "iopub.execute_input": "2022-10-20T17:56:08.188699Z",
     "iopub.status.busy": "2022-10-20T17:56:08.188139Z",
     "iopub.status.idle": "2022-10-20T17:56:10.043129Z",
     "shell.execute_reply": "2022-10-20T17:56:10.041863Z"
    },
    "papermill": {
     "duration": 1.911643,
     "end_time": "2022-10-20T17:56:10.045685",
     "exception": false,
     "start_time": "2022-10-20T17:56:08.134042",
     "status": "completed"
    },
    "tags": []
   },
   "outputs": [
    {
     "data": {
      "image/png": "[encoded data removed]",
      "text/plain": [
       "<Figure size 1440x1080 with 12 Axes>"
      ]
     },
     "metadata": {},
     "output_type": "display_data"
    }
   ],
   "source": [
    "sns.set(rc={'figure.figsize':(20, 15)})\n",
    "cols = 6\n",
    "rows = round(train_df.shape[1]/cols)\n",
    "fig, ax = plt.subplots(rows, cols)\n",
    "fig.suptitle('Box Plots of Features', fontsize = 20)\n",
    "fig.subplots_adjust(top = 0.94)\n",
    "for var, subplot in zip(train_df, ax.flatten()):\n",
    "    p = sns.boxplot(data = train_df[var], color = 'orchid', ax = subplot)\n",
    "    p.set_xlabel(var, fontsize = 12)"
   ]
  },
  {
   "cell_type": "code",
   "execution_count": 71,
   "id": "b159699e",
   "metadata": {
    "execution": {
     "iopub.execute_input": "2022-10-20T17:56:10.155022Z",
     "iopub.status.busy": "2022-10-20T17:56:10.154590Z",
     "iopub.status.idle": "2022-10-20T17:56:11.770176Z",
     "shell.execute_reply": "2022-10-20T17:56:11.769242Z"
    },
    "papermill": {
     "duration": 1.673471,
     "end_time": "2022-10-20T17:56:11.772938",
     "exception": false,
     "start_time": "2022-10-20T17:56:10.099467",
     "status": "completed"
    },
    "tags": []
   },
   "outputs": [
    {
     "data": {
      "image/png": "[encoded data removed]",
      "text/plain": [
       "<Figure size 1440x1080 with 12 Axes>"
      ]
     },
     "metadata": {},
     "output_type": "display_data"
    }
   ],
   "source": [
    "sns.set(rc={'figure.figsize':(20, 15)})\n",
    "cols = 6\n",
    "rows = round(train_df_reduced.shape[1]/cols)\n",
    "fig, ax = plt.subplots(rows, cols)\n",
    "fig.suptitle('Box Plots of Features', fontsize = 20)\n",
    "fig.subplots_adjust(top = 0.94)\n",
    "for var, subplot in zip(train_df_reduced, ax.flatten()):\n",
    "    p = sns.boxplot(data = train_df_reduced[var], color = 'green', ax = subplot)\n",
    "    p.set_xlabel(var, fontsize = 12)"
   ]
  },
  {
   "cell_type": "code",
   "execution_count": 72,
   "id": "04c24c88",
   "metadata": {
    "execution": {
     "iopub.execute_input": "2022-10-20T17:56:11.882587Z",
     "iopub.status.busy": "2022-10-20T17:56:11.881912Z",
     "iopub.status.idle": "2022-10-20T17:56:11.891184Z",
     "shell.execute_reply": "2022-10-20T17:56:11.890108Z"
    },
    "papermill": {
     "duration": 0.067498,
     "end_time": "2022-10-20T17:56:11.894474",
     "exception": false,
     "start_time": "2022-10-20T17:56:11.826976",
     "status": "completed"
    },
    "tags": []
   },
   "outputs": [
    {
     "name": "stdout",
     "output_type": "stream",
     "text": [
      "<<< 10 outliers have been removed >>> \n"
     ]
    }
   ],
   "source": [
    "train_df_outl = train_df[~((train_df['SibSp'] > 7) | (train_df['Fare'] > 500))]\n",
    "print('<<<', len(train_df) - len(train_df_outl), 'outliers have been removed >>> ')\n",
    "train_df_outl = train_df_outl[train_df_cols]"
   ]
  },
  {
   "cell_type": "code",
   "execution_count": 73,
   "id": "ef4f4d6a",
   "metadata": {
    "execution": {
     "iopub.execute_input": "2022-10-20T17:56:12.007813Z",
     "iopub.status.busy": "2022-10-20T17:56:12.007367Z",
     "iopub.status.idle": "2022-10-20T17:56:12.018296Z",
     "shell.execute_reply": "2022-10-20T17:56:12.017050Z"
    },
    "papermill": {
     "duration": 0.071195,
     "end_time": "2022-10-20T17:56:12.021821",
     "exception": false,
     "start_time": "2022-10-20T17:56:11.950626",
     "status": "completed"
    },
    "tags": []
   },
   "outputs": [
    {
     "name": "stdout",
     "output_type": "stream",
     "text": [
      "<<< 3 outliers have been removed >>> \n"
     ]
    }
   ],
   "source": [
    "train_df_reduced_outl = train_df_reduced[~((train_df_reduced['Fare'] > 500))]\n",
    "print('<<<', len(train_df_reduced) - len(train_df_reduced_outl), 'outliers have been removed >>> ')\n",
    "train_df_reduced_outl = train_df_reduced_outl[train_df_reduced_cols]"
   ]
  },
  {
   "cell_type": "code",
   "execution_count": 74,
   "id": "5e758db8",
   "metadata": {
    "execution": {
     "iopub.execute_input": "2022-10-20T17:56:12.134790Z",
     "iopub.status.busy": "2022-10-20T17:56:12.133456Z",
     "iopub.status.idle": "2022-10-20T17:56:13.997224Z",
     "shell.execute_reply": "2022-10-20T17:56:13.996271Z"
    },
    "papermill": {
     "duration": 1.922088,
     "end_time": "2022-10-20T17:56:13.999519",
     "exception": false,
     "start_time": "2022-10-20T17:56:12.077431",
     "status": "completed"
    },
    "tags": []
   },
   "outputs": [
    {
     "data": {
      "image/png": "[encoded data removed]",
      "text/plain": [
       "<Figure size 1440x1080 with 12 Axes>"
      ]
     },
     "metadata": {},
     "output_type": "display_data"
    }
   ],
   "source": [
    "sns.set(rc={'figure.figsize':(20, 15)})\n",
    "cols = 6\n",
    "rows = round(train_df_outl.shape[1]/cols)\n",
    "fig, ax = plt.subplots(rows, cols)\n",
    "fig.suptitle('Box Plots of Features', fontsize = 20)\n",
    "fig.subplots_adjust(top = 0.94)\n",
    "for var, subplot in zip(train_df, ax.flatten()):\n",
    "    p = sns.boxplot(data = train_df_outl[var], color = 'orchid', ax = subplot)\n",
    "    p.set_xlabel(var, fontsize = 12)"
   ]
  },
  {
   "cell_type": "code",
   "execution_count": 75,
   "id": "3f0d1bf4",
   "metadata": {
    "execution": {
     "iopub.execute_input": "2022-10-20T17:56:14.111661Z",
     "iopub.status.busy": "2022-10-20T17:56:14.110090Z",
     "iopub.status.idle": "2022-10-20T17:56:15.674043Z",
     "shell.execute_reply": "2022-10-20T17:56:15.672617Z"
    },
    "papermill": {
     "duration": 1.622622,
     "end_time": "2022-10-20T17:56:15.676820",
     "exception": false,
     "start_time": "2022-10-20T17:56:14.054198",
     "status": "completed"
    },
    "tags": []
   },
   "outputs": [
    {
     "data": {
      "image/png": "[encoded data removed]",
      "text/plain": [
       "<Figure size 1440x1080 with 12 Axes>"
      ]
     },
     "metadata": {},
     "output_type": "display_data"
    }
   ],
   "source": [
    "sns.set(rc={'figure.figsize':(20, 15)})\n",
    "cols = 6\n",
    "rows = round(train_df_reduced_outl.shape[1]/cols)\n",
    "fig, ax = plt.subplots(rows, cols)\n",
    "fig.suptitle('Box Plots of Features', fontsize = 20)\n",
    "fig.subplots_adjust(top = 0.94)\n",
    "for var, subplot in zip(train_df_reduced_outl, ax.flatten()):\n",
    "    p = sns.boxplot(data = train_df_reduced_outl[var], color = 'green', ax = subplot)\n",
    "    p.set_xlabel(var, fontsize = 12)"
   ]
  },
  {
   "cell_type": "code",
   "execution_count": 76,
   "id": "d4ce4d38",
   "metadata": {
    "execution": {
     "iopub.execute_input": "2022-10-20T17:56:15.850425Z",
     "iopub.status.busy": "2022-10-20T17:56:15.850001Z",
     "iopub.status.idle": "2022-10-20T17:56:15.860771Z",
     "shell.execute_reply": "2022-10-20T17:56:15.859497Z"
    },
    "papermill": {
     "duration": 0.072642,
     "end_time": "2022-10-20T17:56:15.863552",
     "exception": false,
     "start_time": "2022-10-20T17:56:15.790910",
     "status": "completed"
    },
    "tags": []
   },
   "outputs": [],
   "source": [
    "dupl_check = train_df_outl[train_df_outl.duplicated()]\n",
    "dupl_check1 = train_df_reduced_outl[train_df_reduced_outl.duplicated()]"
   ]
  },
  {
   "cell_type": "code",
   "execution_count": 77,
   "id": "9e4f17fb",
   "metadata": {
    "execution": {
     "iopub.execute_input": "2022-10-20T17:56:15.978036Z",
     "iopub.status.busy": "2022-10-20T17:56:15.977581Z",
     "iopub.status.idle": "2022-10-20T17:56:16.000689Z",
     "shell.execute_reply": "2022-10-20T17:56:15.999485Z"
    },
    "papermill": {
     "duration": 0.083589,
     "end_time": "2022-10-20T17:56:16.003347",
     "exception": false,
     "start_time": "2022-10-20T17:56:15.919758",
     "status": "completed"
    },
    "tags": []
   },
   "outputs": [
    {
     "data": {
      "text/html": [
       "<div>\n",
       "<style scoped>\n",
       "    .dataframe tbody tr th:only-of-type {\n",
       "        vertical-align: middle;\n",
       "    }\n",
       "\n",
       "    .dataframe tbody tr th {\n",
       "        vertical-align: top;\n",
       "    }\n",
       "\n",
       "    .dataframe thead th {\n",
       "        text-align: right;\n",
       "    }\n",
       "</style>\n",
       "<table border=\"1\" class=\"dataframe\">\n",
       "  <thead>\n",
       "    <tr style=\"text-align: right;\">\n",
       "      <th></th>\n",
       "      <th>SibSp</th>\n",
       "      <th>Parch</th>\n",
       "      <th>Fare</th>\n",
       "      <th>Sex</th>\n",
       "      <th>Embarked</th>\n",
       "      <th>Survived</th>\n",
       "      <th>Pclass</th>\n",
       "      <th>NameNew</th>\n",
       "      <th>TicketNew</th>\n",
       "      <th>Family</th>\n",
       "    </tr>\n",
       "  </thead>\n",
       "  <tbody>\n",
       "    <tr>\n",
       "      <th>21</th>\n",
       "      <td>0</td>\n",
       "      <td>0</td>\n",
       "      <td>13.0000</td>\n",
       "      <td>1</td>\n",
       "      <td>2</td>\n",
       "      <td>1</td>\n",
       "      <td>1</td>\n",
       "      <td>3</td>\n",
       "      <td>4</td>\n",
       "      <td>2</td>\n",
       "    </tr>\n",
       "    <tr>\n",
       "      <th>37</th>\n",
       "      <td>0</td>\n",
       "      <td>0</td>\n",
       "      <td>8.0500</td>\n",
       "      <td>1</td>\n",
       "      <td>2</td>\n",
       "      <td>0</td>\n",
       "      <td>2</td>\n",
       "      <td>3</td>\n",
       "      <td>0</td>\n",
       "      <td>2</td>\n",
       "    </tr>\n",
       "    <tr>\n",
       "      <th>44</th>\n",
       "      <td>0</td>\n",
       "      <td>0</td>\n",
       "      <td>7.8792</td>\n",
       "      <td>0</td>\n",
       "      <td>1</td>\n",
       "      <td>1</td>\n",
       "      <td>2</td>\n",
       "      <td>2</td>\n",
       "      <td>4</td>\n",
       "      <td>2</td>\n",
       "    </tr>\n",
       "    <tr>\n",
       "      <th>47</th>\n",
       "      <td>0</td>\n",
       "      <td>0</td>\n",
       "      <td>7.7500</td>\n",
       "      <td>0</td>\n",
       "      <td>1</td>\n",
       "      <td>1</td>\n",
       "      <td>2</td>\n",
       "      <td>2</td>\n",
       "      <td>4</td>\n",
       "      <td>2</td>\n",
       "    </tr>\n",
       "    <tr>\n",
       "      <th>55</th>\n",
       "      <td>0</td>\n",
       "      <td>0</td>\n",
       "      <td>35.5000</td>\n",
       "      <td>1</td>\n",
       "      <td>2</td>\n",
       "      <td>1</td>\n",
       "      <td>0</td>\n",
       "      <td>3</td>\n",
       "      <td>4</td>\n",
       "      <td>2</td>\n",
       "    </tr>\n",
       "    <tr>\n",
       "      <th>...</th>\n",
       "      <td>...</td>\n",
       "      <td>...</td>\n",
       "      <td>...</td>\n",
       "      <td>...</td>\n",
       "      <td>...</td>\n",
       "      <td>...</td>\n",
       "      <td>...</td>\n",
       "      <td>...</td>\n",
       "      <td>...</td>\n",
       "      <td>...</td>\n",
       "    </tr>\n",
       "    <tr>\n",
       "      <th>881</th>\n",
       "      <td>0</td>\n",
       "      <td>0</td>\n",
       "      <td>7.8958</td>\n",
       "      <td>1</td>\n",
       "      <td>2</td>\n",
       "      <td>0</td>\n",
       "      <td>2</td>\n",
       "      <td>3</td>\n",
       "      <td>4</td>\n",
       "      <td>2</td>\n",
       "    </tr>\n",
       "    <tr>\n",
       "      <th>883</th>\n",
       "      <td>0</td>\n",
       "      <td>0</td>\n",
       "      <td>10.5000</td>\n",
       "      <td>1</td>\n",
       "      <td>2</td>\n",
       "      <td>0</td>\n",
       "      <td>1</td>\n",
       "      <td>3</td>\n",
       "      <td>1</td>\n",
       "      <td>2</td>\n",
       "    </tr>\n",
       "    <tr>\n",
       "      <th>884</th>\n",
       "      <td>0</td>\n",
       "      <td>0</td>\n",
       "      <td>7.0500</td>\n",
       "      <td>1</td>\n",
       "      <td>2</td>\n",
       "      <td>0</td>\n",
       "      <td>2</td>\n",
       "      <td>3</td>\n",
       "      <td>6</td>\n",
       "      <td>2</td>\n",
       "    </tr>\n",
       "    <tr>\n",
       "      <th>886</th>\n",
       "      <td>0</td>\n",
       "      <td>0</td>\n",
       "      <td>13.0000</td>\n",
       "      <td>1</td>\n",
       "      <td>2</td>\n",
       "      <td>0</td>\n",
       "      <td>1</td>\n",
       "      <td>5</td>\n",
       "      <td>4</td>\n",
       "      <td>2</td>\n",
       "    </tr>\n",
       "    <tr>\n",
       "      <th>890</th>\n",
       "      <td>0</td>\n",
       "      <td>0</td>\n",
       "      <td>7.7500</td>\n",
       "      <td>1</td>\n",
       "      <td>1</td>\n",
       "      <td>0</td>\n",
       "      <td>2</td>\n",
       "      <td>3</td>\n",
       "      <td>4</td>\n",
       "      <td>2</td>\n",
       "    </tr>\n",
       "  </tbody>\n",
       "</table>\n",
       "<p>326 rows × 10 columns</p>\n",
       "</div>"
      ],
      "text/plain": [
       "    SibSp Parch     Fare Sex Embarked  Survived Pclass NameNew TicketNew  \\\n",
       "21      0     0  13.0000   1        2         1      1       3         4   \n",
       "37      0     0   8.0500   1        2         0      2       3         0   \n",
       "44      0     0   7.8792   0        1         1      2       2         4   \n",
       "47      0     0   7.7500   0        1         1      2       2         4   \n",
       "55      0     0  35.5000   1        2         1      0       3         4   \n",
       "..    ...   ...      ...  ..      ...       ...    ...     ...       ...   \n",
       "881     0     0   7.8958   1        2         0      2       3         4   \n",
       "883     0     0  10.5000   1        2         0      1       3         1   \n",
       "884     0     0   7.0500   1        2         0      2       3         6   \n",
       "886     0     0  13.0000   1        2         0      1       5         4   \n",
       "890     0     0   7.7500   1        1         0      2       3         4   \n",
       "\n",
       "    Family  \n",
       "21       2  \n",
       "37       2  \n",
       "44       2  \n",
       "47       2  \n",
       "55       2  \n",
       "..     ...  \n",
       "881      2  \n",
       "883      2  \n",
       "884      2  \n",
       "886      2  \n",
       "890      2  \n",
       "\n",
       "[326 rows x 10 columns]"
      ]
     },
     "execution_count": 77,
     "metadata": {},
     "output_type": "execute_result"
    }
   ],
   "source": [
    "dupl_check"
   ]
  },
  {
   "cell_type": "code",
   "execution_count": 78,
   "id": "26404bd0",
   "metadata": {
    "execution": {
     "iopub.execute_input": "2022-10-20T17:56:16.121911Z",
     "iopub.status.busy": "2022-10-20T17:56:16.120602Z",
     "iopub.status.idle": "2022-10-20T17:56:16.149828Z",
     "shell.execute_reply": "2022-10-20T17:56:16.148518Z"
    },
    "papermill": {
     "duration": 0.092109,
     "end_time": "2022-10-20T17:56:16.152943",
     "exception": false,
     "start_time": "2022-10-20T17:56:16.060834",
     "status": "completed"
    },
    "tags": []
   },
   "outputs": [
    {
     "data": {
      "text/html": [
       "<div>\n",
       "<style scoped>\n",
       "    .dataframe tbody tr th:only-of-type {\n",
       "        vertical-align: middle;\n",
       "    }\n",
       "\n",
       "    .dataframe tbody tr th {\n",
       "        vertical-align: top;\n",
       "    }\n",
       "\n",
       "    .dataframe thead th {\n",
       "        text-align: right;\n",
       "    }\n",
       "</style>\n",
       "<table border=\"1\" class=\"dataframe\">\n",
       "  <thead>\n",
       "    <tr style=\"text-align: right;\">\n",
       "      <th></th>\n",
       "      <th>Sex</th>\n",
       "      <th>Embarked</th>\n",
       "      <th>Survived</th>\n",
       "      <th>Pclass</th>\n",
       "      <th>Age</th>\n",
       "      <th>SibSp</th>\n",
       "      <th>Parch</th>\n",
       "      <th>Fare</th>\n",
       "      <th>NameNew</th>\n",
       "      <th>TicketNew</th>\n",
       "      <th>Family</th>\n",
       "      <th>NewAge</th>\n",
       "    </tr>\n",
       "  </thead>\n",
       "  <tbody>\n",
       "    <tr>\n",
       "      <th>133</th>\n",
       "      <td>0</td>\n",
       "      <td>2</td>\n",
       "      <td>1</td>\n",
       "      <td>1</td>\n",
       "      <td>29.00</td>\n",
       "      <td>1</td>\n",
       "      <td>0</td>\n",
       "      <td>26.0000</td>\n",
       "      <td>4</td>\n",
       "      <td>4</td>\n",
       "      <td>3</td>\n",
       "      <td>4</td>\n",
       "    </tr>\n",
       "    <tr>\n",
       "      <th>173</th>\n",
       "      <td>1</td>\n",
       "      <td>2</td>\n",
       "      <td>0</td>\n",
       "      <td>2</td>\n",
       "      <td>21.00</td>\n",
       "      <td>0</td>\n",
       "      <td>0</td>\n",
       "      <td>7.9250</td>\n",
       "      <td>3</td>\n",
       "      <td>6</td>\n",
       "      <td>2</td>\n",
       "      <td>4</td>\n",
       "    </tr>\n",
       "    <tr>\n",
       "      <th>213</th>\n",
       "      <td>1</td>\n",
       "      <td>2</td>\n",
       "      <td>0</td>\n",
       "      <td>1</td>\n",
       "      <td>30.00</td>\n",
       "      <td>0</td>\n",
       "      <td>0</td>\n",
       "      <td>13.0000</td>\n",
       "      <td>3</td>\n",
       "      <td>4</td>\n",
       "      <td>2</td>\n",
       "      <td>4</td>\n",
       "    </tr>\n",
       "    <tr>\n",
       "      <th>313</th>\n",
       "      <td>1</td>\n",
       "      <td>2</td>\n",
       "      <td>0</td>\n",
       "      <td>2</td>\n",
       "      <td>28.00</td>\n",
       "      <td>0</td>\n",
       "      <td>0</td>\n",
       "      <td>7.8958</td>\n",
       "      <td>3</td>\n",
       "      <td>4</td>\n",
       "      <td>2</td>\n",
       "      <td>4</td>\n",
       "    </tr>\n",
       "    <tr>\n",
       "      <th>320</th>\n",
       "      <td>1</td>\n",
       "      <td>2</td>\n",
       "      <td>0</td>\n",
       "      <td>2</td>\n",
       "      <td>22.00</td>\n",
       "      <td>0</td>\n",
       "      <td>0</td>\n",
       "      <td>7.2500</td>\n",
       "      <td>3</td>\n",
       "      <td>0</td>\n",
       "      <td>2</td>\n",
       "      <td>4</td>\n",
       "    </tr>\n",
       "    <tr>\n",
       "      <th>355</th>\n",
       "      <td>1</td>\n",
       "      <td>2</td>\n",
       "      <td>0</td>\n",
       "      <td>2</td>\n",
       "      <td>28.00</td>\n",
       "      <td>0</td>\n",
       "      <td>0</td>\n",
       "      <td>9.5000</td>\n",
       "      <td>3</td>\n",
       "      <td>4</td>\n",
       "      <td>2</td>\n",
       "      <td>4</td>\n",
       "    </tr>\n",
       "    <tr>\n",
       "      <th>418</th>\n",
       "      <td>1</td>\n",
       "      <td>2</td>\n",
       "      <td>0</td>\n",
       "      <td>1</td>\n",
       "      <td>30.00</td>\n",
       "      <td>0</td>\n",
       "      <td>0</td>\n",
       "      <td>13.0000</td>\n",
       "      <td>3</td>\n",
       "      <td>4</td>\n",
       "      <td>2</td>\n",
       "      <td>4</td>\n",
       "    </tr>\n",
       "    <tr>\n",
       "      <th>476</th>\n",
       "      <td>1</td>\n",
       "      <td>2</td>\n",
       "      <td>0</td>\n",
       "      <td>1</td>\n",
       "      <td>34.00</td>\n",
       "      <td>1</td>\n",
       "      <td>0</td>\n",
       "      <td>21.0000</td>\n",
       "      <td>3</td>\n",
       "      <td>4</td>\n",
       "      <td>3</td>\n",
       "      <td>1</td>\n",
       "    </tr>\n",
       "    <tr>\n",
       "      <th>494</th>\n",
       "      <td>1</td>\n",
       "      <td>2</td>\n",
       "      <td>0</td>\n",
       "      <td>2</td>\n",
       "      <td>21.00</td>\n",
       "      <td>0</td>\n",
       "      <td>0</td>\n",
       "      <td>8.0500</td>\n",
       "      <td>3</td>\n",
       "      <td>0</td>\n",
       "      <td>2</td>\n",
       "      <td>4</td>\n",
       "    </tr>\n",
       "    <tr>\n",
       "      <th>500</th>\n",
       "      <td>1</td>\n",
       "      <td>2</td>\n",
       "      <td>0</td>\n",
       "      <td>2</td>\n",
       "      <td>17.00</td>\n",
       "      <td>0</td>\n",
       "      <td>0</td>\n",
       "      <td>8.6625</td>\n",
       "      <td>3</td>\n",
       "      <td>4</td>\n",
       "      <td>2</td>\n",
       "      <td>4</td>\n",
       "    </tr>\n",
       "    <tr>\n",
       "      <th>521</th>\n",
       "      <td>1</td>\n",
       "      <td>2</td>\n",
       "      <td>0</td>\n",
       "      <td>2</td>\n",
       "      <td>22.00</td>\n",
       "      <td>0</td>\n",
       "      <td>0</td>\n",
       "      <td>7.8958</td>\n",
       "      <td>3</td>\n",
       "      <td>4</td>\n",
       "      <td>2</td>\n",
       "      <td>4</td>\n",
       "    </tr>\n",
       "    <tr>\n",
       "      <th>555</th>\n",
       "      <td>1</td>\n",
       "      <td>2</td>\n",
       "      <td>0</td>\n",
       "      <td>0</td>\n",
       "      <td>62.00</td>\n",
       "      <td>0</td>\n",
       "      <td>0</td>\n",
       "      <td>26.5500</td>\n",
       "      <td>3</td>\n",
       "      <td>4</td>\n",
       "      <td>2</td>\n",
       "      <td>2</td>\n",
       "    </tr>\n",
       "    <tr>\n",
       "      <th>588</th>\n",
       "      <td>1</td>\n",
       "      <td>2</td>\n",
       "      <td>0</td>\n",
       "      <td>2</td>\n",
       "      <td>22.00</td>\n",
       "      <td>0</td>\n",
       "      <td>0</td>\n",
       "      <td>8.0500</td>\n",
       "      <td>3</td>\n",
       "      <td>4</td>\n",
       "      <td>2</td>\n",
       "      <td>4</td>\n",
       "    </tr>\n",
       "    <tr>\n",
       "      <th>614</th>\n",
       "      <td>1</td>\n",
       "      <td>2</td>\n",
       "      <td>0</td>\n",
       "      <td>2</td>\n",
       "      <td>35.00</td>\n",
       "      <td>0</td>\n",
       "      <td>0</td>\n",
       "      <td>8.0500</td>\n",
       "      <td>3</td>\n",
       "      <td>4</td>\n",
       "      <td>2</td>\n",
       "      <td>1</td>\n",
       "    </tr>\n",
       "    <tr>\n",
       "      <th>635</th>\n",
       "      <td>0</td>\n",
       "      <td>2</td>\n",
       "      <td>1</td>\n",
       "      <td>1</td>\n",
       "      <td>28.00</td>\n",
       "      <td>0</td>\n",
       "      <td>0</td>\n",
       "      <td>13.0000</td>\n",
       "      <td>2</td>\n",
       "      <td>4</td>\n",
       "      <td>2</td>\n",
       "      <td>4</td>\n",
       "    </tr>\n",
       "    <tr>\n",
       "      <th>636</th>\n",
       "      <td>1</td>\n",
       "      <td>2</td>\n",
       "      <td>0</td>\n",
       "      <td>2</td>\n",
       "      <td>32.00</td>\n",
       "      <td>0</td>\n",
       "      <td>0</td>\n",
       "      <td>7.9250</td>\n",
       "      <td>3</td>\n",
       "      <td>6</td>\n",
       "      <td>2</td>\n",
       "      <td>1</td>\n",
       "    </tr>\n",
       "    <tr>\n",
       "      <th>640</th>\n",
       "      <td>1</td>\n",
       "      <td>2</td>\n",
       "      <td>0</td>\n",
       "      <td>2</td>\n",
       "      <td>20.00</td>\n",
       "      <td>0</td>\n",
       "      <td>0</td>\n",
       "      <td>7.8542</td>\n",
       "      <td>3</td>\n",
       "      <td>4</td>\n",
       "      <td>2</td>\n",
       "      <td>4</td>\n",
       "    </tr>\n",
       "    <tr>\n",
       "      <th>644</th>\n",
       "      <td>0</td>\n",
       "      <td>0</td>\n",
       "      <td>1</td>\n",
       "      <td>2</td>\n",
       "      <td>0.75</td>\n",
       "      <td>2</td>\n",
       "      <td>1</td>\n",
       "      <td>19.2583</td>\n",
       "      <td>2</td>\n",
       "      <td>4</td>\n",
       "      <td>1</td>\n",
       "      <td>0</td>\n",
       "    </tr>\n",
       "    <tr>\n",
       "      <th>646</th>\n",
       "      <td>1</td>\n",
       "      <td>2</td>\n",
       "      <td>0</td>\n",
       "      <td>2</td>\n",
       "      <td>19.00</td>\n",
       "      <td>0</td>\n",
       "      <td>0</td>\n",
       "      <td>7.8958</td>\n",
       "      <td>3</td>\n",
       "      <td>4</td>\n",
       "      <td>2</td>\n",
       "      <td>4</td>\n",
       "    </tr>\n",
       "    <tr>\n",
       "      <th>666</th>\n",
       "      <td>1</td>\n",
       "      <td>2</td>\n",
       "      <td>0</td>\n",
       "      <td>1</td>\n",
       "      <td>25.00</td>\n",
       "      <td>0</td>\n",
       "      <td>0</td>\n",
       "      <td>13.0000</td>\n",
       "      <td>3</td>\n",
       "      <td>4</td>\n",
       "      <td>2</td>\n",
       "      <td>4</td>\n",
       "    </tr>\n",
       "    <tr>\n",
       "      <th>696</th>\n",
       "      <td>1</td>\n",
       "      <td>2</td>\n",
       "      <td>0</td>\n",
       "      <td>2</td>\n",
       "      <td>44.00</td>\n",
       "      <td>0</td>\n",
       "      <td>0</td>\n",
       "      <td>8.0500</td>\n",
       "      <td>3</td>\n",
       "      <td>4</td>\n",
       "      <td>2</td>\n",
       "      <td>1</td>\n",
       "    </tr>\n",
       "    <tr>\n",
       "      <th>733</th>\n",
       "      <td>1</td>\n",
       "      <td>2</td>\n",
       "      <td>0</td>\n",
       "      <td>1</td>\n",
       "      <td>23.00</td>\n",
       "      <td>0</td>\n",
       "      <td>0</td>\n",
       "      <td>13.0000</td>\n",
       "      <td>3</td>\n",
       "      <td>4</td>\n",
       "      <td>2</td>\n",
       "      <td>4</td>\n",
       "    </tr>\n",
       "    <tr>\n",
       "      <th>734</th>\n",
       "      <td>1</td>\n",
       "      <td>2</td>\n",
       "      <td>0</td>\n",
       "      <td>1</td>\n",
       "      <td>23.00</td>\n",
       "      <td>0</td>\n",
       "      <td>0</td>\n",
       "      <td>13.0000</td>\n",
       "      <td>3</td>\n",
       "      <td>4</td>\n",
       "      <td>2</td>\n",
       "      <td>4</td>\n",
       "    </tr>\n",
       "    <tr>\n",
       "      <th>757</th>\n",
       "      <td>1</td>\n",
       "      <td>2</td>\n",
       "      <td>0</td>\n",
       "      <td>1</td>\n",
       "      <td>18.00</td>\n",
       "      <td>0</td>\n",
       "      <td>0</td>\n",
       "      <td>11.5000</td>\n",
       "      <td>3</td>\n",
       "      <td>4</td>\n",
       "      <td>2</td>\n",
       "      <td>4</td>\n",
       "    </tr>\n",
       "    <tr>\n",
       "      <th>758</th>\n",
       "      <td>1</td>\n",
       "      <td>2</td>\n",
       "      <td>0</td>\n",
       "      <td>2</td>\n",
       "      <td>34.00</td>\n",
       "      <td>0</td>\n",
       "      <td>0</td>\n",
       "      <td>8.0500</td>\n",
       "      <td>3</td>\n",
       "      <td>4</td>\n",
       "      <td>2</td>\n",
       "      <td>1</td>\n",
       "    </tr>\n",
       "    <tr>\n",
       "      <th>800</th>\n",
       "      <td>1</td>\n",
       "      <td>2</td>\n",
       "      <td>0</td>\n",
       "      <td>1</td>\n",
       "      <td>34.00</td>\n",
       "      <td>0</td>\n",
       "      <td>0</td>\n",
       "      <td>13.0000</td>\n",
       "      <td>3</td>\n",
       "      <td>4</td>\n",
       "      <td>2</td>\n",
       "      <td>1</td>\n",
       "    </tr>\n",
       "    <tr>\n",
       "      <th>808</th>\n",
       "      <td>1</td>\n",
       "      <td>2</td>\n",
       "      <td>0</td>\n",
       "      <td>1</td>\n",
       "      <td>39.00</td>\n",
       "      <td>0</td>\n",
       "      <td>0</td>\n",
       "      <td>13.0000</td>\n",
       "      <td>3</td>\n",
       "      <td>4</td>\n",
       "      <td>2</td>\n",
       "      <td>1</td>\n",
       "    </tr>\n",
       "    <tr>\n",
       "      <th>838</th>\n",
       "      <td>1</td>\n",
       "      <td>2</td>\n",
       "      <td>1</td>\n",
       "      <td>2</td>\n",
       "      <td>32.00</td>\n",
       "      <td>0</td>\n",
       "      <td>0</td>\n",
       "      <td>56.4958</td>\n",
       "      <td>3</td>\n",
       "      <td>4</td>\n",
       "      <td>2</td>\n",
       "      <td>1</td>\n",
       "    </tr>\n",
       "    <tr>\n",
       "      <th>844</th>\n",
       "      <td>1</td>\n",
       "      <td>2</td>\n",
       "      <td>0</td>\n",
       "      <td>2</td>\n",
       "      <td>17.00</td>\n",
       "      <td>0</td>\n",
       "      <td>0</td>\n",
       "      <td>8.6625</td>\n",
       "      <td>3</td>\n",
       "      <td>4</td>\n",
       "      <td>2</td>\n",
       "      <td>4</td>\n",
       "    </tr>\n",
       "    <tr>\n",
       "      <th>870</th>\n",
       "      <td>1</td>\n",
       "      <td>2</td>\n",
       "      <td>0</td>\n",
       "      <td>2</td>\n",
       "      <td>26.00</td>\n",
       "      <td>0</td>\n",
       "      <td>0</td>\n",
       "      <td>7.8958</td>\n",
       "      <td>3</td>\n",
       "      <td>4</td>\n",
       "      <td>2</td>\n",
       "      <td>4</td>\n",
       "    </tr>\n",
       "    <tr>\n",
       "      <th>877</th>\n",
       "      <td>1</td>\n",
       "      <td>2</td>\n",
       "      <td>0</td>\n",
       "      <td>2</td>\n",
       "      <td>19.00</td>\n",
       "      <td>0</td>\n",
       "      <td>0</td>\n",
       "      <td>7.8958</td>\n",
       "      <td>3</td>\n",
       "      <td>4</td>\n",
       "      <td>2</td>\n",
       "      <td>4</td>\n",
       "    </tr>\n",
       "    <tr>\n",
       "      <th>884</th>\n",
       "      <td>1</td>\n",
       "      <td>2</td>\n",
       "      <td>0</td>\n",
       "      <td>2</td>\n",
       "      <td>25.00</td>\n",
       "      <td>0</td>\n",
       "      <td>0</td>\n",
       "      <td>7.0500</td>\n",
       "      <td>3</td>\n",
       "      <td>6</td>\n",
       "      <td>2</td>\n",
       "      <td>4</td>\n",
       "    </tr>\n",
       "  </tbody>\n",
       "</table>\n",
       "</div>"
      ],
      "text/plain": [
       "    Sex Embarked  Survived Pclass    Age SibSp Parch     Fare NameNew  \\\n",
       "133   0        2         1      1  29.00     1     0  26.0000       4   \n",
       "173   1        2         0      2  21.00     0     0   7.9250       3   \n",
       "213   1        2         0      1  30.00     0     0  13.0000       3   \n",
       "313   1        2         0      2  28.00     0     0   7.8958       3   \n",
       "320   1        2         0      2  22.00     0     0   7.2500       3   \n",
       "355   1        2         0      2  28.00     0     0   9.5000       3   \n",
       "418   1        2         0      1  30.00     0     0  13.0000       3   \n",
       "476   1        2         0      1  34.00     1     0  21.0000       3   \n",
       "494   1        2         0      2  21.00     0     0   8.0500       3   \n",
       "500   1        2         0      2  17.00     0     0   8.6625       3   \n",
       "521   1        2         0      2  22.00     0     0   7.8958       3   \n",
       "555   1        2         0      0  62.00     0     0  26.5500       3   \n",
       "588   1        2         0      2  22.00     0     0   8.0500       3   \n",
       "614   1        2         0      2  35.00     0     0   8.0500       3   \n",
       "635   0        2         1      1  28.00     0     0  13.0000       2   \n",
       "636   1        2         0      2  32.00     0     0   7.9250       3   \n",
       "640   1        2         0      2  20.00     0     0   7.8542       3   \n",
       "644   0        0         1      2   0.75     2     1  19.2583       2   \n",
       "646   1        2         0      2  19.00     0     0   7.8958       3   \n",
       "666   1        2         0      1  25.00     0     0  13.0000       3   \n",
       "696   1        2         0      2  44.00     0     0   8.0500       3   \n",
       "733   1        2         0      1  23.00     0     0  13.0000       3   \n",
       "734   1        2         0      1  23.00     0     0  13.0000       3   \n",
       "757   1        2         0      1  18.00     0     0  11.5000       3   \n",
       "758   1        2         0      2  34.00     0     0   8.0500       3   \n",
       "800   1        2         0      1  34.00     0     0  13.0000       3   \n",
       "808   1        2         0      1  39.00     0     0  13.0000       3   \n",
       "838   1        2         1      2  32.00     0     0  56.4958       3   \n",
       "844   1        2         0      2  17.00     0     0   8.6625       3   \n",
       "870   1        2         0      2  26.00     0     0   7.8958       3   \n",
       "877   1        2         0      2  19.00     0     0   7.8958       3   \n",
       "884   1        2         0      2  25.00     0     0   7.0500       3   \n",
       "\n",
       "    TicketNew Family NewAge  \n",
       "133         4      3      4  \n",
       "173         6      2      4  \n",
       "213         4      2      4  \n",
       "313         4      2      4  \n",
       "320         0      2      4  \n",
       "355         4      2      4  \n",
       "418         4      2      4  \n",
       "476         4      3      1  \n",
       "494         0      2      4  \n",
       "500         4      2      4  \n",
       "521         4      2      4  \n",
       "555         4      2      2  \n",
       "588         4      2      4  \n",
       "614         4      2      1  \n",
       "635         4      2      4  \n",
       "636         6      2      1  \n",
       "640         4      2      4  \n",
       "644         4      1      0  \n",
       "646         4      2      4  \n",
       "666         4      2      4  \n",
       "696         4      2      1  \n",
       "733         4      2      4  \n",
       "734         4      2      4  \n",
       "757         4      2      4  \n",
       "758         4      2      1  \n",
       "800         4      2      1  \n",
       "808         4      2      1  \n",
       "838         4      2      1  \n",
       "844         4      2      4  \n",
       "870         4      2      4  \n",
       "877         4      2      4  \n",
       "884         6      2      4  "
      ]
     },
     "execution_count": 78,
     "metadata": {},
     "output_type": "execute_result"
    }
   ],
   "source": [
    "dupl_check1"
   ]
  },
  {
   "cell_type": "markdown",
   "id": "4b51e8b3",
   "metadata": {
    "papermill": {
     "duration": 0.057081,
     "end_time": "2022-10-20T17:56:16.268041",
     "exception": false,
     "start_time": "2022-10-20T17:56:16.210960",
     "status": "completed"
    },
    "tags": []
   },
   "source": [
    "### 2.2 Preprocessing of the Testing Dataset <a class=\"anchor\" id=\"testdata\"></a>"
   ]
  },
  {
   "cell_type": "markdown",
   "id": "1d2c9e0b",
   "metadata": {
    "papermill": {
     "duration": 0.057683,
     "end_time": "2022-10-20T17:56:16.383802",
     "exception": false,
     "start_time": "2022-10-20T17:56:16.326119",
     "status": "completed"
    },
    "tags": []
   },
   "source": [
    "### 2.2.1 Numerical Features <a class=\"anchor\" id=\"trnum\"></a>  \n",
    "We separate numerical features from categorical in order to preprocess them separately."
   ]
  },
  {
   "cell_type": "code",
   "execution_count": 79,
   "id": "95788685",
   "metadata": {
    "execution": {
     "iopub.execute_input": "2022-10-20T17:56:16.502026Z",
     "iopub.status.busy": "2022-10-20T17:56:16.501274Z",
     "iopub.status.idle": "2022-10-20T17:56:16.517313Z",
     "shell.execute_reply": "2022-10-20T17:56:16.516069Z"
    },
    "papermill": {
     "duration": 0.079042,
     "end_time": "2022-10-20T17:56:16.519849",
     "exception": false,
     "start_time": "2022-10-20T17:56:16.440807",
     "status": "completed"
    },
    "tags": []
   },
   "outputs": [
    {
     "data": {
      "text/html": [
       "<div>\n",
       "<style scoped>\n",
       "    .dataframe tbody tr th:only-of-type {\n",
       "        vertical-align: middle;\n",
       "    }\n",
       "\n",
       "    .dataframe tbody tr th {\n",
       "        vertical-align: top;\n",
       "    }\n",
       "\n",
       "    .dataframe thead th {\n",
       "        text-align: right;\n",
       "    }\n",
       "</style>\n",
       "<table border=\"1\" class=\"dataframe\">\n",
       "  <thead>\n",
       "    <tr style=\"text-align: right;\">\n",
       "      <th></th>\n",
       "      <th>Pclass</th>\n",
       "      <th>Age</th>\n",
       "      <th>SibSp</th>\n",
       "      <th>Parch</th>\n",
       "      <th>Fare</th>\n",
       "    </tr>\n",
       "  </thead>\n",
       "  <tbody>\n",
       "    <tr>\n",
       "      <th>0</th>\n",
       "      <td>3</td>\n",
       "      <td>34.5</td>\n",
       "      <td>0</td>\n",
       "      <td>0</td>\n",
       "      <td>7.8292</td>\n",
       "    </tr>\n",
       "    <tr>\n",
       "      <th>1</th>\n",
       "      <td>3</td>\n",
       "      <td>47.0</td>\n",
       "      <td>1</td>\n",
       "      <td>0</td>\n",
       "      <td>7.0000</td>\n",
       "    </tr>\n",
       "    <tr>\n",
       "      <th>2</th>\n",
       "      <td>2</td>\n",
       "      <td>62.0</td>\n",
       "      <td>0</td>\n",
       "      <td>0</td>\n",
       "      <td>9.6875</td>\n",
       "    </tr>\n",
       "    <tr>\n",
       "      <th>3</th>\n",
       "      <td>3</td>\n",
       "      <td>27.0</td>\n",
       "      <td>0</td>\n",
       "      <td>0</td>\n",
       "      <td>8.6625</td>\n",
       "    </tr>\n",
       "    <tr>\n",
       "      <th>4</th>\n",
       "      <td>3</td>\n",
       "      <td>22.0</td>\n",
       "      <td>1</td>\n",
       "      <td>1</td>\n",
       "      <td>12.2875</td>\n",
       "    </tr>\n",
       "  </tbody>\n",
       "</table>\n",
       "</div>"
      ],
      "text/plain": [
       "   Pclass   Age  SibSp  Parch     Fare\n",
       "0       3  34.5      0      0   7.8292\n",
       "1       3  47.0      1      0   7.0000\n",
       "2       2  62.0      0      0   9.6875\n",
       "3       3  27.0      0      0   8.6625\n",
       "4       3  22.0      1      1  12.2875"
      ]
     },
     "execution_count": 79,
     "metadata": {},
     "output_type": "execute_result"
    }
   ],
   "source": [
    "test_df_num = test_df.select_dtypes(include=[np.number])\n",
    "test_df = test_df.drop([col for col in test_df_num], axis = 1)\n",
    "test_df_num.head()"
   ]
  },
  {
   "cell_type": "markdown",
   "id": "8668d2a8",
   "metadata": {
    "papermill": {
     "duration": 0.057891,
     "end_time": "2022-10-20T17:56:16.636293",
     "exception": false,
     "start_time": "2022-10-20T17:56:16.578402",
     "status": "completed"
    },
    "tags": []
   },
   "source": [
    "#### Check for negative values"
   ]
  },
  {
   "cell_type": "code",
   "execution_count": 80,
   "id": "c6b07b27",
   "metadata": {
    "execution": {
     "iopub.execute_input": "2022-10-20T17:56:16.765501Z",
     "iopub.status.busy": "2022-10-20T17:56:16.765043Z",
     "iopub.status.idle": "2022-10-20T17:56:16.774690Z",
     "shell.execute_reply": "2022-10-20T17:56:16.773485Z"
    },
    "papermill": {
     "duration": 0.087126,
     "end_time": "2022-10-20T17:56:16.783228",
     "exception": false,
     "start_time": "2022-10-20T17:56:16.696102",
     "status": "completed"
    },
    "tags": []
   },
   "outputs": [
    {
     "name": "stdout",
     "output_type": "stream",
     "text": [
      "Pclass    False\n",
      "Age       False\n",
      "SibSp     False\n",
      "Parch     False\n",
      "Fare      False\n",
      "dtype: bool\n"
     ]
    }
   ],
   "source": [
    "print((test_df_num < 0).any())"
   ]
  },
  {
   "cell_type": "markdown",
   "id": "8843ef36",
   "metadata": {
    "papermill": {
     "duration": 0.062162,
     "end_time": "2022-10-20T17:56:16.905171",
     "exception": false,
     "start_time": "2022-10-20T17:56:16.843009",
     "status": "completed"
    },
    "tags": []
   },
   "source": [
    "#### 2.2.1.1 Missing values (NaNs) <a class=\"anchor\" id=\"testnummisvals\"></a> \n",
    "Let's find all missing values (NaNs) in all columns and think about the proper way to deal with those values."
   ]
  },
  {
   "cell_type": "code",
   "execution_count": 81,
   "id": "7562d2a7",
   "metadata": {
    "execution": {
     "iopub.execute_input": "2022-10-20T17:56:17.035604Z",
     "iopub.status.busy": "2022-10-20T17:56:17.035038Z",
     "iopub.status.idle": "2022-10-20T17:56:17.285807Z",
     "shell.execute_reply": "2022-10-20T17:56:17.284313Z"
    },
    "papermill": {
     "duration": 0.325617,
     "end_time": "2022-10-20T17:56:17.288640",
     "exception": false,
     "start_time": "2022-10-20T17:56:16.963023",
     "status": "completed"
    },
    "tags": []
   },
   "outputs": [
    {
     "data": {
      "image/png": "[encoded data removed]",
      "text/plain": [
       "<Figure size 864x504 with 1 Axes>"
      ]
     },
     "metadata": {},
     "output_type": "display_data"
    }
   ],
   "source": [
    "percent_missing_nans = test_df_num.isnull().sum() * 100 / len(test_df_num)\n",
    "nans = pd.DataFrame({'col_name': test_df_num.columns, 'percent_missing': percent_missing_nans})\n",
    "\n",
    "sns.set(rc={'figure.figsize':(12,7)})\n",
    "cols = list(nans['col_name'])\n",
    "percent = list(nans['percent_missing'])\n",
    "plt.gca().set_ylabel('% of NaN Values', fontsize = 12)\n",
    "plt.gca().set_xlabel('Column Name')\n",
    "plt.title('% of NaN values in numerical features', fontsize = 18)\n",
    "sns.barplot(x = cols, y = percent)\n",
    "plt.gca().set_xticklabels(plt.gca().get_xticklabels(), rotation = 65)\n",
    "plt.show()"
   ]
  },
  {
   "cell_type": "code",
   "execution_count": 82,
   "id": "3c9bd48a",
   "metadata": {
    "execution": {
     "iopub.execute_input": "2022-10-20T17:56:17.410660Z",
     "iopub.status.busy": "2022-10-20T17:56:17.409696Z",
     "iopub.status.idle": "2022-10-20T17:56:17.424116Z",
     "shell.execute_reply": "2022-10-20T17:56:17.422525Z"
    },
    "papermill": {
     "duration": 0.07892,
     "end_time": "2022-10-20T17:56:17.426889",
     "exception": false,
     "start_time": "2022-10-20T17:56:17.347969",
     "status": "completed"
    },
    "tags": []
   },
   "outputs": [
    {
     "data": {
      "text/html": [
       "<div>\n",
       "<style scoped>\n",
       "    .dataframe tbody tr th:only-of-type {\n",
       "        vertical-align: middle;\n",
       "    }\n",
       "\n",
       "    .dataframe tbody tr th {\n",
       "        vertical-align: top;\n",
       "    }\n",
       "\n",
       "    .dataframe thead th {\n",
       "        text-align: right;\n",
       "    }\n",
       "</style>\n",
       "<table border=\"1\" class=\"dataframe\">\n",
       "  <thead>\n",
       "    <tr style=\"text-align: right;\">\n",
       "      <th></th>\n",
       "      <th>col_name</th>\n",
       "      <th>percent_missing</th>\n",
       "    </tr>\n",
       "  </thead>\n",
       "  <tbody>\n",
       "    <tr>\n",
       "      <th>1</th>\n",
       "      <td>Age</td>\n",
       "      <td>20.574163</td>\n",
       "    </tr>\n",
       "    <tr>\n",
       "      <th>4</th>\n",
       "      <td>Fare</td>\n",
       "      <td>0.239234</td>\n",
       "    </tr>\n",
       "  </tbody>\n",
       "</table>\n",
       "</div>"
      ],
      "text/plain": [
       "  col_name  percent_missing\n",
       "1      Age        20.574163\n",
       "4     Fare         0.239234"
      ]
     },
     "execution_count": 82,
     "metadata": {},
     "output_type": "execute_result"
    }
   ],
   "source": [
    "nans = nans.reset_index(drop = True)\n",
    "missing_vals_cols = nans[nans['percent_missing'] != 0]\n",
    "missing_vals_cols"
   ]
  },
  {
   "cell_type": "markdown",
   "id": "b24ec43f",
   "metadata": {
    "papermill": {
     "duration": 0.059854,
     "end_time": "2022-10-20T17:56:17.546062",
     "exception": false,
     "start_time": "2022-10-20T17:56:17.486208",
     "status": "completed"
    },
    "tags": []
   },
   "source": [
    "#### Fare"
   ]
  },
  {
   "cell_type": "code",
   "execution_count": 83,
   "id": "c1ae3e95",
   "metadata": {
    "execution": {
     "iopub.execute_input": "2022-10-20T17:56:17.669871Z",
     "iopub.status.busy": "2022-10-20T17:56:17.669441Z",
     "iopub.status.idle": "2022-10-20T17:56:17.697409Z",
     "shell.execute_reply": "2022-10-20T17:56:17.695996Z"
    },
    "papermill": {
     "duration": 0.095242,
     "end_time": "2022-10-20T17:56:17.700404",
     "exception": false,
     "start_time": "2022-10-20T17:56:17.605162",
     "status": "completed"
    },
    "tags": []
   },
   "outputs": [],
   "source": [
    "imputer = KNNImputer(n_neighbors = 5, weights='distance', metric='nan_euclidean')\n",
    "\n",
    "test_features_imputed = pd.DataFrame(imputer.fit_transform(test_df_num.loc[:, test_df_num.columns != 'Survived']))\n",
    "test_features_imputed.columns = test_df_num.loc[:, test_df_num.columns != 'Survived'].columns\n",
    "\n",
    "test_features_imputed1 = pd.DataFrame(imputer.fit_transform(test_df_num.loc[:, test_df_num.columns != 'Survived']))\n",
    "test_features_imputed.columns = test_df_num.loc[:, test_df_num.columns != 'Survived'].columns"
   ]
  },
  {
   "cell_type": "code",
   "execution_count": 84,
   "id": "4dfb0469",
   "metadata": {
    "execution": {
     "iopub.execute_input": "2022-10-20T17:56:17.821821Z",
     "iopub.status.busy": "2022-10-20T17:56:17.820953Z",
     "iopub.status.idle": "2022-10-20T17:56:18.168165Z",
     "shell.execute_reply": "2022-10-20T17:56:18.165674Z"
    },
    "papermill": {
     "duration": 0.411687,
     "end_time": "2022-10-20T17:56:18.171256",
     "exception": false,
     "start_time": "2022-10-20T17:56:17.759569",
     "status": "completed"
    },
    "tags": []
   },
   "outputs": [
    {
     "data": {
      "image/png": "[encoded data removed]",
      "text/plain": [
       "<Figure size 864x504 with 1 Axes>"
      ]
     },
     "metadata": {},
     "output_type": "display_data"
    }
   ],
   "source": [
    "sns.set(rc={\"figure.figsize\": (12, 7)})\n",
    "sns.histplot(x = test_df_num['Fare'], kde = True, bins = 30, color = 'deeppink', alpha = 1)\n",
    "sns.histplot(x = test_features_imputed['Fare'], kde = True, bins = 30, color = 'dodgerblue', alpha = 0.8)\n",
    "plt.show()"
   ]
  },
  {
   "cell_type": "code",
   "execution_count": 85,
   "id": "fb831674",
   "metadata": {
    "execution": {
     "iopub.execute_input": "2022-10-20T17:56:18.294852Z",
     "iopub.status.busy": "2022-10-20T17:56:18.293955Z",
     "iopub.status.idle": "2022-10-20T17:56:18.299179Z",
     "shell.execute_reply": "2022-10-20T17:56:18.298243Z"
    },
    "papermill": {
     "duration": 0.06976,
     "end_time": "2022-10-20T17:56:18.301678",
     "exception": false,
     "start_time": "2022-10-20T17:56:18.231918",
     "status": "completed"
    },
    "tags": []
   },
   "outputs": [],
   "source": [
    "test_df_num['Fare'] = test_features_imputed['Fare']"
   ]
  },
  {
   "cell_type": "code",
   "execution_count": 86,
   "id": "150595c8",
   "metadata": {
    "execution": {
     "iopub.execute_input": "2022-10-20T17:56:18.422296Z",
     "iopub.status.busy": "2022-10-20T17:56:18.421489Z",
     "iopub.status.idle": "2022-10-20T17:56:18.427386Z",
     "shell.execute_reply": "2022-10-20T17:56:18.426469Z"
    },
    "papermill": {
     "duration": 0.069319,
     "end_time": "2022-10-20T17:56:18.429785",
     "exception": false,
     "start_time": "2022-10-20T17:56:18.360466",
     "status": "completed"
    },
    "tags": []
   },
   "outputs": [],
   "source": [
    "# Full dataframe of both categorical and numerical features\n",
    "full_data_temp = pd.concat([test_df, test_df_num], axis = 1)"
   ]
  },
  {
   "cell_type": "markdown",
   "id": "01177b1c",
   "metadata": {
    "papermill": {
     "duration": 0.060416,
     "end_time": "2022-10-20T17:56:18.549099",
     "exception": false,
     "start_time": "2022-10-20T17:56:18.488683",
     "status": "completed"
    },
    "tags": []
   },
   "source": [
    "#### Age"
   ]
  },
  {
   "cell_type": "code",
   "execution_count": 87,
   "id": "53d9e6cd",
   "metadata": {
    "execution": {
     "iopub.execute_input": "2022-10-20T17:56:18.670098Z",
     "iopub.status.busy": "2022-10-20T17:56:18.669316Z",
     "iopub.status.idle": "2022-10-20T17:56:19.028055Z",
     "shell.execute_reply": "2022-10-20T17:56:19.026860Z"
    },
    "papermill": {
     "duration": 0.422412,
     "end_time": "2022-10-20T17:56:19.030753",
     "exception": false,
     "start_time": "2022-10-20T17:56:18.608341",
     "status": "completed"
    },
    "tags": []
   },
   "outputs": [
    {
     "data": {
      "image/png": "[encoded data removed]",
      "text/plain": [
       "<Figure size 864x504 with 1 Axes>"
      ]
     },
     "metadata": {},
     "output_type": "display_data"
    }
   ],
   "source": [
    "#test_df_reduced = full_data_temp[full_data_temp['Age'].notna()]\n",
    "sns.set(rc={\"figure.figsize\": (12, 7)})\n",
    "sns.histplot(x = test_df_num['Age'], kde = True, bins = 30, color = 'deeppink', alpha = 1)\n",
    "sns.histplot(x = test_features_imputed['Age'], kde = True, bins = 30, color = 'dodgerblue', alpha = 0.8)\n",
    "plt.show()"
   ]
  },
  {
   "cell_type": "code",
   "execution_count": 88,
   "id": "3c47ad07",
   "metadata": {
    "execution": {
     "iopub.execute_input": "2022-10-20T17:56:19.155589Z",
     "iopub.status.busy": "2022-10-20T17:56:19.155105Z",
     "iopub.status.idle": "2022-10-20T17:56:19.161817Z",
     "shell.execute_reply": "2022-10-20T17:56:19.160452Z"
    },
    "papermill": {
     "duration": 0.072996,
     "end_time": "2022-10-20T17:56:19.164475",
     "exception": false,
     "start_time": "2022-10-20T17:56:19.091479",
     "status": "completed"
    },
    "tags": []
   },
   "outputs": [],
   "source": [
    "test_df_num = test_df_num.drop(columns=['Age'])"
   ]
  },
  {
   "cell_type": "code",
   "execution_count": 89,
   "id": "0123e26b",
   "metadata": {
    "execution": {
     "iopub.execute_input": "2022-10-20T17:56:19.288442Z",
     "iopub.status.busy": "2022-10-20T17:56:19.287704Z",
     "iopub.status.idle": "2022-10-20T17:56:19.293031Z",
     "shell.execute_reply": "2022-10-20T17:56:19.291813Z"
    },
    "papermill": {
     "duration": 0.071072,
     "end_time": "2022-10-20T17:56:19.295622",
     "exception": false,
     "start_time": "2022-10-20T17:56:19.224550",
     "status": "completed"
    },
    "tags": []
   },
   "outputs": [],
   "source": [
    "test_df_reduced = full_data_temp\n",
    "test_df_reduced['Age'] = test_features_imputed['Age']"
   ]
  },
  {
   "cell_type": "markdown",
   "id": "446a9560",
   "metadata": {
    "papermill": {
     "duration": 0.060369,
     "end_time": "2022-10-20T17:56:19.415566",
     "exception": false,
     "start_time": "2022-10-20T17:56:19.355197",
     "status": "completed"
    },
    "tags": []
   },
   "source": [
    "#### 2.2.1.2 Quasi Constants Check <a class=\"anchor\" id=\"testquasiconst\"></a> "
   ]
  },
  {
   "cell_type": "code",
   "execution_count": 90,
   "id": "f00fdca6",
   "metadata": {
    "execution": {
     "iopub.execute_input": "2022-10-20T17:56:19.537649Z",
     "iopub.status.busy": "2022-10-20T17:56:19.536896Z",
     "iopub.status.idle": "2022-10-20T17:56:19.547982Z",
     "shell.execute_reply": "2022-10-20T17:56:19.546406Z"
    },
    "papermill": {
     "duration": 0.07587,
     "end_time": "2022-10-20T17:56:19.550816",
     "exception": false,
     "start_time": "2022-10-20T17:56:19.474946",
     "status": "completed"
    },
    "tags": []
   },
   "outputs": [
    {
     "name": "stdout",
     "output_type": "stream",
     "text": [
      "Number of features left: 4\n",
      "Number of quasi constant features to be dropped: []\n"
     ]
    }
   ],
   "source": [
    "\"\"\" threshold = 0.05 means 95% of the values are constant\n",
    "with thresholds < 0.05 i.e. 96% and above, no such columns where detected \"\"\"\n",
    "\n",
    "vt = VarianceThreshold(threshold = 0.05)\n",
    "vt.fit(test_df_num.iloc[:,])\n",
    "\n",
    "print(f\"Number of features left: {sum(vt.get_support())}\")\n",
    "t_quasi_constant_features = [x for x in test_df_num.iloc[:, :-1].columns if x not in test_df_num.iloc[:,].columns[vt.get_support()]]\n",
    "print(f\"Number of quasi constant features to be dropped: {t_quasi_constant_features}\")\n",
    "#test_df_num = test_df_num.drop(t_quasi_constant_features, axis = 1)"
   ]
  },
  {
   "cell_type": "markdown",
   "id": "66c6a4b3",
   "metadata": {
    "papermill": {
     "duration": 0.06092,
     "end_time": "2022-10-20T17:56:19.672048",
     "exception": false,
     "start_time": "2022-10-20T17:56:19.611128",
     "status": "completed"
    },
    "tags": []
   },
   "source": [
    "No quasi-constant features were found among numerical variables."
   ]
  },
  {
   "cell_type": "markdown",
   "id": "330cc78a",
   "metadata": {
    "papermill": {
     "duration": 0.059529,
     "end_time": "2022-10-20T17:56:19.790802",
     "exception": false,
     "start_time": "2022-10-20T17:56:19.731273",
     "status": "completed"
    },
    "tags": []
   },
   "source": [
    "#### 2.2.1.3 Category Change <a class=\"anchor\" id=\"testnewcat\"></a> \n",
    "Features such as the PassengerId, Survived, and Pclass are categorical, therefore, we will assign a corresponding type to those.\n",
    "Other features such as SibSp, Parch, and Fare are numerical, therefore, we will assign a corresponding type to those."
   ]
  },
  {
   "cell_type": "code",
   "execution_count": 91,
   "id": "47e9d5eb",
   "metadata": {
    "execution": {
     "iopub.execute_input": "2022-10-20T17:56:19.912853Z",
     "iopub.status.busy": "2022-10-20T17:56:19.912086Z",
     "iopub.status.idle": "2022-10-20T17:56:19.920395Z",
     "shell.execute_reply": "2022-10-20T17:56:19.919477Z"
    },
    "papermill": {
     "duration": 0.072994,
     "end_time": "2022-10-20T17:56:19.922960",
     "exception": false,
     "start_time": "2022-10-20T17:56:19.849966",
     "status": "completed"
    },
    "tags": []
   },
   "outputs": [],
   "source": [
    "for col in [['Pclass']]:\n",
    "    test_df_num[col] = test_df_num[col].astype('object')\n",
    "    test_df_reduced[col] = test_df_reduced[col].astype('object')"
   ]
  },
  {
   "cell_type": "code",
   "execution_count": 92,
   "id": "e34aa13d",
   "metadata": {
    "execution": {
     "iopub.execute_input": "2022-10-20T17:56:20.047947Z",
     "iopub.status.busy": "2022-10-20T17:56:20.047160Z",
     "iopub.status.idle": "2022-10-20T17:56:20.067897Z",
     "shell.execute_reply": "2022-10-20T17:56:20.066599Z"
    },
    "papermill": {
     "duration": 0.087369,
     "end_time": "2022-10-20T17:56:20.070571",
     "exception": false,
     "start_time": "2022-10-20T17:56:19.983202",
     "status": "completed"
    },
    "tags": []
   },
   "outputs": [
    {
     "data": {
      "text/html": [
       "<div>\n",
       "<style scoped>\n",
       "    .dataframe tbody tr th:only-of-type {\n",
       "        vertical-align: middle;\n",
       "    }\n",
       "\n",
       "    .dataframe tbody tr th {\n",
       "        vertical-align: top;\n",
       "    }\n",
       "\n",
       "    .dataframe thead th {\n",
       "        text-align: right;\n",
       "    }\n",
       "</style>\n",
       "<table border=\"1\" class=\"dataframe\">\n",
       "  <thead>\n",
       "    <tr style=\"text-align: right;\">\n",
       "      <th></th>\n",
       "      <th>Name</th>\n",
       "      <th>Sex</th>\n",
       "      <th>Ticket</th>\n",
       "      <th>Cabin</th>\n",
       "      <th>Embarked</th>\n",
       "      <th>Pclass</th>\n",
       "      <th>SibSp</th>\n",
       "      <th>Parch</th>\n",
       "      <th>Fare</th>\n",
       "    </tr>\n",
       "  </thead>\n",
       "  <tbody>\n",
       "    <tr>\n",
       "      <th>0</th>\n",
       "      <td>Kelly, Mr. James</td>\n",
       "      <td>male</td>\n",
       "      <td>330911</td>\n",
       "      <td>NaN</td>\n",
       "      <td>Q</td>\n",
       "      <td>3</td>\n",
       "      <td>0</td>\n",
       "      <td>0</td>\n",
       "      <td>7.8292</td>\n",
       "    </tr>\n",
       "    <tr>\n",
       "      <th>1</th>\n",
       "      <td>Wilkes, Mrs. James (Ellen Needs)</td>\n",
       "      <td>female</td>\n",
       "      <td>363272</td>\n",
       "      <td>NaN</td>\n",
       "      <td>S</td>\n",
       "      <td>3</td>\n",
       "      <td>1</td>\n",
       "      <td>0</td>\n",
       "      <td>7.0000</td>\n",
       "    </tr>\n",
       "    <tr>\n",
       "      <th>2</th>\n",
       "      <td>Myles, Mr. Thomas Francis</td>\n",
       "      <td>male</td>\n",
       "      <td>240276</td>\n",
       "      <td>NaN</td>\n",
       "      <td>Q</td>\n",
       "      <td>2</td>\n",
       "      <td>0</td>\n",
       "      <td>0</td>\n",
       "      <td>9.6875</td>\n",
       "    </tr>\n",
       "    <tr>\n",
       "      <th>3</th>\n",
       "      <td>Wirz, Mr. Albert</td>\n",
       "      <td>male</td>\n",
       "      <td>315154</td>\n",
       "      <td>NaN</td>\n",
       "      <td>S</td>\n",
       "      <td>3</td>\n",
       "      <td>0</td>\n",
       "      <td>0</td>\n",
       "      <td>8.6625</td>\n",
       "    </tr>\n",
       "    <tr>\n",
       "      <th>4</th>\n",
       "      <td>Hirvonen, Mrs. Alexander (Helga E Lindqvist)</td>\n",
       "      <td>female</td>\n",
       "      <td>3101298</td>\n",
       "      <td>NaN</td>\n",
       "      <td>S</td>\n",
       "      <td>3</td>\n",
       "      <td>1</td>\n",
       "      <td>1</td>\n",
       "      <td>12.2875</td>\n",
       "    </tr>\n",
       "    <tr>\n",
       "      <th>...</th>\n",
       "      <td>...</td>\n",
       "      <td>...</td>\n",
       "      <td>...</td>\n",
       "      <td>...</td>\n",
       "      <td>...</td>\n",
       "      <td>...</td>\n",
       "      <td>...</td>\n",
       "      <td>...</td>\n",
       "      <td>...</td>\n",
       "    </tr>\n",
       "    <tr>\n",
       "      <th>413</th>\n",
       "      <td>Spector, Mr. Woolf</td>\n",
       "      <td>male</td>\n",
       "      <td>A.5. 3236</td>\n",
       "      <td>NaN</td>\n",
       "      <td>S</td>\n",
       "      <td>3</td>\n",
       "      <td>0</td>\n",
       "      <td>0</td>\n",
       "      <td>8.0500</td>\n",
       "    </tr>\n",
       "    <tr>\n",
       "      <th>414</th>\n",
       "      <td>Oliva y Ocana, Dona. Fermina</td>\n",
       "      <td>female</td>\n",
       "      <td>PC 17758</td>\n",
       "      <td>C105</td>\n",
       "      <td>C</td>\n",
       "      <td>1</td>\n",
       "      <td>0</td>\n",
       "      <td>0</td>\n",
       "      <td>108.9000</td>\n",
       "    </tr>\n",
       "    <tr>\n",
       "      <th>415</th>\n",
       "      <td>Saether, Mr. Simon Sivertsen</td>\n",
       "      <td>male</td>\n",
       "      <td>SOTON/O.Q. 3101262</td>\n",
       "      <td>NaN</td>\n",
       "      <td>S</td>\n",
       "      <td>3</td>\n",
       "      <td>0</td>\n",
       "      <td>0</td>\n",
       "      <td>7.2500</td>\n",
       "    </tr>\n",
       "    <tr>\n",
       "      <th>416</th>\n",
       "      <td>Ware, Mr. Frederick</td>\n",
       "      <td>male</td>\n",
       "      <td>359309</td>\n",
       "      <td>NaN</td>\n",
       "      <td>S</td>\n",
       "      <td>3</td>\n",
       "      <td>0</td>\n",
       "      <td>0</td>\n",
       "      <td>8.0500</td>\n",
       "    </tr>\n",
       "    <tr>\n",
       "      <th>417</th>\n",
       "      <td>Peter, Master. Michael J</td>\n",
       "      <td>male</td>\n",
       "      <td>2668</td>\n",
       "      <td>NaN</td>\n",
       "      <td>C</td>\n",
       "      <td>3</td>\n",
       "      <td>1</td>\n",
       "      <td>1</td>\n",
       "      <td>22.3583</td>\n",
       "    </tr>\n",
       "  </tbody>\n",
       "</table>\n",
       "<p>418 rows × 9 columns</p>\n",
       "</div>"
      ],
      "text/plain": [
       "                                             Name     Sex              Ticket  \\\n",
       "0                                Kelly, Mr. James    male              330911   \n",
       "1                Wilkes, Mrs. James (Ellen Needs)  female              363272   \n",
       "2                       Myles, Mr. Thomas Francis    male              240276   \n",
       "3                                Wirz, Mr. Albert    male              315154   \n",
       "4    Hirvonen, Mrs. Alexander (Helga E Lindqvist)  female             3101298   \n",
       "..                                            ...     ...                 ...   \n",
       "413                            Spector, Mr. Woolf    male           A.5. 3236   \n",
       "414                  Oliva y Ocana, Dona. Fermina  female            PC 17758   \n",
       "415                  Saether, Mr. Simon Sivertsen    male  SOTON/O.Q. 3101262   \n",
       "416                           Ware, Mr. Frederick    male              359309   \n",
       "417                      Peter, Master. Michael J    male                2668   \n",
       "\n",
       "    Cabin Embarked Pclass  SibSp  Parch      Fare  \n",
       "0     NaN        Q      3      0      0    7.8292  \n",
       "1     NaN        S      3      1      0    7.0000  \n",
       "2     NaN        Q      2      0      0    9.6875  \n",
       "3     NaN        S      3      0      0    8.6625  \n",
       "4     NaN        S      3      1      1   12.2875  \n",
       "..    ...      ...    ...    ...    ...       ...  \n",
       "413   NaN        S      3      0      0    8.0500  \n",
       "414  C105        C      1      0      0  108.9000  \n",
       "415   NaN        S      3      0      0    7.2500  \n",
       "416   NaN        S      3      0      0    8.0500  \n",
       "417   NaN        C      3      1      1   22.3583  \n",
       "\n",
       "[418 rows x 9 columns]"
      ]
     },
     "execution_count": 92,
     "metadata": {},
     "output_type": "execute_result"
    }
   ],
   "source": [
    "test_df = pd.concat([test_df, test_df_num], axis = 1)\n",
    "test_df"
   ]
  },
  {
   "cell_type": "code",
   "execution_count": 93,
   "id": "975084fe",
   "metadata": {
    "execution": {
     "iopub.execute_input": "2022-10-20T17:56:20.196698Z",
     "iopub.status.busy": "2022-10-20T17:56:20.195812Z",
     "iopub.status.idle": "2022-10-20T17:56:20.218084Z",
     "shell.execute_reply": "2022-10-20T17:56:20.216847Z"
    },
    "papermill": {
     "duration": 0.087341,
     "end_time": "2022-10-20T17:56:20.220957",
     "exception": false,
     "start_time": "2022-10-20T17:56:20.133616",
     "status": "completed"
    },
    "tags": []
   },
   "outputs": [
    {
     "data": {
      "text/html": [
       "<div>\n",
       "<style scoped>\n",
       "    .dataframe tbody tr th:only-of-type {\n",
       "        vertical-align: middle;\n",
       "    }\n",
       "\n",
       "    .dataframe tbody tr th {\n",
       "        vertical-align: top;\n",
       "    }\n",
       "\n",
       "    .dataframe thead th {\n",
       "        text-align: right;\n",
       "    }\n",
       "</style>\n",
       "<table border=\"1\" class=\"dataframe\">\n",
       "  <thead>\n",
       "    <tr style=\"text-align: right;\">\n",
       "      <th></th>\n",
       "      <th>Name</th>\n",
       "      <th>Sex</th>\n",
       "      <th>Ticket</th>\n",
       "      <th>Cabin</th>\n",
       "      <th>Embarked</th>\n",
       "      <th>Pclass</th>\n",
       "      <th>Age</th>\n",
       "      <th>SibSp</th>\n",
       "      <th>Parch</th>\n",
       "      <th>Fare</th>\n",
       "    </tr>\n",
       "  </thead>\n",
       "  <tbody>\n",
       "    <tr>\n",
       "      <th>0</th>\n",
       "      <td>Kelly, Mr. James</td>\n",
       "      <td>male</td>\n",
       "      <td>330911</td>\n",
       "      <td>NaN</td>\n",
       "      <td>Q</td>\n",
       "      <td>3</td>\n",
       "      <td>34.500000</td>\n",
       "      <td>0</td>\n",
       "      <td>0</td>\n",
       "      <td>7.8292</td>\n",
       "    </tr>\n",
       "    <tr>\n",
       "      <th>1</th>\n",
       "      <td>Wilkes, Mrs. James (Ellen Needs)</td>\n",
       "      <td>female</td>\n",
       "      <td>363272</td>\n",
       "      <td>NaN</td>\n",
       "      <td>S</td>\n",
       "      <td>3</td>\n",
       "      <td>47.000000</td>\n",
       "      <td>1</td>\n",
       "      <td>0</td>\n",
       "      <td>7.0000</td>\n",
       "    </tr>\n",
       "    <tr>\n",
       "      <th>2</th>\n",
       "      <td>Myles, Mr. Thomas Francis</td>\n",
       "      <td>male</td>\n",
       "      <td>240276</td>\n",
       "      <td>NaN</td>\n",
       "      <td>Q</td>\n",
       "      <td>2</td>\n",
       "      <td>62.000000</td>\n",
       "      <td>0</td>\n",
       "      <td>0</td>\n",
       "      <td>9.6875</td>\n",
       "    </tr>\n",
       "    <tr>\n",
       "      <th>3</th>\n",
       "      <td>Wirz, Mr. Albert</td>\n",
       "      <td>male</td>\n",
       "      <td>315154</td>\n",
       "      <td>NaN</td>\n",
       "      <td>S</td>\n",
       "      <td>3</td>\n",
       "      <td>27.000000</td>\n",
       "      <td>0</td>\n",
       "      <td>0</td>\n",
       "      <td>8.6625</td>\n",
       "    </tr>\n",
       "    <tr>\n",
       "      <th>4</th>\n",
       "      <td>Hirvonen, Mrs. Alexander (Helga E Lindqvist)</td>\n",
       "      <td>female</td>\n",
       "      <td>3101298</td>\n",
       "      <td>NaN</td>\n",
       "      <td>S</td>\n",
       "      <td>3</td>\n",
       "      <td>22.000000</td>\n",
       "      <td>1</td>\n",
       "      <td>1</td>\n",
       "      <td>12.2875</td>\n",
       "    </tr>\n",
       "    <tr>\n",
       "      <th>...</th>\n",
       "      <td>...</td>\n",
       "      <td>...</td>\n",
       "      <td>...</td>\n",
       "      <td>...</td>\n",
       "      <td>...</td>\n",
       "      <td>...</td>\n",
       "      <td>...</td>\n",
       "      <td>...</td>\n",
       "      <td>...</td>\n",
       "      <td>...</td>\n",
       "    </tr>\n",
       "    <tr>\n",
       "      <th>413</th>\n",
       "      <td>Spector, Mr. Woolf</td>\n",
       "      <td>male</td>\n",
       "      <td>A.5. 3236</td>\n",
       "      <td>NaN</td>\n",
       "      <td>S</td>\n",
       "      <td>3</td>\n",
       "      <td>25.800000</td>\n",
       "      <td>0</td>\n",
       "      <td>0</td>\n",
       "      <td>8.0500</td>\n",
       "    </tr>\n",
       "    <tr>\n",
       "      <th>414</th>\n",
       "      <td>Oliva y Ocana, Dona. Fermina</td>\n",
       "      <td>female</td>\n",
       "      <td>PC 17758</td>\n",
       "      <td>C105</td>\n",
       "      <td>C</td>\n",
       "      <td>1</td>\n",
       "      <td>39.000000</td>\n",
       "      <td>0</td>\n",
       "      <td>0</td>\n",
       "      <td>108.9000</td>\n",
       "    </tr>\n",
       "    <tr>\n",
       "      <th>415</th>\n",
       "      <td>Saether, Mr. Simon Sivertsen</td>\n",
       "      <td>male</td>\n",
       "      <td>SOTON/O.Q. 3101262</td>\n",
       "      <td>NaN</td>\n",
       "      <td>S</td>\n",
       "      <td>3</td>\n",
       "      <td>38.500000</td>\n",
       "      <td>0</td>\n",
       "      <td>0</td>\n",
       "      <td>7.2500</td>\n",
       "    </tr>\n",
       "    <tr>\n",
       "      <th>416</th>\n",
       "      <td>Ware, Mr. Frederick</td>\n",
       "      <td>male</td>\n",
       "      <td>359309</td>\n",
       "      <td>NaN</td>\n",
       "      <td>S</td>\n",
       "      <td>3</td>\n",
       "      <td>25.800000</td>\n",
       "      <td>0</td>\n",
       "      <td>0</td>\n",
       "      <td>8.0500</td>\n",
       "    </tr>\n",
       "    <tr>\n",
       "      <th>417</th>\n",
       "      <td>Peter, Master. Michael J</td>\n",
       "      <td>male</td>\n",
       "      <td>2668</td>\n",
       "      <td>NaN</td>\n",
       "      <td>C</td>\n",
       "      <td>3</td>\n",
       "      <td>22.868688</td>\n",
       "      <td>1</td>\n",
       "      <td>1</td>\n",
       "      <td>22.3583</td>\n",
       "    </tr>\n",
       "  </tbody>\n",
       "</table>\n",
       "<p>418 rows × 10 columns</p>\n",
       "</div>"
      ],
      "text/plain": [
       "                                             Name     Sex              Ticket  \\\n",
       "0                                Kelly, Mr. James    male              330911   \n",
       "1                Wilkes, Mrs. James (Ellen Needs)  female              363272   \n",
       "2                       Myles, Mr. Thomas Francis    male              240276   \n",
       "3                                Wirz, Mr. Albert    male              315154   \n",
       "4    Hirvonen, Mrs. Alexander (Helga E Lindqvist)  female             3101298   \n",
       "..                                            ...     ...                 ...   \n",
       "413                            Spector, Mr. Woolf    male           A.5. 3236   \n",
       "414                  Oliva y Ocana, Dona. Fermina  female            PC 17758   \n",
       "415                  Saether, Mr. Simon Sivertsen    male  SOTON/O.Q. 3101262   \n",
       "416                           Ware, Mr. Frederick    male              359309   \n",
       "417                      Peter, Master. Michael J    male                2668   \n",
       "\n",
       "    Cabin Embarked Pclass        Age  SibSp  Parch      Fare  \n",
       "0     NaN        Q      3  34.500000      0      0    7.8292  \n",
       "1     NaN        S      3  47.000000      1      0    7.0000  \n",
       "2     NaN        Q      2  62.000000      0      0    9.6875  \n",
       "3     NaN        S      3  27.000000      0      0    8.6625  \n",
       "4     NaN        S      3  22.000000      1      1   12.2875  \n",
       "..    ...      ...    ...        ...    ...    ...       ...  \n",
       "413   NaN        S      3  25.800000      0      0    8.0500  \n",
       "414  C105        C      1  39.000000      0      0  108.9000  \n",
       "415   NaN        S      3  38.500000      0      0    7.2500  \n",
       "416   NaN        S      3  25.800000      0      0    8.0500  \n",
       "417   NaN        C      3  22.868688      1      1   22.3583  \n",
       "\n",
       "[418 rows x 10 columns]"
      ]
     },
     "execution_count": 93,
     "metadata": {},
     "output_type": "execute_result"
    }
   ],
   "source": [
    "test_df_reduced"
   ]
  },
  {
   "cell_type": "markdown",
   "id": "a55f8e20",
   "metadata": {
    "papermill": {
     "duration": 0.066776,
     "end_time": "2022-10-20T17:56:20.349433",
     "exception": false,
     "start_time": "2022-10-20T17:56:20.282657",
     "status": "completed"
    },
    "tags": []
   },
   "source": [
    "### 2.2.2 Categorical Features <a class=\"anchor\" id=\"testcat\"></a>  \n",
    "We separate categorical features from numerical in order to preprocess them separately."
   ]
  },
  {
   "cell_type": "code",
   "execution_count": 94,
   "id": "2ccc72d1",
   "metadata": {
    "execution": {
     "iopub.execute_input": "2022-10-20T17:56:20.478241Z",
     "iopub.status.busy": "2022-10-20T17:56:20.477812Z",
     "iopub.status.idle": "2022-10-20T17:56:20.498754Z",
     "shell.execute_reply": "2022-10-20T17:56:20.497393Z"
    },
    "papermill": {
     "duration": 0.08732,
     "end_time": "2022-10-20T17:56:20.501420",
     "exception": false,
     "start_time": "2022-10-20T17:56:20.414100",
     "status": "completed"
    },
    "tags": []
   },
   "outputs": [
    {
     "data": {
      "text/html": [
       "<div>\n",
       "<style scoped>\n",
       "    .dataframe tbody tr th:only-of-type {\n",
       "        vertical-align: middle;\n",
       "    }\n",
       "\n",
       "    .dataframe tbody tr th {\n",
       "        vertical-align: top;\n",
       "    }\n",
       "\n",
       "    .dataframe thead th {\n",
       "        text-align: right;\n",
       "    }\n",
       "</style>\n",
       "<table border=\"1\" class=\"dataframe\">\n",
       "  <thead>\n",
       "    <tr style=\"text-align: right;\">\n",
       "      <th></th>\n",
       "      <th>Name</th>\n",
       "      <th>Sex</th>\n",
       "      <th>Ticket</th>\n",
       "      <th>Cabin</th>\n",
       "      <th>Embarked</th>\n",
       "      <th>Pclass</th>\n",
       "    </tr>\n",
       "  </thead>\n",
       "  <tbody>\n",
       "    <tr>\n",
       "      <th>0</th>\n",
       "      <td>Kelly, Mr. James</td>\n",
       "      <td>male</td>\n",
       "      <td>330911</td>\n",
       "      <td>NaN</td>\n",
       "      <td>Q</td>\n",
       "      <td>3</td>\n",
       "    </tr>\n",
       "    <tr>\n",
       "      <th>1</th>\n",
       "      <td>Wilkes, Mrs. James (Ellen Needs)</td>\n",
       "      <td>female</td>\n",
       "      <td>363272</td>\n",
       "      <td>NaN</td>\n",
       "      <td>S</td>\n",
       "      <td>3</td>\n",
       "    </tr>\n",
       "    <tr>\n",
       "      <th>2</th>\n",
       "      <td>Myles, Mr. Thomas Francis</td>\n",
       "      <td>male</td>\n",
       "      <td>240276</td>\n",
       "      <td>NaN</td>\n",
       "      <td>Q</td>\n",
       "      <td>2</td>\n",
       "    </tr>\n",
       "    <tr>\n",
       "      <th>3</th>\n",
       "      <td>Wirz, Mr. Albert</td>\n",
       "      <td>male</td>\n",
       "      <td>315154</td>\n",
       "      <td>NaN</td>\n",
       "      <td>S</td>\n",
       "      <td>3</td>\n",
       "    </tr>\n",
       "    <tr>\n",
       "      <th>4</th>\n",
       "      <td>Hirvonen, Mrs. Alexander (Helga E Lindqvist)</td>\n",
       "      <td>female</td>\n",
       "      <td>3101298</td>\n",
       "      <td>NaN</td>\n",
       "      <td>S</td>\n",
       "      <td>3</td>\n",
       "    </tr>\n",
       "    <tr>\n",
       "      <th>...</th>\n",
       "      <td>...</td>\n",
       "      <td>...</td>\n",
       "      <td>...</td>\n",
       "      <td>...</td>\n",
       "      <td>...</td>\n",
       "      <td>...</td>\n",
       "    </tr>\n",
       "    <tr>\n",
       "      <th>413</th>\n",
       "      <td>Spector, Mr. Woolf</td>\n",
       "      <td>male</td>\n",
       "      <td>A.5. 3236</td>\n",
       "      <td>NaN</td>\n",
       "      <td>S</td>\n",
       "      <td>3</td>\n",
       "    </tr>\n",
       "    <tr>\n",
       "      <th>414</th>\n",
       "      <td>Oliva y Ocana, Dona. Fermina</td>\n",
       "      <td>female</td>\n",
       "      <td>PC 17758</td>\n",
       "      <td>C105</td>\n",
       "      <td>C</td>\n",
       "      <td>1</td>\n",
       "    </tr>\n",
       "    <tr>\n",
       "      <th>415</th>\n",
       "      <td>Saether, Mr. Simon Sivertsen</td>\n",
       "      <td>male</td>\n",
       "      <td>SOTON/O.Q. 3101262</td>\n",
       "      <td>NaN</td>\n",
       "      <td>S</td>\n",
       "      <td>3</td>\n",
       "    </tr>\n",
       "    <tr>\n",
       "      <th>416</th>\n",
       "      <td>Ware, Mr. Frederick</td>\n",
       "      <td>male</td>\n",
       "      <td>359309</td>\n",
       "      <td>NaN</td>\n",
       "      <td>S</td>\n",
       "      <td>3</td>\n",
       "    </tr>\n",
       "    <tr>\n",
       "      <th>417</th>\n",
       "      <td>Peter, Master. Michael J</td>\n",
       "      <td>male</td>\n",
       "      <td>2668</td>\n",
       "      <td>NaN</td>\n",
       "      <td>C</td>\n",
       "      <td>3</td>\n",
       "    </tr>\n",
       "  </tbody>\n",
       "</table>\n",
       "<p>418 rows × 6 columns</p>\n",
       "</div>"
      ],
      "text/plain": [
       "                                             Name     Sex              Ticket  \\\n",
       "0                                Kelly, Mr. James    male              330911   \n",
       "1                Wilkes, Mrs. James (Ellen Needs)  female              363272   \n",
       "2                       Myles, Mr. Thomas Francis    male              240276   \n",
       "3                                Wirz, Mr. Albert    male              315154   \n",
       "4    Hirvonen, Mrs. Alexander (Helga E Lindqvist)  female             3101298   \n",
       "..                                            ...     ...                 ...   \n",
       "413                            Spector, Mr. Woolf    male           A.5. 3236   \n",
       "414                  Oliva y Ocana, Dona. Fermina  female            PC 17758   \n",
       "415                  Saether, Mr. Simon Sivertsen    male  SOTON/O.Q. 3101262   \n",
       "416                           Ware, Mr. Frederick    male              359309   \n",
       "417                      Peter, Master. Michael J    male                2668   \n",
       "\n",
       "    Cabin Embarked Pclass  \n",
       "0     NaN        Q      3  \n",
       "1     NaN        S      3  \n",
       "2     NaN        Q      2  \n",
       "3     NaN        S      3  \n",
       "4     NaN        S      3  \n",
       "..    ...      ...    ...  \n",
       "413   NaN        S      3  \n",
       "414  C105        C      1  \n",
       "415   NaN        S      3  \n",
       "416   NaN        S      3  \n",
       "417   NaN        C      3  \n",
       "\n",
       "[418 rows x 6 columns]"
      ]
     },
     "execution_count": 94,
     "metadata": {},
     "output_type": "execute_result"
    }
   ],
   "source": [
    "test_df_cat = test_df.select_dtypes(include=[object])\n",
    "test_df = test_df.drop([col for col in test_df_cat], axis = 1)\n",
    "test_df_cat"
   ]
  },
  {
   "cell_type": "markdown",
   "id": "be4a0f47",
   "metadata": {
    "papermill": {
     "duration": 0.061099,
     "end_time": "2022-10-20T17:56:20.624389",
     "exception": false,
     "start_time": "2022-10-20T17:56:20.563290",
     "status": "completed"
    },
    "tags": []
   },
   "source": [
    "#### 2.2.2.1 Missing values (NaNs) <a class=\"anchor\" id=\"testcatmisvals\"></a> \n",
    "Let's find all missing values (NaNs) in all columns and think about the proper way to deal with those values."
   ]
  },
  {
   "cell_type": "code",
   "execution_count": 95,
   "id": "5580aaec",
   "metadata": {
    "execution": {
     "iopub.execute_input": "2022-10-20T17:56:20.749677Z",
     "iopub.status.busy": "2022-10-20T17:56:20.748381Z",
     "iopub.status.idle": "2022-10-20T17:56:20.955922Z",
     "shell.execute_reply": "2022-10-20T17:56:20.954611Z"
    },
    "papermill": {
     "duration": 0.274222,
     "end_time": "2022-10-20T17:56:20.960006",
     "exception": false,
     "start_time": "2022-10-20T17:56:20.685784",
     "status": "completed"
    },
    "tags": []
   },
   "outputs": [
    {
     "data": {
      "image/png": "[encoded data removed]",
      "text/plain": [
       "<Figure size 864x432 with 1 Axes>"
      ]
     },
     "metadata": {},
     "output_type": "display_data"
    }
   ],
   "source": [
    "percent_missing_nans = test_df_cat.isnull().sum() * 100 / len(test_df_cat)\n",
    "nans = pd.DataFrame({'col_name': test_df_cat.columns, 'percent_missing': percent_missing_nans})\n",
    "\n",
    "sns.set(rc={'figure.figsize':(12,6)})\n",
    "cols = list(nans['col_name'])\n",
    "percent = list(nans['percent_missing'])\n",
    "plt.gca().set_ylabel('% of NaN Values', fontsize = 12)\n",
    "plt.gca().set_xlabel('Column Name')\n",
    "plt.title('% of NaN values in correlated features', fontsize = 16)\n",
    "sns.barplot(x = cols, y = percent)\n",
    "plt.gca().set_xticklabels(plt.gca().get_xticklabels(), rotation = 65)\n",
    "plt.show()"
   ]
  },
  {
   "cell_type": "code",
   "execution_count": 96,
   "id": "7fe0e567",
   "metadata": {
    "execution": {
     "iopub.execute_input": "2022-10-20T17:56:21.094864Z",
     "iopub.status.busy": "2022-10-20T17:56:21.093466Z",
     "iopub.status.idle": "2022-10-20T17:56:21.110117Z",
     "shell.execute_reply": "2022-10-20T17:56:21.108642Z"
    },
    "papermill": {
     "duration": 0.086451,
     "end_time": "2022-10-20T17:56:21.112633",
     "exception": false,
     "start_time": "2022-10-20T17:56:21.026182",
     "status": "completed"
    },
    "tags": []
   },
   "outputs": [
    {
     "data": {
      "text/html": [
       "<div>\n",
       "<style scoped>\n",
       "    .dataframe tbody tr th:only-of-type {\n",
       "        vertical-align: middle;\n",
       "    }\n",
       "\n",
       "    .dataframe tbody tr th {\n",
       "        vertical-align: top;\n",
       "    }\n",
       "\n",
       "    .dataframe thead th {\n",
       "        text-align: right;\n",
       "    }\n",
       "</style>\n",
       "<table border=\"1\" class=\"dataframe\">\n",
       "  <thead>\n",
       "    <tr style=\"text-align: right;\">\n",
       "      <th></th>\n",
       "      <th>col_name</th>\n",
       "      <th>percent_missing</th>\n",
       "    </tr>\n",
       "  </thead>\n",
       "  <tbody>\n",
       "    <tr>\n",
       "      <th>3</th>\n",
       "      <td>Cabin</td>\n",
       "      <td>78.229665</td>\n",
       "    </tr>\n",
       "  </tbody>\n",
       "</table>\n",
       "</div>"
      ],
      "text/plain": [
       "  col_name  percent_missing\n",
       "3    Cabin        78.229665"
      ]
     },
     "execution_count": 96,
     "metadata": {},
     "output_type": "execute_result"
    }
   ],
   "source": [
    "nans = nans.reset_index(drop = True)\n",
    "missing_vals_cols = nans[nans['percent_missing'] != 0]\n",
    "missing_vals_cols"
   ]
  },
  {
   "cell_type": "markdown",
   "id": "797780d0",
   "metadata": {
    "papermill": {
     "duration": 0.061108,
     "end_time": "2022-10-20T17:56:21.237204",
     "exception": false,
     "start_time": "2022-10-20T17:56:21.176096",
     "status": "completed"
    },
    "tags": []
   },
   "source": [
    "#### Cabin"
   ]
  },
  {
   "cell_type": "code",
   "execution_count": 97,
   "id": "8afa7117",
   "metadata": {
    "execution": {
     "iopub.execute_input": "2022-10-20T17:56:21.364016Z",
     "iopub.status.busy": "2022-10-20T17:56:21.362651Z",
     "iopub.status.idle": "2022-10-20T17:56:21.371269Z",
     "shell.execute_reply": "2022-10-20T17:56:21.370359Z"
    },
    "papermill": {
     "duration": 0.074302,
     "end_time": "2022-10-20T17:56:21.373876",
     "exception": false,
     "start_time": "2022-10-20T17:56:21.299574",
     "status": "completed"
    },
    "tags": []
   },
   "outputs": [],
   "source": [
    "test_df_cat.drop('Cabin', axis = 1, inplace=True)\n",
    "test_df_reduced.drop('Cabin', axis = 1, inplace=True)"
   ]
  },
  {
   "cell_type": "markdown",
   "id": "d4a83031",
   "metadata": {
    "papermill": {
     "duration": 0.061699,
     "end_time": "2022-10-20T17:56:21.496786",
     "exception": false,
     "start_time": "2022-10-20T17:56:21.435087",
     "status": "completed"
    },
    "tags": []
   },
   "source": [
    "### 2.2.3 Simplification of Features <a class=\"anchor\" id=\"testfreqcat\"></a>  \n",
    "We pursue two tasks here: 1) eliminate all categories with less than 5 observations, 2) eliminate unecessary large number of categories, for examle 5 or 7, if applicable 3) encode features after modifications done according to 1) and 2)"
   ]
  },
  {
   "cell_type": "code",
   "execution_count": 98,
   "id": "2aeef28d",
   "metadata": {
    "execution": {
     "iopub.execute_input": "2022-10-20T17:56:21.620895Z",
     "iopub.status.busy": "2022-10-20T17:56:21.620441Z",
     "iopub.status.idle": "2022-10-20T17:56:21.640597Z",
     "shell.execute_reply": "2022-10-20T17:56:21.639308Z"
    },
    "papermill": {
     "duration": 0.08526,
     "end_time": "2022-10-20T17:56:21.643206",
     "exception": false,
     "start_time": "2022-10-20T17:56:21.557946",
     "status": "completed"
    },
    "tags": []
   },
   "outputs": [
    {
     "data": {
      "text/html": [
       "<div>\n",
       "<style scoped>\n",
       "    .dataframe tbody tr th:only-of-type {\n",
       "        vertical-align: middle;\n",
       "    }\n",
       "\n",
       "    .dataframe tbody tr th {\n",
       "        vertical-align: top;\n",
       "    }\n",
       "\n",
       "    .dataframe thead th {\n",
       "        text-align: right;\n",
       "    }\n",
       "</style>\n",
       "<table border=\"1\" class=\"dataframe\">\n",
       "  <thead>\n",
       "    <tr style=\"text-align: right;\">\n",
       "      <th></th>\n",
       "      <th>SibSp</th>\n",
       "      <th>Parch</th>\n",
       "      <th>Fare</th>\n",
       "      <th>Name</th>\n",
       "      <th>Sex</th>\n",
       "      <th>Ticket</th>\n",
       "      <th>Embarked</th>\n",
       "      <th>Pclass</th>\n",
       "    </tr>\n",
       "  </thead>\n",
       "  <tbody>\n",
       "    <tr>\n",
       "      <th>0</th>\n",
       "      <td>0</td>\n",
       "      <td>0</td>\n",
       "      <td>7.8292</td>\n",
       "      <td>Kelly, Mr. James</td>\n",
       "      <td>male</td>\n",
       "      <td>330911</td>\n",
       "      <td>Q</td>\n",
       "      <td>3</td>\n",
       "    </tr>\n",
       "    <tr>\n",
       "      <th>1</th>\n",
       "      <td>1</td>\n",
       "      <td>0</td>\n",
       "      <td>7.0000</td>\n",
       "      <td>Wilkes, Mrs. James (Ellen Needs)</td>\n",
       "      <td>female</td>\n",
       "      <td>363272</td>\n",
       "      <td>S</td>\n",
       "      <td>3</td>\n",
       "    </tr>\n",
       "    <tr>\n",
       "      <th>2</th>\n",
       "      <td>0</td>\n",
       "      <td>0</td>\n",
       "      <td>9.6875</td>\n",
       "      <td>Myles, Mr. Thomas Francis</td>\n",
       "      <td>male</td>\n",
       "      <td>240276</td>\n",
       "      <td>Q</td>\n",
       "      <td>2</td>\n",
       "    </tr>\n",
       "    <tr>\n",
       "      <th>3</th>\n",
       "      <td>0</td>\n",
       "      <td>0</td>\n",
       "      <td>8.6625</td>\n",
       "      <td>Wirz, Mr. Albert</td>\n",
       "      <td>male</td>\n",
       "      <td>315154</td>\n",
       "      <td>S</td>\n",
       "      <td>3</td>\n",
       "    </tr>\n",
       "    <tr>\n",
       "      <th>4</th>\n",
       "      <td>1</td>\n",
       "      <td>1</td>\n",
       "      <td>12.2875</td>\n",
       "      <td>Hirvonen, Mrs. Alexander (Helga E Lindqvist)</td>\n",
       "      <td>female</td>\n",
       "      <td>3101298</td>\n",
       "      <td>S</td>\n",
       "      <td>3</td>\n",
       "    </tr>\n",
       "    <tr>\n",
       "      <th>...</th>\n",
       "      <td>...</td>\n",
       "      <td>...</td>\n",
       "      <td>...</td>\n",
       "      <td>...</td>\n",
       "      <td>...</td>\n",
       "      <td>...</td>\n",
       "      <td>...</td>\n",
       "      <td>...</td>\n",
       "    </tr>\n",
       "    <tr>\n",
       "      <th>413</th>\n",
       "      <td>0</td>\n",
       "      <td>0</td>\n",
       "      <td>8.0500</td>\n",
       "      <td>Spector, Mr. Woolf</td>\n",
       "      <td>male</td>\n",
       "      <td>A.5. 3236</td>\n",
       "      <td>S</td>\n",
       "      <td>3</td>\n",
       "    </tr>\n",
       "    <tr>\n",
       "      <th>414</th>\n",
       "      <td>0</td>\n",
       "      <td>0</td>\n",
       "      <td>108.9000</td>\n",
       "      <td>Oliva y Ocana, Dona. Fermina</td>\n",
       "      <td>female</td>\n",
       "      <td>PC 17758</td>\n",
       "      <td>C</td>\n",
       "      <td>1</td>\n",
       "    </tr>\n",
       "    <tr>\n",
       "      <th>415</th>\n",
       "      <td>0</td>\n",
       "      <td>0</td>\n",
       "      <td>7.2500</td>\n",
       "      <td>Saether, Mr. Simon Sivertsen</td>\n",
       "      <td>male</td>\n",
       "      <td>SOTON/O.Q. 3101262</td>\n",
       "      <td>S</td>\n",
       "      <td>3</td>\n",
       "    </tr>\n",
       "    <tr>\n",
       "      <th>416</th>\n",
       "      <td>0</td>\n",
       "      <td>0</td>\n",
       "      <td>8.0500</td>\n",
       "      <td>Ware, Mr. Frederick</td>\n",
       "      <td>male</td>\n",
       "      <td>359309</td>\n",
       "      <td>S</td>\n",
       "      <td>3</td>\n",
       "    </tr>\n",
       "    <tr>\n",
       "      <th>417</th>\n",
       "      <td>1</td>\n",
       "      <td>1</td>\n",
       "      <td>22.3583</td>\n",
       "      <td>Peter, Master. Michael J</td>\n",
       "      <td>male</td>\n",
       "      <td>2668</td>\n",
       "      <td>C</td>\n",
       "      <td>3</td>\n",
       "    </tr>\n",
       "  </tbody>\n",
       "</table>\n",
       "<p>418 rows × 8 columns</p>\n",
       "</div>"
      ],
      "text/plain": [
       "     SibSp  Parch      Fare                                          Name  \\\n",
       "0        0      0    7.8292                              Kelly, Mr. James   \n",
       "1        1      0    7.0000              Wilkes, Mrs. James (Ellen Needs)   \n",
       "2        0      0    9.6875                     Myles, Mr. Thomas Francis   \n",
       "3        0      0    8.6625                              Wirz, Mr. Albert   \n",
       "4        1      1   12.2875  Hirvonen, Mrs. Alexander (Helga E Lindqvist)   \n",
       "..     ...    ...       ...                                           ...   \n",
       "413      0      0    8.0500                            Spector, Mr. Woolf   \n",
       "414      0      0  108.9000                  Oliva y Ocana, Dona. Fermina   \n",
       "415      0      0    7.2500                  Saether, Mr. Simon Sivertsen   \n",
       "416      0      0    8.0500                           Ware, Mr. Frederick   \n",
       "417      1      1   22.3583                      Peter, Master. Michael J   \n",
       "\n",
       "        Sex              Ticket Embarked Pclass  \n",
       "0      male              330911        Q      3  \n",
       "1    female              363272        S      3  \n",
       "2      male              240276        Q      2  \n",
       "3      male              315154        S      3  \n",
       "4    female             3101298        S      3  \n",
       "..      ...                 ...      ...    ...  \n",
       "413    male           A.5. 3236        S      3  \n",
       "414  female            PC 17758        C      1  \n",
       "415    male  SOTON/O.Q. 3101262        S      3  \n",
       "416    male              359309        S      3  \n",
       "417    male                2668        C      3  \n",
       "\n",
       "[418 rows x 8 columns]"
      ]
     },
     "execution_count": 98,
     "metadata": {},
     "output_type": "execute_result"
    }
   ],
   "source": [
    "test_df = pd.concat([test_df, test_df_cat], axis = 1)\n",
    "test_df"
   ]
  },
  {
   "cell_type": "markdown",
   "id": "4b8f118b",
   "metadata": {
    "papermill": {
     "duration": 0.061095,
     "end_time": "2022-10-20T17:56:21.766077",
     "exception": false,
     "start_time": "2022-10-20T17:56:21.704982",
     "status": "completed"
    },
    "tags": []
   },
   "source": [
    "#### Show the frequencies of all categories in each feature"
   ]
  },
  {
   "cell_type": "code",
   "execution_count": 99,
   "id": "984f4024",
   "metadata": {
    "execution": {
     "iopub.execute_input": "2022-10-20T17:56:21.895490Z",
     "iopub.status.busy": "2022-10-20T17:56:21.894640Z",
     "iopub.status.idle": "2022-10-20T17:56:21.909844Z",
     "shell.execute_reply": "2022-10-20T17:56:21.908047Z"
    },
    "papermill": {
     "duration": 0.084057,
     "end_time": "2022-10-20T17:56:21.912672",
     "exception": false,
     "start_time": "2022-10-20T17:56:21.828615",
     "status": "completed"
    },
    "tags": []
   },
   "outputs": [
    {
     "name": "stdout",
     "output_type": "stream",
     "text": [
      "-------- Name --------\n",
      "Kelly, Mr. James               1\n",
      "Carr, Miss. Jeannie            1\n",
      "Dennis, Mr. William            1\n",
      "Rosblom, Miss. Salli Helena    1\n",
      "Touma, Miss. Maria Youssef     1\n",
      "                              ..\n",
      "Zakarian, Mr. Mapriededer      1\n",
      "Carlsson, Mr. Carl Robert      1\n",
      "Dintcheff, Mr. Valtcho         1\n",
      "Thomas, Mr. Charles P          1\n",
      "Peter, Master. Michael J       1\n",
      "Name: Name, Length: 418, dtype: int64\n",
      "-------- Sex --------\n",
      "male      266\n",
      "female    152\n",
      "Name: Sex, dtype: int64\n",
      "-------- Ticket --------\n",
      "PC 17608    5\n",
      "CA. 2343    4\n",
      "113503      4\n",
      "PC 17483    3\n",
      "220845      3\n",
      "           ..\n",
      "349226      1\n",
      "2621        1\n",
      "4133        1\n",
      "113780      1\n",
      "2668        1\n",
      "Name: Ticket, Length: 363, dtype: int64\n",
      "-------- Embarked --------\n",
      "S    270\n",
      "C    102\n",
      "Q     46\n",
      "Name: Embarked, dtype: int64\n",
      "-------- Pclass --------\n",
      "3    218\n",
      "1    107\n",
      "2     93\n",
      "Name: Pclass, dtype: int64\n"
     ]
    }
   ],
   "source": [
    "for c in test_df_cat.columns:\n",
    "    print('--------', c, '--------')\n",
    "    print(test_df_cat[c].value_counts())"
   ]
  },
  {
   "cell_type": "markdown",
   "id": "85104284",
   "metadata": {
    "papermill": {
     "duration": 0.061018,
     "end_time": "2022-10-20T17:56:22.035809",
     "exception": false,
     "start_time": "2022-10-20T17:56:21.974791",
     "status": "completed"
    },
    "tags": []
   },
   "source": [
    "#### Name"
   ]
  },
  {
   "cell_type": "code",
   "execution_count": 100,
   "id": "3c0b0def",
   "metadata": {
    "execution": {
     "iopub.execute_input": "2022-10-20T17:56:22.161187Z",
     "iopub.status.busy": "2022-10-20T17:56:22.160359Z",
     "iopub.status.idle": "2022-10-20T17:56:22.176436Z",
     "shell.execute_reply": "2022-10-20T17:56:22.175194Z"
    },
    "papermill": {
     "duration": 0.082042,
     "end_time": "2022-10-20T17:56:22.179292",
     "exception": false,
     "start_time": "2022-10-20T17:56:22.097250",
     "status": "completed"
    },
    "tags": []
   },
   "outputs": [
    {
     "data": {
      "text/plain": [
       " Mr        240\n",
       " Miss       78\n",
       " Mrs        72\n",
       " Master     21\n",
       " Col         2\n",
       " Rev         2\n",
       " Ms          1\n",
       " Dr          1\n",
       " Dona        1\n",
       "Name: Name, dtype: int64"
      ]
     },
     "execution_count": 100,
     "metadata": {},
     "output_type": "execute_result"
    }
   ],
   "source": [
    "firstName = test_df.Name.str.split(\".\").str.get(0).str.split(\",\").str.get(-1)\n",
    "firstName1 = test_df_reduced.Name.str.split(\".\").str.get(0).str.split(\",\").str.get(-1)\n",
    "firstName.value_counts()"
   ]
  },
  {
   "cell_type": "code",
   "execution_count": 101,
   "id": "ecd99aa1",
   "metadata": {
    "execution": {
     "iopub.execute_input": "2022-10-20T17:56:22.305782Z",
     "iopub.status.busy": "2022-10-20T17:56:22.305322Z",
     "iopub.status.idle": "2022-10-20T17:56:22.344293Z",
     "shell.execute_reply": "2022-10-20T17:56:22.343276Z"
    },
    "papermill": {
     "duration": 0.10569,
     "end_time": "2022-10-20T17:56:22.346614",
     "exception": false,
     "start_time": "2022-10-20T17:56:22.240924",
     "status": "completed"
    },
    "tags": []
   },
   "outputs": [],
   "source": [
    "firstName.replace(to_replace = [\"Dr\", \"Rev\", \"Col\", \"Major\", \"Capt\"], value = \"Officer\", inplace = True, regex = True)\n",
    "firstName.replace(to_replace = [\"Dona\", \"Jonkheer\", \"Countess\", \"Sir\", \"Lady\", \"Don\"], value = \"Aristocrat\", inplace = True, regex = True)\n",
    "firstName.replace({\"Mlle\":\"Miss\", \"Ms\":\"Miss\", \"Mme\":\"Mrs\"}, inplace = True, regex = True)\n",
    "firstName.replace({\"the Aristocrat\":\"Aristocrat\"}, inplace = True, regex = True)\n",
    "test_df[\"NameNew\"] = firstName\n",
    "\n",
    "\n",
    "firstName1.replace(to_replace = [\"Dr\", \"Rev\", \"Col\", \"Major\", \"Capt\"], value = \"Officer\", inplace = True, regex = True)\n",
    "firstName1.replace(to_replace = [\"Dona\", \"Jonkheer\", \"Countess\", \"Sir\", \"Lady\", \"Don\"], value = \"Aristocrat\", inplace = True, regex = True)\n",
    "firstName1.replace({\"Mlle\":\"Miss\", \"Ms\":\"Miss\", \"Mme\":\"Mrs\"}, inplace = True, regex = True)\n",
    "firstName1.replace({\"the Aristocrat\":\"Aristocrat\"}, inplace = True, regex = True)\n",
    "test_df_reduced[\"NameNew\"] = firstName1"
   ]
  },
  {
   "cell_type": "markdown",
   "id": "c003d0bf",
   "metadata": {
    "papermill": {
     "duration": 0.062785,
     "end_time": "2022-10-20T17:56:22.470713",
     "exception": false,
     "start_time": "2022-10-20T17:56:22.407928",
     "status": "completed"
    },
    "tags": []
   },
   "source": [
    "#### Tickets"
   ]
  },
  {
   "cell_type": "code",
   "execution_count": 102,
   "id": "26ae0283",
   "metadata": {
    "execution": {
     "iopub.execute_input": "2022-10-20T17:56:22.597333Z",
     "iopub.status.busy": "2022-10-20T17:56:22.596624Z",
     "iopub.status.idle": "2022-10-20T17:56:22.613065Z",
     "shell.execute_reply": "2022-10-20T17:56:22.612147Z"
    },
    "papermill": {
     "duration": 0.082893,
     "end_time": "2022-10-20T17:56:22.615335",
     "exception": false,
     "start_time": "2022-10-20T17:56:22.532442",
     "status": "completed"
    },
    "tags": []
   },
   "outputs": [
    {
     "data": {
      "text/plain": [
       "N    296\n",
       "S     33\n",
       "P     33\n",
       "C     30\n",
       "A     13\n",
       "W      6\n",
       "F      6\n",
       "L      1\n",
       "Name: TicketNew, dtype: int64"
      ]
     },
     "execution_count": 102,
     "metadata": {},
     "output_type": "execute_result"
    }
   ],
   "source": [
    "temp = test_df.Ticket.str.split(\" \").str.get(0).str.get(0)\n",
    "test_df[\"TicketNew\"] = np.where(test_df.Ticket.str.isdigit(), \"N\", temp)\n",
    "\n",
    "temp1 = test_df_reduced.Ticket.str.split(\" \").str.get(0).str.get(0)\n",
    "test_df_reduced[\"TicketNew\"] = np.where(test_df_reduced.Ticket.str.isdigit(), \"N\", temp1)\n",
    "\n",
    "test_df.TicketNew.value_counts()"
   ]
  },
  {
   "cell_type": "markdown",
   "id": "cf8440ef",
   "metadata": {
    "papermill": {
     "duration": 0.061964,
     "end_time": "2022-10-20T17:56:22.739094",
     "exception": false,
     "start_time": "2022-10-20T17:56:22.677130",
     "status": "completed"
    },
    "tags": []
   },
   "source": [
    "#### SibSp and Parch"
   ]
  },
  {
   "cell_type": "code",
   "execution_count": 103,
   "id": "b29fbe89",
   "metadata": {
    "execution": {
     "iopub.execute_input": "2022-10-20T17:56:22.865519Z",
     "iopub.status.busy": "2022-10-20T17:56:22.864864Z",
     "iopub.status.idle": "2022-10-20T17:56:22.875294Z",
     "shell.execute_reply": "2022-10-20T17:56:22.874057Z"
    },
    "papermill": {
     "duration": 0.076581,
     "end_time": "2022-10-20T17:56:22.877805",
     "exception": false,
     "start_time": "2022-10-20T17:56:22.801224",
     "status": "completed"
    },
    "tags": []
   },
   "outputs": [
    {
     "data": {
      "text/plain": [
       "1     253\n",
       "2      74\n",
       "3      57\n",
       "4      14\n",
       "5       7\n",
       "7       4\n",
       "11      4\n",
       "6       3\n",
       "8       2\n",
       "Name: Family, dtype: int64"
      ]
     },
     "execution_count": 103,
     "metadata": {},
     "output_type": "execute_result"
    }
   ],
   "source": [
    "test_df[\"Family\"] = test_df.SibSp + test_df.Parch + 1\n",
    "test_df_reduced[\"Family\"] = test_df_reduced.SibSp + test_df_reduced.Parch + 1\n",
    "test_df.Family.value_counts()"
   ]
  },
  {
   "cell_type": "code",
   "execution_count": 104,
   "id": "e16737e0",
   "metadata": {
    "execution": {
     "iopub.execute_input": "2022-10-20T17:56:23.006463Z",
     "iopub.status.busy": "2022-10-20T17:56:23.005811Z",
     "iopub.status.idle": "2022-10-20T17:56:23.019412Z",
     "shell.execute_reply": "2022-10-20T17:56:23.018498Z"
    },
    "papermill": {
     "duration": 0.080585,
     "end_time": "2022-10-20T17:56:23.022064",
     "exception": false,
     "start_time": "2022-10-20T17:56:22.941479",
     "status": "completed"
    },
    "tags": []
   },
   "outputs": [],
   "source": [
    "test_df.Family.replace(to_replace = [1], value = \"single\", inplace = True)\n",
    "test_df.Family.replace(to_replace = [2, 3], value = \"small\", inplace = True)\n",
    "test_df.Family.replace(to_replace = [4,5], value = \"medium\", inplace = True)\n",
    "test_df.Family.replace(to_replace = [6, 7, 8, 11], value = \"large\", inplace = True)\n",
    "\n",
    "test_df_reduced.Family.replace(to_replace = [1], value = \"single\", inplace = True)\n",
    "test_df_reduced.Family.replace(to_replace = [2, 3], value = \"small\", inplace = True)\n",
    "test_df_reduced.Family.replace(to_replace = [4,5], value = \"medium\", inplace = True)\n",
    "test_df_reduced.Family.replace(to_replace = [6, 7, 8, 11], value = \"large\", inplace = True)"
   ]
  },
  {
   "cell_type": "code",
   "execution_count": 105,
   "id": "8ae30fda",
   "metadata": {
    "execution": {
     "iopub.execute_input": "2022-10-20T17:56:23.148493Z",
     "iopub.status.busy": "2022-10-20T17:56:23.147850Z",
     "iopub.status.idle": "2022-10-20T17:56:23.167972Z",
     "shell.execute_reply": "2022-10-20T17:56:23.166762Z"
    },
    "papermill": {
     "duration": 0.086849,
     "end_time": "2022-10-20T17:56:23.170625",
     "exception": false,
     "start_time": "2022-10-20T17:56:23.083776",
     "status": "completed"
    },
    "tags": []
   },
   "outputs": [],
   "source": [
    "test_df_reduced['NewAge'] = test_df_reduced.apply(age_func, axis = 1)"
   ]
  },
  {
   "cell_type": "code",
   "execution_count": 106,
   "id": "0a8ac930",
   "metadata": {
    "execution": {
     "iopub.execute_input": "2022-10-20T17:56:23.298443Z",
     "iopub.status.busy": "2022-10-20T17:56:23.297194Z",
     "iopub.status.idle": "2022-10-20T17:56:23.320343Z",
     "shell.execute_reply": "2022-10-20T17:56:23.319485Z"
    },
    "papermill": {
     "duration": 0.090262,
     "end_time": "2022-10-20T17:56:23.322879",
     "exception": false,
     "start_time": "2022-10-20T17:56:23.232617",
     "status": "completed"
    },
    "tags": []
   },
   "outputs": [
    {
     "data": {
      "text/html": [
       "<div>\n",
       "<style scoped>\n",
       "    .dataframe tbody tr th:only-of-type {\n",
       "        vertical-align: middle;\n",
       "    }\n",
       "\n",
       "    .dataframe tbody tr th {\n",
       "        vertical-align: top;\n",
       "    }\n",
       "\n",
       "    .dataframe thead th {\n",
       "        text-align: right;\n",
       "    }\n",
       "</style>\n",
       "<table border=\"1\" class=\"dataframe\">\n",
       "  <thead>\n",
       "    <tr style=\"text-align: right;\">\n",
       "      <th></th>\n",
       "      <th>SibSp</th>\n",
       "      <th>Parch</th>\n",
       "      <th>Fare</th>\n",
       "      <th>Name</th>\n",
       "      <th>Sex</th>\n",
       "      <th>Ticket</th>\n",
       "      <th>Embarked</th>\n",
       "      <th>Pclass</th>\n",
       "      <th>NameNew</th>\n",
       "      <th>TicketNew</th>\n",
       "      <th>Family</th>\n",
       "    </tr>\n",
       "  </thead>\n",
       "  <tbody>\n",
       "    <tr>\n",
       "      <th>0</th>\n",
       "      <td>0</td>\n",
       "      <td>0</td>\n",
       "      <td>7.8292</td>\n",
       "      <td>Kelly, Mr. James</td>\n",
       "      <td>male</td>\n",
       "      <td>330911</td>\n",
       "      <td>Q</td>\n",
       "      <td>3</td>\n",
       "      <td>Mr</td>\n",
       "      <td>N</td>\n",
       "      <td>single</td>\n",
       "    </tr>\n",
       "    <tr>\n",
       "      <th>1</th>\n",
       "      <td>1</td>\n",
       "      <td>0</td>\n",
       "      <td>7.0000</td>\n",
       "      <td>Wilkes, Mrs. James (Ellen Needs)</td>\n",
       "      <td>female</td>\n",
       "      <td>363272</td>\n",
       "      <td>S</td>\n",
       "      <td>3</td>\n",
       "      <td>Mrs</td>\n",
       "      <td>N</td>\n",
       "      <td>small</td>\n",
       "    </tr>\n",
       "    <tr>\n",
       "      <th>2</th>\n",
       "      <td>0</td>\n",
       "      <td>0</td>\n",
       "      <td>9.6875</td>\n",
       "      <td>Myles, Mr. Thomas Francis</td>\n",
       "      <td>male</td>\n",
       "      <td>240276</td>\n",
       "      <td>Q</td>\n",
       "      <td>2</td>\n",
       "      <td>Mr</td>\n",
       "      <td>N</td>\n",
       "      <td>single</td>\n",
       "    </tr>\n",
       "    <tr>\n",
       "      <th>3</th>\n",
       "      <td>0</td>\n",
       "      <td>0</td>\n",
       "      <td>8.6625</td>\n",
       "      <td>Wirz, Mr. Albert</td>\n",
       "      <td>male</td>\n",
       "      <td>315154</td>\n",
       "      <td>S</td>\n",
       "      <td>3</td>\n",
       "      <td>Mr</td>\n",
       "      <td>N</td>\n",
       "      <td>single</td>\n",
       "    </tr>\n",
       "    <tr>\n",
       "      <th>4</th>\n",
       "      <td>1</td>\n",
       "      <td>1</td>\n",
       "      <td>12.2875</td>\n",
       "      <td>Hirvonen, Mrs. Alexander (Helga E Lindqvist)</td>\n",
       "      <td>female</td>\n",
       "      <td>3101298</td>\n",
       "      <td>S</td>\n",
       "      <td>3</td>\n",
       "      <td>Mrs</td>\n",
       "      <td>N</td>\n",
       "      <td>small</td>\n",
       "    </tr>\n",
       "    <tr>\n",
       "      <th>...</th>\n",
       "      <td>...</td>\n",
       "      <td>...</td>\n",
       "      <td>...</td>\n",
       "      <td>...</td>\n",
       "      <td>...</td>\n",
       "      <td>...</td>\n",
       "      <td>...</td>\n",
       "      <td>...</td>\n",
       "      <td>...</td>\n",
       "      <td>...</td>\n",
       "      <td>...</td>\n",
       "    </tr>\n",
       "    <tr>\n",
       "      <th>413</th>\n",
       "      <td>0</td>\n",
       "      <td>0</td>\n",
       "      <td>8.0500</td>\n",
       "      <td>Spector, Mr. Woolf</td>\n",
       "      <td>male</td>\n",
       "      <td>A.5. 3236</td>\n",
       "      <td>S</td>\n",
       "      <td>3</td>\n",
       "      <td>Mr</td>\n",
       "      <td>A</td>\n",
       "      <td>single</td>\n",
       "    </tr>\n",
       "    <tr>\n",
       "      <th>414</th>\n",
       "      <td>0</td>\n",
       "      <td>0</td>\n",
       "      <td>108.9000</td>\n",
       "      <td>Oliva y Ocana, Dona. Fermina</td>\n",
       "      <td>female</td>\n",
       "      <td>PC 17758</td>\n",
       "      <td>C</td>\n",
       "      <td>1</td>\n",
       "      <td>Aristocrat</td>\n",
       "      <td>P</td>\n",
       "      <td>single</td>\n",
       "    </tr>\n",
       "    <tr>\n",
       "      <th>415</th>\n",
       "      <td>0</td>\n",
       "      <td>0</td>\n",
       "      <td>7.2500</td>\n",
       "      <td>Saether, Mr. Simon Sivertsen</td>\n",
       "      <td>male</td>\n",
       "      <td>SOTON/O.Q. 3101262</td>\n",
       "      <td>S</td>\n",
       "      <td>3</td>\n",
       "      <td>Mr</td>\n",
       "      <td>S</td>\n",
       "      <td>single</td>\n",
       "    </tr>\n",
       "    <tr>\n",
       "      <th>416</th>\n",
       "      <td>0</td>\n",
       "      <td>0</td>\n",
       "      <td>8.0500</td>\n",
       "      <td>Ware, Mr. Frederick</td>\n",
       "      <td>male</td>\n",
       "      <td>359309</td>\n",
       "      <td>S</td>\n",
       "      <td>3</td>\n",
       "      <td>Mr</td>\n",
       "      <td>N</td>\n",
       "      <td>single</td>\n",
       "    </tr>\n",
       "    <tr>\n",
       "      <th>417</th>\n",
       "      <td>1</td>\n",
       "      <td>1</td>\n",
       "      <td>22.3583</td>\n",
       "      <td>Peter, Master. Michael J</td>\n",
       "      <td>male</td>\n",
       "      <td>2668</td>\n",
       "      <td>C</td>\n",
       "      <td>3</td>\n",
       "      <td>Master</td>\n",
       "      <td>N</td>\n",
       "      <td>small</td>\n",
       "    </tr>\n",
       "  </tbody>\n",
       "</table>\n",
       "<p>418 rows × 11 columns</p>\n",
       "</div>"
      ],
      "text/plain": [
       "     SibSp  Parch      Fare                                          Name  \\\n",
       "0        0      0    7.8292                              Kelly, Mr. James   \n",
       "1        1      0    7.0000              Wilkes, Mrs. James (Ellen Needs)   \n",
       "2        0      0    9.6875                     Myles, Mr. Thomas Francis   \n",
       "3        0      0    8.6625                              Wirz, Mr. Albert   \n",
       "4        1      1   12.2875  Hirvonen, Mrs. Alexander (Helga E Lindqvist)   \n",
       "..     ...    ...       ...                                           ...   \n",
       "413      0      0    8.0500                            Spector, Mr. Woolf   \n",
       "414      0      0  108.9000                  Oliva y Ocana, Dona. Fermina   \n",
       "415      0      0    7.2500                  Saether, Mr. Simon Sivertsen   \n",
       "416      0      0    8.0500                           Ware, Mr. Frederick   \n",
       "417      1      1   22.3583                      Peter, Master. Michael J   \n",
       "\n",
       "        Sex              Ticket Embarked Pclass      NameNew TicketNew  Family  \n",
       "0      male              330911        Q      3           Mr         N  single  \n",
       "1    female              363272        S      3          Mrs         N   small  \n",
       "2      male              240276        Q      2           Mr         N  single  \n",
       "3      male              315154        S      3           Mr         N  single  \n",
       "4    female             3101298        S      3          Mrs         N   small  \n",
       "..      ...                 ...      ...    ...          ...       ...     ...  \n",
       "413    male           A.5. 3236        S      3           Mr         A  single  \n",
       "414  female            PC 17758        C      1   Aristocrat         P  single  \n",
       "415    male  SOTON/O.Q. 3101262        S      3           Mr         S  single  \n",
       "416    male              359309        S      3           Mr         N  single  \n",
       "417    male                2668        C      3       Master         N   small  \n",
       "\n",
       "[418 rows x 11 columns]"
      ]
     },
     "execution_count": 106,
     "metadata": {},
     "output_type": "execute_result"
    }
   ],
   "source": [
    "test_df"
   ]
  },
  {
   "cell_type": "code",
   "execution_count": 107,
   "id": "bb75d7cb",
   "metadata": {
    "execution": {
     "iopub.execute_input": "2022-10-20T17:56:23.452806Z",
     "iopub.status.busy": "2022-10-20T17:56:23.452300Z",
     "iopub.status.idle": "2022-10-20T17:56:23.465889Z",
     "shell.execute_reply": "2022-10-20T17:56:23.464602Z"
    },
    "papermill": {
     "duration": 0.081854,
     "end_time": "2022-10-20T17:56:23.468774",
     "exception": false,
     "start_time": "2022-10-20T17:56:23.386920",
     "status": "completed"
    },
    "tags": []
   },
   "outputs": [],
   "source": [
    "test_df1 = test_df.copy()\n",
    "test_df_reduced1 = test_df_reduced.copy()\n",
    "test_df.drop('Name', axis = 1, inplace=True)\n",
    "test_df.drop('Ticket', axis = 1, inplace=True)\n",
    "\n",
    "test_df_reduced.drop('Name', axis = 1, inplace=True)\n",
    "test_df_reduced.drop('Ticket', axis = 1, inplace=True)"
   ]
  },
  {
   "cell_type": "markdown",
   "id": "e838632f",
   "metadata": {
    "papermill": {
     "duration": 0.062023,
     "end_time": "2022-10-20T17:56:23.593960",
     "exception": false,
     "start_time": "2022-10-20T17:56:23.531937",
     "status": "completed"
    },
    "tags": []
   },
   "source": [
    "### 2.2.4  Label encoding/factorizing <a class=\"anchor\" id=\"testencvals\"></a> "
   ]
  },
  {
   "cell_type": "code",
   "execution_count": 108,
   "id": "ddc53629",
   "metadata": {
    "execution": {
     "iopub.execute_input": "2022-10-20T17:56:23.723035Z",
     "iopub.status.busy": "2022-10-20T17:56:23.722592Z",
     "iopub.status.idle": "2022-10-20T17:56:23.745204Z",
     "shell.execute_reply": "2022-10-20T17:56:23.744016Z"
    },
    "papermill": {
     "duration": 0.089728,
     "end_time": "2022-10-20T17:56:23.747887",
     "exception": false,
     "start_time": "2022-10-20T17:56:23.658159",
     "status": "completed"
    },
    "tags": []
   },
   "outputs": [
    {
     "data": {
      "text/html": [
       "<div>\n",
       "<style scoped>\n",
       "    .dataframe tbody tr th:only-of-type {\n",
       "        vertical-align: middle;\n",
       "    }\n",
       "\n",
       "    .dataframe tbody tr th {\n",
       "        vertical-align: top;\n",
       "    }\n",
       "\n",
       "    .dataframe thead th {\n",
       "        text-align: right;\n",
       "    }\n",
       "</style>\n",
       "<table border=\"1\" class=\"dataframe\">\n",
       "  <thead>\n",
       "    <tr style=\"text-align: right;\">\n",
       "      <th></th>\n",
       "      <th>Sex</th>\n",
       "      <th>Embarked</th>\n",
       "      <th>Pclass</th>\n",
       "      <th>Age</th>\n",
       "      <th>SibSp</th>\n",
       "      <th>Parch</th>\n",
       "      <th>Fare</th>\n",
       "      <th>NameNew</th>\n",
       "      <th>TicketNew</th>\n",
       "      <th>Family</th>\n",
       "      <th>NewAge</th>\n",
       "    </tr>\n",
       "  </thead>\n",
       "  <tbody>\n",
       "    <tr>\n",
       "      <th>0</th>\n",
       "      <td>male</td>\n",
       "      <td>Q</td>\n",
       "      <td>3</td>\n",
       "      <td>34.500000</td>\n",
       "      <td>0</td>\n",
       "      <td>0</td>\n",
       "      <td>7.8292</td>\n",
       "      <td>Mr</td>\n",
       "      <td>N</td>\n",
       "      <td>single</td>\n",
       "      <td>middle-aged adult</td>\n",
       "    </tr>\n",
       "    <tr>\n",
       "      <th>1</th>\n",
       "      <td>female</td>\n",
       "      <td>S</td>\n",
       "      <td>3</td>\n",
       "      <td>47.000000</td>\n",
       "      <td>1</td>\n",
       "      <td>0</td>\n",
       "      <td>7.0000</td>\n",
       "      <td>Mrs</td>\n",
       "      <td>N</td>\n",
       "      <td>small</td>\n",
       "      <td>old adult</td>\n",
       "    </tr>\n",
       "    <tr>\n",
       "      <th>2</th>\n",
       "      <td>male</td>\n",
       "      <td>Q</td>\n",
       "      <td>2</td>\n",
       "      <td>62.000000</td>\n",
       "      <td>0</td>\n",
       "      <td>0</td>\n",
       "      <td>9.6875</td>\n",
       "      <td>Mr</td>\n",
       "      <td>N</td>\n",
       "      <td>single</td>\n",
       "      <td>old adult</td>\n",
       "    </tr>\n",
       "    <tr>\n",
       "      <th>3</th>\n",
       "      <td>male</td>\n",
       "      <td>S</td>\n",
       "      <td>3</td>\n",
       "      <td>27.000000</td>\n",
       "      <td>0</td>\n",
       "      <td>0</td>\n",
       "      <td>8.6625</td>\n",
       "      <td>Mr</td>\n",
       "      <td>N</td>\n",
       "      <td>single</td>\n",
       "      <td>young adult</td>\n",
       "    </tr>\n",
       "    <tr>\n",
       "      <th>4</th>\n",
       "      <td>female</td>\n",
       "      <td>S</td>\n",
       "      <td>3</td>\n",
       "      <td>22.000000</td>\n",
       "      <td>1</td>\n",
       "      <td>1</td>\n",
       "      <td>12.2875</td>\n",
       "      <td>Mrs</td>\n",
       "      <td>N</td>\n",
       "      <td>small</td>\n",
       "      <td>young adult</td>\n",
       "    </tr>\n",
       "    <tr>\n",
       "      <th>...</th>\n",
       "      <td>...</td>\n",
       "      <td>...</td>\n",
       "      <td>...</td>\n",
       "      <td>...</td>\n",
       "      <td>...</td>\n",
       "      <td>...</td>\n",
       "      <td>...</td>\n",
       "      <td>...</td>\n",
       "      <td>...</td>\n",
       "      <td>...</td>\n",
       "      <td>...</td>\n",
       "    </tr>\n",
       "    <tr>\n",
       "      <th>413</th>\n",
       "      <td>male</td>\n",
       "      <td>S</td>\n",
       "      <td>3</td>\n",
       "      <td>25.800000</td>\n",
       "      <td>0</td>\n",
       "      <td>0</td>\n",
       "      <td>8.0500</td>\n",
       "      <td>Mr</td>\n",
       "      <td>A</td>\n",
       "      <td>single</td>\n",
       "      <td>young adult</td>\n",
       "    </tr>\n",
       "    <tr>\n",
       "      <th>414</th>\n",
       "      <td>female</td>\n",
       "      <td>C</td>\n",
       "      <td>1</td>\n",
       "      <td>39.000000</td>\n",
       "      <td>0</td>\n",
       "      <td>0</td>\n",
       "      <td>108.9000</td>\n",
       "      <td>Aristocrat</td>\n",
       "      <td>P</td>\n",
       "      <td>single</td>\n",
       "      <td>middle-aged adult</td>\n",
       "    </tr>\n",
       "    <tr>\n",
       "      <th>415</th>\n",
       "      <td>male</td>\n",
       "      <td>S</td>\n",
       "      <td>3</td>\n",
       "      <td>38.500000</td>\n",
       "      <td>0</td>\n",
       "      <td>0</td>\n",
       "      <td>7.2500</td>\n",
       "      <td>Mr</td>\n",
       "      <td>S</td>\n",
       "      <td>single</td>\n",
       "      <td>middle-aged adult</td>\n",
       "    </tr>\n",
       "    <tr>\n",
       "      <th>416</th>\n",
       "      <td>male</td>\n",
       "      <td>S</td>\n",
       "      <td>3</td>\n",
       "      <td>25.800000</td>\n",
       "      <td>0</td>\n",
       "      <td>0</td>\n",
       "      <td>8.0500</td>\n",
       "      <td>Mr</td>\n",
       "      <td>N</td>\n",
       "      <td>single</td>\n",
       "      <td>young adult</td>\n",
       "    </tr>\n",
       "    <tr>\n",
       "      <th>417</th>\n",
       "      <td>male</td>\n",
       "      <td>C</td>\n",
       "      <td>3</td>\n",
       "      <td>22.868688</td>\n",
       "      <td>1</td>\n",
       "      <td>1</td>\n",
       "      <td>22.3583</td>\n",
       "      <td>Master</td>\n",
       "      <td>N</td>\n",
       "      <td>small</td>\n",
       "      <td>young adult</td>\n",
       "    </tr>\n",
       "  </tbody>\n",
       "</table>\n",
       "<p>418 rows × 11 columns</p>\n",
       "</div>"
      ],
      "text/plain": [
       "        Sex Embarked Pclass        Age  SibSp  Parch      Fare      NameNew  \\\n",
       "0      male        Q      3  34.500000      0      0    7.8292           Mr   \n",
       "1    female        S      3  47.000000      1      0    7.0000          Mrs   \n",
       "2      male        Q      2  62.000000      0      0    9.6875           Mr   \n",
       "3      male        S      3  27.000000      0      0    8.6625           Mr   \n",
       "4    female        S      3  22.000000      1      1   12.2875          Mrs   \n",
       "..      ...      ...    ...        ...    ...    ...       ...          ...   \n",
       "413    male        S      3  25.800000      0      0    8.0500           Mr   \n",
       "414  female        C      1  39.000000      0      0  108.9000   Aristocrat   \n",
       "415    male        S      3  38.500000      0      0    7.2500           Mr   \n",
       "416    male        S      3  25.800000      0      0    8.0500           Mr   \n",
       "417    male        C      3  22.868688      1      1   22.3583       Master   \n",
       "\n",
       "    TicketNew  Family             NewAge  \n",
       "0           N  single  middle-aged adult  \n",
       "1           N   small          old adult  \n",
       "2           N  single          old adult  \n",
       "3           N  single        young adult  \n",
       "4           N   small        young adult  \n",
       "..        ...     ...                ...  \n",
       "413         A  single        young adult  \n",
       "414         P  single  middle-aged adult  \n",
       "415         S  single  middle-aged adult  \n",
       "416         N  single        young adult  \n",
       "417         N   small        young adult  \n",
       "\n",
       "[418 rows x 11 columns]"
      ]
     },
     "execution_count": 108,
     "metadata": {},
     "output_type": "execute_result"
    }
   ],
   "source": [
    "test_df_reduced"
   ]
  },
  {
   "cell_type": "code",
   "execution_count": 109,
   "id": "6120e9e9",
   "metadata": {
    "execution": {
     "iopub.execute_input": "2022-10-20T17:56:23.931363Z",
     "iopub.status.busy": "2022-10-20T17:56:23.930902Z",
     "iopub.status.idle": "2022-10-20T17:56:23.950218Z",
     "shell.execute_reply": "2022-10-20T17:56:23.948864Z"
    },
    "papermill": {
     "duration": 0.142141,
     "end_time": "2022-10-20T17:56:23.953185",
     "exception": false,
     "start_time": "2022-10-20T17:56:23.811044",
     "status": "completed"
    },
    "tags": []
   },
   "outputs": [],
   "source": [
    "test_df_cat = test_df.select_dtypes(include=['object'])\n",
    "test_df = DfLabelEncoder(columns = test_df_cat.columns).fit_transform(test_df)\n",
    "\n",
    "test_df_cat1 = test_df_reduced.select_dtypes(include=['object'])\n",
    "test_df_reduced = DfLabelEncoder(columns = test_df_cat1.columns).fit_transform(test_df_reduced)"
   ]
  },
  {
   "cell_type": "code",
   "execution_count": 110,
   "id": "8995a864",
   "metadata": {
    "execution": {
     "iopub.execute_input": "2022-10-20T17:56:24.080426Z",
     "iopub.status.busy": "2022-10-20T17:56:24.080011Z",
     "iopub.status.idle": "2022-10-20T17:56:24.095231Z",
     "shell.execute_reply": "2022-10-20T17:56:24.094181Z"
    },
    "papermill": {
     "duration": 0.082086,
     "end_time": "2022-10-20T17:56:24.097845",
     "exception": false,
     "start_time": "2022-10-20T17:56:24.015759",
     "status": "completed"
    },
    "tags": []
   },
   "outputs": [],
   "source": [
    "for col in [['Sex', 'Embarked', 'Pclass', 'NameNew', 'TicketNew', 'Family', 'SibSp', 'Parch']]:\n",
    "    test_df[col] = test_df[col].astype('object')\n",
    "\n",
    "for col in [['Sex', 'Embarked', 'Pclass', 'NameNew', 'TicketNew', 'Family', 'NewAge', 'SibSp', 'Parch']]:\n",
    "    test_df_reduced[col] = test_df_reduced[col].astype('object')"
   ]
  },
  {
   "cell_type": "code",
   "execution_count": 111,
   "id": "88122404",
   "metadata": {
    "execution": {
     "iopub.execute_input": "2022-10-20T17:56:24.226146Z",
     "iopub.status.busy": "2022-10-20T17:56:24.225720Z",
     "iopub.status.idle": "2022-10-20T17:56:24.247863Z",
     "shell.execute_reply": "2022-10-20T17:56:24.246586Z"
    },
    "papermill": {
     "duration": 0.088859,
     "end_time": "2022-10-20T17:56:24.250316",
     "exception": false,
     "start_time": "2022-10-20T17:56:24.161457",
     "status": "completed"
    },
    "tags": []
   },
   "outputs": [
    {
     "data": {
      "text/html": [
       "<div>\n",
       "<style scoped>\n",
       "    .dataframe tbody tr th:only-of-type {\n",
       "        vertical-align: middle;\n",
       "    }\n",
       "\n",
       "    .dataframe tbody tr th {\n",
       "        vertical-align: top;\n",
       "    }\n",
       "\n",
       "    .dataframe thead th {\n",
       "        text-align: right;\n",
       "    }\n",
       "</style>\n",
       "<table border=\"1\" class=\"dataframe\">\n",
       "  <thead>\n",
       "    <tr style=\"text-align: right;\">\n",
       "      <th></th>\n",
       "      <th>SibSp</th>\n",
       "      <th>Parch</th>\n",
       "      <th>Fare</th>\n",
       "      <th>Sex</th>\n",
       "      <th>Embarked</th>\n",
       "      <th>Pclass</th>\n",
       "      <th>NameNew</th>\n",
       "      <th>TicketNew</th>\n",
       "      <th>Family</th>\n",
       "    </tr>\n",
       "  </thead>\n",
       "  <tbody>\n",
       "    <tr>\n",
       "      <th>0</th>\n",
       "      <td>0</td>\n",
       "      <td>0</td>\n",
       "      <td>7.8292</td>\n",
       "      <td>1</td>\n",
       "      <td>1</td>\n",
       "      <td>2</td>\n",
       "      <td>3</td>\n",
       "      <td>4</td>\n",
       "      <td>2</td>\n",
       "    </tr>\n",
       "    <tr>\n",
       "      <th>1</th>\n",
       "      <td>1</td>\n",
       "      <td>0</td>\n",
       "      <td>7.0000</td>\n",
       "      <td>0</td>\n",
       "      <td>2</td>\n",
       "      <td>2</td>\n",
       "      <td>4</td>\n",
       "      <td>4</td>\n",
       "      <td>3</td>\n",
       "    </tr>\n",
       "    <tr>\n",
       "      <th>2</th>\n",
       "      <td>0</td>\n",
       "      <td>0</td>\n",
       "      <td>9.6875</td>\n",
       "      <td>1</td>\n",
       "      <td>1</td>\n",
       "      <td>1</td>\n",
       "      <td>3</td>\n",
       "      <td>4</td>\n",
       "      <td>2</td>\n",
       "    </tr>\n",
       "    <tr>\n",
       "      <th>3</th>\n",
       "      <td>0</td>\n",
       "      <td>0</td>\n",
       "      <td>8.6625</td>\n",
       "      <td>1</td>\n",
       "      <td>2</td>\n",
       "      <td>2</td>\n",
       "      <td>3</td>\n",
       "      <td>4</td>\n",
       "      <td>2</td>\n",
       "    </tr>\n",
       "    <tr>\n",
       "      <th>4</th>\n",
       "      <td>1</td>\n",
       "      <td>1</td>\n",
       "      <td>12.2875</td>\n",
       "      <td>0</td>\n",
       "      <td>2</td>\n",
       "      <td>2</td>\n",
       "      <td>4</td>\n",
       "      <td>4</td>\n",
       "      <td>3</td>\n",
       "    </tr>\n",
       "    <tr>\n",
       "      <th>...</th>\n",
       "      <td>...</td>\n",
       "      <td>...</td>\n",
       "      <td>...</td>\n",
       "      <td>...</td>\n",
       "      <td>...</td>\n",
       "      <td>...</td>\n",
       "      <td>...</td>\n",
       "      <td>...</td>\n",
       "      <td>...</td>\n",
       "    </tr>\n",
       "    <tr>\n",
       "      <th>413</th>\n",
       "      <td>0</td>\n",
       "      <td>0</td>\n",
       "      <td>8.0500</td>\n",
       "      <td>1</td>\n",
       "      <td>2</td>\n",
       "      <td>2</td>\n",
       "      <td>3</td>\n",
       "      <td>0</td>\n",
       "      <td>2</td>\n",
       "    </tr>\n",
       "    <tr>\n",
       "      <th>414</th>\n",
       "      <td>0</td>\n",
       "      <td>0</td>\n",
       "      <td>108.9000</td>\n",
       "      <td>0</td>\n",
       "      <td>0</td>\n",
       "      <td>0</td>\n",
       "      <td>0</td>\n",
       "      <td>5</td>\n",
       "      <td>2</td>\n",
       "    </tr>\n",
       "    <tr>\n",
       "      <th>415</th>\n",
       "      <td>0</td>\n",
       "      <td>0</td>\n",
       "      <td>7.2500</td>\n",
       "      <td>1</td>\n",
       "      <td>2</td>\n",
       "      <td>2</td>\n",
       "      <td>3</td>\n",
       "      <td>6</td>\n",
       "      <td>2</td>\n",
       "    </tr>\n",
       "    <tr>\n",
       "      <th>416</th>\n",
       "      <td>0</td>\n",
       "      <td>0</td>\n",
       "      <td>8.0500</td>\n",
       "      <td>1</td>\n",
       "      <td>2</td>\n",
       "      <td>2</td>\n",
       "      <td>3</td>\n",
       "      <td>4</td>\n",
       "      <td>2</td>\n",
       "    </tr>\n",
       "    <tr>\n",
       "      <th>417</th>\n",
       "      <td>1</td>\n",
       "      <td>1</td>\n",
       "      <td>22.3583</td>\n",
       "      <td>1</td>\n",
       "      <td>0</td>\n",
       "      <td>2</td>\n",
       "      <td>1</td>\n",
       "      <td>4</td>\n",
       "      <td>3</td>\n",
       "    </tr>\n",
       "  </tbody>\n",
       "</table>\n",
       "<p>418 rows × 9 columns</p>\n",
       "</div>"
      ],
      "text/plain": [
       "    SibSp Parch      Fare Sex Embarked Pclass NameNew TicketNew Family\n",
       "0       0     0    7.8292   1        1      2       3         4      2\n",
       "1       1     0    7.0000   0        2      2       4         4      3\n",
       "2       0     0    9.6875   1        1      1       3         4      2\n",
       "3       0     0    8.6625   1        2      2       3         4      2\n",
       "4       1     1   12.2875   0        2      2       4         4      3\n",
       "..    ...   ...       ...  ..      ...    ...     ...       ...    ...\n",
       "413     0     0    8.0500   1        2      2       3         0      2\n",
       "414     0     0  108.9000   0        0      0       0         5      2\n",
       "415     0     0    7.2500   1        2      2       3         6      2\n",
       "416     0     0    8.0500   1        2      2       3         4      2\n",
       "417     1     1   22.3583   1        0      2       1         4      3\n",
       "\n",
       "[418 rows x 9 columns]"
      ]
     },
     "execution_count": 111,
     "metadata": {},
     "output_type": "execute_result"
    }
   ],
   "source": [
    "test_df"
   ]
  },
  {
   "cell_type": "code",
   "execution_count": 112,
   "id": "17537e0b",
   "metadata": {
    "execution": {
     "iopub.execute_input": "2022-10-20T17:56:24.379519Z",
     "iopub.status.busy": "2022-10-20T17:56:24.379110Z",
     "iopub.status.idle": "2022-10-20T17:56:24.406362Z",
     "shell.execute_reply": "2022-10-20T17:56:24.405040Z"
    },
    "papermill": {
     "duration": 0.094297,
     "end_time": "2022-10-20T17:56:24.408943",
     "exception": false,
     "start_time": "2022-10-20T17:56:24.314646",
     "status": "completed"
    },
    "tags": []
   },
   "outputs": [
    {
     "data": {
      "text/html": [
       "<div>\n",
       "<style scoped>\n",
       "    .dataframe tbody tr th:only-of-type {\n",
       "        vertical-align: middle;\n",
       "    }\n",
       "\n",
       "    .dataframe tbody tr th {\n",
       "        vertical-align: top;\n",
       "    }\n",
       "\n",
       "    .dataframe thead th {\n",
       "        text-align: right;\n",
       "    }\n",
       "</style>\n",
       "<table border=\"1\" class=\"dataframe\">\n",
       "  <thead>\n",
       "    <tr style=\"text-align: right;\">\n",
       "      <th></th>\n",
       "      <th>Sex</th>\n",
       "      <th>Embarked</th>\n",
       "      <th>Pclass</th>\n",
       "      <th>Age</th>\n",
       "      <th>SibSp</th>\n",
       "      <th>Parch</th>\n",
       "      <th>Fare</th>\n",
       "      <th>NameNew</th>\n",
       "      <th>TicketNew</th>\n",
       "      <th>Family</th>\n",
       "      <th>NewAge</th>\n",
       "    </tr>\n",
       "  </thead>\n",
       "  <tbody>\n",
       "    <tr>\n",
       "      <th>0</th>\n",
       "      <td>1</td>\n",
       "      <td>1</td>\n",
       "      <td>2</td>\n",
       "      <td>34.500000</td>\n",
       "      <td>0</td>\n",
       "      <td>0</td>\n",
       "      <td>7.8292</td>\n",
       "      <td>3</td>\n",
       "      <td>4</td>\n",
       "      <td>2</td>\n",
       "      <td>1</td>\n",
       "    </tr>\n",
       "    <tr>\n",
       "      <th>1</th>\n",
       "      <td>0</td>\n",
       "      <td>2</td>\n",
       "      <td>2</td>\n",
       "      <td>47.000000</td>\n",
       "      <td>1</td>\n",
       "      <td>0</td>\n",
       "      <td>7.0000</td>\n",
       "      <td>4</td>\n",
       "      <td>4</td>\n",
       "      <td>3</td>\n",
       "      <td>2</td>\n",
       "    </tr>\n",
       "    <tr>\n",
       "      <th>2</th>\n",
       "      <td>1</td>\n",
       "      <td>1</td>\n",
       "      <td>1</td>\n",
       "      <td>62.000000</td>\n",
       "      <td>0</td>\n",
       "      <td>0</td>\n",
       "      <td>9.6875</td>\n",
       "      <td>3</td>\n",
       "      <td>4</td>\n",
       "      <td>2</td>\n",
       "      <td>2</td>\n",
       "    </tr>\n",
       "    <tr>\n",
       "      <th>3</th>\n",
       "      <td>1</td>\n",
       "      <td>2</td>\n",
       "      <td>2</td>\n",
       "      <td>27.000000</td>\n",
       "      <td>0</td>\n",
       "      <td>0</td>\n",
       "      <td>8.6625</td>\n",
       "      <td>3</td>\n",
       "      <td>4</td>\n",
       "      <td>2</td>\n",
       "      <td>4</td>\n",
       "    </tr>\n",
       "    <tr>\n",
       "      <th>4</th>\n",
       "      <td>0</td>\n",
       "      <td>2</td>\n",
       "      <td>2</td>\n",
       "      <td>22.000000</td>\n",
       "      <td>1</td>\n",
       "      <td>1</td>\n",
       "      <td>12.2875</td>\n",
       "      <td>4</td>\n",
       "      <td>4</td>\n",
       "      <td>3</td>\n",
       "      <td>4</td>\n",
       "    </tr>\n",
       "    <tr>\n",
       "      <th>...</th>\n",
       "      <td>...</td>\n",
       "      <td>...</td>\n",
       "      <td>...</td>\n",
       "      <td>...</td>\n",
       "      <td>...</td>\n",
       "      <td>...</td>\n",
       "      <td>...</td>\n",
       "      <td>...</td>\n",
       "      <td>...</td>\n",
       "      <td>...</td>\n",
       "      <td>...</td>\n",
       "    </tr>\n",
       "    <tr>\n",
       "      <th>413</th>\n",
       "      <td>1</td>\n",
       "      <td>2</td>\n",
       "      <td>2</td>\n",
       "      <td>25.800000</td>\n",
       "      <td>0</td>\n",
       "      <td>0</td>\n",
       "      <td>8.0500</td>\n",
       "      <td>3</td>\n",
       "      <td>0</td>\n",
       "      <td>2</td>\n",
       "      <td>4</td>\n",
       "    </tr>\n",
       "    <tr>\n",
       "      <th>414</th>\n",
       "      <td>0</td>\n",
       "      <td>0</td>\n",
       "      <td>0</td>\n",
       "      <td>39.000000</td>\n",
       "      <td>0</td>\n",
       "      <td>0</td>\n",
       "      <td>108.9000</td>\n",
       "      <td>0</td>\n",
       "      <td>5</td>\n",
       "      <td>2</td>\n",
       "      <td>1</td>\n",
       "    </tr>\n",
       "    <tr>\n",
       "      <th>415</th>\n",
       "      <td>1</td>\n",
       "      <td>2</td>\n",
       "      <td>2</td>\n",
       "      <td>38.500000</td>\n",
       "      <td>0</td>\n",
       "      <td>0</td>\n",
       "      <td>7.2500</td>\n",
       "      <td>3</td>\n",
       "      <td>6</td>\n",
       "      <td>2</td>\n",
       "      <td>1</td>\n",
       "    </tr>\n",
       "    <tr>\n",
       "      <th>416</th>\n",
       "      <td>1</td>\n",
       "      <td>2</td>\n",
       "      <td>2</td>\n",
       "      <td>25.800000</td>\n",
       "      <td>0</td>\n",
       "      <td>0</td>\n",
       "      <td>8.0500</td>\n",
       "      <td>3</td>\n",
       "      <td>4</td>\n",
       "      <td>2</td>\n",
       "      <td>4</td>\n",
       "    </tr>\n",
       "    <tr>\n",
       "      <th>417</th>\n",
       "      <td>1</td>\n",
       "      <td>0</td>\n",
       "      <td>2</td>\n",
       "      <td>22.868688</td>\n",
       "      <td>1</td>\n",
       "      <td>1</td>\n",
       "      <td>22.3583</td>\n",
       "      <td>1</td>\n",
       "      <td>4</td>\n",
       "      <td>3</td>\n",
       "      <td>4</td>\n",
       "    </tr>\n",
       "  </tbody>\n",
       "</table>\n",
       "<p>418 rows × 11 columns</p>\n",
       "</div>"
      ],
      "text/plain": [
       "    Sex Embarked Pclass        Age SibSp Parch      Fare NameNew TicketNew  \\\n",
       "0     1        1      2  34.500000     0     0    7.8292       3         4   \n",
       "1     0        2      2  47.000000     1     0    7.0000       4         4   \n",
       "2     1        1      1  62.000000     0     0    9.6875       3         4   \n",
       "3     1        2      2  27.000000     0     0    8.6625       3         4   \n",
       "4     0        2      2  22.000000     1     1   12.2875       4         4   \n",
       "..   ..      ...    ...        ...   ...   ...       ...     ...       ...   \n",
       "413   1        2      2  25.800000     0     0    8.0500       3         0   \n",
       "414   0        0      0  39.000000     0     0  108.9000       0         5   \n",
       "415   1        2      2  38.500000     0     0    7.2500       3         6   \n",
       "416   1        2      2  25.800000     0     0    8.0500       3         4   \n",
       "417   1        0      2  22.868688     1     1   22.3583       1         4   \n",
       "\n",
       "    Family NewAge  \n",
       "0        2      1  \n",
       "1        3      2  \n",
       "2        2      2  \n",
       "3        2      4  \n",
       "4        3      4  \n",
       "..     ...    ...  \n",
       "413      2      4  \n",
       "414      2      1  \n",
       "415      2      1  \n",
       "416      2      4  \n",
       "417      3      4  \n",
       "\n",
       "[418 rows x 11 columns]"
      ]
     },
     "execution_count": 112,
     "metadata": {},
     "output_type": "execute_result"
    }
   ],
   "source": [
    "test_df_reduced"
   ]
  },
  {
   "cell_type": "markdown",
   "id": "8c521639",
   "metadata": {
    "papermill": {
     "duration": 0.062602,
     "end_time": "2022-10-20T17:56:24.534997",
     "exception": false,
     "start_time": "2022-10-20T17:56:24.472395",
     "status": "completed"
    },
    "tags": []
   },
   "source": [
    "#### Train/test splits"
   ]
  },
  {
   "cell_type": "code",
   "execution_count": 113,
   "id": "1f0d1826",
   "metadata": {
    "execution": {
     "iopub.execute_input": "2022-10-20T17:56:24.673232Z",
     "iopub.status.busy": "2022-10-20T17:56:24.672809Z",
     "iopub.status.idle": "2022-10-20T17:56:24.688526Z",
     "shell.execute_reply": "2022-10-20T17:56:24.687250Z"
    },
    "papermill": {
     "duration": 0.093192,
     "end_time": "2022-10-20T17:56:24.691154",
     "exception": false,
     "start_time": "2022-10-20T17:56:24.597962",
     "status": "completed"
    },
    "tags": []
   },
   "outputs": [],
   "source": [
    "y_tr = train_df_outl['Survived']\n",
    "y_tr1 = train_df_reduced_outl['Survived']\n",
    "\n",
    "X_tr = train_df_outl.loc[:, ~train_df_outl.columns.isin(['Survived'])]\n",
    "X_tr1 = train_df_reduced_outl.loc[:, ~train_df_reduced_outl.columns.isin(['Survived'])]\n",
    "\n",
    "X_ts = test_df\n",
    "X_ts1 = test_df_reduced\n",
    "\n",
    "X_train, X_test, y_train, y_test = train_test_split(X_tr, y_tr, test_size = 0.2, random_state = 30, stratify = y_tr)\n",
    "X_train1, X_test1, y_train1, y_test1 = train_test_split(X_tr1, y_tr1, test_size = 0.2, random_state = 30, stratify = y_tr1)"
   ]
  },
  {
   "cell_type": "markdown",
   "id": "f5a97b32",
   "metadata": {
    "papermill": {
     "duration": 0.063152,
     "end_time": "2022-10-20T17:56:24.821477",
     "exception": false,
     "start_time": "2022-10-20T17:56:24.758325",
     "status": "completed"
    },
    "tags": []
   },
   "source": [
    "### 2.2.5 Feature Importance <a class=\"anchor\" id=\"ftimp\"></a>"
   ]
  },
  {
   "cell_type": "markdown",
   "id": "4605cbbd",
   "metadata": {
    "papermill": {
     "duration": 0.064954,
     "end_time": "2022-10-20T17:56:24.949860",
     "exception": false,
     "start_time": "2022-10-20T17:56:24.884906",
     "status": "completed"
    },
    "tags": []
   },
   "source": [
    "#### Full train dataset"
   ]
  },
  {
   "cell_type": "code",
   "execution_count": 114,
   "id": "608ec70b",
   "metadata": {
    "execution": {
     "iopub.execute_input": "2022-10-20T17:56:25.079967Z",
     "iopub.status.busy": "2022-10-20T17:56:25.079461Z",
     "iopub.status.idle": "2022-10-20T17:56:26.284776Z",
     "shell.execute_reply": "2022-10-20T17:56:26.283551Z"
    },
    "papermill": {
     "duration": 1.273182,
     "end_time": "2022-10-20T17:56:26.287424",
     "exception": false,
     "start_time": "2022-10-20T17:56:25.014242",
     "status": "completed"
    },
    "tags": []
   },
   "outputs": [
    {
     "data": {
      "image/png": "[encoded data removed]",
      "text/plain": [
       "<Figure size 864x432 with 1 Axes>"
      ]
     },
     "metadata": {},
     "output_type": "display_data"
    }
   ],
   "source": [
    "forest = RandomForestClassifier(n_estimators=500, random_state=1)\n",
    "forest.fit(X_train, y_train.values.ravel())\n",
    "importances = forest.feature_importances_\n",
    "sorted_indices = np.argsort(importances)[::-1]\n",
    "feat_labels = train_df_outl.columns[1:]\n",
    "\n",
    "plt.title('Feature Importance')\n",
    "plt.bar(range(X_train.shape[1]), importances[sorted_indices], align='center')\n",
    "plt.xticks(range(X_train.shape[1]), X_train.columns[sorted_indices], rotation=90)\n",
    "plt.tight_layout()\n",
    "plt.show()"
   ]
  },
  {
   "cell_type": "markdown",
   "id": "5f995a16",
   "metadata": {
    "papermill": {
     "duration": 0.06419,
     "end_time": "2022-10-20T17:56:26.415479",
     "exception": false,
     "start_time": "2022-10-20T17:56:26.351289",
     "status": "completed"
    },
    "tags": []
   },
   "source": [
    "#### Reduced train dataset"
   ]
  },
  {
   "cell_type": "code",
   "execution_count": 115,
   "id": "9c040be1",
   "metadata": {
    "execution": {
     "iopub.execute_input": "2022-10-20T17:56:26.548008Z",
     "iopub.status.busy": "2022-10-20T17:56:26.547552Z",
     "iopub.status.idle": "2022-10-20T17:56:27.744408Z",
     "shell.execute_reply": "2022-10-20T17:56:27.743491Z"
    },
    "papermill": {
     "duration": 1.265875,
     "end_time": "2022-10-20T17:56:27.746981",
     "exception": false,
     "start_time": "2022-10-20T17:56:26.481106",
     "status": "completed"
    },
    "tags": []
   },
   "outputs": [
    {
     "data": {
      "image/png": "[encoded data removed]",
      "text/plain": [
       "<Figure size 864x432 with 1 Axes>"
      ]
     },
     "metadata": {},
     "output_type": "display_data"
    }
   ],
   "source": [
    "forest.fit(X_train1, y_train1.values.ravel())\n",
    "importances = forest.feature_importances_\n",
    "sorted_indices = np.argsort(importances)[::-1]\n",
    "feat_labels = train_df_reduced_outl.columns[1:]\n",
    "\n",
    "plt.title('Feature Importance')\n",
    "plt.bar(range(X_train1.shape[1]), importances[sorted_indices], align='center')\n",
    "plt.xticks(range(X_train1.shape[1]), X_train1.columns[sorted_indices], rotation=90)\n",
    "plt.tight_layout()\n",
    "plt.show()"
   ]
  },
  {
   "cell_type": "code",
   "execution_count": 116,
   "id": "4451c0c3",
   "metadata": {
    "execution": {
     "iopub.execute_input": "2022-10-20T17:56:27.878965Z",
     "iopub.status.busy": "2022-10-20T17:56:27.878219Z",
     "iopub.status.idle": "2022-10-20T17:56:27.888163Z",
     "shell.execute_reply": "2022-10-20T17:56:27.886716Z"
    },
    "papermill": {
     "duration": 0.07967,
     "end_time": "2022-10-20T17:56:27.890902",
     "exception": false,
     "start_time": "2022-10-20T17:56:27.811232",
     "status": "completed"
    },
    "tags": []
   },
   "outputs": [],
   "source": [
    "X_train1 = X_train1.drop(columns=['NewAge'])\n",
    "X_test1 = X_test1.drop(columns=['NewAge'])\n",
    "X_tr1 = X_tr1.drop(columns=['NewAge'])\n",
    "X_ts1 = X_ts1.drop(columns=['NewAge'])"
   ]
  },
  {
   "cell_type": "markdown",
   "id": "ccab212c",
   "metadata": {
    "papermill": {
     "duration": 0.065114,
     "end_time": "2022-10-20T17:56:28.022858",
     "exception": false,
     "start_time": "2022-10-20T17:56:27.957744",
     "status": "completed"
    },
    "tags": []
   },
   "source": [
    "## 3 Classification Modeling <a class=\"anchor\" id=\"modeling\"></a>"
   ]
  },
  {
   "cell_type": "markdown",
   "id": "806c566e",
   "metadata": {
    "papermill": {
     "duration": 0.064087,
     "end_time": "2022-10-20T17:56:28.151331",
     "exception": false,
     "start_time": "2022-10-20T17:56:28.087244",
     "status": "completed"
    },
    "tags": []
   },
   "source": [
    "### 3.1.1 Random Forest <a class=\"anchor\" id=\"rf\"></a>"
   ]
  },
  {
   "cell_type": "code",
   "execution_count": 117,
   "id": "8da744a0",
   "metadata": {
    "execution": {
     "iopub.execute_input": "2022-10-20T17:56:28.281881Z",
     "iopub.status.busy": "2022-10-20T17:56:28.280815Z",
     "iopub.status.idle": "2022-10-20T17:56:28.286229Z",
     "shell.execute_reply": "2022-10-20T17:56:28.285341Z"
    },
    "papermill": {
     "duration": 0.073066,
     "end_time": "2022-10-20T17:56:28.288473",
     "exception": false,
     "start_time": "2022-10-20T17:56:28.215407",
     "status": "completed"
    },
    "tags": []
   },
   "outputs": [],
   "source": [
    "param_grid = { \n",
    "    'randomforestclassifier__n_estimators': [ 200, 300],\n",
    "    'randomforestclassifier__max_features': ['auto', 'sqrt'],\n",
    "    'randomforestclassifier__max_depth' : [6,7,8],\n",
    "    'randomforestclassifier__criterion' :('gini', 'entropy')}"
   ]
  },
  {
   "cell_type": "code",
   "execution_count": 118,
   "id": "be03de7a",
   "metadata": {
    "execution": {
     "iopub.execute_input": "2022-10-20T17:56:28.419056Z",
     "iopub.status.busy": "2022-10-20T17:56:28.418236Z",
     "iopub.status.idle": "2022-10-20T17:57:24.226131Z",
     "shell.execute_reply": "2022-10-20T17:57:24.224862Z"
    },
    "papermill": {
     "duration": 55.940585,
     "end_time": "2022-10-20T17:57:24.293090",
     "exception": false,
     "start_time": "2022-10-20T17:56:28.352505",
     "status": "completed"
    },
    "tags": []
   },
   "outputs": [
    {
     "data": {
      "text/plain": [
       "{'randomforestclassifier__criterion': 'entropy',\n",
       " 'randomforestclassifier__max_depth': 8,\n",
       " 'randomforestclassifier__max_features': 'auto',\n",
       " 'randomforestclassifier__n_estimators': 200}"
      ]
     },
     "execution_count": 118,
     "metadata": {},
     "output_type": "execute_result"
    }
   ],
   "source": [
    "rfc = RandomForestClassifier(random_state=0)\n",
    "steps = [('scaler', RobustScaler()), ('randomforestclassifier', rfc)]\n",
    "pipeline = Pipeline(steps)\n",
    "CV_rfc = GridSearchCV(estimator = pipeline, param_grid = param_grid, cv = 5)\n",
    "CV_rfc.fit(X_tr1, y_tr1)\n",
    "CV_rfc.best_params_"
   ]
  },
  {
   "cell_type": "code",
   "execution_count": 119,
   "id": "7b632288",
   "metadata": {
    "execution": {
     "iopub.execute_input": "2022-10-20T17:57:24.423515Z",
     "iopub.status.busy": "2022-10-20T17:57:24.423117Z",
     "iopub.status.idle": "2022-10-20T17:57:25.115073Z",
     "shell.execute_reply": "2022-10-20T17:57:25.113802Z"
    },
    "papermill": {
     "duration": 0.760231,
     "end_time": "2022-10-20T17:57:25.117526",
     "exception": false,
     "start_time": "2022-10-20T17:57:24.357295",
     "status": "completed"
    },
    "tags": []
   },
   "outputs": [
    {
     "data": {
      "text/plain": [
       "88.01"
      ]
     },
     "execution_count": 119,
     "metadata": {},
     "output_type": "execute_result"
    }
   ],
   "source": [
    "rfc1 = RandomForestClassifier(random_state = 0, n_estimators = 300, criterion = 'gini', max_features = 'auto', max_depth = 6)\n",
    "steps = [('scaler', RobustScaler()), ('randomforestclassifier', rfc1)]\n",
    "pipeline = Pipeline(steps)\n",
    "pipeline.fit(X_tr1, y_tr1)\n",
    "Y_pred = pipeline.predict(X_ts1)\n",
    "pipeline.score(X_tr1, y_tr1)\n",
    "acc_random_forest = round(pipeline.score(X_tr1, y_tr1) * 100, 2)\n",
    "acc_random_forest"
   ]
  },
  {
   "cell_type": "markdown",
   "id": "4ae86f3e",
   "metadata": {
    "papermill": {
     "duration": 0.064473,
     "end_time": "2022-10-20T17:57:25.246753",
     "exception": false,
     "start_time": "2022-10-20T17:57:25.182280",
     "status": "completed"
    },
    "tags": []
   },
   "source": [
    "### 3.1.2 Perceptron <a class=\"anchor\" id=\"pr\"></a>"
   ]
  },
  {
   "cell_type": "code",
   "execution_count": 120,
   "id": "e7970da8",
   "metadata": {
    "execution": {
     "iopub.execute_input": "2022-10-20T17:57:25.377469Z",
     "iopub.status.busy": "2022-10-20T17:57:25.377055Z",
     "iopub.status.idle": "2022-10-20T17:57:25.382846Z",
     "shell.execute_reply": "2022-10-20T17:57:25.381620Z"
    },
    "papermill": {
     "duration": 0.074137,
     "end_time": "2022-10-20T17:57:25.385144",
     "exception": false,
     "start_time": "2022-10-20T17:57:25.311007",
     "status": "completed"
    },
    "tags": []
   },
   "outputs": [],
   "source": [
    "param_grid = { \n",
    "    'perceptron__penalty': ['l2', 'l1', 'elasticnet'],\n",
    "    'perceptron__alpha': [0.0001, 0.0005, 0.005],\n",
    "    'perceptron__l1_ratio' : [0.15, 0.5, 0.10],\n",
    "    'perceptron__tol' :[1e-2, 1e-3, 1e-4]\n",
    "}"
   ]
  },
  {
   "cell_type": "code",
   "execution_count": 121,
   "id": "d8205aaf",
   "metadata": {
    "execution": {
     "iopub.execute_input": "2022-10-20T17:57:25.520117Z",
     "iopub.status.busy": "2022-10-20T17:57:25.519622Z",
     "iopub.status.idle": "2022-10-20T17:57:30.606817Z",
     "shell.execute_reply": "2022-10-20T17:57:30.605437Z"
    },
    "papermill": {
     "duration": 5.159354,
     "end_time": "2022-10-20T17:57:30.609570",
     "exception": false,
     "start_time": "2022-10-20T17:57:25.450216",
     "status": "completed"
    },
    "tags": []
   },
   "outputs": [
    {
     "data": {
      "text/plain": [
       "{'perceptron__alpha': 0.0005,\n",
       " 'perceptron__l1_ratio': 0.15,\n",
       " 'perceptron__penalty': 'elasticnet',\n",
       " 'perceptron__tol': 0.01}"
      ]
     },
     "execution_count": 121,
     "metadata": {},
     "output_type": "execute_result"
    }
   ],
   "source": [
    "pc = Perceptron(random_state = 0)\n",
    "steps = [('scaler', RobustScaler()), ('perceptron', pc)]\n",
    "pipeline = Pipeline(steps)\n",
    "CV_pc = GridSearchCV(estimator = pipeline, param_grid = param_grid, cv = 5)\n",
    "CV_pc.fit(X_tr1, y_tr1)\n",
    "CV_pc.best_params_"
   ]
  },
  {
   "cell_type": "code",
   "execution_count": 122,
   "id": "30d994a7",
   "metadata": {
    "execution": {
     "iopub.execute_input": "2022-10-20T17:57:30.758938Z",
     "iopub.status.busy": "2022-10-20T17:57:30.757812Z",
     "iopub.status.idle": "2022-10-20T17:57:30.783952Z",
     "shell.execute_reply": "2022-10-20T17:57:30.782749Z"
    },
    "papermill": {
     "duration": 0.099681,
     "end_time": "2022-10-20T17:57:30.786434",
     "exception": false,
     "start_time": "2022-10-20T17:57:30.686753",
     "status": "completed"
    },
    "tags": []
   },
   "outputs": [
    {
     "data": {
      "text/plain": [
       "71.79"
      ]
     },
     "execution_count": 122,
     "metadata": {},
     "output_type": "execute_result"
    }
   ],
   "source": [
    "pc1 = Perceptron(alpha = 0.005, l1_ratio = 0.15, penalty = 'elasticnet', tol = 0.01)\n",
    "steps = [('scaler', RobustScaler()), ('perceptron', pc1)]\n",
    "pipeline = Pipeline(steps)\n",
    "pipeline.fit(X_tr1, y_tr1)\n",
    "Y_pred = pipeline.predict(X_ts1)\n",
    "acc_perceptron = round(pipeline.score(X_tr1, y_tr1) * 100, 2)\n",
    "acc_perceptron"
   ]
  },
  {
   "cell_type": "markdown",
   "id": "02df33ac",
   "metadata": {
    "papermill": {
     "duration": 0.067149,
     "end_time": "2022-10-20T17:57:30.919807",
     "exception": false,
     "start_time": "2022-10-20T17:57:30.852658",
     "status": "completed"
    },
    "tags": []
   },
   "source": [
    "### 3.1.3 Support Vector Machines (SVC) <a class=\"anchor\" id=\"svc\"></a>"
   ]
  },
  {
   "cell_type": "code",
   "execution_count": 123,
   "id": "f08d1d67",
   "metadata": {
    "execution": {
     "iopub.execute_input": "2022-10-20T17:57:31.051590Z",
     "iopub.status.busy": "2022-10-20T17:57:31.051135Z",
     "iopub.status.idle": "2022-10-20T17:57:31.056899Z",
     "shell.execute_reply": "2022-10-20T17:57:31.055602Z"
    },
    "papermill": {
     "duration": 0.074451,
     "end_time": "2022-10-20T17:57:31.059201",
     "exception": false,
     "start_time": "2022-10-20T17:57:30.984750",
     "status": "completed"
    },
    "tags": []
   },
   "outputs": [],
   "source": [
    "param_grid = { \n",
    "    'svc__kernel': ['linear', 'poly', 'rbg'],\n",
    "    'svc__degree': [1, 2],\n",
    "    'svc__gamma' : ['scale', 'auto'],\n",
    "    'svc__tol' :[1e-2, 1e-3, 1e-4]\n",
    "}"
   ]
  },
  {
   "cell_type": "code",
   "execution_count": 124,
   "id": "14e9cf2c",
   "metadata": {
    "execution": {
     "iopub.execute_input": "2022-10-20T17:57:31.188929Z",
     "iopub.status.busy": "2022-10-20T17:57:31.188462Z",
     "iopub.status.idle": "2022-10-20T17:57:34.663739Z",
     "shell.execute_reply": "2022-10-20T17:57:34.662545Z"
    },
    "papermill": {
     "duration": 3.543523,
     "end_time": "2022-10-20T17:57:34.666437",
     "exception": false,
     "start_time": "2022-10-20T17:57:31.122914",
     "status": "completed"
    },
    "tags": []
   },
   "outputs": [
    {
     "data": {
      "text/plain": [
       "{'svc__degree': 2,\n",
       " 'svc__gamma': 'auto',\n",
       " 'svc__kernel': 'poly',\n",
       " 'svc__tol': 0.01}"
      ]
     },
     "execution_count": 124,
     "metadata": {},
     "output_type": "execute_result"
    }
   ],
   "source": [
    "svc = SVC(random_state = 0)\n",
    "steps = [('scaler', RobustScaler()), ('svc', svc)]\n",
    "pipeline = Pipeline(steps)\n",
    "CV_svc = GridSearchCV(estimator = pipeline, param_grid = param_grid, cv = 5)\n",
    "CV_svc.fit(X_tr1, y_tr1)\n",
    "CV_svc.best_params_"
   ]
  },
  {
   "cell_type": "code",
   "execution_count": 125,
   "id": "73aac519",
   "metadata": {
    "execution": {
     "iopub.execute_input": "2022-10-20T17:57:34.798634Z",
     "iopub.status.busy": "2022-10-20T17:57:34.798194Z",
     "iopub.status.idle": "2022-10-20T17:57:34.919466Z",
     "shell.execute_reply": "2022-10-20T17:57:34.918219Z"
    },
    "papermill": {
     "duration": 0.190299,
     "end_time": "2022-10-20T17:57:34.922123",
     "exception": false,
     "start_time": "2022-10-20T17:57:34.731824",
     "status": "completed"
    },
    "tags": []
   },
   "outputs": [
    {
     "data": {
      "text/plain": [
       "81.38"
      ]
     },
     "execution_count": 125,
     "metadata": {},
     "output_type": "execute_result"
    }
   ],
   "source": [
    "svc1 = SVC(degree = 2, gamma = 'auto', kernel = 'poly', tol = 0.01, probability = True)\n",
    "steps = [('scaler', RobustScaler()), ('svc', svc1)]\n",
    "pipeline = Pipeline(steps)\n",
    "pipeline.fit(X_tr1, y_tr1)\n",
    "Y_pred = pipeline.predict(X_ts1)\n",
    "acc_svc1 = round(pipeline.score(X_tr1, y_tr1) * 100, 2)\n",
    "acc_svc1"
   ]
  },
  {
   "cell_type": "markdown",
   "id": "5630575f",
   "metadata": {
    "papermill": {
     "duration": 0.065138,
     "end_time": "2022-10-20T17:57:35.052163",
     "exception": false,
     "start_time": "2022-10-20T17:57:34.987025",
     "status": "completed"
    },
    "tags": []
   },
   "source": [
    "### 3.1.4 Linear SVC <a class=\"anchor\" id=\"linsvc\"></a>"
   ]
  },
  {
   "cell_type": "code",
   "execution_count": 126,
   "id": "efc2def9",
   "metadata": {
    "execution": {
     "iopub.execute_input": "2022-10-20T17:57:35.185221Z",
     "iopub.status.busy": "2022-10-20T17:57:35.184793Z",
     "iopub.status.idle": "2022-10-20T17:57:35.190712Z",
     "shell.execute_reply": "2022-10-20T17:57:35.189618Z"
    },
    "papermill": {
     "duration": 0.075952,
     "end_time": "2022-10-20T17:57:35.192998",
     "exception": false,
     "start_time": "2022-10-20T17:57:35.117046",
     "status": "completed"
    },
    "tags": []
   },
   "outputs": [],
   "source": [
    "param_grid = { \n",
    "    'svcl__penalty': ['l2', 'l1'],\n",
    "    'svcl__loss': ['hinge', 'squared_hinge'],\n",
    "    'svcl__tol' :[1e-2, 1e-3, 1e-4]\n",
    "}"
   ]
  },
  {
   "cell_type": "code",
   "execution_count": 127,
   "id": "b1121df8",
   "metadata": {
    "execution": {
     "iopub.execute_input": "2022-10-20T17:57:35.325010Z",
     "iopub.status.busy": "2022-10-20T17:57:35.324576Z",
     "iopub.status.idle": "2022-10-20T17:57:36.502276Z",
     "shell.execute_reply": "2022-10-20T17:57:36.500981Z"
    },
    "papermill": {
     "duration": 1.247179,
     "end_time": "2022-10-20T17:57:36.504816",
     "exception": false,
     "start_time": "2022-10-20T17:57:35.257637",
     "status": "completed"
    },
    "tags": []
   },
   "outputs": [
    {
     "data": {
      "text/plain": [
       "{'svcl__loss': 'squared_hinge', 'svcl__penalty': 'l2', 'svcl__tol': 0.01}"
      ]
     },
     "execution_count": 127,
     "metadata": {},
     "output_type": "execute_result"
    }
   ],
   "source": [
    "svcl = LinearSVC(random_state = 0)\n",
    "steps = [('scaler', RobustScaler()), ('svcl', svcl)]\n",
    "pipeline = Pipeline(steps)\n",
    "CV_svcl = GridSearchCV(estimator = pipeline, param_grid = param_grid, cv = 5)\n",
    "CV_svcl.fit(X_tr1, y_tr1)\n",
    "CV_svcl.best_params_"
   ]
  },
  {
   "cell_type": "code",
   "execution_count": 128,
   "id": "f5ca21cf",
   "metadata": {
    "execution": {
     "iopub.execute_input": "2022-10-20T17:57:36.638629Z",
     "iopub.status.busy": "2022-10-20T17:57:36.637243Z",
     "iopub.status.idle": "2022-10-20T17:57:36.700811Z",
     "shell.execute_reply": "2022-10-20T17:57:36.699384Z"
    },
    "papermill": {
     "duration": 0.133506,
     "end_time": "2022-10-20T17:57:36.703848",
     "exception": false,
     "start_time": "2022-10-20T17:57:36.570342",
     "status": "completed"
    },
    "tags": []
   },
   "outputs": [
    {
     "data": {
      "text/plain": [
       "80.25"
      ]
     },
     "execution_count": 128,
     "metadata": {},
     "output_type": "execute_result"
    }
   ],
   "source": [
    "svcl1 = LinearSVC(loss = 'squared_hinge', penalty = 'l2', tol = 0.01)\n",
    "steps = [('scaler', RobustScaler()), ('svcl', svcl1)]\n",
    "pipeline = Pipeline(steps)\n",
    "pipeline.fit(X_tr1, y_tr1)\n",
    "Y_pred = pipeline.predict(X_ts1)\n",
    "acc_svcl = round(pipeline.score(X_tr1, y_tr1) * 100, 2)\n",
    "acc_svcl"
   ]
  },
  {
   "cell_type": "markdown",
   "id": "33d8db07",
   "metadata": {
    "papermill": {
     "duration": 0.065905,
     "end_time": "2022-10-20T17:57:36.836297",
     "exception": false,
     "start_time": "2022-10-20T17:57:36.770392",
     "status": "completed"
    },
    "tags": []
   },
   "source": [
    "### 3.1.5 KNN <a class=\"anchor\" id=\"knn\"></a>"
   ]
  },
  {
   "cell_type": "code",
   "execution_count": 129,
   "id": "7584f20f",
   "metadata": {
    "execution": {
     "iopub.execute_input": "2022-10-20T17:57:36.970762Z",
     "iopub.status.busy": "2022-10-20T17:57:36.969390Z",
     "iopub.status.idle": "2022-10-20T17:57:37.375135Z",
     "shell.execute_reply": "2022-10-20T17:57:37.374173Z"
    },
    "papermill": {
     "duration": 0.475035,
     "end_time": "2022-10-20T17:57:37.377792",
     "exception": false,
     "start_time": "2022-10-20T17:57:36.902757",
     "status": "completed"
    },
    "tags": []
   },
   "outputs": [],
   "source": [
    "error_rate = []\n",
    "for i in range(1,40):\n",
    "    knn = KNeighborsClassifier(n_neighbors = i)\n",
    "    knn.fit(X_train1, y_train1)\n",
    "    pred_i = knn.predict(X_test1)\n",
    "    error_rate.append(np.mean(pred_i != y_test1))"
   ]
  },
  {
   "cell_type": "code",
   "execution_count": 130,
   "id": "5fdc94ba",
   "metadata": {
    "execution": {
     "iopub.execute_input": "2022-10-20T17:57:37.509998Z",
     "iopub.status.busy": "2022-10-20T17:57:37.509163Z",
     "iopub.status.idle": "2022-10-20T17:57:37.768354Z",
     "shell.execute_reply": "2022-10-20T17:57:37.766818Z"
    },
    "papermill": {
     "duration": 0.327981,
     "end_time": "2022-10-20T17:57:37.770877",
     "exception": false,
     "start_time": "2022-10-20T17:57:37.442896",
     "status": "completed"
    },
    "tags": []
   },
   "outputs": [
    {
     "name": "stdout",
     "output_type": "stream",
     "text": [
      "Minimum error:- 0.33098591549295775 at K = 22\n"
     ]
    },
    {
     "data": {
      "image/png": "[encoded data removed]",
      "text/plain": [
       "<Figure size 720x432 with 1 Axes>"
      ]
     },
     "metadata": {},
     "output_type": "display_data"
    }
   ],
   "source": [
    "plt.figure(figsize=(10,6))\n",
    "plt.plot(range(1,40),error_rate, color='blue', linestyle='dashed', \n",
    "         marker='o', markerfacecolor='red', markersize=10)\n",
    "plt.title('Error Rate vs. K Value')\n",
    "plt.xlabel('K')\n",
    "plt.ylabel('Error Rate')\n",
    "print(\"Minimum error:-\",min(error_rate),\"at K =\",error_rate.index(min(error_rate)))"
   ]
  },
  {
   "cell_type": "code",
   "execution_count": 131,
   "id": "56b1ec79",
   "metadata": {
    "execution": {
     "iopub.execute_input": "2022-10-20T17:57:37.906496Z",
     "iopub.status.busy": "2022-10-20T17:57:37.906039Z",
     "iopub.status.idle": "2022-10-20T17:57:37.968635Z",
     "shell.execute_reply": "2022-10-20T17:57:37.967443Z"
    },
    "papermill": {
     "duration": 0.133693,
     "end_time": "2022-10-20T17:57:37.971184",
     "exception": false,
     "start_time": "2022-10-20T17:57:37.837491",
     "status": "completed"
    },
    "tags": []
   },
   "outputs": [
    {
     "data": {
      "text/plain": [
       "83.36"
      ]
     },
     "execution_count": 131,
     "metadata": {},
     "output_type": "execute_result"
    }
   ],
   "source": [
    "knn = KNeighborsClassifier(n_neighbors = 6)\n",
    "steps = [('scaler', RobustScaler()), ('knn', knn)]\n",
    "pipeline = Pipeline(steps)\n",
    "pipeline.fit(X_tr1, y_tr1)\n",
    "Y_pred = pipeline.predict(X_ts1)\n",
    "acc_knn = round(pipeline.score(X_tr1, y_tr1) * 100, 2)\n",
    "acc_knn"
   ]
  },
  {
   "cell_type": "markdown",
   "id": "8753ffb6",
   "metadata": {
    "papermill": {
     "duration": 0.066042,
     "end_time": "2022-10-20T17:57:38.104062",
     "exception": false,
     "start_time": "2022-10-20T17:57:38.038020",
     "status": "completed"
    },
    "tags": []
   },
   "source": [
    "### 3.1.6 Stochastic Gradient Descent <a class=\"anchor\" id=\"sgd\"></a>"
   ]
  },
  {
   "cell_type": "code",
   "execution_count": 132,
   "id": "f6dee8ce",
   "metadata": {
    "execution": {
     "iopub.execute_input": "2022-10-20T17:57:38.238305Z",
     "iopub.status.busy": "2022-10-20T17:57:38.237851Z",
     "iopub.status.idle": "2022-10-20T17:57:38.243223Z",
     "shell.execute_reply": "2022-10-20T17:57:38.242219Z"
    },
    "papermill": {
     "duration": 0.07556,
     "end_time": "2022-10-20T17:57:38.245513",
     "exception": false,
     "start_time": "2022-10-20T17:57:38.169953",
     "status": "completed"
    },
    "tags": []
   },
   "outputs": [],
   "source": [
    "param_grid = { \n",
    "    'sgd__penalty': ['l2', 'l1', 'elasticnet'],\n",
    "    'sgd__loss': ['hinge', 'log_loss', 'log', 'modified_huber', 'squared_hinge'],\n",
    "    'sgd__alpha' :[1e-2, 1e-3, 1e-4, 1e-5],\n",
    "    'sgd__l1_ratio': [0.15, 0.2, 0.3]\n",
    "}"
   ]
  },
  {
   "cell_type": "code",
   "execution_count": 133,
   "id": "48e25e5f",
   "metadata": {
    "execution": {
     "iopub.execute_input": "2022-10-20T17:57:38.383686Z",
     "iopub.status.busy": "2022-10-20T17:57:38.382602Z",
     "iopub.status.idle": "2022-10-20T17:57:52.464586Z",
     "shell.execute_reply": "2022-10-20T17:57:52.463068Z"
    },
    "papermill": {
     "duration": 14.154798,
     "end_time": "2022-10-20T17:57:52.467321",
     "exception": false,
     "start_time": "2022-10-20T17:57:38.312523",
     "status": "completed"
    },
    "tags": []
   },
   "outputs": [
    {
     "data": {
      "text/plain": [
       "{'sgd__alpha': 0.01,\n",
       " 'sgd__l1_ratio': 0.2,\n",
       " 'sgd__loss': 'modified_huber',\n",
       " 'sgd__penalty': 'elasticnet'}"
      ]
     },
     "execution_count": 133,
     "metadata": {},
     "output_type": "execute_result"
    }
   ],
   "source": [
    "sgd = SGDClassifier(random_state = 0)\n",
    "steps = [('scaler', RobustScaler()), ('sgd', sgd)]\n",
    "pipeline = Pipeline(steps)\n",
    "CV_sgd = GridSearchCV(estimator = pipeline, param_grid = param_grid, cv = 5)\n",
    "CV_sgd.fit(X_tr1, y_tr1)\n",
    "CV_sgd.best_params_"
   ]
  },
  {
   "cell_type": "code",
   "execution_count": 134,
   "id": "68725713",
   "metadata": {
    "execution": {
     "iopub.execute_input": "2022-10-20T17:57:52.600959Z",
     "iopub.status.busy": "2022-10-20T17:57:52.600485Z",
     "iopub.status.idle": "2022-10-20T17:57:52.631094Z",
     "shell.execute_reply": "2022-10-20T17:57:52.629686Z"
    },
    "papermill": {
     "duration": 0.101199,
     "end_time": "2022-10-20T17:57:52.634383",
     "exception": false,
     "start_time": "2022-10-20T17:57:52.533184",
     "status": "completed"
    },
    "tags": []
   },
   "outputs": [
    {
     "data": {
      "text/plain": [
       "79.69"
      ]
     },
     "execution_count": 134,
     "metadata": {},
     "output_type": "execute_result"
    }
   ],
   "source": [
    "sgd1 = SGDClassifier(alpha = 0.01, l1_ratio = 0.15, loss = 'modified_huber', penalty = 'l1', random_state = 0)\n",
    "steps = [('scaler', RobustScaler()), ('sgd', sgd1)]\n",
    "pipeline = Pipeline(steps)\n",
    "pipeline.fit(X_tr1, y_tr1)\n",
    "Y_pred = pipeline.predict(X_ts1)\n",
    "acc_sgd = round(pipeline.score(X_tr1, y_tr1) * 100, 2)\n",
    "acc_sgd"
   ]
  },
  {
   "cell_type": "markdown",
   "id": "78e91648",
   "metadata": {
    "papermill": {
     "duration": 0.067478,
     "end_time": "2022-10-20T17:57:52.789072",
     "exception": false,
     "start_time": "2022-10-20T17:57:52.721594",
     "status": "completed"
    },
    "tags": []
   },
   "source": [
    "### 3.1.7 Decision Tree <a class=\"anchor\" id=\"dectree\"></a>"
   ]
  },
  {
   "cell_type": "code",
   "execution_count": 135,
   "id": "c6773ada",
   "metadata": {
    "execution": {
     "iopub.execute_input": "2022-10-20T17:57:52.924009Z",
     "iopub.status.busy": "2022-10-20T17:57:52.923588Z",
     "iopub.status.idle": "2022-10-20T17:57:52.928860Z",
     "shell.execute_reply": "2022-10-20T17:57:52.927585Z"
    },
    "papermill": {
     "duration": 0.075582,
     "end_time": "2022-10-20T17:57:52.931129",
     "exception": false,
     "start_time": "2022-10-20T17:57:52.855547",
     "status": "completed"
    },
    "tags": []
   },
   "outputs": [],
   "source": [
    "param_grid = { \n",
    "    'dt__criterion': ['gini', 'entropy', 'log_loss'],\n",
    "    'dt__splitter' : ['best', 'random']\n",
    "}"
   ]
  },
  {
   "cell_type": "code",
   "execution_count": 136,
   "id": "32c0338b",
   "metadata": {
    "execution": {
     "iopub.execute_input": "2022-10-20T17:57:53.068512Z",
     "iopub.status.busy": "2022-10-20T17:57:53.068094Z",
     "iopub.status.idle": "2022-10-20T17:57:53.428314Z",
     "shell.execute_reply": "2022-10-20T17:57:53.427095Z"
    },
    "papermill": {
     "duration": 0.431874,
     "end_time": "2022-10-20T17:57:53.430981",
     "exception": false,
     "start_time": "2022-10-20T17:57:52.999107",
     "status": "completed"
    },
    "tags": []
   },
   "outputs": [
    {
     "data": {
      "text/plain": [
       "{'dt__criterion': 'entropy', 'dt__splitter': 'best'}"
      ]
     },
     "execution_count": 136,
     "metadata": {},
     "output_type": "execute_result"
    }
   ],
   "source": [
    "dt = DecisionTreeClassifier(random_state = 0)\n",
    "steps = [('scaler', RobustScaler()), ('dt', dt)]\n",
    "pipeline = Pipeline(steps)\n",
    "CV_dt = GridSearchCV(estimator = pipeline, param_grid = param_grid, cv = 5)\n",
    "CV_dt.fit(X_tr1, y_tr1)\n",
    "CV_dt.best_params_"
   ]
  },
  {
   "cell_type": "code",
   "execution_count": 137,
   "id": "28bf0fb3",
   "metadata": {
    "execution": {
     "iopub.execute_input": "2022-10-20T17:57:53.566074Z",
     "iopub.status.busy": "2022-10-20T17:57:53.565648Z",
     "iopub.status.idle": "2022-10-20T17:57:53.590931Z",
     "shell.execute_reply": "2022-10-20T17:57:53.589756Z"
    },
    "papermill": {
     "duration": 0.09566,
     "end_time": "2022-10-20T17:57:53.593310",
     "exception": false,
     "start_time": "2022-10-20T17:57:53.497650",
     "status": "completed"
    },
    "tags": []
   },
   "outputs": [
    {
     "data": {
      "text/plain": [
       "99.44"
      ]
     },
     "execution_count": 137,
     "metadata": {},
     "output_type": "execute_result"
    }
   ],
   "source": [
    "dt1 = DecisionTreeClassifier(criterion = 'entropy', splitter = 'best')\n",
    "steps = [('scaler', RobustScaler()), ('dt', dt1)]\n",
    "pipeline = Pipeline(steps)\n",
    "pipeline.fit(X_tr1, y_tr1)\n",
    "Y_pred = pipeline.predict(X_ts1)\n",
    "acc_dt = round(pipeline.score(X_tr1, y_tr1) * 100, 2)\n",
    "acc_dt"
   ]
  },
  {
   "cell_type": "markdown",
   "id": "f15ad01e",
   "metadata": {
    "papermill": {
     "duration": 0.066939,
     "end_time": "2022-10-20T17:57:53.726801",
     "exception": false,
     "start_time": "2022-10-20T17:57:53.659862",
     "status": "completed"
    },
    "tags": []
   },
   "source": [
    "### 3.2.8 Gaussian Naive Bayes <a class=\"anchor\" id=\"nb\"></a>"
   ]
  },
  {
   "cell_type": "code",
   "execution_count": 138,
   "id": "05fc8314",
   "metadata": {
    "execution": {
     "iopub.execute_input": "2022-10-20T17:57:53.862794Z",
     "iopub.status.busy": "2022-10-20T17:57:53.862068Z",
     "iopub.status.idle": "2022-10-20T17:57:53.866901Z",
     "shell.execute_reply": "2022-10-20T17:57:53.865781Z"
    },
    "papermill": {
     "duration": 0.076211,
     "end_time": "2022-10-20T17:57:53.869963",
     "exception": false,
     "start_time": "2022-10-20T17:57:53.793752",
     "status": "completed"
    },
    "tags": []
   },
   "outputs": [],
   "source": [
    "param_grid = { \n",
    "    'nb__var_smoothing': [1e-7, 1e-8, 1e-9]\n",
    "}"
   ]
  },
  {
   "cell_type": "code",
   "execution_count": 139,
   "id": "deb0a2cf",
   "metadata": {
    "execution": {
     "iopub.execute_input": "2022-10-20T17:57:54.004227Z",
     "iopub.status.busy": "2022-10-20T17:57:54.003820Z",
     "iopub.status.idle": "2022-10-20T17:57:54.184897Z",
     "shell.execute_reply": "2022-10-20T17:57:54.183593Z"
    },
    "papermill": {
     "duration": 0.250938,
     "end_time": "2022-10-20T17:57:54.187737",
     "exception": false,
     "start_time": "2022-10-20T17:57:53.936799",
     "status": "completed"
    },
    "tags": []
   },
   "outputs": [
    {
     "data": {
      "text/plain": [
       "{'nb__var_smoothing': 1e-07}"
      ]
     },
     "execution_count": 139,
     "metadata": {},
     "output_type": "execute_result"
    }
   ],
   "source": [
    "nb = GaussianNB()\n",
    "steps = [('scaler', RobustScaler()), ('nb', nb)]\n",
    "pipeline = Pipeline(steps)\n",
    "CV_nb = GridSearchCV(estimator = pipeline, param_grid = param_grid, cv = 5)\n",
    "CV_nb.fit(X_tr1, y_tr1)\n",
    "CV_nb.best_params_"
   ]
  },
  {
   "cell_type": "code",
   "execution_count": 140,
   "id": "45182613",
   "metadata": {
    "execution": {
     "iopub.execute_input": "2022-10-20T17:57:54.322274Z",
     "iopub.status.busy": "2022-10-20T17:57:54.321600Z",
     "iopub.status.idle": "2022-10-20T17:57:54.343571Z",
     "shell.execute_reply": "2022-10-20T17:57:54.342417Z"
    },
    "papermill": {
     "duration": 0.091745,
     "end_time": "2022-10-20T17:57:54.345882",
     "exception": false,
     "start_time": "2022-10-20T17:57:54.254137",
     "status": "completed"
    },
    "tags": []
   },
   "outputs": [
    {
     "data": {
      "text/plain": [
       "78.42"
      ]
     },
     "execution_count": 140,
     "metadata": {},
     "output_type": "execute_result"
    }
   ],
   "source": [
    "gaussian = GaussianNB(var_smoothing = 1e-07)\n",
    "steps = [('scaler', RobustScaler()), ('gaussian', gaussian)]\n",
    "pipeline = Pipeline(steps)\n",
    "pipeline.fit(X_tr1, y_tr1)\n",
    "Y_pred = pipeline.predict(X_ts1)\n",
    "acc_gaussian = round(pipeline.score(X_tr1, y_tr1) * 100, 2)\n",
    "acc_gaussian"
   ]
  },
  {
   "cell_type": "markdown",
   "id": "1df4cf9c",
   "metadata": {
    "papermill": {
     "duration": 0.065931,
     "end_time": "2022-10-20T17:57:54.477559",
     "exception": false,
     "start_time": "2022-10-20T17:57:54.411628",
     "status": "completed"
    },
    "tags": []
   },
   "source": [
    "### 3.1.9 Logistic Regression <a class=\"anchor\" id=\"lr\"></a>"
   ]
  },
  {
   "cell_type": "code",
   "execution_count": 141,
   "id": "182590c6",
   "metadata": {
    "execution": {
     "iopub.execute_input": "2022-10-20T17:57:54.611719Z",
     "iopub.status.busy": "2022-10-20T17:57:54.610950Z",
     "iopub.status.idle": "2022-10-20T17:57:54.616276Z",
     "shell.execute_reply": "2022-10-20T17:57:54.615465Z"
    },
    "papermill": {
     "duration": 0.075183,
     "end_time": "2022-10-20T17:57:54.618471",
     "exception": false,
     "start_time": "2022-10-20T17:57:54.543288",
     "status": "completed"
    },
    "tags": []
   },
   "outputs": [],
   "source": [
    "param_grid = { \n",
    "    'lr__penalty': ['l1', 'l2', 'elasticnet', 'none'],\n",
    "    'lr__tol': [1e-3, 1e-4, 1e-5]\n",
    "}"
   ]
  },
  {
   "cell_type": "code",
   "execution_count": 142,
   "id": "00dd45ec",
   "metadata": {
    "execution": {
     "iopub.execute_input": "2022-10-20T17:57:54.755549Z",
     "iopub.status.busy": "2022-10-20T17:57:54.754873Z",
     "iopub.status.idle": "2022-10-20T17:57:55.499834Z",
     "shell.execute_reply": "2022-10-20T17:57:55.498622Z"
    },
    "papermill": {
     "duration": 0.816338,
     "end_time": "2022-10-20T17:57:55.502325",
     "exception": false,
     "start_time": "2022-10-20T17:57:54.685987",
     "status": "completed"
    },
    "tags": []
   },
   "outputs": [
    {
     "data": {
      "text/plain": [
       "{'lr__penalty': 'l2', 'lr__tol': 0.001}"
      ]
     },
     "execution_count": 142,
     "metadata": {},
     "output_type": "execute_result"
    }
   ],
   "source": [
    "lr = LogisticRegression()\n",
    "steps = [('scaler', RobustScaler()), ('lr', lr)]\n",
    "pipeline = Pipeline(steps)\n",
    "CV_lr = GridSearchCV(estimator = pipeline, param_grid = param_grid, cv = 5)\n",
    "CV_lr.fit(X_tr1, y_tr1)\n",
    "CV_lr.best_params_"
   ]
  },
  {
   "cell_type": "code",
   "execution_count": 143,
   "id": "cfe8731d",
   "metadata": {
    "execution": {
     "iopub.execute_input": "2022-10-20T17:57:55.637657Z",
     "iopub.status.busy": "2022-10-20T17:57:55.636957Z",
     "iopub.status.idle": "2022-10-20T17:57:55.665278Z",
     "shell.execute_reply": "2022-10-20T17:57:55.664013Z"
    },
    "papermill": {
     "duration": 0.098995,
     "end_time": "2022-10-20T17:57:55.667789",
     "exception": false,
     "start_time": "2022-10-20T17:57:55.568794",
     "status": "completed"
    },
    "tags": []
   },
   "outputs": [
    {
     "data": {
      "text/plain": [
       "80.39"
      ]
     },
     "execution_count": 143,
     "metadata": {},
     "output_type": "execute_result"
    }
   ],
   "source": [
    "lr1 = LogisticRegression(penalty = 'none', tol = 0.001, random_state = 0)\n",
    "steps = [('scaler', RobustScaler()), ('lr1', lr1)]\n",
    "pipeline = Pipeline(steps)\n",
    "pipeline.fit(X_tr1, y_tr1)\n",
    "Y_pred = pipeline.predict(X_ts1)\n",
    "acc_lr = round(pipeline.score(X_tr1, y_tr1) * 100, 2)\n",
    "acc_lr"
   ]
  },
  {
   "cell_type": "markdown",
   "id": "a8b09b56",
   "metadata": {
    "papermill": {
     "duration": 0.066091,
     "end_time": "2022-10-20T17:57:55.800477",
     "exception": false,
     "start_time": "2022-10-20T17:57:55.734386",
     "status": "completed"
    },
    "tags": []
   },
   "source": [
    "### 3.1.10 Ensemble <a class=\"anchor\" id=\"ens\"></a>"
   ]
  },
  {
   "cell_type": "code",
   "execution_count": 144,
   "id": "4b6dee14",
   "metadata": {
    "execution": {
     "iopub.execute_input": "2022-10-20T17:57:55.993824Z",
     "iopub.status.busy": "2022-10-20T17:57:55.992982Z",
     "iopub.status.idle": "2022-10-20T17:57:57.797398Z",
     "shell.execute_reply": "2022-10-20T17:57:57.795829Z"
    },
    "papermill": {
     "duration": 1.932576,
     "end_time": "2022-10-20T17:57:57.800319",
     "exception": false,
     "start_time": "2022-10-20T17:57:55.867743",
     "status": "completed"
    },
    "tags": []
   },
   "outputs": [
    {
     "data": {
      "text/plain": [
       "Pipeline(steps=[('scaler', RobustScaler()),\n",
       "                ('voter',\n",
       "                 VotingClassifier(estimators=[('lr1',\n",
       "                                               LogisticRegression(penalty='none',\n",
       "                                                                  random_state=0,\n",
       "                                                                  tol=0.001)),\n",
       "                                              ('dt1',\n",
       "                                               DecisionTreeClassifier(criterion='entropy')),\n",
       "                                              ('sgd1',\n",
       "                                               SGDClassifier(alpha=0.01,\n",
       "                                                             loss='modified_huber',\n",
       "                                                             penalty='l1',\n",
       "                                                             random_state=0)),\n",
       "                                              ('knn',\n",
       "                                               KNeighborsClassifier(n_neighbors=6)),\n",
       "                                              ('rfc1',\n",
       "                                               RandomForestClassifier(max_depth=6,\n",
       "                                                                      n_estimators=300,\n",
       "                                                                      random_state=0))],\n",
       "                                  n_jobs=4, voting='soft'))])"
      ]
     },
     "execution_count": 144,
     "metadata": {},
     "output_type": "execute_result"
    }
   ],
   "source": [
    "from sklearn.ensemble import VotingClassifier\n",
    "voter = VotingClassifier(estimators=[('lr1', lr1), ('dt1', dt1),\n",
    "('sgd1', sgd1), ('knn', knn),('rfc1', rfc1)], voting = 'soft', n_jobs = 4)\n",
    "steps = [('scaler', RobustScaler()), ('voter', voter)]\n",
    "pipeline = Pipeline(steps)\n",
    "pipeline.fit(X_tr1, y_tr1)"
   ]
  },
  {
   "cell_type": "code",
   "execution_count": 145,
   "id": "e0f2b2d6",
   "metadata": {
    "execution": {
     "iopub.execute_input": "2022-10-20T17:57:57.945312Z",
     "iopub.status.busy": "2022-10-20T17:57:57.944642Z",
     "iopub.status.idle": "2022-10-20T17:57:58.022994Z",
     "shell.execute_reply": "2022-10-20T17:57:58.021625Z"
    },
    "papermill": {
     "duration": 0.157122,
     "end_time": "2022-10-20T17:57:58.025724",
     "exception": false,
     "start_time": "2022-10-20T17:57:57.868602",
     "status": "completed"
    },
    "tags": []
   },
   "outputs": [
    {
     "data": {
      "text/plain": [
       "92.1"
      ]
     },
     "execution_count": 145,
     "metadata": {},
     "output_type": "execute_result"
    }
   ],
   "source": [
    "acc_vt = round(pipeline.score(X_tr1, y_tr1) * 100, 2)\n",
    "acc_vt"
   ]
  },
  {
   "cell_type": "code",
   "execution_count": 146,
   "id": "511ae9cf",
   "metadata": {
    "execution": {
     "iopub.execute_input": "2022-10-20T17:57:58.163225Z",
     "iopub.status.busy": "2022-10-20T17:57:58.162776Z",
     "iopub.status.idle": "2022-10-20T17:57:58.224088Z",
     "shell.execute_reply": "2022-10-20T17:57:58.222906Z"
    },
    "papermill": {
     "duration": 0.132275,
     "end_time": "2022-10-20T17:57:58.227053",
     "exception": false,
     "start_time": "2022-10-20T17:57:58.094778",
     "status": "completed"
    },
    "tags": []
   },
   "outputs": [],
   "source": [
    "y_pred = pipeline.predict(X_ts1)"
   ]
  },
  {
   "cell_type": "code",
   "execution_count": 147,
   "id": "ea839ca6",
   "metadata": {
    "execution": {
     "iopub.execute_input": "2022-10-20T17:57:58.364185Z",
     "iopub.status.busy": "2022-10-20T17:57:58.363728Z",
     "iopub.status.idle": "2022-10-20T17:57:58.375253Z",
     "shell.execute_reply": "2022-10-20T17:57:58.374047Z"
    },
    "papermill": {
     "duration": 0.084328,
     "end_time": "2022-10-20T17:57:58.378122",
     "exception": false,
     "start_time": "2022-10-20T17:57:58.293794",
     "status": "completed"
    },
    "tags": []
   },
   "outputs": [],
   "source": [
    "import csv\n",
    "\n",
    "df = pd.DataFrame(\n",
    "    {'PassengerId': test_id_col,\n",
    "     'Survived': y_pred,\n",
    "    })\n",
    "\n",
    "df.to_csv('dt.csv', index = False)"
   ]
  }
 ],
 "metadata": {
  "kernelspec": {
   "display_name": "Python 3",
   "language": "python",
   "name": "python3"
  },
  "language_info": {
   "codemirror_mode": {
    "name": "ipython",
    "version": 3
   },
   "file_extension": ".py",
   "mimetype": "text/x-python",
   "name": "python",
   "nbconvert_exporter": "python",
   "pygments_lexer": "ipython3",
   "version": "3.8.8"
  },
  "papermill": {
   "default_parameters": {},
   "duration": 138.345419,
   "end_time": "2022-10-20T17:58:01.069465",
   "environment_variables": {},
   "exception": null,
   "input_path": "__notebook__.ipynb",
   "output_path": "__notebook__.ipynb",
   "parameters": {},
   "start_time": "2022-10-20T17:55:42.724046",
   "version": "2.3.4"
  }
 },
 "nbformat": 4,
 "nbformat_minor": 5
}
