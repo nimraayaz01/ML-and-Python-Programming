{
 "cells": [
  {
   "cell_type": "code",
   "execution_count": 1,
   "id": "cc8f0109",
   "metadata": {},
   "outputs": [],
   "source": [
    "#Introduction to Pandas\n",
    "import pandas as pd"
   ]
  },
  {
   "cell_type": "markdown",
   "id": "43ec6695",
   "metadata": {},
   "source": [
    "# Creating Series Data\n",
    "- A series can be created using various inputs like \n",
    "- Array\n",
    "- Dict\n",
    "- Scalar value or constant"
   ]
  },
  {
   "cell_type": "markdown",
   "id": "9d27060d",
   "metadata": {},
   "source": [
    "##### Example: A basic series, which can be created is an Empty Series"
   ]
  },
  {
   "cell_type": "code",
   "execution_count": 3,
   "id": "64522f64",
   "metadata": {},
   "outputs": [
    {
     "name": "stdout",
     "output_type": "stream",
     "text": [
      "Series([], dtype: float64)\n"
     ]
    },
    {
     "name": "stderr",
     "output_type": "stream",
     "text": [
      "<ipython-input-3-c7918edc7229>:1: DeprecationWarning: The default dtype for empty Series will be 'object' instead of 'float64' in a future version. Specify a dtype explicitly to silence this warning.\n",
      "  s = pd.Series()\n"
     ]
    }
   ],
   "source": [
    "s = pd.Series()\n",
    "print(s)"
   ]
  },
  {
   "cell_type": "markdown",
   "id": "777040f1",
   "metadata": {},
   "source": [
    "# Create a Series from ndarray\n",
    "- If data is an ndarray, then index passed must be of the same length. \n",
    "- If no index is passed, then by default index will be range(n) where n is array length, i.e., [0,1,2,3…. range(len(array))-1]"
   ]
  },
  {
   "cell_type": "code",
   "execution_count": 19,
   "id": "876fba35",
   "metadata": {},
   "outputs": [],
   "source": [
    "import numpy as np"
   ]
  },
  {
   "cell_type": "code",
   "execution_count": 10,
   "id": "240b3220",
   "metadata": {},
   "outputs": [
    {
     "name": "stdout",
     "output_type": "stream",
     "text": [
      "0    a\n",
      "1    b\n",
      "2    c\n",
      "3    d\n",
      "dtype: object\n"
     ]
    }
   ],
   "source": [
    "data1 = np.array(['a','b','c','d'])\n",
    "s1 = pd.Series(data1)\n",
    "print(s1) "
   ]
  },
  {
   "cell_type": "markdown",
   "id": "3fc8e3c0",
   "metadata": {},
   "source": [
    "##### Example: Create a pandas series with indexes from 100 to 103 containing data [a,b,c,d] using pandas.Series()"
   ]
  },
  {
   "cell_type": "code",
   "execution_count": 9,
   "id": "b266ff51",
   "metadata": {},
   "outputs": [
    {
     "name": "stdout",
     "output_type": "stream",
     "text": [
      "100    a\n",
      "101    b\n",
      "102    c\n",
      "103    d\n",
      "dtype: object\n"
     ]
    }
   ],
   "source": [
    "data2 = np.array(['a','b','c','d'])\n",
    "s2 = pd.Series(data2,index=[100,101,102,103])\n",
    "print(s2)"
   ]
  },
  {
   "cell_type": "markdown",
   "id": "f4bd9748",
   "metadata": {},
   "source": [
    "# Create a Series from dict\n",
    "- A dict can be passed as input and if no index is specified, then the dictionary keys are taken in a sorted order to construct index\n",
    "- If index is passed, the values in data corresponding to the labels in the index will be pulled out"
   ]
  },
  {
   "cell_type": "code",
   "execution_count": 11,
   "id": "ec84b411",
   "metadata": {},
   "outputs": [
    {
     "name": "stdout",
     "output_type": "stream",
     "text": [
      "a    0.0\n",
      "b    1.0\n",
      "c    2.0\n",
      "dtype: float64\n"
     ]
    }
   ],
   "source": [
    "data3 = {'a' : 0., 'b' : 1., 'c' : 2.}\n",
    "s3 = pd.Series(data3)\n",
    "print(s3)"
   ]
  },
  {
   "cell_type": "markdown",
   "id": "c1098811",
   "metadata": {},
   "source": [
    "##### Index order is persisted and the missing element is filled with NaN (Not a Number)"
   ]
  },
  {
   "cell_type": "code",
   "execution_count": 12,
   "id": "9f021ef4",
   "metadata": {},
   "outputs": [
    {
     "name": "stdout",
     "output_type": "stream",
     "text": [
      "b    1.0\n",
      "c    2.0\n",
      "d    NaN\n",
      "a    0.0\n",
      "dtype: float64\n"
     ]
    }
   ],
   "source": [
    "data4 = {'a' : 0., 'b' : 1., 'c' : 2.}\n",
    "s4 = pd.Series(data4,index=['b','c','d','a'])\n",
    "print(s4)"
   ]
  },
  {
   "cell_type": "markdown",
   "id": "8381f365",
   "metadata": {},
   "source": [
    "# Create a Series from scalar\n",
    "- If data is a scalar value, an index must be provided. The value will be repeated to match the length of index"
   ]
  },
  {
   "cell_type": "code",
   "execution_count": 17,
   "id": "328bc146",
   "metadata": {},
   "outputs": [
    {
     "name": "stdout",
     "output_type": "stream",
     "text": [
      "0    6\n",
      "1    6\n",
      "2    6\n",
      "3    6\n",
      "dtype: int64\n"
     ]
    }
   ],
   "source": [
    "s5 = pd.Series(6, index=[0, 1, 2, 3])\n",
    "print(s5)"
   ]
  },
  {
   "cell_type": "markdown",
   "id": "31bba7e2",
   "metadata": {},
   "source": [
    "# Accessing Data from Series with Position\n",
    "- Data in the series can be accessed similar to that in an ndarray"
   ]
  },
  {
   "cell_type": "markdown",
   "id": "0c0ab7b9",
   "metadata": {},
   "source": [
    "##### Example : Retrieve the first 3 element from a series"
   ]
  },
  {
   "cell_type": "code",
   "execution_count": 19,
   "id": "036737c9",
   "metadata": {},
   "outputs": [
    {
     "name": "stdout",
     "output_type": "stream",
     "text": [
      "a    1\n",
      "b    2\n",
      "c    3\n",
      "dtype: int64\n"
     ]
    }
   ],
   "source": [
    "s6 = pd.Series([1,2,3,4,5],index = ['a','b','c','d','e'])\n",
    "#retrieve the first 3 elements\n",
    "print (s6[:3])"
   ]
  },
  {
   "cell_type": "markdown",
   "id": "ce7bb956",
   "metadata": {},
   "source": [
    "##### Exercise: Retrieve the last three elements"
   ]
  },
  {
   "cell_type": "code",
   "execution_count": 26,
   "id": "846e817b",
   "metadata": {},
   "outputs": [
    {
     "name": "stdout",
     "output_type": "stream",
     "text": [
      "c    3\n",
      "d    4\n",
      "e    5\n",
      "dtype: int64\n"
     ]
    }
   ],
   "source": [
    "s7 = pd.Series([1,2,3,4,5],index = ['a','b','c','d','e'])\n",
    "#retrieve the last three elements\n",
    "print( s7[-3:])"
   ]
  },
  {
   "cell_type": "markdown",
   "id": "56bbb10c",
   "metadata": {},
   "source": [
    "# Accessing Data from Series \n",
    "- Retrieve Data Using Label (Index)\n",
    "- A Series is like a fixed-size dict in that you can get and set values by index label"
   ]
  },
  {
   "cell_type": "markdown",
   "id": "ecf3c5b0",
   "metadata": {},
   "source": [
    "##### Example :Retrieve a single element using index label value"
   ]
  },
  {
   "cell_type": "code",
   "execution_count": 21,
   "id": "659e1453",
   "metadata": {},
   "outputs": [
    {
     "name": "stdout",
     "output_type": "stream",
     "text": [
      "1\n"
     ]
    }
   ],
   "source": [
    "s8 = pd.Series([1,2,3,4,5],index = ['a','b','c','d','e'])\n",
    "#retrieve a single element\n",
    "print( s8['a'])"
   ]
  },
  {
   "cell_type": "markdown",
   "id": "4acaa62d",
   "metadata": {},
   "source": [
    "##### Example :Retrieve multiple elements using a list of index label values"
   ]
  },
  {
   "cell_type": "code",
   "execution_count": 22,
   "id": "116dfea0",
   "metadata": {},
   "outputs": [
    {
     "name": "stdout",
     "output_type": "stream",
     "text": [
      "a    1\n",
      "c    3\n",
      "d    4\n",
      "dtype: int64\n"
     ]
    }
   ],
   "source": [
    "s9 = pd.Series([1,2,3,4,5],index = ['a','b','c','d','e'])\n",
    "#retrieve multiple elements\n",
    "print( s9[['a','c','d']])"
   ]
  },
  {
   "cell_type": "markdown",
   "id": "f137fa28",
   "metadata": {},
   "source": [
    "# Create an Empty DataFrame\n",
    "- A basic DataFrame, which can be created is an Empty Dataframe"
   ]
  },
  {
   "cell_type": "code",
   "execution_count": 24,
   "id": "338d9d1d",
   "metadata": {},
   "outputs": [
    {
     "name": "stdout",
     "output_type": "stream",
     "text": [
      "Empty DataFrame\n",
      "Columns: []\n",
      "Index: []\n"
     ]
    }
   ],
   "source": [
    "df1 = pd.DataFrame()\n",
    "print( df1)"
   ]
  },
  {
   "cell_type": "markdown",
   "id": "2b26924e",
   "metadata": {},
   "source": [
    "#### Example: Creating DataFrame from Lists"
   ]
  },
  {
   "cell_type": "code",
   "execution_count": 25,
   "id": "cd154218",
   "metadata": {},
   "outputs": [
    {
     "name": "stdout",
     "output_type": "stream",
     "text": [
      "     Name  Age\n",
      "0    Alex   10\n",
      "1     Bob   12\n",
      "2  Clarke   13\n"
     ]
    }
   ],
   "source": [
    "data5 = [['Alex',10],['Bob',12],['Clarke',13]]\n",
    "df2 = pd.DataFrame(data5,columns=['Name','Age'])\n",
    "print (df2)"
   ]
  },
  {
   "cell_type": "markdown",
   "id": "b209277e",
   "metadata": {},
   "source": [
    "##### Example : Change the datatype of age to the float"
   ]
  },
  {
   "cell_type": "code",
   "execution_count": 27,
   "id": "c4259582",
   "metadata": {},
   "outputs": [
    {
     "name": "stdout",
     "output_type": "stream",
     "text": [
      "     Name   Age\n",
      "0    Alex  10.0\n",
      "1     Bob  12.0\n",
      "2  Clarke  13.0\n"
     ]
    }
   ],
   "source": [
    "data6 = [['Alex',10],['Bob',12],['Clarke',13]]\n",
    "df3 = pd.DataFrame(data6,columns=['Name','Age'],dtype=float)\n",
    "print( df3) "
   ]
  },
  {
   "cell_type": "markdown",
   "id": "f4a0f98b",
   "metadata": {},
   "source": [
    "# Creating DataFrame from Dict of ndarrays / Lists\n",
    "- All the ndarrays must be of same length.\n",
    "- If index is passed, then the length of the index should equal to the length of the arrays\n",
    "- If no index is passed, then by default, index will be range(n), where n is the array length"
   ]
  },
  {
   "cell_type": "code",
   "execution_count": 28,
   "id": "023f4830",
   "metadata": {},
   "outputs": [
    {
     "name": "stdout",
     "output_type": "stream",
     "text": [
      "    Name  Age\n",
      "0    Tom   28\n",
      "1   Jack   34\n",
      "2  Steve   29\n",
      "3  Ricky   42\n"
     ]
    }
   ],
   "source": [
    "data7 = {'Name':['Tom', 'Jack', 'Steve', 'Ricky'],'Age':[28,34,29,42]}\n",
    "df4 = pd.DataFrame(data7)\n",
    "print (df4)"
   ]
  },
  {
   "cell_type": "markdown",
   "id": "7662dd22",
   "metadata": {},
   "source": [
    "##### Example: Creating an indexed DataFrame from Dict of ndarrays / Lists"
   ]
  },
  {
   "cell_type": "code",
   "execution_count": 30,
   "id": "f1efc8f5",
   "metadata": {},
   "outputs": [
    {
     "name": "stdout",
     "output_type": "stream",
     "text": [
      "        Name  Age\n",
      "rank1    Tom   28\n",
      "rank2   Jack   34\n",
      "rank3  Steve   29\n",
      "rank4  Ricky   42\n"
     ]
    }
   ],
   "source": [
    "data8 = {'Name':['Tom', 'Jack', 'Steve', 'Ricky'],'Age':[28,34,29,42]}\n",
    "df5 = pd.DataFrame(data8, index=['rank1','rank2','rank3','rank4'])\n",
    "print( df5)"
   ]
  },
  {
   "cell_type": "markdown",
   "id": "d000f807",
   "metadata": {},
   "source": [
    "# Creating a DataFrame from List of Dicts\n",
    "- List of Dictionaries can be passed as input data to create a DataFrame. \n",
    "- The dictionary keys are by default taken as column names "
   ]
  },
  {
   "cell_type": "code",
   "execution_count": 35,
   "id": "cbabadc1",
   "metadata": {},
   "outputs": [
    {
     "name": "stdout",
     "output_type": "stream",
     "text": [
      "   a   b     c\n",
      "0  1   2   NaN\n",
      "1  5  10  20.0\n"
     ]
    }
   ],
   "source": [
    "data9 = [{'a': 1, 'b': 2},{'a': 5, 'b': 10, 'c': 20}]\n",
    "df6 = pd.DataFrame(data9)\n",
    "print( df6)"
   ]
  },
  {
   "cell_type": "markdown",
   "id": "497bc2ce",
   "metadata": {},
   "source": [
    "##### Exercise: Create a DataFrame by passing a list of dictionaries "
   ]
  },
  {
   "cell_type": "code",
   "execution_count": 36,
   "id": "bdf3a850",
   "metadata": {},
   "outputs": [
    {
     "name": "stdout",
     "output_type": "stream",
     "text": [
      "        a   b     c\n",
      "first   1   2   NaN\n",
      "second  5  10  20.0\n"
     ]
    }
   ],
   "source": [
    "data10 = [{'a': 1, 'b': 2},{'a': 5, 'b': 10, 'c': 20}]\n",
    "df7 = pd.DataFrame(data10, index=['first', 'second'])\n",
    "print( df7) "
   ]
  },
  {
   "cell_type": "markdown",
   "id": "ba06dfd2",
   "metadata": {},
   "source": [
    "##### Creating a DataFrame with a list of dictionaries, row indices, and column indices"
   ]
  },
  {
   "cell_type": "code",
   "execution_count": 38,
   "id": "dd13c22d",
   "metadata": {},
   "outputs": [
    {
     "name": "stdout",
     "output_type": "stream",
     "text": [
      "        a   b\n",
      "first   1   2\n",
      "second  5  10\n"
     ]
    }
   ],
   "source": [
    "data11 = [{'a': 1, 'b': 2},{'a': 5, 'b': 10, 'c': 20}]\n",
    "#With two column indices, values same as dictionary keys\n",
    "df8 = pd.DataFrame(data11, index=['first', 'second'], columns=['a', 'b'])\n",
    "print(df8)"
   ]
  },
  {
   "cell_type": "markdown",
   "id": "7f84af29",
   "metadata": {},
   "source": [
    "##### Creating a DataFrame with a list of dictionaries, row indices, and column indices"
   ]
  },
  {
   "cell_type": "code",
   "execution_count": 40,
   "id": "500c7007",
   "metadata": {},
   "outputs": [
    {
     "name": "stdout",
     "output_type": "stream",
     "text": [
      "        a  b1\n",
      "first   1 NaN\n",
      "second  5 NaN\n"
     ]
    }
   ],
   "source": [
    "data12 = [{'a': 1, 'b': 2},{'a': 5, 'b': 10, 'c': 20}]\n",
    "#With two column indices with one index with other name\n",
    "df9 = pd.DataFrame(data12, index=['first', 'second'], columns=['a', 'b1'])\n",
    "print(df9)"
   ]
  },
  {
   "cell_type": "markdown",
   "id": "9fc7b88c",
   "metadata": {},
   "source": [
    "# Creating a DataFrame from Dict of Series\n",
    "- Dictionary of Series can be passed to form a DataFrame \n",
    "- The resultant index is the union of all the series indexes passed"
   ]
  },
  {
   "cell_type": "code",
   "execution_count": 42,
   "id": "9cc2d4c6",
   "metadata": {},
   "outputs": [
    {
     "name": "stdout",
     "output_type": "stream",
     "text": [
      "   one  two\n",
      "a  1.0    1\n",
      "b  2.0    2\n",
      "c  3.0    3\n",
      "d  NaN    4\n"
     ]
    }
   ],
   "source": [
    "d1 = {'one' : pd.Series([1, 2, 3], index=['a', 'b', 'c']), 'two' : pd.Series([1, 2, 3, 4], index=['a', 'b', 'c', 'd'])}\n",
    "df10 = pd.DataFrame(d1)\n",
    "print (df10)"
   ]
  },
  {
   "cell_type": "markdown",
   "id": "fd05f63a",
   "metadata": {},
   "source": [
    "# Column Selection, addition and Deletion"
   ]
  },
  {
   "cell_type": "markdown",
   "id": "cd883be3",
   "metadata": {},
   "source": [
    "##### Column Selection"
   ]
  },
  {
   "cell_type": "code",
   "execution_count": 43,
   "id": "9460bba5",
   "metadata": {},
   "outputs": [
    {
     "name": "stdout",
     "output_type": "stream",
     "text": [
      "a    1.0\n",
      "b    2.0\n",
      "c    3.0\n",
      "d    NaN\n",
      "Name: one, dtype: float64\n"
     ]
    }
   ],
   "source": [
    "d2 = {'one' : pd.Series([1, 2, 3], index=['a', 'b', 'c']), 'two' : pd.Series([1, 2, 3, 4], index=['a', 'b', 'c', 'd'])}\n",
    "df11 = pd.DataFrame(d2)\n",
    "print( df11 ['one'])"
   ]
  },
  {
   "cell_type": "markdown",
   "id": "0c3ef58f",
   "metadata": {},
   "source": [
    "##### Column Addition\n",
    "- Adding a new column to an existing data frame"
   ]
  },
  {
   "cell_type": "code",
   "execution_count": 6,
   "id": "d4895982",
   "metadata": {},
   "outputs": [
    {
     "name": "stdout",
     "output_type": "stream",
     "text": [
      "Adding a new column by passing as Series:\n",
      "   one  two  three\n",
      "a  1.0    1   10.0\n",
      "b  2.0    2   20.0\n",
      "c  3.0    3   30.0\n",
      "d  NaN    4    NaN\n"
     ]
    }
   ],
   "source": [
    "d3 = {'one' : pd.Series([1, 2, 3], index=['a', 'b', 'c']),'two' : pd.Series([1, 2, 3, 4], index=['a', 'b', 'c', 'd'])}\n",
    "df12 = pd.DataFrame(d3)\n",
    "# Adding a new column to an existing DataFrame object with column label by passing new series\n",
    "print (\"Adding a new column by passing as Series:\")\n",
    "df12['three']=pd.Series([10,20,30],index=['a','b','c'])\n",
    "print( df12)"
   ]
  },
  {
   "cell_type": "markdown",
   "id": "5262871c",
   "metadata": {},
   "source": [
    "##### Exercise : Add a fourth column in the previous dataframe which is the sum of column “one” and column “three”"
   ]
  },
  {
   "cell_type": "code",
   "execution_count": 8,
   "id": "f13ed98c",
   "metadata": {},
   "outputs": [
    {
     "name": "stdout",
     "output_type": "stream",
     "text": [
      "Adding a new column by passing as Series:\n",
      "   one  two  three\n",
      "a  1.0    1   10.0\n",
      "b  2.0    2   20.0\n",
      "c  3.0    3   30.0\n",
      "d  NaN    4    NaN\n",
      "Adding a new column using the existing columns in DataFrame:\n",
      "   one  two  three  four\n",
      "a  1.0    1   10.0  11.0\n",
      "b  2.0    2   20.0  22.0\n",
      "c  3.0    3   30.0  33.0\n",
      "d  NaN    4    NaN   NaN\n"
     ]
    }
   ],
   "source": [
    "d4 = {'one' : pd.Series([1, 2, 3], index=['a', 'b', 'c']), 'two' : pd.Series([1, 2, 3, 4], index=['a', 'b', 'c', 'd'])}\n",
    "df13 = pd.DataFrame(d4)\n",
    "# Adding a new column to an existing DataFrame object with column label by passing new series\n",
    "print (\"Adding a new column by passing as Series:\")\n",
    "df13['three']=pd.Series([10,20,30],index=['a','b','c'])\n",
    "print( df13)\n",
    "print (\"Adding a new column using the existing columns in DataFrame:\")\n",
    "df13['four']=df13['one']+df13['three']\n",
    "print (df13)"
   ]
  },
  {
   "cell_type": "markdown",
   "id": "912378cc",
   "metadata": {},
   "source": [
    "##### Column deletion\n",
    "- Columns can be deleted or popped by del  or pop"
   ]
  },
  {
   "cell_type": "code",
   "execution_count": 10,
   "id": "b0a602b0",
   "metadata": {},
   "outputs": [
    {
     "name": "stdout",
     "output_type": "stream",
     "text": [
      "Deleting the first column using DEL function:\n",
      "   two  three\n",
      "a    1   10.0\n",
      "b    2   20.0\n",
      "c    3   30.0\n",
      "d    4    NaN\n"
     ]
    }
   ],
   "source": [
    "d5={'one':pd.Series([1, 2, 3],index=['a','b','c']),'two':pd.Series([1, 2, 3, 4],index=['a','b','c','d']),'three':pd.Series([10,20,30], index=['a','b','c'])}\n",
    "df13= pd.DataFrame(d5)\n",
    "print (\"Deleting the first column using DEL function:\")\n",
    "del df13['one']\n",
    "print( df13)"
   ]
  },
  {
   "cell_type": "markdown",
   "id": "253742e6",
   "metadata": {},
   "source": [
    "##### Selection by Label\n",
    "- Rows can be selected by passing row label to a loc function"
   ]
  },
  {
   "cell_type": "code",
   "execution_count": 11,
   "id": "58f71cef",
   "metadata": {},
   "outputs": [
    {
     "name": "stdout",
     "output_type": "stream",
     "text": [
      "   one  two\n",
      "a  1.0    1\n",
      "b  2.0    2\n",
      "c  3.0    3\n",
      "d  NaN    4\n",
      "one    2.0\n",
      "two    2.0\n",
      "Name: b, dtype: float64\n"
     ]
    }
   ],
   "source": [
    "d6 = {'one' : pd.Series([1, 2, 3], index=['a', 'b', 'c']),   'two' : pd.Series([1, 2, 3, 4], index=['a', 'b', 'c', 'd'])}\n",
    "df13 = pd.DataFrame(d6)\n",
    "print(df13)\n",
    "print (df13.loc['b'])"
   ]
  },
  {
   "cell_type": "markdown",
   "id": "80efedc7",
   "metadata": {},
   "source": [
    "# Row Selection, Addition, and Deletion\n",
    "- Selection by integer location"
   ]
  },
  {
   "cell_type": "code",
   "execution_count": 12,
   "id": "86c4a0e2",
   "metadata": {},
   "outputs": [
    {
     "name": "stdout",
     "output_type": "stream",
     "text": [
      "one    3.0\n",
      "two    3.0\n",
      "Name: c, dtype: float64\n"
     ]
    }
   ],
   "source": [
    "d7 = {'one' : pd.Series([1, 2, 3], index=['a', 'b', 'c']),  'two' : pd.Series([1, 2, 3, 4], index=['a', 'b', 'c', 'd'])}\n",
    "df14 = pd.DataFrame(d7)\n",
    "print( df14.iloc[2])"
   ]
  },
  {
   "cell_type": "markdown",
   "id": "5f5df097",
   "metadata": {},
   "source": [
    "##### Slice row\n",
    "- By operator ‘:’"
   ]
  },
  {
   "cell_type": "code",
   "execution_count": 13,
   "id": "a3fa5c6c",
   "metadata": {},
   "outputs": [
    {
     "name": "stdout",
     "output_type": "stream",
     "text": [
      "   one  two\n",
      "c  3.0    3\n",
      "d  NaN    4\n"
     ]
    }
   ],
   "source": [
    "d8 = {'one' : pd.Series([1, 2, 3], index=['a', 'b', 'c']),  'two' : pd.Series([1, 2, 3, 4], index=['a', 'b', 'c', 'd'])}\n",
    "df15 = pd.DataFrame(d8)\n",
    "print (df15[2:4])"
   ]
  },
  {
   "cell_type": "markdown",
   "id": "8edb8b5e",
   "metadata": {},
   "source": [
    "##### Addition of Rows\n",
    "- Add new rows to a DataFrame using the append function\n",
    "- This function will append the rows at the end"
   ]
  },
  {
   "cell_type": "code",
   "execution_count": 16,
   "id": "f998e4e2",
   "metadata": {},
   "outputs": [
    {
     "name": "stdout",
     "output_type": "stream",
     "text": [
      "   a  b\n",
      "0  1  2\n",
      "1  3  4\n",
      "0  5  6\n",
      "1  7  8\n"
     ]
    }
   ],
   "source": [
    "df16 = pd.DataFrame([[1, 2], [3, 4]], columns = ['a','b'])\n",
    "df17 = pd.DataFrame([[5, 6], [7, 8]], columns = ['a','b'])\n",
    "df16 = df16.append(df17)\n",
    "print (df16)"
   ]
  },
  {
   "cell_type": "markdown",
   "id": "47c85b83",
   "metadata": {},
   "source": [
    "##### Deletion of Rows\n",
    "- Use index label to delete or drop rows from a DataFrame by drop()"
   ]
  },
  {
   "cell_type": "code",
   "execution_count": 17,
   "id": "f2d9f8e4",
   "metadata": {},
   "outputs": [
    {
     "name": "stdout",
     "output_type": "stream",
     "text": [
      "   a  b\n",
      "1  3  4\n",
      "1  7  8\n"
     ]
    }
   ],
   "source": [
    "df18 = pd.DataFrame([[1, 2], [3, 4]], columns = ['a','b'])\n",
    "df19 = pd.DataFrame([[5, 6], [7, 8]], columns = ['a','b'])\n",
    "df18 = df18.append(df19)\n",
    "# Drop rows with label 0\n",
    "df18 = df18.drop(0)\n",
    "print (df18)"
   ]
  },
  {
   "cell_type": "markdown",
   "id": "8d2b4b6a",
   "metadata": {},
   "source": [
    "# Series Basic Functionality\n",
    "- Create a Series and see all the attributes operation"
   ]
  },
  {
   "cell_type": "code",
   "execution_count": 20,
   "id": "2f0c128d",
   "metadata": {},
   "outputs": [
    {
     "name": "stdout",
     "output_type": "stream",
     "text": [
      "0   -1.042435\n",
      "1   -0.352726\n",
      "2   -0.214650\n",
      "3   -0.833307\n",
      "dtype: float64\n"
     ]
    }
   ],
   "source": [
    "s1 = pd.Series(np.random.randn(4))\n",
    "print( s1)"
   ]
  },
  {
   "cell_type": "markdown",
   "id": "06f71356",
   "metadata": {},
   "source": [
    "##### Axes\n",
    "- Returns the list of the labels of the series"
   ]
  },
  {
   "cell_type": "code",
   "execution_count": 21,
   "id": "2c91a431",
   "metadata": {},
   "outputs": [
    {
     "name": "stdout",
     "output_type": "stream",
     "text": [
      "The axes are:\n",
      "[RangeIndex(start=0, stop=4, step=1)]\n"
     ]
    }
   ],
   "source": [
    "s2 = pd.Series(np.random.randn(4))\n",
    "print (\"The axes are:\")\n",
    "print (s2.axes)"
   ]
  },
  {
   "cell_type": "markdown",
   "id": "43276c5e",
   "metadata": {},
   "source": [
    "##### empty\n",
    "- Returns the Boolean value saying whether the Object is empty or not \n",
    "- True indicates that the object is empty"
   ]
  },
  {
   "cell_type": "code",
   "execution_count": 22,
   "id": "cd892d87",
   "metadata": {},
   "outputs": [
    {
     "name": "stdout",
     "output_type": "stream",
     "text": [
      "Is the Object empty?\n",
      "False\n"
     ]
    }
   ],
   "source": [
    "s3 = pd.Series(np.random.randn(4))\n",
    "print (\"Is the Object empty?\")\n",
    "print (s3.empty)"
   ]
  },
  {
   "cell_type": "markdown",
   "id": "968b9ed9",
   "metadata": {},
   "source": [
    "##### ndim\n",
    "- Returns the number of dimensions of the object. By definition, a Series is a 1D data structure, so it returns"
   ]
  },
  {
   "cell_type": "code",
   "execution_count": 23,
   "id": "5973a387",
   "metadata": {},
   "outputs": [
    {
     "name": "stdout",
     "output_type": "stream",
     "text": [
      "0   -1.737973\n",
      "1   -0.651273\n",
      "2   -0.526529\n",
      "3    0.381810\n",
      "dtype: float64\n",
      "The dimensions of the object:\n",
      "1\n"
     ]
    }
   ],
   "source": [
    "s4 = pd.Series(np.random.randn(4))\n",
    "print (s4)\n",
    "print (\"The dimensions of the object:\")\n",
    "print (s4.ndim)"
   ]
  },
  {
   "cell_type": "markdown",
   "id": "b82bae86",
   "metadata": {},
   "source": [
    "##### size\n",
    "- Returns the size(length) of the series"
   ]
  },
  {
   "cell_type": "code",
   "execution_count": 24,
   "id": "d4c99dc2",
   "metadata": {},
   "outputs": [
    {
     "name": "stdout",
     "output_type": "stream",
     "text": [
      "0    0.208365\n",
      "1   -0.124919\n",
      "dtype: float64\n",
      "The size of the object:\n",
      "2\n"
     ]
    }
   ],
   "source": [
    "s5 = pd.Series(np.random.randn(2))\n",
    "print (s5)\n",
    "print (\"The size of the object:\")\n",
    "print (s5.size)"
   ]
  },
  {
   "cell_type": "markdown",
   "id": "66d929fc",
   "metadata": {},
   "source": [
    "##### values\n",
    "- Returns the actual data in the series as an array"
   ]
  },
  {
   "cell_type": "code",
   "execution_count": 26,
   "id": "43fe6269",
   "metadata": {},
   "outputs": [
    {
     "name": "stdout",
     "output_type": "stream",
     "text": [
      "0   -1.085023\n",
      "1    0.236476\n",
      "2    1.742298\n",
      "3   -0.970595\n",
      "dtype: float64\n",
      "The actual data series is:\n",
      "[-1.08502295  0.2364759   1.7422985  -0.97059547]\n"
     ]
    }
   ],
   "source": [
    "s6 = pd.Series(np.random.randn(4))\n",
    "print (s6)\n",
    "print (\"The actual data series is:\")\n",
    "print (s6.values)"
   ]
  },
  {
   "cell_type": "markdown",
   "id": "0f8b54fa",
   "metadata": {},
   "source": [
    "##### head and tail\n",
    "- To view a small sample of a Series or the DataFrame object, use the head() and the tail() methods. head() returns the first n rows(observe the index values). The default number of elements to display is five, but you may pass a custom number"
   ]
  },
  {
   "cell_type": "code",
   "execution_count": 28,
   "id": "d68074da",
   "metadata": {},
   "outputs": [
    {
     "name": "stdout",
     "output_type": "stream",
     "text": [
      "The original series is:\n",
      "0    2.288835\n",
      "1    1.388239\n",
      "2    0.398697\n",
      "3    0.473895\n",
      "dtype: float64\n",
      "The first two rows of the data series:\n",
      "0    2.288835\n",
      "1    1.388239\n",
      "dtype: float64\n"
     ]
    }
   ],
   "source": [
    "s7 = pd.Series(np.random.randn(4))\n",
    "print (\"The original series is:\")\n",
    "print (s7)\n",
    "print (\"The first two rows of the data series:\")\n",
    "print (s7.head(2))"
   ]
  },
  {
   "cell_type": "markdown",
   "id": "bbd795bb",
   "metadata": {},
   "source": [
    "##### tail() \n",
    "- returns the last n rows(observe the index values). The default number of elements to display is five, but you may pass a custom number"
   ]
  },
  {
   "cell_type": "code",
   "execution_count": 29,
   "id": "0d6907c2",
   "metadata": {},
   "outputs": [
    {
     "name": "stdout",
     "output_type": "stream",
     "text": [
      "The original series is:\n",
      "0   -0.013827\n",
      "1    1.352597\n",
      "2    0.214221\n",
      "3   -0.668230\n",
      "dtype: float64\n",
      "The last two rows of the data series:\n",
      "2    0.214221\n",
      "3   -0.668230\n",
      "dtype: float64\n"
     ]
    }
   ],
   "source": [
    "s8 = pd.Series(np.random.randn(4))\n",
    "print (\"The original series is:\")\n",
    "print (s8)\n",
    "print (\"The last two rows of the data series:\")\n",
    "print (s8.tail(2))"
   ]
  },
  {
   "cell_type": "markdown",
   "id": "b3b85654",
   "metadata": {},
   "source": [
    "# Data Frame Basic Functionality\n",
    "- Create a Series and see all the attributes operation"
   ]
  },
  {
   "cell_type": "code",
   "execution_count": 44,
   "id": "7f90107f",
   "metadata": {},
   "outputs": [
    {
     "name": "stdout",
     "output_type": "stream",
     "text": [
      "Our data series is:\n",
      "    Name  Age  Rating\n",
      "0    Tom   25    4.23\n",
      "1  James   26    3.24\n",
      "2  Ricky   25    3.98\n",
      "3    Vin   23    2.56\n",
      "4  Steve   30    3.20\n",
      "5  Smith   29    4.60\n",
      "6   Jack   23    3.80\n"
     ]
    }
   ],
   "source": [
    "d9 = {'Name':pd.Series(['Tom','James','Ricky','Vin','Steve','Smith','Jack']),'Age':pd.Series([25,26,25,23,30,29,23]),'Rating':pd.Series([4.23,3.24,3.98,2.56,3.20,4.6,3.8])}\n",
    "df20 = pd.DataFrame(d9)\n",
    "print (\"Our data series is:\")\n",
    "print (df20)"
   ]
  },
  {
   "cell_type": "markdown",
   "id": "e353718a",
   "metadata": {},
   "source": [
    "##### Transpose\n",
    "- Returns the transpose of the DataFrame. The rows and columns will interchange"
   ]
  },
  {
   "cell_type": "code",
   "execution_count": 31,
   "id": "53d3131c",
   "metadata": {},
   "outputs": [
    {
     "name": "stdout",
     "output_type": "stream",
     "text": [
      "The transpose of the data series is:\n",
      "           0      1      2     3      4      5     6\n",
      "Name     Tom  James  Ricky   Vin  Steve  Smith  Jack\n",
      "Age       25     26     25    23     30     29    23\n",
      "Rating  4.23   3.24   3.98  2.56    3.2    4.6   3.8\n"
     ]
    }
   ],
   "source": [
    "# Create a Dictionary of series\n",
    "d10 = {'Name':pd.Series(['Tom','James','Ricky','Vin','Steve','Smith','Jack']),'Age':pd.Series([25,26,25,23,30,29,23]),'Rating':pd.Series([4.23,3.24,3.98,2.56,3.20,4.6,3.8])}\n",
    "# Create a DataFrame\n",
    "df21 = pd.DataFrame(d10)\n",
    "print (\"The transpose of the data series is:\")\n",
    "print (df21.T)"
   ]
  },
  {
   "cell_type": "markdown",
   "id": "6447c4c2",
   "metadata": {},
   "source": [
    "##### axes\n",
    "- Returns the list of row axis labels and column axis labels"
   ]
  },
  {
   "cell_type": "code",
   "execution_count": 32,
   "id": "91d66153",
   "metadata": {},
   "outputs": [
    {
     "name": "stdout",
     "output_type": "stream",
     "text": [
      "Row axis labels and column axis labels are:\n",
      "[RangeIndex(start=0, stop=7, step=1), Index(['Name', 'Age', 'Rating'], dtype='object')]\n"
     ]
    }
   ],
   "source": [
    "#Create a Dictionary of series\n",
    "d11 = {'Name':pd.Series(['Tom','James','Ricky','Vin','Steve','Smith','Jack']), 'Age':pd.Series([25,26,25,23,30,29,23]),'Rating':pd.Series([4.23,3.24,3.98,2.56,3.20,4.6,3.8])}\n",
    "#Create a DataFrame\n",
    "print (\"Row axis labels and column axis labels are:\")\n",
    "print (df21.axes)"
   ]
  },
  {
   "cell_type": "markdown",
   "id": "9989bbfb",
   "metadata": {},
   "source": [
    "###### dtype\n",
    "- Returns the data type of each column"
   ]
  },
  {
   "cell_type": "code",
   "execution_count": 33,
   "id": "fdb46d48",
   "metadata": {},
   "outputs": [
    {
     "name": "stdout",
     "output_type": "stream",
     "text": [
      "The data types of each column are:\n",
      "Name       object\n",
      "Age         int64\n",
      "Rating    float64\n",
      "dtype: object\n"
     ]
    }
   ],
   "source": [
    "#Create a Dictionary of series\n",
    "d12 = {'Name':pd.Series(['Tom','James','Ricky','Vin','Steve','Smith','Jack']),\n",
    "   'Age':pd.Series([25,26,25,23,30,29,23]),\n",
    "   'Rating':pd.Series([4.23,3.24,3.98,2.56,3.20,4.6,3.8])}\n",
    "#Create a DataFrame\n",
    "\n",
    "df22 = pd.DataFrame(d12)\n",
    "print (\"The data types of each column are:\")\n",
    "print (df22.dtypes)"
   ]
  },
  {
   "cell_type": "markdown",
   "id": "9cd3c3d9",
   "metadata": {},
   "source": [
    "##### empty\n",
    "- Returns the Boolean value saying whether the Object is empty or not; True indicates that the object is empty"
   ]
  },
  {
   "cell_type": "code",
   "execution_count": 34,
   "id": "c45d7031",
   "metadata": {},
   "outputs": [
    {
     "name": "stdout",
     "output_type": "stream",
     "text": [
      "Is the object empty?\n",
      "False\n"
     ]
    }
   ],
   "source": [
    "#Create a Dictionary of series\n",
    "d13 = {'Name':pd.Series(['Tom','James','Ricky','Vin','Steve','Smith','Jack']),\n",
    "   'Age':pd.Series([25,26,25,23,30,29,23]),   'Rating':pd.Series([4.23,3.24,3.98,2.56,3.20,4.6,3.8])} \n",
    "#Create a DataFrame\n",
    "df23 = pd.DataFrame(d13)\n",
    "print (\"Is the object empty?\")\n",
    "print (df23.empty)"
   ]
  },
  {
   "cell_type": "markdown",
   "id": "09c2a9f7",
   "metadata": {},
   "source": [
    "##### ndim\n",
    "- Returns the number of dimensions of the object. By definition, DataFrame is a 2D object"
   ]
  },
  {
   "cell_type": "code",
   "execution_count": 35,
   "id": "6045616b",
   "metadata": {},
   "outputs": [
    {
     "name": "stdout",
     "output_type": "stream",
     "text": [
      "The dimension of the object is:\n",
      "2\n"
     ]
    }
   ],
   "source": [
    "#Create a Dictionary of series\n",
    "d14 = {'Name':pd.Series(['Tom','James','Ricky','Vin','Steve','Smith','Jack']),\n",
    "   'Age':pd.Series([25,26,25,23,30,29,23]),\n",
    "   'Rating':pd.Series([4.23,3.24,3.98,2.56,3.20,4.6,3.8])}\n",
    "#Create a DataFrame\n",
    "df24 = pd.DataFrame(d14)\n",
    "print (\"The dimension of the object is:\")\n",
    "print (df24.ndim)"
   ]
  },
  {
   "cell_type": "markdown",
   "id": "c2b65134",
   "metadata": {},
   "source": [
    "##### shape\n",
    "- Returns a tuple representing the dimensionality of the DataFrame. Tuple (a,b), where a represents the number of rows and b represents the number of columns"
   ]
  },
  {
   "cell_type": "code",
   "execution_count": 37,
   "id": "2af9d5d8",
   "metadata": {},
   "outputs": [
    {
     "name": "stdout",
     "output_type": "stream",
     "text": [
      "The shape of the object is:\n",
      "(7, 3)\n"
     ]
    }
   ],
   "source": [
    "#Create a Dictionary of series\n",
    "d15 = {'Name':pd.Series(['Tom','James','Ricky','Vin','Steve','Smith','Jack']),\n",
    "   'Age':pd.Series([25,26,25,23,30,29,23]),\n",
    "   'Rating':pd.Series([4.23,3.24,3.98,2.56,3.20,4.6,3.8])} \n",
    "#Create a DataFrame\n",
    "df25 = pd.DataFrame(d15)\n",
    "print (\"The shape of the object is:\")\n",
    "print (df25.shape)"
   ]
  },
  {
   "cell_type": "markdown",
   "id": "005f4210",
   "metadata": {},
   "source": [
    "##### size\n",
    "- Returns the number of elements in the DataFrame "
   ]
  },
  {
   "cell_type": "code",
   "execution_count": 38,
   "id": "da617e4c",
   "metadata": {},
   "outputs": [
    {
     "name": "stdout",
     "output_type": "stream",
     "text": [
      "The total number of elements in our object is:\n",
      "21\n"
     ]
    }
   ],
   "source": [
    "#Create a Dictionary of series\n",
    "d16 = {'Name':pd.Series(['Tom','James','Ricky','Vin','Steve','Smith','Jack']),\n",
    "   'Age':pd.Series([25,26,25,23,30,29,23]),\n",
    "   'Rating':pd.Series([4.23,3.24,3.98,2.56,3.20,4.6,3.8])} \n",
    "#Create a DataFrame\n",
    "df26 = pd.DataFrame(d16)\n",
    "print (\"The total number of elements in our object is:\")\n",
    "print (df26.size) "
   ]
  },
  {
   "cell_type": "markdown",
   "id": "935c3d60",
   "metadata": {},
   "source": [
    "##### values\n",
    "- Returns the actual data in the DataFrame as an NDarray "
   ]
  },
  {
   "cell_type": "code",
   "execution_count": 39,
   "id": "3fbf9ceb",
   "metadata": {},
   "outputs": [
    {
     "name": "stdout",
     "output_type": "stream",
     "text": [
      "The actual data in our data frame is:\n",
      "[['Tom' 25 4.23]\n",
      " ['James' 26 3.24]\n",
      " ['Ricky' 25 3.98]\n",
      " ['Vin' 23 2.56]\n",
      " ['Steve' 30 3.2]\n",
      " ['Smith' 29 4.6]\n",
      " ['Jack' 23 3.8]]\n"
     ]
    }
   ],
   "source": [
    "d17 = {'Name':pd.Series(['Tom','James','Ricky','Vin','Steve','Smith','Jack']), 'Age':pd.Series([25,26,25,23,30,29,23]),'Rating':pd.Series([4.23,3.24,3.98,2.56,3.20,4.6,3.8])} \n",
    "df27 = pd.DataFrame(d17)\n",
    "print (\"The actual data in our data frame is:\")\n",
    "print (df27.values) "
   ]
  },
  {
   "cell_type": "markdown",
   "id": "f6d92609",
   "metadata": {},
   "source": [
    "##### Head and tail\n",
    "- To view a small sample of a DataFrame object, use the head() and tail() methods. head() returns the first n rows (observe the index values). The default number of elements to display is five, but you may pass a custom number. "
   ]
  },
  {
   "cell_type": "code",
   "execution_count": 42,
   "id": "2ebb7fd9",
   "metadata": {},
   "outputs": [
    {
     "name": "stdout",
     "output_type": "stream",
     "text": [
      "The first two rows of the data frame is:\n",
      "    Name  Age  Rating\n",
      "0    Tom   25    4.23\n",
      "1  James   26    3.24\n"
     ]
    }
   ],
   "source": [
    "d18 = {'Name':pd.Series(['Tom','James','Ricky','Vin','Steve','Smith','Jack']), 'Age':pd.Series([25,26,25,23,30,29,23]),\n",
    "   'Rating':pd.Series([4.23,3.24,3.98,2.56,3.20,4.6,3.8])}\n",
    "df28 = pd.DataFrame(d18)\n",
    "print (\"The first two rows of the data frame is:\")\n",
    "print (df28.head(2)) "
   ]
  },
  {
   "cell_type": "markdown",
   "id": "23ddc209",
   "metadata": {},
   "source": [
    "##### tail() \n",
    "- returns the last n rows (observe the index values). The default number of elements to display is five, but you may pass a custom number. "
   ]
  },
  {
   "cell_type": "code",
   "execution_count": 43,
   "id": "860f62e5",
   "metadata": {},
   "outputs": [
    {
     "name": "stdout",
     "output_type": "stream",
     "text": [
      "The last two rows of the data frame is:\n",
      "    Name  Age  Rating\n",
      "5  Smith   29     4.6\n",
      "6   Jack   23     3.8\n"
     ]
    }
   ],
   "source": [
    "d19 = {'Name':pd.Series(['Tom','James','Ricky','Vin','Steve','Smith','Jack']),   'Age':pd.Series([25,26,25,23,30,29,23]), \n",
    "   'Rating':pd.Series([4.23,3.24,3.98,2.56,3.20,4.6,3.8])} \n",
    "df29 = pd.DataFrame(d19)\n",
    "print (\"The last two rows of the data frame is:\")\n",
    "print (df29.tail(2)) "
   ]
  },
  {
   "cell_type": "markdown",
   "id": "de065cc7",
   "metadata": {},
   "source": [
    "##### Sum() "
   ]
  },
  {
   "cell_type": "code",
   "execution_count": 2,
   "id": "dfce85a0",
   "metadata": {},
   "outputs": [
    {
     "name": "stdout",
     "output_type": "stream",
     "text": [
      "Name      TomJamesRickyVinSteveSmithJackLeeDavidGasperBe...\n",
      "Age                                                     382\n",
      "Rating                                                44.92\n",
      "dtype: object\n"
     ]
    }
   ],
   "source": [
    "import pandas as pd\n",
    "#Create a Dictionary of series\n",
    "d = {'Name':pd.Series(['Tom','James','Ricky','Vin','Steve','Smith','Jack',\n",
    "   'Lee','David','Gasper','Betina','Andres']),   'Age':pd.Series([25,26,25,23,30,29,23,34,40,30,51,46]),\n",
    "   'Rating':pd.Series([4.23,3.24,3.98,2.56,3.20,4.6,3.8,3.78,2.98,4.80,4.10,3.65])}\n",
    "df = pd.DataFrame(d)\n",
    "print (df.sum())"
   ]
  },
  {
   "cell_type": "markdown",
   "id": "e07e5cb4",
   "metadata": {},
   "source": [
    "## Iterating Data Frame\n",
    "- Iterating a DataFrame gives column names"
   ]
  },
  {
   "cell_type": "code",
   "execution_count": 25,
   "id": "999cfffc",
   "metadata": {},
   "outputs": [
    {
     "name": "stdout",
     "output_type": "stream",
     "text": [
      "Name\n",
      "Age\n",
      "Rating\n"
     ]
    }
   ],
   "source": [
    "#Create a Dictionary of series\n",
    "d = {'Name':pd.Series(['Tom','James','Ricky','Vin','Steve','Smith','Jack',\n",
    "   'Lee','David','Gasper','Betina','Andres']),   'Age':pd.Series([25,26,25,23,30,29,23,34,40,30,51,46]),\n",
    "   'Rating':pd.Series([4.23,3.24,3.98,2.56,3.20,4.6,3.8,3.78,2.98,4.80,4.10,3.65])}\n",
    "df = pd.DataFrame(d)\n",
    "for col in df:\n",
    "   print (col)"
   ]
  },
  {
   "cell_type": "markdown",
   "id": "062150b5",
   "metadata": {},
   "source": [
    "### To iterate over the rows of the DataFrame, we can use the following functions \n",
    "- iteritems() − to iterate over the (key,value) pairs\n",
    "- iterrows() − iterate over the rows as (index,series) pairs\n",
    "- itertuples() − iterate over the rows as namedtuples"
   ]
  },
  {
   "cell_type": "code",
   "execution_count": 26,
   "id": "8278c245",
   "metadata": {},
   "outputs": [
    {
     "name": "stdout",
     "output_type": "stream",
     "text": [
      "col1 0    1.586541\n",
      "1   -1.194401\n",
      "2    0.253239\n",
      "3    0.994181\n",
      "Name: col1, dtype: float64\n",
      "col2 0    0.209431\n",
      "1    0.116332\n",
      "2    0.508826\n",
      "3   -0.063417\n",
      "Name: col2, dtype: float64\n",
      "col3 0    0.386132\n",
      "1    0.593167\n",
      "2   -2.004189\n",
      "3   -0.478599\n",
      "Name: col3, dtype: float64\n"
     ]
    }
   ],
   "source": [
    "import pandas as pd\n",
    "import numpy as np \n",
    "df = pd.DataFrame(np.random.randn(4,3),columns=['col1','col2','col3'])\n",
    "for key,value in df.iteritems():\n",
    "   print (key,value)"
   ]
  },
  {
   "cell_type": "markdown",
   "id": "9a6c31f2",
   "metadata": {},
   "source": [
    "# Python Pandas Sorting\n",
    "- There are two kinds of sorting available in Pandas. \n",
    "  - By label\n",
    "  - By Actual Value"
   ]
  },
  {
   "cell_type": "code",
   "execution_count": 24,
   "id": "a62f7b20",
   "metadata": {},
   "outputs": [
    {
     "name": "stdout",
     "output_type": "stream",
     "text": [
      "       col2      col1\n",
      "1 -0.736000  0.855097\n",
      "4  0.983161  1.618269\n",
      "6  0.047322 -0.477611\n",
      "2  0.236567  0.089014\n",
      "3  0.407390  0.041386\n",
      "5 -0.883855  1.118687\n",
      "9 -0.545148 -1.291019\n",
      "8 -0.531060  1.352921\n",
      "0  1.930911  0.233044\n",
      "7  0.396162  0.129276\n"
     ]
    }
   ],
   "source": [
    "unsorted_df=pd.DataFrame(np.random.randn(10,2),index=[1,4,6,2,3,5,9,8,0,7],columns=['col2','col1'])\n",
    "print( unsorted_df)"
   ]
  },
  {
   "cell_type": "markdown",
   "id": "04631b1f",
   "metadata": {},
   "source": [
    "##### By Label\n",
    "- Using the sort_index() method, by passing the axis arguments and the order of sorting, DataFrame can be sorted. By default, sorting is done on row labels in ascending order"
   ]
  },
  {
   "cell_type": "code",
   "execution_count": 23,
   "id": "366ee66a",
   "metadata": {},
   "outputs": [
    {
     "name": "stdout",
     "output_type": "stream",
     "text": [
      "       col2      col1\n",
      "0  0.444448 -0.985576\n",
      "1 -0.020081  1.531466\n",
      "2  0.462751 -1.948864\n",
      "3 -0.331574  0.977221\n",
      "4 -0.154143  0.196000\n",
      "5 -1.176624 -0.606337\n",
      "6  1.765999  0.519817\n",
      "7 -0.488500  0.210895\n",
      "8  2.051403 -1.829335\n",
      "9  0.210651 -1.159827\n"
     ]
    }
   ],
   "source": [
    "unsorted_df=pd.DataFrame(np.random.randn(10,2),index=[1,4,6,2,3,5,9,8,0,7],columns= ['col2','col1'])\n",
    "sorted_df=unsorted_df.sort_index()\n",
    "print( sorted_df)"
   ]
  },
  {
   "cell_type": "markdown",
   "id": "fdc5ab10",
   "metadata": {},
   "source": [
    "##### By Label-order of sorting-axis=1\n",
    "- By passing the axis argument with a value 0 or 1, the sorting can be done on the column labels. By default, axis=0, sort by row"
   ]
  },
  {
   "cell_type": "code",
   "execution_count": 22,
   "id": "e22fa23f",
   "metadata": {},
   "outputs": [
    {
     "name": "stdout",
     "output_type": "stream",
     "text": [
      "       col1      col2\n",
      "1 -0.958587  1.835991\n",
      "4 -0.757220 -1.680717\n",
      "6 -1.053352  0.217282\n",
      "2 -1.010567 -0.576121\n",
      "3 -1.006260 -1.047206\n",
      "5 -0.314375 -1.999209\n",
      "9 -0.389242 -0.555087\n",
      "8 -0.465241  0.985339\n",
      "0  0.533712 -0.175930\n",
      "7  1.890017  1.463072\n"
     ]
    }
   ],
   "source": [
    "unsorted_df = pd.DataFrame(np.random.randn(10,2),index=[1,4,6,2,3,5,9,8,0,7],columns = ['col2','col1'])\n",
    "sorted_df=unsorted_df.sort_index(axis=1)\n",
    "print (sorted_df)"
   ]
  },
  {
   "cell_type": "markdown",
   "id": "f9bfe1d2",
   "metadata": {},
   "source": [
    "##### By Value\n",
    "- sort_values() is the method for sorting by values. \n",
    "- It accepts a 'by' argument which will use the column name of the DataFrame with which the values are to be sorted"
   ]
  },
  {
   "cell_type": "code",
   "execution_count": 21,
   "id": "aaa7207b",
   "metadata": {},
   "outputs": [
    {
     "name": "stdout",
     "output_type": "stream",
     "text": [
      "   col1  col2\n",
      "1     1     3\n",
      "2     1     2\n",
      "3     1     4\n",
      "0     2     1\n"
     ]
    }
   ],
   "source": [
    "unsorted_df = pd.DataFrame({'col1':[2,1,1,1],'col2':[1,3,2,4]})\n",
    "sorted_df = unsorted_df.sort_values(by='col1')\n",
    "print (sorted_df)"
   ]
  },
  {
   "cell_type": "markdown",
   "id": "7829e0bb",
   "metadata": {},
   "source": [
    "# Python Pandas Ranking\n",
    "- Ranking Rows of Pandas DataFrame\n",
    "- To rank the rows of pandas DataFrame we can use the DataFrame.rank()"
   ]
  },
  {
   "cell_type": "code",
   "execution_count": 16,
   "id": "4e336b8a",
   "metadata": {},
   "outputs": [
    {
     "name": "stdout",
     "output_type": "stream",
     "text": [
      "            Name  Year Rating  Rating_Rank\n",
      "0  The Godfather  1972    9.2          3.0\n",
      "1       Bird Box  2018    6.8          1.0\n",
      "2     Fight Club  1999    8.8          2.0\n"
     ]
    }
   ],
   "source": [
    "# Define the dictionary for converting to dataframe \n",
    "movies = {'Name': ['The Godfather', 'Bird Box', 'Fight Club'],'Year': ['1972', '2018', '1999'],'Rating': ['9.2', '6.8', '8.8']}  \n",
    "df = pd.DataFrame(movies)\n",
    "# Create a column Rating_Rank which containsthe rank of each movie based on rating\n",
    "df['Rating_Rank'] = df['Rating'].rank(ascending = 1)\n",
    "print(df)"
   ]
  },
  {
   "cell_type": "code",
   "execution_count": 17,
   "id": "d578fd3e",
   "metadata": {},
   "outputs": [
    {
     "name": "stdout",
     "output_type": "stream",
     "text": [
      "            Name  Year Rating\n",
      "0  The Godfather  1972    9.2\n",
      "1       Bird Box  2018    6.8\n",
      "2     Fight Club  1999    8.8\n",
      "                      Name  Year Rating\n",
      "Rating_Rank                            \n",
      "3.0          The Godfather  1972    9.2\n",
      "1.0               Bird Box  2018    6.8\n",
      "2.0             Fight Club  1999    8.8\n"
     ]
    }
   ],
   "source": [
    "movies = {'Name': ['The Godfather', 'Bird Box', 'Fight Club'], 'Year': ['1972', '2018', '1999'], 'Rating': ['9.2', '6.8', '8.8']}  \n",
    "df = pd.DataFrame(movies)\n",
    "print(df)\n",
    "# Create a column Rating_Rank which contains the rank of each movie based on rating\n",
    "df['Rating_Rank'] = df['Rating'].rank(ascending = 1)\n",
    "# Set the index to newly created column, Rating_Rank\n",
    "df = df.set_index('Rating_Rank')\n",
    "print(df)"
   ]
  },
  {
   "cell_type": "code",
   "execution_count": 19,
   "id": "366184de",
   "metadata": {},
   "outputs": [
    {
     "name": "stdout",
     "output_type": "stream",
     "text": [
      "            Name  Year Rating\n",
      "0  The Godfather  1972    9.2\n",
      "1       Bird Box  2018    6.8\n",
      "2     Fight Club  1999    8.8\n",
      "            Name  Year Rating  Rating_Rank\n",
      "0  The Godfather  1972    9.2          3.0\n",
      "1       Bird Box  2018    6.8          1.0\n",
      "2     Fight Club  1999    8.8          2.0\n",
      "                      Name  Year Rating\n",
      "Rating_Rank                            \n",
      "1.0               Bird Box  2018    6.8\n",
      "2.0             Fight Club  1999    8.8\n",
      "3.0          The Godfather  1972    9.2\n"
     ]
    }
   ],
   "source": [
    "# Define the dictionary for converting to dataframe \n",
    "movies = {'Name': ['The Godfather', 'Bird Box', 'Fight Club'], 'Year': ['1972', '2018', '1999'], 'Rating': ['9.2', '6.8', '8.8']}  \n",
    "df = pd.DataFrame(movies)\n",
    "print(df)\n",
    "# Create a column Rating_Rank which contains the rank of each movie based on rating\n",
    "df['Rating_Rank'] = df['Rating'].rank(ascending = 1)\n",
    "print(df)\n",
    "# Set the index to newly created column, Rating_Rank\n",
    "df = df.set_index('Rating_Rank')\n",
    "#print(df)\n",
    "# Sort the dataFrame based on the index\n",
    "df = df.sort_index()\n",
    "print(df)"
   ]
  },
  {
   "cell_type": "markdown",
   "id": "1646c9d2",
   "metadata": {},
   "source": [
    "##### Exercise: Define the following data frame. Index the data frame according to the rank of marks i-e 100 has lowest rank and 40 has the maximum rank. And finally sort the data frame."
   ]
  },
  {
   "cell_type": "code",
   "execution_count": 20,
   "id": "0f029000",
   "metadata": {},
   "outputs": [
    {
     "name": "stdout",
     "output_type": "stream",
     "text": [
      "       Name    Subject  Marks\n",
      "0       Raj      Maths     80\n",
      "1       Raj    Physics     90\n",
      "2       Raj  Chemistry     75\n",
      "3   Aravind      Maths     60\n",
      "4   Aravind    Physics     40\n",
      "5   Aravind  Chemistry     60\n",
      "6      John      Maths     80\n",
      "7      John    Physics     55\n",
      "8      John  Chemistry    100\n",
      "9     Arjun      Maths     90\n",
      "10    Arjun    Physics     75\n",
      "11    Arjun  Chemistry     70\n",
      "              Name    Subject  Marks\n",
      "Mark_Rank                           \n",
      "4.5            Raj      Maths     80\n",
      "2.5            Raj    Physics     90\n",
      "6.5            Raj  Chemistry     75\n",
      "9.5        Aravind      Maths     60\n",
      "12.0       Aravind    Physics     40\n",
      "9.5        Aravind  Chemistry     60\n",
      "4.5           John      Maths     80\n",
      "11.0          John    Physics     55\n",
      "1.0           John  Chemistry    100\n",
      "2.5          Arjun      Maths     90\n",
      "6.5          Arjun    Physics     75\n",
      "8.0          Arjun  Chemistry     70\n",
      "              Name    Subject  Marks\n",
      "Mark_Rank                           \n",
      "1.0           John  Chemistry    100\n",
      "2.5            Raj    Physics     90\n",
      "2.5          Arjun      Maths     90\n",
      "4.5            Raj      Maths     80\n",
      "4.5           John      Maths     80\n",
      "6.5            Raj  Chemistry     75\n",
      "6.5          Arjun    Physics     75\n",
      "8.0          Arjun  Chemistry     70\n",
      "9.5        Aravind      Maths     60\n",
      "9.5        Aravind  Chemistry     60\n",
      "11.0          John    Physics     55\n",
      "12.0       Aravind    Physics     40\n"
     ]
    }
   ],
   "source": [
    "# Create a dictionary with student details\n",
    "student_details = {'Name':['Raj', 'Raj', 'Raj', 'Aravind', 'Aravind', 'Aravind','John', 'John', 'John', 'Arjun', 'Arjun', 'Arjun'],'Subject':['Maths', 'Physics', 'Chemistry', 'Maths', 'Physics', 'Chemistry', 'Maths', 'Physics', 'Chemistry', 'Maths','Physics', 'Chemistry'], 'Marks':[80, 90, 75, 60, 40, 60, 80, 55, 100, 90, 75, 70]}  \n",
    "# Convert dictionary to a DataFrame\n",
    "df = pd.DataFrame(student_details)\n",
    "print(df)\n",
    "# Create a new column with Marks \n",
    "# ranked in descending order\n",
    "df['Mark_Rank'] = df['Marks'].rank(ascending = 0)  \n",
    "# Set index to newly created column \n",
    "df = df.set_index('Mark_Rank')\n",
    "print(df)\n",
    "# Sort the DataFrame based on the index \n",
    "df = df.sort_index()  \n",
    "print(df)"
   ]
  },
  {
   "cell_type": "markdown",
   "id": "013dbdd4",
   "metadata": {},
   "source": [
    "## Pandas Missing Values\n",
    "- Missing values are say NA or NAN\n",
    "- Exercise: Creating dataframe with missing value"
   ]
  },
  {
   "cell_type": "code",
   "execution_count": 14,
   "id": "eac95e0c",
   "metadata": {},
   "outputs": [
    {
     "name": "stdout",
     "output_type": "stream",
     "text": [
      "        one       two     three\n",
      "a  0.678094  0.951852  0.096427\n",
      "b       NaN       NaN       NaN\n",
      "c -1.161153  1.413574  0.324438\n",
      "d       NaN       NaN       NaN\n",
      "e  0.893882 -0.835790 -0.671464\n",
      "f  0.548645  0.066722  0.491822\n",
      "g       NaN       NaN       NaN\n",
      "h -0.526833 -0.375976 -0.423834\n"
     ]
    }
   ],
   "source": [
    "df = pd.DataFrame(np.random.randn(5, 3), index=['a', 'c', 'e', 'f', 'h'],columns=['one', 'two', 'three'])\n",
    "df = df.reindex(['a', 'b', 'c', 'd', 'e', 'f', 'g', 'h'])\n",
    "print (df)"
   ]
  },
  {
   "cell_type": "markdown",
   "id": "ba01b40b",
   "metadata": {},
   "source": [
    "## Checking for the Missing values \n",
    "- To make detecting missing values easier (and across different array dtypes), Pandas provides the isnull() and notnull() functions, which are also methods on Series and DataFrame objects "
   ]
  },
  {
   "cell_type": "code",
   "execution_count": 13,
   "id": "5bea5321",
   "metadata": {},
   "outputs": [
    {
     "name": "stdout",
     "output_type": "stream",
     "text": [
      "a    False\n",
      "b     True\n",
      "c    False\n",
      "d     True\n",
      "e    False\n",
      "f    False\n",
      "g     True\n",
      "h    False\n",
      "Name: one, dtype: bool\n"
     ]
    }
   ],
   "source": [
    "#Exercise: Checking missing value\n",
    "df = pd.DataFrame(np.random.randn(5, 3), index=['a', 'c', 'e', 'f','h'],columns=['one', 'two', 'three'])\n",
    "df = df.reindex(['a', 'b', 'c', 'd', 'e', 'f', 'g', 'h'])\n",
    "print (df['one'].isnull())"
   ]
  },
  {
   "cell_type": "markdown",
   "id": "eec25f99",
   "metadata": {},
   "source": [
    "## Calculation with Missing values\n",
    "- When summing data, NA will be treated as Zero\n",
    "- If the data are all NA, then the result will be NA"
   ]
  },
  {
   "cell_type": "code",
   "execution_count": 12,
   "id": "bf32dbab",
   "metadata": {},
   "outputs": [
    {
     "name": "stdout",
     "output_type": "stream",
     "text": [
      "        one       two     three\n",
      "a  2.976245  1.129418 -0.432520\n",
      "b       NaN       NaN       NaN\n",
      "c -0.555140 -0.038899 -0.247172\n",
      "d       NaN       NaN       NaN\n",
      "e -0.105131  2.043697  0.257180\n",
      "f -0.667089 -0.478844 -1.647694\n",
      "g       NaN       NaN       NaN\n",
      "h -1.144641  1.404455  0.301047\n",
      "The sum is\n",
      "0.5042441382230931\n"
     ]
    }
   ],
   "source": [
    "df = pd.DataFrame(np.random.randn(5, 3), index=['a', 'c', 'e', 'f','h'],columns=['one', 'two', 'three'])\n",
    "df = df.reindex(['a', 'b', 'c', 'd', 'e', 'f', 'g', 'h'])\n",
    "print(df)\n",
    "print(\"The sum is\")\n",
    "print (df['one'].sum())"
   ]
  },
  {
   "cell_type": "markdown",
   "id": "228a382f",
   "metadata": {},
   "source": [
    "# Cleaning / Filling Missing Data\n",
    "- The fillna function can “fill in” NA values with non-null data in a couple of ways"
   ]
  },
  {
   "cell_type": "code",
   "execution_count": 10,
   "id": "cbd71579",
   "metadata": {},
   "outputs": [
    {
     "name": "stdout",
     "output_type": "stream",
     "text": [
      "        one       two     three\n",
      "a -0.009463  0.436881 -0.469927\n",
      "b       NaN       NaN       NaN\n",
      "c  0.287046 -1.038566 -2.252776\n",
      "NaN replaced with '0':\n",
      "        one       two     three\n",
      "a -0.009463  0.436881 -0.469927\n",
      "b  0.000000  0.000000  0.000000\n",
      "c  0.287046 -1.038566 -2.252776\n"
     ]
    }
   ],
   "source": [
    "#Example:Replace NaN with a Scalar Value\n",
    "df = pd.DataFrame(np.random.randn(3, 3), index=['a', 'c', 'e'],columns=['one','two', 'three'])\n",
    "df = df.reindex(['a', 'b', 'c'])\n",
    "print (df)\n",
    "print (\"NaN replaced with '0':\")\n",
    "print (df.fillna(0))"
   ]
  },
  {
   "cell_type": "markdown",
   "id": "9d77603e",
   "metadata": {},
   "source": [
    "##### Fill NA Forward and Backward pad/fill\n",
    "- Fill methods Forward- fillna(method='pad') or fillna(method=‘fill')"
   ]
  },
  {
   "cell_type": "code",
   "execution_count": 11,
   "id": "7850e6c1",
   "metadata": {},
   "outputs": [
    {
     "name": "stdout",
     "output_type": "stream",
     "text": [
      "        one       two     three\n",
      "a  0.062043  1.899485  1.284389\n",
      "b  0.062043  1.899485  1.284389\n",
      "c  1.326770  1.162287 -0.917297\n",
      "d  1.326770  1.162287 -0.917297\n",
      "e  0.685369  0.628844 -1.761440\n",
      "f -0.098265 -1.280880 -0.169476\n",
      "g -0.098265 -1.280880 -0.169476\n",
      "h -0.648039  0.317792 -0.271578\n"
     ]
    }
   ],
   "source": [
    "#Example : Fill Forward\n",
    "df = pd.DataFrame(np.random.randn(5, 3), index=['a', 'c', 'e', 'f','h'],columns=['one', 'two', 'three'])\n",
    "df = df.reindex(['a', 'b', 'c', 'd', 'e', 'f', 'g', 'h'])\n",
    "print (df.fillna(method='pad')) "
   ]
  },
  {
   "cell_type": "markdown",
   "id": "20d65686",
   "metadata": {},
   "source": [
    "# Search how to fill Backward!\n",
    "##### dataframe.dropna()"
   ]
  },
  {
   "cell_type": "code",
   "execution_count": 6,
   "id": "a261ebf1",
   "metadata": {},
   "outputs": [
    {
     "name": "stdout",
     "output_type": "stream",
     "text": [
      "        one       two     three\n",
      "a  0.312007 -0.190491  2.097528\n",
      "b  0.546525 -0.435939 -2.090485\n",
      "c  0.546525 -0.435939 -2.090485\n",
      "d  0.924040 -1.542240  1.481296\n",
      "e  0.924040 -1.542240  1.481296\n",
      "f -0.995932  0.372001 -0.079996\n",
      "g  0.376159 -1.091507  1.001129\n",
      "h  0.376159 -1.091507  1.001129\n"
     ]
    }
   ],
   "source": [
    "import numpy as np\n",
    "df = pd.DataFrame(np.random.randn(5, 3), index=['a', 'c', 'e', 'f','h'],columns=['one', 'two', 'three'])\n",
    "df = df.reindex(['a', 'b', 'c', 'd', 'e', 'f', 'g', 'h'])\n",
    "print (df.fillna(method='backfill'))"
   ]
  },
  {
   "cell_type": "code",
   "execution_count": 7,
   "id": "cbacbada",
   "metadata": {},
   "outputs": [
    {
     "name": "stdout",
     "output_type": "stream",
     "text": [
      "        one       two     three\n",
      "a -1.350882  0.222241  0.266239\n",
      "b       NaN       NaN       NaN\n",
      "c  0.077234  1.625944 -0.399533\n",
      "d       NaN       NaN       NaN\n",
      "e  0.915667  0.461914 -1.403072\n",
      "f -0.405432  1.233473  0.941461\n",
      "g       NaN       NaN       NaN\n",
      "h -1.405862 -0.590075 -0.372723\n",
      "        one       two     three\n",
      "a -1.350882  0.222241  0.266239\n",
      "c  0.077234  1.625944 -0.399533\n",
      "e  0.915667  0.461914 -1.403072\n",
      "f -0.405432  1.233473  0.941461\n",
      "h -1.405862 -0.590075 -0.372723\n"
     ]
    }
   ],
   "source": [
    "df = pd.DataFrame(np.random.randn(5, 3), index=['a', 'c', 'e', 'f','h'],columns=['one', 'two', 'three'])\n",
    "df = df.reindex(['a', 'b', 'c', 'd', 'e', 'f', 'g', 'h'])\n",
    "print(df)\n",
    "print (df.dropna(axis=0))"
   ]
  },
  {
   "cell_type": "code",
   "execution_count": 8,
   "id": "74c0632c",
   "metadata": {},
   "outputs": [
    {
     "name": "stdout",
     "output_type": "stream",
     "text": [
      "        one       two     three\n",
      "a -0.096074  0.880745 -0.902994\n",
      "b       NaN       NaN       NaN\n",
      "c -0.071152  0.489423 -0.095122\n",
      "d       NaN       NaN       NaN\n",
      "e -0.627478 -0.317749 -0.375654\n",
      "f  0.791859  0.288963 -0.567589\n",
      "g       NaN       NaN       NaN\n",
      "h -0.459622 -0.956242 -0.057263\n",
      "Empty DataFrame\n",
      "Columns: []\n",
      "Index: [a, b, c, d, e, f, g, h]\n"
     ]
    }
   ],
   "source": [
    "df = pd.DataFrame(np.random.randn(5, 3), index=['a', 'c', 'e', 'f','h'],columns=['one', 'two', 'three'])\n",
    "df = df.reindex(['a', 'b', 'c', 'd', 'e', 'f', 'g', 'h'])\n",
    "print(df)\n",
    "print (df.dropna(axis=1)) "
   ]
  },
  {
   "cell_type": "markdown",
   "id": "9881f675",
   "metadata": {},
   "source": [
    "##### dataframe.replace()\n",
    "- Replace a generic value with some specific value dataframe.replace()"
   ]
  },
  {
   "cell_type": "code",
   "execution_count": 3,
   "id": "c0214ec7",
   "metadata": {},
   "outputs": [
    {
     "name": "stdout",
     "output_type": "stream",
     "text": [
      "   one  two\n",
      "0   10   10\n",
      "1   20    0\n",
      "2   30   30\n",
      "3   40   40\n",
      "4   50   50\n",
      "5   60   60\n"
     ]
    }
   ],
   "source": [
    "import numpy as np\n",
    "df = pd.DataFrame({'one':[10,20,30,40,50,2000], 'two':[1000,0,30,40,50,60]})\n",
    "print (df.replace({1000:10,2000:60})) "
   ]
  },
  {
   "cell_type": "code",
   "execution_count": null,
   "id": "83a4b4f1",
   "metadata": {},
   "outputs": [],
   "source": []
  }
 ],
 "metadata": {
  "kernelspec": {
   "display_name": "Python 3",
   "language": "python",
   "name": "python3"
  },
  "language_info": {
   "codemirror_mode": {
    "name": "ipython",
    "version": 3
   },
   "file_extension": ".py",
   "mimetype": "text/x-python",
   "name": "python",
   "nbconvert_exporter": "python",
   "pygments_lexer": "ipython3",
   "version": "3.8.8"
  }
 },
 "nbformat": 4,
 "nbformat_minor": 5
}
