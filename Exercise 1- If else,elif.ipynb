{
 "cells": [
  {
   "cell_type": "markdown",
   "id": "ac51febc",
   "metadata": {},
   "source": [
    "# Exercise"
   ]
  },
  {
   "cell_type": "markdown",
   "id": "c7c39c48",
   "metadata": {},
   "source": [
    "### Print \"Hello World\" if a is greater than b"
   ]
  },
  {
   "cell_type": "code",
   "execution_count": 28,
   "id": "5eba1d79",
   "metadata": {},
   "outputs": [
    {
     "name": "stdout",
     "output_type": "stream",
     "text": [
      "Hello World\n"
     ]
    }
   ],
   "source": [
    "a=200\n",
    "b=20\n",
    "if a>b:print(\"Hello World\")"
   ]
  },
  {
   "cell_type": "markdown",
   "id": "a9d4a01c",
   "metadata": {},
   "source": [
    "### Test if a is greater than b, AND if c is greater than a then print “both conditions are true”"
   ]
  },
  {
   "cell_type": "code",
   "execution_count": 29,
   "id": "cfbe4c27",
   "metadata": {},
   "outputs": [
    {
     "name": "stdout",
     "output_type": "stream",
     "text": [
      "both conditions are true\n"
     ]
    }
   ],
   "source": [
    "c=300\n",
    "if a>b and c>a:print(\"both conditions are true\")"
   ]
  },
  {
   "cell_type": "markdown",
   "id": "025842be",
   "metadata": {},
   "source": [
    "### Test if a is greater than b, OR if a is greater than c then print “At least one of the conditions is True”"
   ]
  },
  {
   "cell_type": "code",
   "execution_count": 30,
   "id": "930ccc90",
   "metadata": {},
   "outputs": [
    {
     "name": "stdout",
     "output_type": "stream",
     "text": [
      "At least one of the conditions is True\n"
     ]
    }
   ],
   "source": [
    "if a>b or a>c:print(\"At least one of the conditions is True\")"
   ]
  },
  {
   "cell_type": "markdown",
   "id": "a76e2aeb",
   "metadata": {},
   "source": [
    "### Check if the number is positive or negative and display an appropriate message"
   ]
  },
  {
   "cell_type": "code",
   "execution_count": 31,
   "id": "5d0cba34",
   "metadata": {},
   "outputs": [
    {
     "name": "stdout",
     "output_type": "stream",
     "text": [
      "a is a positive number\n"
     ]
    }
   ],
   "source": [
    "if a>=0:print(\"a is a positive number\")\n",
    "else: print(\"a is a negative number\")"
   ]
  },
  {
   "cell_type": "code",
   "execution_count": 32,
   "id": "f6c23046",
   "metadata": {},
   "outputs": [
    {
     "name": "stdout",
     "output_type": "stream",
     "text": [
      "a is a positive number\n"
     ]
    }
   ],
   "source": [
    "print(\"a is a positive number\") if a>=0 else print(\"a is a negative number\")"
   ]
  },
  {
   "cell_type": "markdown",
   "id": "385558fa",
   "metadata": {},
   "source": [
    "### Check if the number is only greater than 10 or also greater than 20 \n",
    "- if greater than 10 and 20 print Above 10 Also above 20\n",
    "- If greater than 10 and less than 20 print Above 10 But not above 20"
   ]
  },
  {
   "cell_type": "code",
   "execution_count": 33,
   "id": "3a50490b",
   "metadata": {},
   "outputs": [
    {
     "name": "stdout",
     "output_type": "stream",
     "text": [
      "Above 10\n",
      "Not Above 20\n"
     ]
    }
   ],
   "source": [
    "x=11\n",
    "if x>10:\n",
    "    print(\"Above 10\")\n",
    "    if x>20: \n",
    "        print(\"Above 20\")\n",
    "    else:\n",
    "        print(\"Not Above 20\")"
   ]
  },
  {
   "cell_type": "code",
   "execution_count": null,
   "id": "c1f55b5a",
   "metadata": {},
   "outputs": [],
   "source": [
    "# Calculate the shipping cost for Australia and USA. \n",
    "# For USA, it is $50 for total less than 50, $25 for total greater\n",
    "# than 50 and less than 100, free for greater than 100. \n",
    "# For Australia, it is $15 for total less than 50 and free otherwise"
   ]
  },
  {
   "cell_type": "code",
   "execution_count": 26,
   "id": "369bc165",
   "metadata": {},
   "outputs": [
    {
     "name": "stdout",
     "output_type": "stream",
     "text": [
      "SHIPPING COST FOR USA\n",
      "Free\n",
      "SHIPPING COST FOR AUSTRALIA\n",
      "Free\n"
     ]
    }
   ],
   "source": [
    "total=110\n",
    "print(\"SHIPPING COST FOR USA\")\n",
    "if total<50:print(\"$50\")\n",
    "elif 50<total<100:print(\"$25\")\n",
    "elif total>100:print(\"Free\")\n",
    "print(\"SHIPPING COST FOR AUSTRALIA\")\n",
    "if total<50:print(\"$15\")\n",
    "else: print(\"Free\")"
   ]
  },
  {
   "cell_type": "code",
   "execution_count": null,
   "id": "0151e854",
   "metadata": {},
   "outputs": [],
   "source": []
  }
 ],
 "metadata": {
  "kernelspec": {
   "display_name": "Python 3",
   "language": "python",
   "name": "python3"
  },
  "language_info": {
   "codemirror_mode": {
    "name": "ipython",
    "version": 3
   },
   "file_extension": ".py",
   "mimetype": "text/x-python",
   "name": "python",
   "nbconvert_exporter": "python",
   "pygments_lexer": "ipython3",
   "version": "3.8.8"
  }
 },
 "nbformat": 4,
 "nbformat_minor": 5
}
