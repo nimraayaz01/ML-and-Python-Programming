{
 "cells": [
  {
   "attachments": {},
   "cell_type": "markdown",
   "id": "363d1653",
   "metadata": {},
   "source": [
    "##### Give a number return its absolute value!"
   ]
  },
  {
   "cell_type": "code",
   "execution_count": 60,
   "id": "fd9e06b4",
   "metadata": {},
   "outputs": [
    {
     "name": "stdout",
     "output_type": "stream",
     "text": [
      "3\n",
      "1\n"
     ]
    }
   ],
   "source": [
    "def absolute_value(num):\n",
    " \"\"\"This function returns the absolute value of the entered number\"\"\"\n",
    " if num >= 0: \n",
    "    return num \n",
    " else: \n",
    "    return -num\n",
    "\n",
    "print(absolute_value(3)) \n",
    "print(absolute_value(-1))"
   ]
  },
  {
   "cell_type": "markdown",
   "id": "ba1ef097",
   "metadata": {},
   "source": [
    "##### Write a code that takes a list and return its double. Use lambda and map function"
   ]
  },
  {
   "cell_type": "code",
   "execution_count": 62,
   "id": "537ee9a8",
   "metadata": {},
   "outputs": [
    {
     "data": {
      "text/plain": [
       "[2, 4, 6, 8, 10]"
      ]
     },
     "execution_count": 62,
     "metadata": {},
     "output_type": "execute_result"
    }
   ],
   "source": [
    "numbers = [1, 2, 3, 4, 5] \n",
    "double = map(lambda num: num*2 , numbers) \n",
    "list(double) "
   ]
  },
  {
   "cell_type": "markdown",
   "id": "46ed107d",
   "metadata": {},
   "source": [
    "##### Write a code that receives the list of animal names and return the uppercase name list using lambda and map function"
   ]
  },
  {
   "cell_type": "code",
   "execution_count": 22,
   "id": "0bc8f0c2",
   "metadata": {},
   "outputs": [
    {
     "data": {
      "text/plain": [
       "['CAT', 'DOG', 'DEER', 'LION', 'TIGER']"
      ]
     },
     "execution_count": 22,
     "metadata": {},
     "output_type": "execute_result"
    }
   ],
   "source": [
    "animals = ['cat', 'dog', 'deer', 'lion', 'tiger'] \n",
    "uppercase = map(lambda x: x.upper(),animals) \n",
    "list(uppercase) "
   ]
  },
  {
   "cell_type": "markdown",
   "id": "7fe59a7e",
   "metadata": {},
   "source": [
    "##### Write a function to find the maximum number in a list with simple function."
   ]
  },
  {
   "cell_type": "code",
   "execution_count": 54,
   "id": "634ed29a",
   "metadata": {},
   "outputs": [
    {
     "name": "stdout",
     "output_type": "stream",
     "text": [
      "5\n"
     ]
    }
   ],
   "source": [
    "def my_max(list4):\n",
    " max_=list4[0]\n",
    " for number in list4:\n",
    "    if(number>max_):\n",
    "        max_=number\n",
    " return max_\n",
    "list5=[1,2,3,5]\n",
    "result= my_max(list5)\n",
    "print(result)"
   ]
  },
  {
   "cell_type": "markdown",
   "id": "f6863720",
   "metadata": {},
   "source": [
    "##### Write a function to find the maximum of a number using reduce."
   ]
  },
  {
   "cell_type": "code",
   "execution_count": 32,
   "id": "93e621a0",
   "metadata": {},
   "outputs": [
    {
     "data": {
      "text/plain": [
       "4"
      ]
     },
     "execution_count": 32,
     "metadata": {},
     "output_type": "execute_result"
    }
   ],
   "source": [
    "def max_num(a, b):\n",
    " if a>b: return a\n",
    " else: return b\n",
    "from functools import reduce\n",
    "numbers = [0, 1, 2, 3, 4]\n",
    "reduce(max_num, numbers)"
   ]
  },
  {
   "cell_type": "markdown",
   "id": "fe34ecc1",
   "metadata": {},
   "source": [
    "##### Write a function to find the maximum of a number using lambda with reduce"
   ]
  },
  {
   "cell_type": "code",
   "execution_count": 56,
   "id": "0962d7b2",
   "metadata": {},
   "outputs": [
    {
     "name": "stdout",
     "output_type": "stream",
     "text": [
      "100\n"
     ]
    }
   ],
   "source": [
    "from functools import reduce\n",
    "list_ = [5, 8, 10, 20, 50, 100]\n",
    "print(reduce(lambda w,v: w if w>v else v, list_))"
   ]
  },
  {
   "cell_type": "code",
   "execution_count": null,
   "id": "3a4c0dd7",
   "metadata": {},
   "outputs": [],
   "source": []
  },
  {
   "cell_type": "code",
   "execution_count": null,
   "id": "a5edb3fb",
   "metadata": {},
   "outputs": [],
   "source": []
  }
 ],
 "metadata": {
  "kernelspec": {
   "display_name": "Python 3",
   "language": "python",
   "name": "python3"
  },
  "language_info": {
   "codemirror_mode": {
    "name": "ipython",
    "version": 3
   },
   "file_extension": ".py",
   "mimetype": "text/x-python",
   "name": "python",
   "nbconvert_exporter": "python",
   "pygments_lexer": "ipython3",
   "version": "3.8.8"
  }
 },
 "nbformat": 4,
 "nbformat_minor": 5
}
