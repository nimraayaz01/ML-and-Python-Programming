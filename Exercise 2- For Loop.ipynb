{
 "cells": [
  {
   "cell_type": "markdown",
   "id": "8e89bf36",
   "metadata": {},
   "source": [
    "### Find the sum of all the numbers stored in a list"
   ]
  },
  {
   "cell_type": "code",
   "execution_count": 8,
   "id": "7b3ad0bf",
   "metadata": {},
   "outputs": [
    {
     "data": {
      "text/plain": [
       "27"
      ]
     },
     "execution_count": 8,
     "metadata": {},
     "output_type": "execute_result"
    }
   ],
   "source": [
    "list1=[1,2,3,4,5,2,2,4,4]\n",
    "sum(list1)"
   ]
  },
  {
   "cell_type": "code",
   "execution_count": 3,
   "id": "76d5ae2f",
   "metadata": {},
   "outputs": [
    {
     "data": {
      "text/plain": [
       "list"
      ]
     },
     "execution_count": 3,
     "metadata": {},
     "output_type": "execute_result"
    }
   ],
   "source": [
    "type(list1)"
   ]
  },
  {
   "cell_type": "markdown",
   "id": "21a69d41",
   "metadata": {},
   "source": [
    "### Add 3 in all the even numbers in a list and print them"
   ]
  },
  {
   "cell_type": "code",
   "execution_count": 9,
   "id": "bc7e9cff",
   "metadata": {},
   "outputs": [
    {
     "name": "stdout",
     "output_type": "stream",
     "text": [
      "5 7 5 5 7 7 "
     ]
    }
   ],
   "source": [
    "for num in list1:\n",
    "    if num % 2 == 0:\n",
    "       print(num+3, end = \" \")"
   ]
  },
  {
   "cell_type": "markdown",
   "id": "f39974a2",
   "metadata": {},
   "source": [
    "### Write a program to write all the prime numbers within a range"
   ]
  },
  {
   "cell_type": "code",
   "execution_count": 11,
   "id": "259e7a82",
   "metadata": {},
   "outputs": [
    {
     "name": "stdout",
     "output_type": "stream",
     "text": [
      "Enter the first number:2\n",
      "Enter the Second Number:100\n",
      "2\n",
      "3\n",
      "4\n",
      "5\n",
      "7\n",
      "11\n",
      "13\n",
      "17\n",
      "19\n",
      "23\n",
      "29\n",
      "31\n",
      "37\n",
      "41\n",
      "43\n",
      "47\n",
      "53\n",
      "59\n",
      "61\n",
      "67\n",
      "71\n",
      "73\n",
      "79\n",
      "83\n",
      "89\n",
      "97\n"
     ]
    }
   ],
   "source": [
    "x = int(input(\"Enter the first number:\"))\n",
    "y = int(input(\"Enter the Second Number:\"))\n",
    "for i in range(x, y):\n",
    "    for j in range(2, i//2):\n",
    "        if i % j == 0:\n",
    "            break\n",
    "    else:\n",
    "        print(i)"
   ]
  },
  {
   "cell_type": "code",
   "execution_count": null,
   "id": "908eec8c",
   "metadata": {},
   "outputs": [],
   "source": []
  }
 ],
 "metadata": {
  "kernelspec": {
   "display_name": "Python 3",
   "language": "python",
   "name": "python3"
  },
  "language_info": {
   "codemirror_mode": {
    "name": "ipython",
    "version": 3
   },
   "file_extension": ".py",
   "mimetype": "text/x-python",
   "name": "python",
   "nbconvert_exporter": "python",
   "pygments_lexer": "ipython3",
   "version": "3.8.8"
  }
 },
 "nbformat": 4,
 "nbformat_minor": 5
}
