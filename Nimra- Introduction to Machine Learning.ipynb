{
 "cells": [
  {
   "cell_type": "markdown",
   "id": "d61ad13a",
   "metadata": {},
   "source": [
    "# Introduction to Machine Learning"
   ]
  },
  {
   "cell_type": "markdown",
   "id": "9d29a032",
   "metadata": {},
   "source": [
    "##### Mean - The average value"
   ]
  },
  {
   "cell_type": "code",
   "execution_count": 1,
   "id": "9fc4a94a",
   "metadata": {},
   "outputs": [
    {
     "name": "stdout",
     "output_type": "stream",
     "text": [
      "89.76923076923077\n"
     ]
    }
   ],
   "source": [
    "import numpy as np\n",
    "speed = [99,86,87,88,111,86,103,87,94,78,77,85,86]\n",
    "x = np.mean(speed)\n",
    "print(x)"
   ]
  },
  {
   "cell_type": "markdown",
   "id": "15a8d612",
   "metadata": {},
   "source": [
    "##### Median - The mid point value"
   ]
  },
  {
   "cell_type": "code",
   "execution_count": 2,
   "id": "ef13237a",
   "metadata": {},
   "outputs": [
    {
     "name": "stdout",
     "output_type": "stream",
     "text": [
      "87.0\n"
     ]
    }
   ],
   "source": [
    "import numpy as np\n",
    "speed = [99,86,87,88,111,86,103,87,94,78,77,85,86]\n",
    "x = np.median(speed)\n",
    "print(x)"
   ]
  },
  {
   "cell_type": "markdown",
   "id": "598c3c30",
   "metadata": {},
   "source": [
    "##### Mode - The most common value"
   ]
  },
  {
   "cell_type": "code",
   "execution_count": 3,
   "id": "8a3af21e",
   "metadata": {},
   "outputs": [
    {
     "name": "stdout",
     "output_type": "stream",
     "text": [
      "ModeResult(mode=array([86]), count=array([3]))\n"
     ]
    }
   ],
   "source": [
    "from scipy import stats\n",
    "speed = [99,86,87,88,111,86,103,87,94,78,77,85,86]\n",
    "x = stats.mode(speed)\n",
    "print(x)"
   ]
  },
  {
   "cell_type": "markdown",
   "id": "ec137c62",
   "metadata": {},
   "source": [
    "##### Standard Deviation\n",
    "- Standard deviation is a number that describes how spread out the values are\n",
    "- A low standard deviation means that most of the numbers are close to the mean (average) value\n",
    "- A high standard deviation means that the values are spread out over a wider range"
   ]
  },
  {
   "cell_type": "code",
   "execution_count": 4,
   "id": "71dfecd8",
   "metadata": {},
   "outputs": [
    {
     "name": "stdout",
     "output_type": "stream",
     "text": [
      "0.9035079029052513\n"
     ]
    }
   ],
   "source": [
    "# registered the speed of 7 cars\n",
    "import numpy as np\n",
    "speed = [86,87,88,86,87,85,86]\n",
    "x = np.std(speed)\n",
    "print(x)"
   ]
  },
  {
   "cell_type": "markdown",
   "id": "66bcff07",
   "metadata": {},
   "source": [
    "##### Machine Learning – Variance "
   ]
  },
  {
   "cell_type": "code",
   "execution_count": 5,
   "id": "b309c872",
   "metadata": {},
   "outputs": [
    {
     "name": "stdout",
     "output_type": "stream",
     "text": [
      "1432.2448979591834\n"
     ]
    }
   ],
   "source": [
    "import numpy\n",
    "speed = [32,111,138,28,59,77,97]\n",
    "x = numpy.var(speed)\n",
    "print(x)"
   ]
  },
  {
   "cell_type": "markdown",
   "id": "7b77454f",
   "metadata": {},
   "source": [
    "##### Percentiles\n",
    "- Used in statistics to give a number that describes the value that a given percent of the values are lower than."
   ]
  },
  {
   "cell_type": "code",
   "execution_count": 7,
   "id": "218abde7",
   "metadata": {},
   "outputs": [
    {
     "name": "stdout",
     "output_type": "stream",
     "text": [
      "43.0\n"
     ]
    }
   ],
   "source": [
    "import numpy\n",
    "ages = [5,31,43,48,50,41,7,11,15,39,80,82,32,2,8,6,25,36,27,61,31]\n",
    "x = numpy.percentile(ages, 75)\n",
    "print(x)"
   ]
  },
  {
   "cell_type": "markdown",
   "id": "a5252222",
   "metadata": {},
   "source": [
    "##### Machine Learning – Data Distribution\n",
    "- To visualize the data distribution we can use different plots"
   ]
  },
  {
   "cell_type": "code",
   "execution_count": 8,
   "id": "3a92954c",
   "metadata": {},
   "outputs": [
    {
     "data": {
      "image/png": "[encoded data removed]",
      "text/plain": [
       "<Figure size 432x288 with 1 Axes>"
      ]
     },
     "metadata": {
      "needs_background": "light"
     },
     "output_type": "display_data"
    }
   ],
   "source": [
    "#Historgram\n",
    "import numpy\n",
    "import matplotlib.pyplot as plt\n",
    "x = numpy.random.uniform(0.0, 5.0, 250)\n",
    "plt.hist(x, 5)\n",
    "plt.show()"
   ]
  },
  {
   "cell_type": "markdown",
   "id": "42f3b1cf",
   "metadata": {},
   "source": [
    "##### Normal Data Distribution\n",
    "- An array where the values are concentrated around a given value\n",
    "- In probability theory this kind of data distribution is known as the normal data distribution, or the Gaussian data distribution, after the mathematician Carl Friedrich Gauss who came up with the formula of this data distribution"
   ]
  },
  {
   "cell_type": "code",
   "execution_count": 10,
   "id": "344f5561",
   "metadata": {},
   "outputs": [
    {
     "data": {
      "image/png": "[encoded data removed]",
      "text/plain": [
       "<Figure size 432x288 with 1 Axes>"
      ]
     },
     "metadata": {
      "needs_background": "light"
     },
     "output_type": "display_data"
    }
   ],
   "source": [
    "import numpy\n",
    "import matplotlib.pyplot as plt\n",
    "x = numpy.random.normal(5.0, 1.0, 100000)\n",
    "plt.hist(x, 100)\n",
    "plt.show()"
   ]
  },
  {
   "cell_type": "code",
   "execution_count": 11,
   "id": "a457d8f7",
   "metadata": {},
   "outputs": [
    {
     "data": {
      "image/png": "[encoded data removed]",
      "text/plain": [
       "<Figure size 432x288 with 1 Axes>"
      ]
     },
     "metadata": {
      "needs_background": "light"
     },
     "output_type": "display_data"
    }
   ],
   "source": [
    "import numpy\n",
    "import matplotlib.pyplot as plt\n",
    "x = numpy.random.normal(5.0, 1.0, 1000)\n",
    "y = numpy.random.normal(10.0, 2.0, 1000)\n",
    "plt.scatter(x, y)\n",
    "plt.show()"
   ]
  },
  {
   "cell_type": "code",
   "execution_count": 12,
   "id": "e8100d87",
   "metadata": {},
   "outputs": [
    {
     "name": "stdout",
     "output_type": "stream",
     "text": [
      "0.08\n"
     ]
    }
   ],
   "source": [
    "#Example: Determine the probability of drawing an Ace# Sample Space\n",
    "cards = 52\n",
    "# Outcomes\n",
    "aces = 4\n",
    "# Divide possible outcomes by the sample set\n",
    "ace_probability = aces / cards\n",
    "# Print probability rounded to two decimal places\n",
    "print(round(ace_probability, 2))"
   ]
  },
  {
   "cell_type": "code",
   "execution_count": 14,
   "id": "655402d2",
   "metadata": {},
   "outputs": [
    {
     "name": "stdout",
     "output_type": "stream",
     "text": [
      "8.0%\n"
     ]
    }
   ],
   "source": [
    "#Exercise: Determine the probability of drawing an Ace and show in the percentage\n",
    "# Sample Space\n",
    "cards = 52\n",
    "# Outcomes\n",
    "aces = 4\n",
    "# Divide possible outcomes by the sample set\n",
    "ace_probability = aces / cards\n",
    "# Ace Probability Percent Code\n",
    "ace_probability_percent = ace_probability * 100\n",
    "# Print probability percent rounded to one decimal place\n",
    "print(str(round(ace_probability_percent, 0)) + '%')"
   ]
  },
  {
   "cell_type": "code",
   "execution_count": 15,
   "id": "02855fef",
   "metadata": {},
   "outputs": [
    {
     "name": "stdout",
     "output_type": "stream",
     "text": [
      "25.0%\n",
      "23.1%\n",
      "1.9%\n"
     ]
    }
   ],
   "source": [
    "#Example:Create a function that takes the sample space and event outcome and returns the event probability\n",
    "# Create function that returns probability percent rounded to one decimal place\n",
    "def event_probability(event_outcomes, sample_space):\n",
    " probability = (event_outcomes / sample_space) * 100\n",
    " return round(probability, 1)\n",
    "# Sample Space\n",
    "cards = 52\n",
    "# Determine the probability of drawing a heart\n",
    "hearts = 13\n",
    "heart_probability = event_probability(hearts, cards)\n",
    "# Determine the probability of drawing a face card\n",
    "face_cards = 12\n",
    "face_card_probability = event_probability(face_cards, cards)\n",
    "# Determine the probability of drawing the queen of hearts\n",
    "queen_of_hearts = 1\n",
    "queen_of_hearts_probability = event_probability(queen_of_hearts, cards)\n",
    "# Print each probability\n",
    "print(str(heart_probability) + '%')\n",
    "print(str(face_card_probability) + '%')\n",
    "print(str(queen_of_hearts_probability) + '%')"
   ]
  },
  {
   "cell_type": "markdown",
   "id": "46707e16",
   "metadata": {},
   "source": [
    "##### Permutation\n",
    "- Permutations are the number of ways a subset of a specified size can be arranged from a given set,generally without replacement"
   ]
  },
  {
   "cell_type": "code",
   "execution_count": 16,
   "id": "6eb6785a",
   "metadata": {},
   "outputs": [
    {
     "name": "stdout",
     "output_type": "stream",
     "text": [
      "(1, 2, 3)\n",
      "(1, 3, 2)\n",
      "(2, 1, 3)\n",
      "(2, 3, 1)\n",
      "(3, 1, 2)\n",
      "(3, 2, 1)\n"
     ]
    }
   ],
   "source": [
    "# A Python program to print all# permutations using library function\n",
    "from itertools import permutations \n",
    "# Get all permutations of [1, 2, 3]\n",
    "perm = permutations([1, 2, 3]) \n",
    "# Print the obtained permutations\n",
    "for i in list(perm):\n",
    " print (i)"
   ]
  },
  {
   "cell_type": "code",
   "execution_count": 17,
   "id": "461a9c8e",
   "metadata": {},
   "outputs": [
    {
     "name": "stdout",
     "output_type": "stream",
     "text": [
      "(1, 2)\n",
      "(1, 3)\n",
      "(2, 1)\n",
      "(2, 3)\n",
      "(3, 1)\n",
      "(3, 2)\n"
     ]
    }
   ],
   "source": [
    "#Example: Permutation of a given length\n",
    "# A Python program to print all# permutations of given length\n",
    "from itertools import permutations \n",
    "# Get all permutations of length 2\n",
    "perm = permutations([1, 2, 3], 2) \n",
    "# Print the obtained permutations\n",
    "for i in list(perm):\n",
    " print (i)"
   ]
  },
  {
   "cell_type": "markdown",
   "id": "c7daaa33",
   "metadata": {},
   "source": [
    "##### Combination\n",
    "- With permutations, the order matters, With combinations it doesn't matter \n",
    "- Combinations refers to the number of ways a subset of a specified size can be drawn from a given set"
   ]
  },
  {
   "cell_type": "code",
   "execution_count": 18,
   "id": "5a0e05f7",
   "metadata": {},
   "outputs": [
    {
     "name": "stdout",
     "output_type": "stream",
     "text": [
      "(1, 2)\n",
      "(1, 3)\n",
      "(2, 3)\n"
     ]
    }
   ],
   "source": [
    "# A Python program to print all# combinations of given length\n",
    "from itertools import combinations \n",
    "# Get all combinations of [1, 2, 3] and length 2\n",
    "comb = combinations([1, 2, 3], 2) \n",
    "# Print the obtained combinations\n",
    "for i in list(comb):\n",
    " print (i)"
   ]
  },
  {
   "cell_type": "markdown",
   "id": "42c2805f",
   "metadata": {},
   "source": [
    "##### combinations_with_replacement"
   ]
  },
  {
   "cell_type": "code",
   "execution_count": 19,
   "id": "bea6400c",
   "metadata": {},
   "outputs": [
    {
     "name": "stdout",
     "output_type": "stream",
     "text": [
      "(1, 1)\n",
      "(1, 2)\n",
      "(1, 3)\n",
      "(2, 2)\n",
      "(2, 3)\n",
      "(3, 3)\n"
     ]
    }
   ],
   "source": [
    "# A Python program to print all combinations with an element-to-itself combination is also included\n",
    "from itertools import combinations_with_replacement \n",
    "# Get all combinations of [1, 2, 3] and length 2\n",
    "comb = combinations_with_replacement([1, 2, 3], 2) \n",
    "# Print the obtained combinations\n",
    "for i in list(comb):\n",
    " print (i)"
   ]
  },
  {
   "cell_type": "code",
   "execution_count": null,
   "id": "13a4ddb4",
   "metadata": {},
   "outputs": [],
   "source": []
  }
 ],
 "metadata": {
  "kernelspec": {
   "display_name": "Python 3",
   "language": "python",
   "name": "python3"
  },
  "language_info": {
   "codemirror_mode": {
    "name": "ipython",
    "version": 3
   },
   "file_extension": ".py",
   "mimetype": "text/x-python",
   "name": "python",
   "nbconvert_exporter": "python",
   "pygments_lexer": "ipython3",
   "version": "3.8.8"
  }
 },
 "nbformat": 4,
 "nbformat_minor": 5
}
